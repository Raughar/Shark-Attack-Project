{
 "cells": [
  {
   "cell_type": "markdown",
   "metadata": {},
   "source": [
    "We will start with some data exploration and the some data cleaning"
   ]
  },
  {
   "cell_type": "code",
   "execution_count": 3,
   "metadata": {},
   "outputs": [],
   "source": [
    "#Importing all the libraries\n",
    "import pandas as pd\n",
    "import numpy as np\n",
    "import matplotlib.pylab as plt\n",
    "import seaborn as sns\n",
    "import sklearn as sk\n",
    "import warnings\n",
    "warnings.filterwarnings('ignore')\n",
    "plt.style.use('ggplot')"
   ]
  },
  {
   "cell_type": "code",
   "execution_count": 4,
   "metadata": {},
   "outputs": [],
   "source": [
    "#Reading the datasets\n",
    "sh_att = pd.read_csv(r'C:\\Users\\Samu\\Documents\\Ironhack\\Shark-Attack-Project\\files\\attacks.csv', encoding='latin1')"
   ]
  },
  {
   "cell_type": "code",
   "execution_count": 5,
   "metadata": {},
   "outputs": [
    {
     "data": {
      "text/plain": [
       "(25723, 24)"
      ]
     },
     "execution_count": 5,
     "metadata": {},
     "output_type": "execute_result"
    }
   ],
   "source": [
    "#Getting the shape of the datasets\n",
    "sh_att.shape"
   ]
  },
  {
   "cell_type": "code",
   "execution_count": 6,
   "metadata": {},
   "outputs": [
    {
     "data": {
      "text/html": [
       "<div>\n",
       "<style scoped>\n",
       "    .dataframe tbody tr th:only-of-type {\n",
       "        vertical-align: middle;\n",
       "    }\n",
       "\n",
       "    .dataframe tbody tr th {\n",
       "        vertical-align: top;\n",
       "    }\n",
       "\n",
       "    .dataframe thead th {\n",
       "        text-align: right;\n",
       "    }\n",
       "</style>\n",
       "<table border=\"1\" class=\"dataframe\">\n",
       "  <thead>\n",
       "    <tr style=\"text-align: right;\">\n",
       "      <th></th>\n",
       "      <th>Case Number</th>\n",
       "      <th>Date</th>\n",
       "      <th>Year</th>\n",
       "      <th>Type</th>\n",
       "      <th>Country</th>\n",
       "      <th>Area</th>\n",
       "      <th>Location</th>\n",
       "      <th>Activity</th>\n",
       "      <th>Name</th>\n",
       "      <th>Sex</th>\n",
       "      <th>...</th>\n",
       "      <th>Species</th>\n",
       "      <th>Investigator or Source</th>\n",
       "      <th>pdf</th>\n",
       "      <th>href formula</th>\n",
       "      <th>href</th>\n",
       "      <th>Case Number.1</th>\n",
       "      <th>Case Number.2</th>\n",
       "      <th>original order</th>\n",
       "      <th>Unnamed: 22</th>\n",
       "      <th>Unnamed: 23</th>\n",
       "    </tr>\n",
       "  </thead>\n",
       "  <tbody>\n",
       "    <tr>\n",
       "      <th>0</th>\n",
       "      <td>2018.06.25</td>\n",
       "      <td>25-Jun-2018</td>\n",
       "      <td>2018.0</td>\n",
       "      <td>Boating</td>\n",
       "      <td>USA</td>\n",
       "      <td>California</td>\n",
       "      <td>Oceanside, San Diego County</td>\n",
       "      <td>Paddling</td>\n",
       "      <td>Julie Wolfe</td>\n",
       "      <td>F</td>\n",
       "      <td>...</td>\n",
       "      <td>White shark</td>\n",
       "      <td>R. Collier, GSAF</td>\n",
       "      <td>2018.06.25-Wolfe.pdf</td>\n",
       "      <td>http://sharkattackfile.net/spreadsheets/pdf_di...</td>\n",
       "      <td>http://sharkattackfile.net/spreadsheets/pdf_di...</td>\n",
       "      <td>2018.06.25</td>\n",
       "      <td>2018.06.25</td>\n",
       "      <td>6303.0</td>\n",
       "      <td>NaN</td>\n",
       "      <td>NaN</td>\n",
       "    </tr>\n",
       "    <tr>\n",
       "      <th>1</th>\n",
       "      <td>2018.06.18</td>\n",
       "      <td>18-Jun-2018</td>\n",
       "      <td>2018.0</td>\n",
       "      <td>Unprovoked</td>\n",
       "      <td>USA</td>\n",
       "      <td>Georgia</td>\n",
       "      <td>St. Simon Island, Glynn County</td>\n",
       "      <td>Standing</td>\n",
       "      <td>Adyson McNeely</td>\n",
       "      <td>F</td>\n",
       "      <td>...</td>\n",
       "      <td>NaN</td>\n",
       "      <td>K.McMurray, TrackingSharks.com</td>\n",
       "      <td>2018.06.18-McNeely.pdf</td>\n",
       "      <td>http://sharkattackfile.net/spreadsheets/pdf_di...</td>\n",
       "      <td>http://sharkattackfile.net/spreadsheets/pdf_di...</td>\n",
       "      <td>2018.06.18</td>\n",
       "      <td>2018.06.18</td>\n",
       "      <td>6302.0</td>\n",
       "      <td>NaN</td>\n",
       "      <td>NaN</td>\n",
       "    </tr>\n",
       "    <tr>\n",
       "      <th>2</th>\n",
       "      <td>2018.06.09</td>\n",
       "      <td>09-Jun-2018</td>\n",
       "      <td>2018.0</td>\n",
       "      <td>Invalid</td>\n",
       "      <td>USA</td>\n",
       "      <td>Hawaii</td>\n",
       "      <td>Habush, Oahu</td>\n",
       "      <td>Surfing</td>\n",
       "      <td>John Denges</td>\n",
       "      <td>M</td>\n",
       "      <td>...</td>\n",
       "      <td>NaN</td>\n",
       "      <td>K.McMurray, TrackingSharks.com</td>\n",
       "      <td>2018.06.09-Denges.pdf</td>\n",
       "      <td>http://sharkattackfile.net/spreadsheets/pdf_di...</td>\n",
       "      <td>http://sharkattackfile.net/spreadsheets/pdf_di...</td>\n",
       "      <td>2018.06.09</td>\n",
       "      <td>2018.06.09</td>\n",
       "      <td>6301.0</td>\n",
       "      <td>NaN</td>\n",
       "      <td>NaN</td>\n",
       "    </tr>\n",
       "    <tr>\n",
       "      <th>3</th>\n",
       "      <td>2018.06.08</td>\n",
       "      <td>08-Jun-2018</td>\n",
       "      <td>2018.0</td>\n",
       "      <td>Unprovoked</td>\n",
       "      <td>AUSTRALIA</td>\n",
       "      <td>New South Wales</td>\n",
       "      <td>Arrawarra Headland</td>\n",
       "      <td>Surfing</td>\n",
       "      <td>male</td>\n",
       "      <td>M</td>\n",
       "      <td>...</td>\n",
       "      <td>2 m shark</td>\n",
       "      <td>B. Myatt, GSAF</td>\n",
       "      <td>2018.06.08-Arrawarra.pdf</td>\n",
       "      <td>http://sharkattackfile.net/spreadsheets/pdf_di...</td>\n",
       "      <td>http://sharkattackfile.net/spreadsheets/pdf_di...</td>\n",
       "      <td>2018.06.08</td>\n",
       "      <td>2018.06.08</td>\n",
       "      <td>6300.0</td>\n",
       "      <td>NaN</td>\n",
       "      <td>NaN</td>\n",
       "    </tr>\n",
       "    <tr>\n",
       "      <th>4</th>\n",
       "      <td>2018.06.04</td>\n",
       "      <td>04-Jun-2018</td>\n",
       "      <td>2018.0</td>\n",
       "      <td>Provoked</td>\n",
       "      <td>MEXICO</td>\n",
       "      <td>Colima</td>\n",
       "      <td>La Ticla</td>\n",
       "      <td>Free diving</td>\n",
       "      <td>Gustavo Ramos</td>\n",
       "      <td>M</td>\n",
       "      <td>...</td>\n",
       "      <td>Tiger shark, 3m</td>\n",
       "      <td>A .Kipper</td>\n",
       "      <td>2018.06.04-Ramos.pdf</td>\n",
       "      <td>http://sharkattackfile.net/spreadsheets/pdf_di...</td>\n",
       "      <td>http://sharkattackfile.net/spreadsheets/pdf_di...</td>\n",
       "      <td>2018.06.04</td>\n",
       "      <td>2018.06.04</td>\n",
       "      <td>6299.0</td>\n",
       "      <td>NaN</td>\n",
       "      <td>NaN</td>\n",
       "    </tr>\n",
       "  </tbody>\n",
       "</table>\n",
       "<p>5 rows × 24 columns</p>\n",
       "</div>"
      ],
      "text/plain": [
       "  Case Number         Date    Year        Type    Country             Area  \\\n",
       "0  2018.06.25  25-Jun-2018  2018.0     Boating        USA       California   \n",
       "1  2018.06.18  18-Jun-2018  2018.0  Unprovoked        USA          Georgia   \n",
       "2  2018.06.09  09-Jun-2018  2018.0     Invalid        USA           Hawaii   \n",
       "3  2018.06.08  08-Jun-2018  2018.0  Unprovoked  AUSTRALIA  New South Wales   \n",
       "4  2018.06.04  04-Jun-2018  2018.0    Provoked     MEXICO           Colima   \n",
       "\n",
       "                         Location     Activity             Name Sex   ...  \\\n",
       "0     Oceanside, San Diego County     Paddling      Julie Wolfe    F  ...   \n",
       "1  St. Simon Island, Glynn County     Standing  Adyson McNeely     F  ...   \n",
       "2                    Habush, Oahu      Surfing      John Denges    M  ...   \n",
       "3              Arrawarra Headland      Surfing             male    M  ...   \n",
       "4                        La Ticla  Free diving   Gustavo Ramos     M  ...   \n",
       "\n",
       "          Species           Investigator or Source                       pdf  \\\n",
       "0      White shark                R. Collier, GSAF      2018.06.25-Wolfe.pdf   \n",
       "1              NaN  K.McMurray, TrackingSharks.com    2018.06.18-McNeely.pdf   \n",
       "2              NaN  K.McMurray, TrackingSharks.com     2018.06.09-Denges.pdf   \n",
       "3        2 m shark                  B. Myatt, GSAF  2018.06.08-Arrawarra.pdf   \n",
       "4  Tiger shark, 3m                       A .Kipper      2018.06.04-Ramos.pdf   \n",
       "\n",
       "                                        href formula  \\\n",
       "0  http://sharkattackfile.net/spreadsheets/pdf_di...   \n",
       "1  http://sharkattackfile.net/spreadsheets/pdf_di...   \n",
       "2  http://sharkattackfile.net/spreadsheets/pdf_di...   \n",
       "3  http://sharkattackfile.net/spreadsheets/pdf_di...   \n",
       "4  http://sharkattackfile.net/spreadsheets/pdf_di...   \n",
       "\n",
       "                                                href Case Number.1  \\\n",
       "0  http://sharkattackfile.net/spreadsheets/pdf_di...    2018.06.25   \n",
       "1  http://sharkattackfile.net/spreadsheets/pdf_di...    2018.06.18   \n",
       "2  http://sharkattackfile.net/spreadsheets/pdf_di...    2018.06.09   \n",
       "3  http://sharkattackfile.net/spreadsheets/pdf_di...    2018.06.08   \n",
       "4  http://sharkattackfile.net/spreadsheets/pdf_di...    2018.06.04   \n",
       "\n",
       "  Case Number.2 original order Unnamed: 22 Unnamed: 23  \n",
       "0    2018.06.25         6303.0         NaN         NaN  \n",
       "1    2018.06.18         6302.0         NaN         NaN  \n",
       "2    2018.06.09         6301.0         NaN         NaN  \n",
       "3    2018.06.08         6300.0         NaN         NaN  \n",
       "4    2018.06.04         6299.0         NaN         NaN  \n",
       "\n",
       "[5 rows x 24 columns]"
      ]
     },
     "execution_count": 6,
     "metadata": {},
     "output_type": "execute_result"
    }
   ],
   "source": [
    "#Checking the head of the dataset\n",
    "sh_att.head(5)"
   ]
  },
  {
   "cell_type": "code",
   "execution_count": 7,
   "metadata": {},
   "outputs": [
    {
     "data": {
      "text/html": [
       "<div>\n",
       "<style scoped>\n",
       "    .dataframe tbody tr th:only-of-type {\n",
       "        vertical-align: middle;\n",
       "    }\n",
       "\n",
       "    .dataframe tbody tr th {\n",
       "        vertical-align: top;\n",
       "    }\n",
       "\n",
       "    .dataframe thead th {\n",
       "        text-align: right;\n",
       "    }\n",
       "</style>\n",
       "<table border=\"1\" class=\"dataframe\">\n",
       "  <thead>\n",
       "    <tr style=\"text-align: right;\">\n",
       "      <th></th>\n",
       "      <th>Case Number</th>\n",
       "      <th>Date</th>\n",
       "      <th>Year</th>\n",
       "      <th>Type</th>\n",
       "      <th>Country</th>\n",
       "      <th>Area</th>\n",
       "      <th>Location</th>\n",
       "      <th>Activity</th>\n",
       "      <th>Name</th>\n",
       "      <th>Sex</th>\n",
       "      <th>...</th>\n",
       "      <th>Species</th>\n",
       "      <th>Investigator or Source</th>\n",
       "      <th>pdf</th>\n",
       "      <th>href formula</th>\n",
       "      <th>href</th>\n",
       "      <th>Case Number.1</th>\n",
       "      <th>Case Number.2</th>\n",
       "      <th>original order</th>\n",
       "      <th>Unnamed: 22</th>\n",
       "      <th>Unnamed: 23</th>\n",
       "    </tr>\n",
       "  </thead>\n",
       "  <tbody>\n",
       "    <tr>\n",
       "      <th>25713</th>\n",
       "      <td>NaN</td>\n",
       "      <td>NaN</td>\n",
       "      <td>NaN</td>\n",
       "      <td>NaN</td>\n",
       "      <td>NaN</td>\n",
       "      <td>NaN</td>\n",
       "      <td>NaN</td>\n",
       "      <td>NaN</td>\n",
       "      <td>NaN</td>\n",
       "      <td>NaN</td>\n",
       "      <td>...</td>\n",
       "      <td>NaN</td>\n",
       "      <td>NaN</td>\n",
       "      <td>NaN</td>\n",
       "      <td>NaN</td>\n",
       "      <td>NaN</td>\n",
       "      <td>NaN</td>\n",
       "      <td>NaN</td>\n",
       "      <td>NaN</td>\n",
       "      <td>NaN</td>\n",
       "      <td>NaN</td>\n",
       "    </tr>\n",
       "    <tr>\n",
       "      <th>25714</th>\n",
       "      <td>NaN</td>\n",
       "      <td>NaN</td>\n",
       "      <td>NaN</td>\n",
       "      <td>NaN</td>\n",
       "      <td>NaN</td>\n",
       "      <td>NaN</td>\n",
       "      <td>NaN</td>\n",
       "      <td>NaN</td>\n",
       "      <td>NaN</td>\n",
       "      <td>NaN</td>\n",
       "      <td>...</td>\n",
       "      <td>NaN</td>\n",
       "      <td>NaN</td>\n",
       "      <td>NaN</td>\n",
       "      <td>NaN</td>\n",
       "      <td>NaN</td>\n",
       "      <td>NaN</td>\n",
       "      <td>NaN</td>\n",
       "      <td>NaN</td>\n",
       "      <td>NaN</td>\n",
       "      <td>NaN</td>\n",
       "    </tr>\n",
       "    <tr>\n",
       "      <th>25715</th>\n",
       "      <td>NaN</td>\n",
       "      <td>NaN</td>\n",
       "      <td>NaN</td>\n",
       "      <td>NaN</td>\n",
       "      <td>NaN</td>\n",
       "      <td>NaN</td>\n",
       "      <td>NaN</td>\n",
       "      <td>NaN</td>\n",
       "      <td>NaN</td>\n",
       "      <td>NaN</td>\n",
       "      <td>...</td>\n",
       "      <td>NaN</td>\n",
       "      <td>NaN</td>\n",
       "      <td>NaN</td>\n",
       "      <td>NaN</td>\n",
       "      <td>NaN</td>\n",
       "      <td>NaN</td>\n",
       "      <td>NaN</td>\n",
       "      <td>NaN</td>\n",
       "      <td>NaN</td>\n",
       "      <td>NaN</td>\n",
       "    </tr>\n",
       "    <tr>\n",
       "      <th>25716</th>\n",
       "      <td>NaN</td>\n",
       "      <td>NaN</td>\n",
       "      <td>NaN</td>\n",
       "      <td>NaN</td>\n",
       "      <td>NaN</td>\n",
       "      <td>NaN</td>\n",
       "      <td>NaN</td>\n",
       "      <td>NaN</td>\n",
       "      <td>NaN</td>\n",
       "      <td>NaN</td>\n",
       "      <td>...</td>\n",
       "      <td>NaN</td>\n",
       "      <td>NaN</td>\n",
       "      <td>NaN</td>\n",
       "      <td>NaN</td>\n",
       "      <td>NaN</td>\n",
       "      <td>NaN</td>\n",
       "      <td>NaN</td>\n",
       "      <td>NaN</td>\n",
       "      <td>NaN</td>\n",
       "      <td>NaN</td>\n",
       "    </tr>\n",
       "    <tr>\n",
       "      <th>25717</th>\n",
       "      <td>NaN</td>\n",
       "      <td>NaN</td>\n",
       "      <td>NaN</td>\n",
       "      <td>NaN</td>\n",
       "      <td>NaN</td>\n",
       "      <td>NaN</td>\n",
       "      <td>NaN</td>\n",
       "      <td>NaN</td>\n",
       "      <td>NaN</td>\n",
       "      <td>NaN</td>\n",
       "      <td>...</td>\n",
       "      <td>NaN</td>\n",
       "      <td>NaN</td>\n",
       "      <td>NaN</td>\n",
       "      <td>NaN</td>\n",
       "      <td>NaN</td>\n",
       "      <td>NaN</td>\n",
       "      <td>NaN</td>\n",
       "      <td>NaN</td>\n",
       "      <td>NaN</td>\n",
       "      <td>NaN</td>\n",
       "    </tr>\n",
       "    <tr>\n",
       "      <th>25718</th>\n",
       "      <td>NaN</td>\n",
       "      <td>NaN</td>\n",
       "      <td>NaN</td>\n",
       "      <td>NaN</td>\n",
       "      <td>NaN</td>\n",
       "      <td>NaN</td>\n",
       "      <td>NaN</td>\n",
       "      <td>NaN</td>\n",
       "      <td>NaN</td>\n",
       "      <td>NaN</td>\n",
       "      <td>...</td>\n",
       "      <td>NaN</td>\n",
       "      <td>NaN</td>\n",
       "      <td>NaN</td>\n",
       "      <td>NaN</td>\n",
       "      <td>NaN</td>\n",
       "      <td>NaN</td>\n",
       "      <td>NaN</td>\n",
       "      <td>NaN</td>\n",
       "      <td>NaN</td>\n",
       "      <td>NaN</td>\n",
       "    </tr>\n",
       "    <tr>\n",
       "      <th>25719</th>\n",
       "      <td>NaN</td>\n",
       "      <td>NaN</td>\n",
       "      <td>NaN</td>\n",
       "      <td>NaN</td>\n",
       "      <td>NaN</td>\n",
       "      <td>NaN</td>\n",
       "      <td>NaN</td>\n",
       "      <td>NaN</td>\n",
       "      <td>NaN</td>\n",
       "      <td>NaN</td>\n",
       "      <td>...</td>\n",
       "      <td>NaN</td>\n",
       "      <td>NaN</td>\n",
       "      <td>NaN</td>\n",
       "      <td>NaN</td>\n",
       "      <td>NaN</td>\n",
       "      <td>NaN</td>\n",
       "      <td>NaN</td>\n",
       "      <td>NaN</td>\n",
       "      <td>NaN</td>\n",
       "      <td>NaN</td>\n",
       "    </tr>\n",
       "    <tr>\n",
       "      <th>25720</th>\n",
       "      <td>NaN</td>\n",
       "      <td>NaN</td>\n",
       "      <td>NaN</td>\n",
       "      <td>NaN</td>\n",
       "      <td>NaN</td>\n",
       "      <td>NaN</td>\n",
       "      <td>NaN</td>\n",
       "      <td>NaN</td>\n",
       "      <td>NaN</td>\n",
       "      <td>NaN</td>\n",
       "      <td>...</td>\n",
       "      <td>NaN</td>\n",
       "      <td>NaN</td>\n",
       "      <td>NaN</td>\n",
       "      <td>NaN</td>\n",
       "      <td>NaN</td>\n",
       "      <td>NaN</td>\n",
       "      <td>NaN</td>\n",
       "      <td>NaN</td>\n",
       "      <td>NaN</td>\n",
       "      <td>NaN</td>\n",
       "    </tr>\n",
       "    <tr>\n",
       "      <th>25721</th>\n",
       "      <td>NaN</td>\n",
       "      <td>NaN</td>\n",
       "      <td>NaN</td>\n",
       "      <td>NaN</td>\n",
       "      <td>NaN</td>\n",
       "      <td>NaN</td>\n",
       "      <td>NaN</td>\n",
       "      <td>NaN</td>\n",
       "      <td>NaN</td>\n",
       "      <td>NaN</td>\n",
       "      <td>...</td>\n",
       "      <td>NaN</td>\n",
       "      <td>NaN</td>\n",
       "      <td>NaN</td>\n",
       "      <td>NaN</td>\n",
       "      <td>NaN</td>\n",
       "      <td>NaN</td>\n",
       "      <td>NaN</td>\n",
       "      <td>NaN</td>\n",
       "      <td>NaN</td>\n",
       "      <td>NaN</td>\n",
       "    </tr>\n",
       "    <tr>\n",
       "      <th>25722</th>\n",
       "      <td>xx</td>\n",
       "      <td>NaN</td>\n",
       "      <td>NaN</td>\n",
       "      <td>NaN</td>\n",
       "      <td>NaN</td>\n",
       "      <td>NaN</td>\n",
       "      <td>NaN</td>\n",
       "      <td>NaN</td>\n",
       "      <td>NaN</td>\n",
       "      <td>NaN</td>\n",
       "      <td>...</td>\n",
       "      <td>NaN</td>\n",
       "      <td>NaN</td>\n",
       "      <td>NaN</td>\n",
       "      <td>NaN</td>\n",
       "      <td>NaN</td>\n",
       "      <td>NaN</td>\n",
       "      <td>NaN</td>\n",
       "      <td>NaN</td>\n",
       "      <td>NaN</td>\n",
       "      <td>NaN</td>\n",
       "    </tr>\n",
       "  </tbody>\n",
       "</table>\n",
       "<p>10 rows × 24 columns</p>\n",
       "</div>"
      ],
      "text/plain": [
       "      Case Number Date  Year Type Country Area Location Activity Name Sex   \\\n",
       "25713         NaN  NaN   NaN  NaN     NaN  NaN      NaN      NaN  NaN  NaN   \n",
       "25714         NaN  NaN   NaN  NaN     NaN  NaN      NaN      NaN  NaN  NaN   \n",
       "25715         NaN  NaN   NaN  NaN     NaN  NaN      NaN      NaN  NaN  NaN   \n",
       "25716         NaN  NaN   NaN  NaN     NaN  NaN      NaN      NaN  NaN  NaN   \n",
       "25717         NaN  NaN   NaN  NaN     NaN  NaN      NaN      NaN  NaN  NaN   \n",
       "25718         NaN  NaN   NaN  NaN     NaN  NaN      NaN      NaN  NaN  NaN   \n",
       "25719         NaN  NaN   NaN  NaN     NaN  NaN      NaN      NaN  NaN  NaN   \n",
       "25720         NaN  NaN   NaN  NaN     NaN  NaN      NaN      NaN  NaN  NaN   \n",
       "25721         NaN  NaN   NaN  NaN     NaN  NaN      NaN      NaN  NaN  NaN   \n",
       "25722          xx  NaN   NaN  NaN     NaN  NaN      NaN      NaN  NaN  NaN   \n",
       "\n",
       "       ... Species  Investigator or Source  pdf href formula href  \\\n",
       "25713  ...      NaN                    NaN  NaN          NaN  NaN   \n",
       "25714  ...      NaN                    NaN  NaN          NaN  NaN   \n",
       "25715  ...      NaN                    NaN  NaN          NaN  NaN   \n",
       "25716  ...      NaN                    NaN  NaN          NaN  NaN   \n",
       "25717  ...      NaN                    NaN  NaN          NaN  NaN   \n",
       "25718  ...      NaN                    NaN  NaN          NaN  NaN   \n",
       "25719  ...      NaN                    NaN  NaN          NaN  NaN   \n",
       "25720  ...      NaN                    NaN  NaN          NaN  NaN   \n",
       "25721  ...      NaN                    NaN  NaN          NaN  NaN   \n",
       "25722  ...      NaN                    NaN  NaN          NaN  NaN   \n",
       "\n",
       "      Case Number.1 Case Number.2 original order Unnamed: 22 Unnamed: 23  \n",
       "25713           NaN           NaN            NaN         NaN         NaN  \n",
       "25714           NaN           NaN            NaN         NaN         NaN  \n",
       "25715           NaN           NaN            NaN         NaN         NaN  \n",
       "25716           NaN           NaN            NaN         NaN         NaN  \n",
       "25717           NaN           NaN            NaN         NaN         NaN  \n",
       "25718           NaN           NaN            NaN         NaN         NaN  \n",
       "25719           NaN           NaN            NaN         NaN         NaN  \n",
       "25720           NaN           NaN            NaN         NaN         NaN  \n",
       "25721           NaN           NaN            NaN         NaN         NaN  \n",
       "25722           NaN           NaN            NaN         NaN         NaN  \n",
       "\n",
       "[10 rows x 24 columns]"
      ]
     },
     "execution_count": 7,
     "metadata": {},
     "output_type": "execute_result"
    }
   ],
   "source": [
    "#Checking the taik of the dataset\n",
    "sh_att.tail(10)"
   ]
  },
  {
   "cell_type": "markdown",
   "metadata": {},
   "source": [
    "As we can see, there are a ton of NaN rows at the end of the dataset, so we have to take care of them."
   ]
  },
  {
   "cell_type": "code",
   "execution_count": 8,
   "metadata": {},
   "outputs": [
    {
     "data": {
      "text/plain": [
       "Case Number                object\n",
       "Date                       object\n",
       "Year                      float64\n",
       "Type                       object\n",
       "Country                    object\n",
       "Area                       object\n",
       "Location                   object\n",
       "Activity                   object\n",
       "Name                       object\n",
       "Sex                        object\n",
       "Age                        object\n",
       "Injury                     object\n",
       "Fatal (Y/N)                object\n",
       "Time                       object\n",
       "Species                    object\n",
       "Investigator or Source     object\n",
       "pdf                        object\n",
       "href formula               object\n",
       "href                       object\n",
       "Case Number.1              object\n",
       "Case Number.2              object\n",
       "original order            float64\n",
       "Unnamed: 22                object\n",
       "Unnamed: 23                object\n",
       "dtype: object"
      ]
     },
     "execution_count": 8,
     "metadata": {},
     "output_type": "execute_result"
    }
   ],
   "source": [
    "#Checking the column types\n",
    "sh_att.dtypes"
   ]
  },
  {
   "cell_type": "code",
   "execution_count": 9,
   "metadata": {},
   "outputs": [],
   "source": [
    "#Standaraizing the column names\n",
    "sh_att.columns = sh_att.columns.str.lower().str.replace(\" \", \"_\").str.replace(\".\", \"_\").str.replace(\":\",\"_\")"
   ]
  },
  {
   "cell_type": "code",
   "execution_count": 10,
   "metadata": {},
   "outputs": [],
   "source": [
    "#Dropping the columns that will not be used\n",
    "sh_att = sh_att.drop(['name', 'injury','case_number', 'investigator_or_source','original_order','pdf','href','href_formula','case_number_1','case_number_2', 'unnamed__22', 'unnamed__23'], axis=1)"
   ]
  },
  {
   "cell_type": "code",
   "execution_count": 11,
   "metadata": {},
   "outputs": [],
   "source": [
    "#Renaming the columns for better understanding and correcting some errors after the standardization\n",
    "sh_att = sh_att.rename(columns={'fatal_(y/n)':'fatal', 'sex_':'sex', 'species_':'species'})"
   ]
  },
  {
   "cell_type": "code",
   "execution_count": 12,
   "metadata": {},
   "outputs": [
    {
     "data": {
      "text/plain": [
       "date        19421\n",
       "year        19423\n",
       "type        19425\n",
       "country     19471\n",
       "area        19876\n",
       "location    19961\n",
       "activity    19965\n",
       "sex         19986\n",
       "age         22252\n",
       "fatal       19960\n",
       "time        22775\n",
       "species     22259\n",
       "dtype: int64"
      ]
     },
     "execution_count": 12,
     "metadata": {},
     "output_type": "execute_result"
    }
   ],
   "source": [
    "#Checking the totaln nan values\n",
    "sh_att.isna().sum()"
   ]
  },
  {
   "cell_type": "code",
   "execution_count": 13,
   "metadata": {},
   "outputs": [],
   "source": [
    "#Creating a copy of the dataset to work with\n",
    "sh_copy = sh_att.copy()"
   ]
  },
  {
   "cell_type": "code",
   "execution_count": 14,
   "metadata": {},
   "outputs": [],
   "source": [
    "#Dropping the rows whose all of their values are nans\n",
    "sh_copy = sh_copy.dropna(how='all')"
   ]
  },
  {
   "cell_type": "code",
   "execution_count": 15,
   "metadata": {},
   "outputs": [
    {
     "data": {
      "text/plain": [
       "date           0\n",
       "year           2\n",
       "type           4\n",
       "country       50\n",
       "area         455\n",
       "location     540\n",
       "activity     544\n",
       "sex          565\n",
       "age         2831\n",
       "fatal        539\n",
       "time        3354\n",
       "species     2838\n",
       "dtype: int64"
      ]
     },
     "execution_count": 15,
     "metadata": {},
     "output_type": "execute_result"
    }
   ],
   "source": [
    "#Checking how many nans are after dropping the rows\n",
    "sh_copy.isna().sum()"
   ]
  },
  {
   "cell_type": "code",
   "execution_count": 16,
   "metadata": {},
   "outputs": [
    {
     "data": {
      "text/plain": [
       "(6302, 12)"
      ]
     },
     "execution_count": 16,
     "metadata": {},
     "output_type": "execute_result"
    }
   ],
   "source": [
    "#Getting the new shape\n",
    "sh_copy.shape"
   ]
  },
  {
   "cell_type": "markdown",
   "metadata": {},
   "source": [
    "We will start the cleaning with the Time column"
   ]
  },
  {
   "cell_type": "code",
   "execution_count": 17,
   "metadata": {},
   "outputs": [
    {
     "data": {
      "text/plain": [
       "time\n",
       "Afternoon      187\n",
       "11h00          128\n",
       "Morning        121\n",
       "12h00          109\n",
       "15h00          108\n",
       "              ... \n",
       "14h37            1\n",
       "10h07            1\n",
       "13h53            1\n",
       "13h23            1\n",
       "19h00-20h00      1\n",
       "Name: count, Length: 366, dtype: int64"
      ]
     },
     "execution_count": 17,
     "metadata": {},
     "output_type": "execute_result"
    }
   ],
   "source": [
    "#Checking the value counts of the column\n",
    "sh_copy['time'].value_counts()"
   ]
  },
  {
   "cell_type": "code",
   "execution_count": 18,
   "metadata": {},
   "outputs": [
    {
     "data": {
      "text/plain": [
       "time\n",
       "Afternoon      187\n",
       "11h00          128\n",
       "Morning        121\n",
       "12h00          109\n",
       "15h00          108\n",
       "              ... \n",
       "14h37            1\n",
       "10h07            1\n",
       "13h53            1\n",
       "13h23            1\n",
       "19h00-20h00      1\n",
       "Name: count, Length: 366, dtype: int64"
      ]
     },
     "execution_count": 18,
     "metadata": {},
     "output_type": "execute_result"
    }
   ],
   "source": [
    "#Creating a pattern to standarize the hours and filter the invalid values\n",
    "pattern = r'^\\d{2}:\\d{2}$'\n",
    "invalid_times = sh_copy[~sh_copy['time'].str.contains(pattern, na=False)]\n",
    "invalid_times['time'].value_counts()"
   ]
  },
  {
   "cell_type": "code",
   "execution_count": 19,
   "metadata": {},
   "outputs": [],
   "source": [
    "#Creating a dictionary to replace the invalid times\n",
    "time_mapping = {  \n",
    "    '.*noon*.': '12:00', \n",
    "    '.*dusk*.': '18:00',\n",
    "    '.*Dusk*.': '18:00',\n",
    "    '.*Nig*.' : '22:00',\n",
    "    '.*ning*.' : '10:00',\n",
    "    '.*night*.' : '22:00',\n",
    "    '.*daybreak*.' : '07:00',\n",
    "    '.*dark*.' : '22:00',\n",
    "    '.*Daytime*.' : '12:00',\n",
    "    '.*fall*.' : '19:00',\n",
    "    '.*lunc*.' : '12:00',\n",
    "    '.*Midday*.' : '12:00',\n",
    "    }"
   ]
  },
  {
   "cell_type": "code",
   "execution_count": 20,
   "metadata": {},
   "outputs": [],
   "source": [
    "#Replacing the letters for the :\n",
    "if sh_copy is not None:\n",
    "    sh_copy['time'].replace('h', ':', regex=True, inplace=True)\n",
    "    sh_copy['time'].replace('j', ':', regex=True, inplace=True)\n",
    "    sh_copy['time'].replace('t', '', regex=True, inplace=True)"
   ]
  },
  {
   "cell_type": "code",
   "execution_count": 21,
   "metadata": {},
   "outputs": [],
   "source": [
    "#Applying the standarizing dictionary to the column:\n",
    "sh_copy['time'] = sh_copy['time'].replace(time_mapping, regex=True)"
   ]
  },
  {
   "cell_type": "code",
   "execution_count": 22,
   "metadata": {},
   "outputs": [],
   "source": [
    "#Filling the nan values temporarily\n",
    "sh_copy['time'].fillna(value=0, inplace=True)"
   ]
  },
  {
   "cell_type": "code",
   "execution_count": 23,
   "metadata": {},
   "outputs": [],
   "source": [
    "#Making it so everything fits the pattern\n",
    "sh_copy = sh_copy[sh_copy['time'].notna() & sh_copy['time'].str.match(pattern)]"
   ]
  },
  {
   "cell_type": "code",
   "execution_count": 24,
   "metadata": {},
   "outputs": [],
   "source": [
    "#Making so we only have on clock hours for easier understanding of the graphs:\n",
    "import re\n",
    "\n",
    "def convert_to_clock_hour(time):\n",
    "    pattern = r'^(\\d{2}):(\\d{2})$'\n",
    "    match = re.match(pattern, time)\n",
    "    if match:\n",
    "        hour = match.group(1)\n",
    "        return hour + ':00'\n",
    "    else:\n",
    "        return time\n",
    "sh_copy['time'] = sh_copy['time'].apply(convert_to_clock_hour)"
   ]
  },
  {
   "cell_type": "code",
   "execution_count": 25,
   "metadata": {},
   "outputs": [],
   "source": [
    "#Converting the data into datetime format\n",
    "sh_copy['time'] = pd.to_datetime(sh_copy['time'], format=\"%H:%M\").dt.hour"
   ]
  },
  {
   "cell_type": "code",
   "execution_count": 26,
   "metadata": {},
   "outputs": [
    {
     "data": {
      "image/png": "[encoded data removed]",
      "text/plain": [
       "<Figure size 640x480 with 1 Axes>"
      ]
     },
     "metadata": {},
     "output_type": "display_data"
    }
   ],
   "source": [
    "#Plotting to see the distribution of the attacks by hour:\n",
    "sh_copy['time'].value_counts().sort_index().plot(kind='bar')\n",
    "plt.xlabel('Time')\n",
    "plt.ylabel('Number of Attacks')\n",
    "plt.title('Attacks by Hour')\n",
    "plt.show()"
   ]
  },
  {
   "cell_type": "code",
   "execution_count": 27,
   "metadata": {},
   "outputs": [
    {
     "data": {
      "text/plain": [
       "<Axes: xlabel='time', ylabel='Density'>"
      ]
     },
     "execution_count": 27,
     "metadata": {},
     "output_type": "execute_result"
    },
    {
     "data": {
      "image/png": "[encoded data removed]",
      "text/plain": [
       "<Figure size 640x480 with 1 Axes>"
      ]
     },
     "metadata": {},
     "output_type": "display_data"
    }
   ],
   "source": [
    "#Plotting in another shape, just to see which one is better\n",
    "sns.distplot(sh_copy['time'], bins=24)"
   ]
  },
  {
   "cell_type": "markdown",
   "metadata": {},
   "source": [
    "From what we can see from the graphs, during the morning through midday we have the most attacks, maybe because is the hour that the people is more prone to go swimming. During the night there are almost no attacks, but we can see that during 22:00, we have a peak of attacks, it may be interesting to see why."
   ]
  },
  {
   "cell_type": "markdown",
   "metadata": {},
   "source": [
    "We will continue the cleaning with the Type column"
   ]
  },
  {
   "cell_type": "code",
   "execution_count": 28,
   "metadata": {},
   "outputs": [
    {
     "data": {
      "text/plain": [
       "array(['Boating', 'Invalid', 'Unprovoked', 'Provoked', 'Questionable',\n",
       "       nan, 'Boat', 'Sea Disaster'], dtype=object)"
      ]
     },
     "execution_count": 28,
     "metadata": {},
     "output_type": "execute_result"
    }
   ],
   "source": [
    "#Getting the unique values from the column\n",
    "sh_copy['type'].unique()"
   ]
  },
  {
   "cell_type": "code",
   "execution_count": 29,
   "metadata": {},
   "outputs": [
    {
     "data": {
      "text/plain": [
       "type\n",
       "Unprovoked      2355\n",
       "Provoked         180\n",
       "Invalid          144\n",
       "Boating           59\n",
       "Sea Disaster      40\n",
       "Boat              32\n",
       "Questionable       2\n",
       "Name: count, dtype: int64"
      ]
     },
     "execution_count": 29,
     "metadata": {},
     "output_type": "execute_result"
    }
   ],
   "source": [
    "#Getting the count\n",
    "sh_copy['type'].value_counts()"
   ]
  },
  {
   "cell_type": "code",
   "execution_count": 30,
   "metadata": {},
   "outputs": [],
   "source": [
    "#Filling the nan values with the most common value\n",
    "sh_copy['type'].fillna(value='Unprovoked', inplace=True)"
   ]
  },
  {
   "cell_type": "code",
   "execution_count": 31,
   "metadata": {},
   "outputs": [],
   "source": [
    "#Reducing the number of categories\n",
    "sh_copy['type'] = sh_copy['type'].replace({'Boatomg' : 'Boating', 'Questionable' : 'Unprovoked', 'Boat' : 'Boating', 'Invalid' : 'Unprovoked'})"
   ]
  },
  {
   "cell_type": "code",
   "execution_count": 32,
   "metadata": {},
   "outputs": [
    {
     "data": {
      "image/png": "[encoded data removed]",
      "text/plain": [
       "<Figure size 640x480 with 1 Axes>"
      ]
     },
     "metadata": {},
     "output_type": "display_data"
    }
   ],
   "source": [
    "sns.countplot(x='type', data=sh_copy)\n",
    "plt.show()"
   ]
  },
  {
   "cell_type": "markdown",
   "metadata": {},
   "source": [
    "As we can see, almost all of the attacks were unprovoked."
   ]
  },
  {
   "cell_type": "markdown",
   "metadata": {},
   "source": [
    "For the next part, we will continue with the countries, as it is a ver long column, with a lot of different values."
   ]
  },
  {
   "cell_type": "code",
   "execution_count": 33,
   "metadata": {},
   "outputs": [
    {
     "data": {
      "text/plain": [
       "array(['USA', 'BRAZIL', 'AUSTRALIA', 'ENGLAND', 'SOUTH AFRICA',\n",
       "       'COSTA RICA', 'MALDIVES', 'BAHAMAS', 'NEW CALEDONIA', 'CUBA',\n",
       "       'MAURITIUS', 'NEW ZEALAND', 'SAMOA', 'JAPAN', 'SPAIN',\n",
       "       'ST HELENA, British overseas territory', 'REUNION',\n",
       "       'UNITED ARAB EMIRATES', 'MEXICO', 'INDONESIA', 'COLUMBIA', 'EGYPT',\n",
       "       'FRENCH POLYNESIA', 'Fiji', 'DOMINICAN REPUBLIC', 'ECUADOR',\n",
       "       'MOZAMBIQUE', 'THAILAND', 'PUERTO RICO', 'FRANCE',\n",
       "       'PAPUA NEW GUINEA', 'ISRAEL', 'PALESTINIAN TERRITORIES', 'JAMAICA',\n",
       "       'ITALY', 'ANTIGUA', 'RUSSIA', 'SEYCHELLES', 'TURKS & CAICOS',\n",
       "       'FIJI', 'TONGA', 'SOUTH KOREA', 'VIETNAM', 'MADAGASCAR', 'GUAM',\n",
       "       'UNITED ARAB EMIRATES (UAE)', 'PANAMA', 'SCOTLAND',\n",
       "       'UNITED KINGDOM', 'TAIWAN', 'CROATIA', 'PHILIPPINES',\n",
       "       'SOLOMON ISLANDS', 'YEMEN', 'ATLANTIC OCEAN', 'ST. MAARTIN',\n",
       "       'GRAND CAYMAN', 'VANUATU', 'MEXICO ', 'VENEZUELA', 'MICRONESIA',\n",
       "       'OKINAWA', 'MARSHALL ISLANDS', 'EGYPT / ISRAEL', 'HONG KONG',\n",
       "       'CHILE', 'GREECE', nan, 'GRENADA', 'IRAQ', 'MALAYSIA', 'BERMUDA',\n",
       "       'SENEGAL', 'TURKEY', 'SINGAPORE', 'NEW BRITAIN', 'JOHNSTON ISLAND',\n",
       "       'PACIFIC OCEAN ', 'SOUTH PACIFIC OCEAN', 'PALAU',\n",
       "       'FEDERATED STATES OF MICRONESIA', 'MID ATLANTIC OCEAN',\n",
       "       'BRITISH WEST INDIES', 'TANZANIA', 'PERSIAN GULF',\n",
       "       'NORTH PACIFIC OCEAN', 'NICARAGUA ', 'AMERICAN SAMOA',\n",
       "       'ANDAMAN / NICOBAR ISLANDAS', 'PACIFIC OCEAN',\n",
       "       'NORTH ATLANTIC OCEAN ', 'THE BALKANS', 'ARGENTINA', 'EL SALVADOR',\n",
       "       'JAVA', 'CARIBBEAN SEA', 'SOUTH ATLANTIC OCEAN', 'IRAN', 'INDIA',\n",
       "       'GUYANA', 'HAITI', 'IRELAND', 'MONTENEGRO', 'NICARAGUA', 'EGYPT ',\n",
       "       'YEMEN ', 'SRI LANKA', 'PARAGUAY', 'CANADA', 'TUVALU', 'GUINEA',\n",
       "       'ANDAMAN ISLANDS', 'MARTINIQUE', 'BARBADOS', 'RED SEA?'],\n",
       "      dtype=object)"
      ]
     },
     "execution_count": 33,
     "metadata": {},
     "output_type": "execute_result"
    }
   ],
   "source": [
    "#Getting all the unique values\n",
    "sh_copy['country'].unique()"
   ]
  },
  {
   "cell_type": "code",
   "execution_count": 34,
   "metadata": {},
   "outputs": [
    {
     "data": {
      "text/plain": [
       "country\n",
       "USA                    1328\n",
       "AUSTRALIA               573\n",
       "SOUTH AFRICA            333\n",
       "BAHAMAS                  48\n",
       "NEW ZEALAND              46\n",
       "                       ... \n",
       "PERSIAN GULF              1\n",
       "NORTH PACIFIC OCEAN       1\n",
       "NICARAGUA                 1\n",
       "AMERICAN SAMOA            1\n",
       "RED SEA?                  1\n",
       "Name: count, Length: 114, dtype: int64"
      ]
     },
     "execution_count": 34,
     "metadata": {},
     "output_type": "execute_result"
    }
   ],
   "source": [
    "#Checking the value counts\n",
    "sh_copy['country'].value_counts()"
   ]
  },
  {
   "cell_type": "code",
   "execution_count": 35,
   "metadata": {},
   "outputs": [],
   "source": [
    "#Fillin the nan values with the most common value\n",
    "sh_copy['country'].fillna(value='USA', inplace=True)"
   ]
  },
  {
   "cell_type": "code",
   "execution_count": 36,
   "metadata": {},
   "outputs": [],
   "source": [
    "#Dealing with duplicated values with different names and erratas\n",
    "sh_copy['country'] = sh_copy['country'].replace({'Fiji' : 'FIJI',\n",
    "                                                'ST HELENA, British overseas territory' : 'ST HELENA',\n",
    "                                                 'UNITED ARAB EMIRATES (UAE)' : 'UNITED ARAB EMIRATES', \n",
    "                                                 'PALESTINIAN TERRITORIES' : 'PALESTINE',\n",
    "                                                 'SCOTLAND' : 'UNITED KINGDOM', \n",
    "                                                 'OKINAWA' : 'JAPAN', \n",
    "                                                 'EGYPT / ISRAEL' : 'EGYPT',\n",
    "                                                 'EGYPT ' : 'EGYPT', \n",
    "                                                 'FEDERATED STATES OF MICRONESIA' : 'MICRONESIA', \n",
    "                                                 'ANDAMAN / NICOBAR ISLANDAS' : 'ANDAMAN ISLANDS', \n",
    "                                                 'BRITISH WEST INDIES' : 'TURKS & CAICOS',\n",
    "                                                 'ENGLAND' : 'UNITED KINGDOM',\n",
    "                                                 'MEXICO ' : 'MEXICO',\n",
    "                                                 'PERSIAN GULF' : 'IRAN',\n",
    "                                                 'AMERICAN SAMOA' : 'SAMOA',\n",
    "                                                 'JOHNSTON ISLAND' : 'USA',\n",
    "                                                 'NICARAGUA ' : 'NICARAGUA',\n",
    "                                                 'THE BALKANS' : 'CROATIA',\n",
    "                                                 'YEMEN ' : 'YEMEN',\n",
    "                                                 })"
   ]
  },
  {
   "cell_type": "code",
   "execution_count": 37,
   "metadata": {},
   "outputs": [
    {
     "data": {
      "text/plain": [
       "array(['USA', 'BRAZIL', 'AUSTRALIA', 'UNITED KINGDOM', 'SOUTH AFRICA',\n",
       "       'COSTA RICA', 'MALDIVES', 'BAHAMAS', 'NEW CALEDONIA', 'CUBA',\n",
       "       'MAURITIUS', 'NEW ZEALAND', 'SAMOA', 'JAPAN', 'SPAIN', 'ST HELENA',\n",
       "       'REUNION', 'UNITED ARAB EMIRATES', 'MEXICO', 'INDONESIA',\n",
       "       'COLUMBIA', 'EGYPT', 'FRENCH POLYNESIA', 'FIJI',\n",
       "       'DOMINICAN REPUBLIC', 'ECUADOR', 'MOZAMBIQUE', 'THAILAND',\n",
       "       'PUERTO RICO', 'FRANCE', 'PAPUA NEW GUINEA', 'ISRAEL', 'PALESTINE',\n",
       "       'JAMAICA', 'ITALY', 'ANTIGUA', 'RUSSIA', 'SEYCHELLES',\n",
       "       'TURKS & CAICOS', 'TONGA', 'SOUTH KOREA', 'VIETNAM', 'MADAGASCAR',\n",
       "       'GUAM', 'PANAMA', 'TAIWAN', 'CROATIA', 'PHILIPPINES',\n",
       "       'SOLOMON ISLANDS', 'YEMEN', 'ATLANTIC OCEAN', 'ST. MAARTIN',\n",
       "       'GRAND CAYMAN', 'VANUATU', 'VENEZUELA', 'MICRONESIA',\n",
       "       'MARSHALL ISLANDS', 'HONG KONG', 'CHILE', 'GREECE', 'GRENADA',\n",
       "       'IRAQ', 'MALAYSIA', 'BERMUDA', 'SENEGAL', 'TURKEY', 'SINGAPORE',\n",
       "       'NEW BRITAIN', 'PACIFIC OCEAN ', 'SOUTH PACIFIC OCEAN', 'PALAU',\n",
       "       'MID ATLANTIC OCEAN', 'TANZANIA', 'IRAN', 'NORTH PACIFIC OCEAN',\n",
       "       'NICARAGUA', 'ANDAMAN ISLANDS', 'PACIFIC OCEAN',\n",
       "       'NORTH ATLANTIC OCEAN ', 'ARGENTINA', 'EL SALVADOR', 'JAVA',\n",
       "       'CARIBBEAN SEA', 'SOUTH ATLANTIC OCEAN', 'INDIA', 'GUYANA',\n",
       "       'HAITI', 'IRELAND', 'MONTENEGRO', 'SRI LANKA', 'PARAGUAY',\n",
       "       'CANADA', 'TUVALU', 'GUINEA', 'MARTINIQUE', 'BARBADOS', 'RED SEA?'],\n",
       "      dtype=object)"
      ]
     },
     "execution_count": 37,
     "metadata": {},
     "output_type": "execute_result"
    }
   ],
   "source": [
    "#Checking that everything is ok\n",
    "sh_copy['country'].unique()"
   ]
  },
  {
   "cell_type": "code",
   "execution_count": 38,
   "metadata": {},
   "outputs": [],
   "source": [
    "#Dropping the few rows that have Ocean or Sea as a descriptor, as it is not exact enough to link it to a country\n",
    "sh_copy = sh_copy[~sh_copy['country'].str.contains('OCEAN|SEA', case=False)]"
   ]
  },
  {
   "cell_type": "code",
   "execution_count": 39,
   "metadata": {},
   "outputs": [],
   "source": [
    "#Abbrebiating the countries names so they are easier to read in a plot (really long dictionary, sorry, didn't find a better way to do it)\n",
    "sh_copy['country'] = sh_copy['country'].replace({'BRAZIL' : 'BRZ',\n",
    "                                                 'AUSTRALIA' : 'AUS',\n",
    "                                                 'UNITED KINGDOM' : 'UK',\n",
    "                                                 'SOUTH AFRICA' : 'SA',\n",
    "                                                 'COSTA RICA' : 'CR',\n",
    "                                                 'MALDIVES' : 'MAL',\n",
    "                                                 'BAHAMAS' : 'BAH',\n",
    "                                                 'NEW CALEDONIA' : 'NC',\n",
    "                                                 'CUBA' : 'CUB',\n",
    "                                                 'MAURITIUS' : 'MAU',\n",
    "                                                 'NEW ZEALAND' : 'NZ',\n",
    "                                                 'SAMOA' : 'SAM',\n",
    "                                                 'JAPAN': 'JP',\n",
    "                                                 'SPAIN' : 'ESP',\n",
    "                                                 'ST HELENA' : 'STH',\n",
    "                                                 'REUNION' : 'REU',\n",
    "                                                 'UNITED ARAB EMIRATES' : 'UAE',\n",
    "                                                 'MEXICO' : 'MEX',\n",
    "                                                 'INDONESIA' : 'INDO',\n",
    "                                                 'COLUMBIA' : 'COL',\n",
    "                                                 'EGYPT' : 'EGY',\n",
    "                                                 'FRENCH POLYNESIA' : 'FP',\n",
    "                                                 'DOMINICAN REPUBLIC' : 'DR',\n",
    "                                                 'ECUADOR' : 'ECU',\n",
    "                                                 'MOZAMBIQUE' : 'MOZ',\n",
    "                                                 'THAILAND' : 'THAI',\n",
    "                                                 'PUERTO RICO' : 'PR',\n",
    "                                                 'FRANCE' : 'FR',\n",
    "                                                 'PAPUA NEW GUINEA' : 'PNG',\n",
    "                                                 'ISRAEL' : 'ISR',\n",
    "                                                 'PALESTINE' : 'PAL',\n",
    "                                                 'JAMAICA' : 'JAM',\n",
    "                                                 'ITALY' : 'IT',\n",
    "                                                 'ANTIGUA' : 'ANT',\n",
    "                                                 'RUSSIA' : 'RUS',\n",
    "                                                 'SEYCHELLES' : 'SEY',\n",
    "                                                 'TURKS & CAICOS' : 'TC',\n",
    "                                                 'TONGA' : 'TONG',\n",
    "                                                 'SOUTH KOREA' : 'SK',\n",
    "                                                 'VIETNAM' : 'VN',\n",
    "                                                 'MADAGASCAR' : 'MAD',\n",
    "                                                 'GUAM' : 'GU',\n",
    "                                                 'PANAMA' : 'PAN',\n",
    "                                                 'TAIWAN' : 'TW',\n",
    "                                                 'CROATIA' : 'CRO',\n",
    "                                                 'PHILIPPINES' : 'PHI',\n",
    "                                                 'SOLOMON ISLANDS' : 'SI',\n",
    "                                                 'YEMEN' : 'YEM',\n",
    "                                                 'ST. MAARTIN' : 'STM',\n",
    "                                                 'GRAND CAYMAN' : 'GC',\n",
    "                                                 'VANUATU' : 'VAN',\n",
    "                                                 'VENEZUELA' : 'VEN',\n",
    "                                                 'MICRONESIA' : 'MIC',\n",
    "                                                 'MARSHALL ISLANDS' : 'MI',\n",
    "                                                 'HONG KONG' : 'HK',\n",
    "                                                 'CHILE' : 'CHI',\n",
    "                                                 'GREECE' : 'GR',\n",
    "                                                 'GRENADA' : 'GRE',\n",
    "                                                 'IRAQ' : 'IRQ',\n",
    "                                                 'MALAYSIA' : 'MAL',\n",
    "                                                 'BERMUDA' : 'BER',\n",
    "                                                 'SENEGAL' : 'SEN',\n",
    "                                                 'TURKEY' : 'TUR',\n",
    "                                                 'SINGAPORE' : 'SIN',\n",
    "                                                 'NEW BRITAIN' : 'NB',\n",
    "                                                 'JOHNSON ISLAND' : 'JI',\n",
    "                                                 'PALAU' : 'PAL',\n",
    "                                                 'TANZAIA' : 'TAN',\n",
    "                                                 'NICARAGUA' : 'NIC',\n",
    "                                                 'ANDAMAN ISLANDS' : 'AND',\n",
    "                                                 'TANZANIA' : 'TAN',\n",
    "                                                 'IRAN' : 'IRN',\n",
    "                                                 'ARGENTINA' : 'ARG',\n",
    "                                                 'EL SALVADOR' : 'ES',\n",
    "                                                 'JAVA' : 'JAV',\n",
    "                                                 'INDIA' : 'IND',\n",
    "                                                 'GUYANA' : 'GUY',\n",
    "                                                 'IRELAND' : 'IRL',\n",
    "                                                 'MONTENEGRO' : 'MONT',\n",
    "                                                 'YEMEN' : 'YEM',\n",
    "                                                 'SRI LANKA' : 'SL',\n",
    "                                                 'PARAGUAY' : 'PAR',\n",
    "                                                 'CANADA' : 'CAN',\n",
    "                                                 'TUVALU' : 'TUV',\n",
    "                                                 'GUINEA' : 'GUI',\n",
    "                                                 'MARTINIQUE' : 'MAR',\n",
    "                                                 'BARBADOS' : 'BAR',\n",
    "                                                })"
   ]
  },
  {
   "cell_type": "code",
   "execution_count": 40,
   "metadata": {},
   "outputs": [
    {
     "data": {
      "image/png": "[encoded data removed]",
      "text/plain": [
       "<Figure size 640x480 with 1 Axes>"
      ]
     },
     "metadata": {},
     "output_type": "display_data"
    }
   ],
   "source": [
    "#Plotting the top 20 countries with most attacks\n",
    "sh_copy['country'].value_counts().sort_values(ascending=False).head(20).plot(kind='bar')\n",
    "plt.xlabel('Country')\n",
    "plt.ylabel('Number of Attacks')\n",
    "plt.title('Top 20 Countries with Most Attacks')\n",
    "plt.show()"
   ]
  },
  {
   "cell_type": "markdown",
   "metadata": {},
   "source": [
    "As we can see, USA gets the prize here by a long run, with the rest of countries only having some attacks. "
   ]
  },
  {
   "cell_type": "markdown",
   "metadata": {},
   "source": [
    "We will continue with the Sex column."
   ]
  },
  {
   "cell_type": "code",
   "execution_count": 41,
   "metadata": {},
   "outputs": [
    {
     "data": {
      "text/plain": [
       "sex\n",
       "M      2325\n",
       "F       372\n",
       "M         1\n",
       "lli       1\n",
       "Name: count, dtype: int64"
      ]
     },
     "execution_count": 41,
     "metadata": {},
     "output_type": "execute_result"
    }
   ],
   "source": [
    "#Getting the value counts of the column\n",
    "sh_copy['sex'].value_counts()"
   ]
  },
  {
   "cell_type": "code",
   "execution_count": 42,
   "metadata": {},
   "outputs": [],
   "source": [
    "#Filling the nan values with the most common value\n",
    "sh_copy['sex'].fillna(value='M', inplace=True)"
   ]
  },
  {
   "cell_type": "code",
   "execution_count": 43,
   "metadata": {},
   "outputs": [],
   "source": [
    "#Replacing the non standard values with the correct ones\n",
    "sh_copy['sex'] = sh_copy['sex'].replace(['N', 'M ', 'lli', '.'], 'M')"
   ]
  },
  {
   "cell_type": "code",
   "execution_count": 44,
   "metadata": {},
   "outputs": [
    {
     "data": {
      "image/png": "[encoded data removed]",
      "text/plain": [
       "<Figure size 640x480 with 1 Axes>"
      ]
     },
     "metadata": {},
     "output_type": "display_data"
    }
   ],
   "source": [
    "sns.countplot(x='sex', data=sh_copy)\n",
    "plt.show()"
   ]
  },
  {
   "cell_type": "markdown",
   "metadata": {},
   "source": [
    "From the data, we get that more men are attacked than women, but we don't know if it is something that the sharks take in consideration."
   ]
  },
  {
   "cell_type": "markdown",
   "metadata": {},
   "source": [
    "Next, we start working with the age."
   ]
  },
  {
   "cell_type": "code",
   "execution_count": 45,
   "metadata": {},
   "outputs": [
    {
     "data": {
      "text/plain": [
       "age\n",
       "18          104\n",
       "19          103\n",
       "17           94\n",
       "15           89\n",
       "16           89\n",
       "           ... \n",
       "              1\n",
       "6½            1\n",
       "33 or 37      1\n",
       "mid-30s       1\n",
       "13 or 14      1\n",
       "Name: count, Length: 108, dtype: int64"
      ]
     },
     "execution_count": 45,
     "metadata": {},
     "output_type": "execute_result"
    }
   ],
   "source": [
    "#Getting the value counts of the column\n",
    "sh_copy['age'].value_counts()"
   ]
  },
  {
   "cell_type": "code",
   "execution_count": 46,
   "metadata": {},
   "outputs": [
    {
     "data": {
      "text/plain": [
       "array(['57', '48', '18', '15', '12', '32', '10', '21', nan, '30', '60',\n",
       "       '33', '37', '19', '25', '69', '55', '34', '35', '40s', '20', '54',\n",
       "       '14', '22', '31', '17', '40', '28', '42', '3', '11', '13', '50',\n",
       "       '46', '82', '41', '20s', '51', '39', '58', '26', 'Teen', '47',\n",
       "       '16', '61', '65', '73', '36', '66', '29', '43', '60s', '49', '59',\n",
       "       '6', '27', '64', '23', '52', '24', '45', '71', '9', '44', '7',\n",
       "       '62', '38', '68', '63', '70', '53', '8', 'teen', '77', '74', '56',\n",
       "       '30s', '5', '86', '18 or 20', '12 or 13', '36 & 26', '8 or 10',\n",
       "       '84', '\\xa0 ', ' ', '6½', '33 or 37', 'mid-30s', ' 30', ' 28',\n",
       "       '20?', \"60's\", '67', '21 or 26', '20 ', '>50', '9 & 12', '? & 19',\n",
       "       '(adult)', '25 or 28', '30 & 32', '13 or 18', '33 & 26',\n",
       "       'MAKE LINE GREEN', '9 or 10', '  ', '31 or 33', '13 or 14'],\n",
       "      dtype=object)"
      ]
     },
     "execution_count": 46,
     "metadata": {},
     "output_type": "execute_result"
    }
   ],
   "source": [
    "#Getting the unique values\n",
    "sh_copy['age'].unique()"
   ]
  },
  {
   "cell_type": "code",
   "execution_count": 47,
   "metadata": {},
   "outputs": [],
   "source": [
    "#Starting the cleaning process, by removing the s at the end of the numbers and getting rid of the dual ages.\n",
    "sh_copy['age'] = sh_copy['age'].str.split().str[0]\n",
    "sh_copy['age'] = sh_copy['age'].str.split().str[0].str.replace('s','')"
   ]
  },
  {
   "cell_type": "code",
   "execution_count": 48,
   "metadata": {},
   "outputs": [],
   "source": [
    "#Correcting the rest of the values\n",
    "sh_copy['age'] = sh_copy['age'].replace({\n",
    "                                        'Teen' : '15',\n",
    "                                         'teen' : '15',\n",
    "                                         '\\xa0' : '18',\n",
    "                                         ' ' : '18',\n",
    "                                         '6½' : '6',\n",
    "                                         'mid-30' : '35',\n",
    "                                         '20?' : '20',\n",
    "                                         \"60'\" : '60',\n",
    "                                         '>50' : '50',\n",
    "                                         '?' : '18',\n",
    "                                         '(adult)' : '30',\n",
    "                                         'MAKE' : '18',\n",
    "\n",
    "\n",
    "})"
   ]
  },
  {
   "cell_type": "code",
   "execution_count": 49,
   "metadata": {},
   "outputs": [],
   "source": [
    "#Filling the nan values with the more common value\n",
    "sh_copy['age'].fillna(value='18', inplace=True)"
   ]
  },
  {
   "cell_type": "code",
   "execution_count": 50,
   "metadata": {},
   "outputs": [
    {
     "data": {
      "text/plain": [
       "<Axes: xlabel='age', ylabel='Density'>"
      ]
     },
     "execution_count": 50,
     "metadata": {},
     "output_type": "execute_result"
    },
    {
     "data": {
      "image/png": "[encoded data removed]",
      "text/plain": [
       "<Figure size 640x480 with 1 Axes>"
      ]
     },
     "metadata": {},
     "output_type": "display_data"
    }
   ],
   "source": [
    "#Plotting to see the data\n",
    "sns.distplot(sh_copy['age'], bins=24)"
   ]
  },
  {
   "cell_type": "markdown",
   "metadata": {},
   "source": [
    "From the graph, we can see that the most attacks were performed on people around the age 18 to 20."
   ]
  },
  {
   "cell_type": "markdown",
   "metadata": {},
   "source": [
    "Next, we tackle the fatal column"
   ]
  },
  {
   "cell_type": "code",
   "execution_count": 51,
   "metadata": {},
   "outputs": [
    {
     "data": {
      "text/plain": [
       "fatal\n",
       "N          2192\n",
       "Y           459\n",
       "UNKNOWN       4\n",
       " N            3\n",
       "M             1\n",
       "2017          1\n",
       "Name: count, dtype: int64"
      ]
     },
     "execution_count": 51,
     "metadata": {},
     "output_type": "execute_result"
    }
   ],
   "source": [
    "#Getting the value counts of the column\n",
    "sh_copy['fatal'].value_counts()"
   ]
  },
  {
   "cell_type": "code",
   "execution_count": 52,
   "metadata": {},
   "outputs": [],
   "source": [
    "#Filling the nan values with the most common value\n",
    "sh_copy['fatal'].fillna(value='N', inplace=True)"
   ]
  },
  {
   "cell_type": "code",
   "execution_count": 53,
   "metadata": {},
   "outputs": [],
   "source": [
    "#Getting rid of the invalid values\n",
    "sh_copy['fatal'] = sh_copy['fatal'].replace({'M' : 'N',\n",
    "                                             'UNKNOWN' : 'N',\n",
    "                                             ' N' : 'N',\n",
    "                                             '2017' : 'N',})"
   ]
  },
  {
   "cell_type": "code",
   "execution_count": 54,
   "metadata": {},
   "outputs": [
    {
     "data": {
      "image/png": "[encoded data removed]",
      "text/plain": [
       "<Figure size 640x480 with 1 Axes>"
      ]
     },
     "metadata": {},
     "output_type": "display_data"
    }
   ],
   "source": [
    "#Plotting the column\n",
    "sns.countplot(x='fatal', data=sh_copy)\n",
    "plt.show()"
   ]
  },
  {
   "cell_type": "markdown",
   "metadata": {},
   "source": [
    "As we can see from the graph, most of the attacks were non fatal and the person survived it."
   ]
  },
  {
   "cell_type": "markdown",
   "metadata": {},
   "source": [
    "Next, we will tackle the year column"
   ]
  },
  {
   "cell_type": "code",
   "execution_count": 55,
   "metadata": {},
   "outputs": [
    {
     "data": {
      "text/plain": [
       "year\n",
       "2015.0    105\n",
       "2017.0     97\n",
       "2012.0     91\n",
       "2016.0     89\n",
       "2011.0     86\n",
       "         ... \n",
       "1890.0      1\n",
       "1894.0      1\n",
       "1909.0      1\n",
       "1918.0      1\n",
       "1892.0      1\n",
       "Name: count, Length: 157, dtype: int64"
      ]
     },
     "execution_count": 55,
     "metadata": {},
     "output_type": "execute_result"
    }
   ],
   "source": [
    "#Checking the value counts of the column\n",
    "sh_copy['year'].value_counts()"
   ]
  },
  {
   "cell_type": "code",
   "execution_count": 56,
   "metadata": {},
   "outputs": [
    {
     "data": {
      "text/plain": [
       "array([2018., 2017., 2016., 2015., 2014., 2013., 2012., 2011., 2010.,\n",
       "       2009., 2008., 2007., 2006., 2005., 2004., 2003., 2002., 2001.,\n",
       "       2000., 1999., 1998., 1997., 1996., 1995., 1984., 1994., 1993.,\n",
       "       1992., 1991., 1990., 1989., 1988., 1987., 1986., 1985., 1983.,\n",
       "       1982., 1981., 1980., 1979., 1978., 1977., 1976., 1975., 1974.,\n",
       "       1973., 1972., 1971., 1970., 1969., 1968., 1967., 1966., 1965.,\n",
       "       1964., 1963., 1962., 1961., 1960., 1959., 1958., 1957., 1956.,\n",
       "       1955., 1954., 1953., 1952., 1951., 1950., 1949., 1948., 1947.,\n",
       "       1946., 1945., 1944., 1943., 1942., 1941., 1940., 1939., 1938.,\n",
       "       1937., 1936., 1935., 1934., 1933., 1932., 1931., 1930., 1929.,\n",
       "       1928., 1927., 1926., 1925., 1924., 1923., 1922., 1921., 1920.,\n",
       "       1919., 1918., 1917., 1916., 1914., 1912., 1911., 1910., 1909.,\n",
       "       1907., 1906., 1905., 1902., 1901., 1900., 1899., 1898., 1897.,\n",
       "       1896., 1895., 1894., 1893., 1892., 1891., 1890., 1889., 1888.,\n",
       "       1887., 1886., 1885., 1884., 1883., 1882., 1881., 1880., 1878.,\n",
       "       1877., 1874., 1872., 1871., 1865., 1864., 1863., 1862., 1861.,\n",
       "       1860., 1858., 1852., 1849., 1841., 1837., 1830., 1829., 1817.,\n",
       "       1784., 1783., 1703.,    0.])"
      ]
     },
     "execution_count": 56,
     "metadata": {},
     "output_type": "execute_result"
    }
   ],
   "source": [
    "#Checking the unique values\n",
    "sh_copy['year'].unique()"
   ]
  },
  {
   "cell_type": "code",
   "execution_count": 57,
   "metadata": {},
   "outputs": [],
   "source": [
    "#Cleaning the column of the dots\n",
    "sh_copy['year'] = sh_copy['year'].astype(str).str.split('.').str[0]"
   ]
  },
  {
   "cell_type": "code",
   "execution_count": 58,
   "metadata": {},
   "outputs": [
    {
     "name": "stdout",
     "output_type": "stream",
     "text": [
      "6\n"
     ]
    },
    {
     "data": {
      "text/html": [
       "<div>\n",
       "<style scoped>\n",
       "    .dataframe tbody tr th:only-of-type {\n",
       "        vertical-align: middle;\n",
       "    }\n",
       "\n",
       "    .dataframe tbody tr th {\n",
       "        vertical-align: top;\n",
       "    }\n",
       "\n",
       "    .dataframe thead th {\n",
       "        text-align: right;\n",
       "    }\n",
       "</style>\n",
       "<table border=\"1\" class=\"dataframe\">\n",
       "  <thead>\n",
       "    <tr style=\"text-align: right;\">\n",
       "      <th></th>\n",
       "      <th>date</th>\n",
       "      <th>year</th>\n",
       "      <th>type</th>\n",
       "      <th>country</th>\n",
       "      <th>area</th>\n",
       "      <th>location</th>\n",
       "      <th>activity</th>\n",
       "      <th>sex</th>\n",
       "      <th>age</th>\n",
       "      <th>fatal</th>\n",
       "      <th>time</th>\n",
       "      <th>species</th>\n",
       "    </tr>\n",
       "  </thead>\n",
       "  <tbody>\n",
       "    <tr>\n",
       "      <th>6200</th>\n",
       "      <td>Before 2009</td>\n",
       "      <td>0</td>\n",
       "      <td>Unprovoked</td>\n",
       "      <td>USA</td>\n",
       "      <td>Florida</td>\n",
       "      <td>NaN</td>\n",
       "      <td>Shark tagging</td>\n",
       "      <td>F</td>\n",
       "      <td>21</td>\n",
       "      <td>N</td>\n",
       "      <td>18</td>\n",
       "      <td>Blacktip shark, 5'</td>\n",
       "    </tr>\n",
       "    <tr>\n",
       "      <th>6241</th>\n",
       "      <td>1960s</td>\n",
       "      <td>0</td>\n",
       "      <td>Unprovoked</td>\n",
       "      <td>IRQ</td>\n",
       "      <td>Basrah</td>\n",
       "      <td>Shatt-al-Arab River</td>\n",
       "      <td>Fishing from a small boat &amp; put his hand in th...</td>\n",
       "      <td>M</td>\n",
       "      <td>25</td>\n",
       "      <td>N</td>\n",
       "      <td>12</td>\n",
       "      <td>NaN</td>\n",
       "    </tr>\n",
       "    <tr>\n",
       "      <th>6242</th>\n",
       "      <td>1960s</td>\n",
       "      <td>0</td>\n",
       "      <td>Unprovoked</td>\n",
       "      <td>IRQ</td>\n",
       "      <td>Basrah</td>\n",
       "      <td>Shatt-al-Arab River</td>\n",
       "      <td>Swimming naked near a date palm where many dat...</td>\n",
       "      <td>M</td>\n",
       "      <td>6</td>\n",
       "      <td>N</td>\n",
       "      <td>12</td>\n",
       "      <td>Bull shark</td>\n",
       "    </tr>\n",
       "    <tr>\n",
       "      <th>6243</th>\n",
       "      <td>1960s</td>\n",
       "      <td>0</td>\n",
       "      <td>Unprovoked</td>\n",
       "      <td>IRQ</td>\n",
       "      <td>Basrah</td>\n",
       "      <td>Shatt-al-Arab River near Abu al Khasib</td>\n",
       "      <td>Swimming in section of river used for washing ...</td>\n",
       "      <td>M</td>\n",
       "      <td>16</td>\n",
       "      <td>N</td>\n",
       "      <td>12</td>\n",
       "      <td>Bull shark</td>\n",
       "    </tr>\n",
       "    <tr>\n",
       "      <th>6259</th>\n",
       "      <td>1941-1945</td>\n",
       "      <td>0</td>\n",
       "      <td>Sea Disaster</td>\n",
       "      <td>USA</td>\n",
       "      <td>NaN</td>\n",
       "      <td>NaN</td>\n",
       "      <td>A group of survivors on a raft for 17-days</td>\n",
       "      <td>M</td>\n",
       "      <td>18</td>\n",
       "      <td>Y</td>\n",
       "      <td>12</td>\n",
       "      <td>1.2 m [4'] shark</td>\n",
       "    </tr>\n",
       "    <tr>\n",
       "      <th>6265</th>\n",
       "      <td>1941-1942</td>\n",
       "      <td>0</td>\n",
       "      <td>Unprovoked</td>\n",
       "      <td>IRQ</td>\n",
       "      <td>Basrah</td>\n",
       "      <td>Shatt-el Arab River near a small boat stand</td>\n",
       "      <td>Swimming</td>\n",
       "      <td>M</td>\n",
       "      <td>13</td>\n",
       "      <td>Y</td>\n",
       "      <td>12</td>\n",
       "      <td>Bull shark</td>\n",
       "    </tr>\n",
       "  </tbody>\n",
       "</table>\n",
       "</div>"
      ],
      "text/plain": [
       "             date year          type country     area  \\\n",
       "6200  Before 2009    0    Unprovoked     USA  Florida   \n",
       "6241        1960s    0    Unprovoked     IRQ   Basrah   \n",
       "6242        1960s    0    Unprovoked     IRQ   Basrah   \n",
       "6243        1960s    0    Unprovoked     IRQ   Basrah   \n",
       "6259    1941-1945    0  Sea Disaster     USA      NaN   \n",
       "6265    1941-1942    0    Unprovoked     IRQ   Basrah   \n",
       "\n",
       "                                         location  \\\n",
       "6200                                          NaN   \n",
       "6241                          Shatt-al-Arab River   \n",
       "6242                         Shatt-al-Arab River    \n",
       "6243       Shatt-al-Arab River near Abu al Khasib   \n",
       "6259                                          NaN   \n",
       "6265  Shatt-el Arab River near a small boat stand   \n",
       "\n",
       "                                               activity sex age fatal  time  \\\n",
       "6200                                      Shark tagging   F  21     N    18   \n",
       "6241  Fishing from a small boat & put his hand in th...   M  25     N    12   \n",
       "6242  Swimming naked near a date palm where many dat...   M   6     N    12   \n",
       "6243  Swimming in section of river used for washing ...   M  16     N    12   \n",
       "6259         A group of survivors on a raft for 17-days   M  18     Y    12   \n",
       "6265                                           Swimming   M  13     Y    12   \n",
       "\n",
       "                 species  \n",
       "6200  Blacktip shark, 5'  \n",
       "6241                 NaN  \n",
       "6242          Bull shark  \n",
       "6243          Bull shark  \n",
       "6259    1.2 m [4'] shark  \n",
       "6265          Bull shark  "
      ]
     },
     "execution_count": 58,
     "metadata": {},
     "output_type": "execute_result"
    }
   ],
   "source": [
    "#Checking the rows with values 0\n",
    "print(sh_copy['year'].value_counts()['0'])\n",
    "sh_copy[sh_copy['year'] == '0']"
   ]
  },
  {
   "cell_type": "code",
   "execution_count": 59,
   "metadata": {},
   "outputs": [],
   "source": [
    "#Correcting the values using the info from the date column\n",
    "sh_copy.loc[6200, 'year'] = '2008'\n",
    "sh_copy.loc[6241, 'year'] = '1960'\n",
    "sh_copy.loc[6242, 'year'] = '1960'\n",
    "sh_copy.loc[6243, 'year'] = '1960'\n",
    "sh_copy.loc[6259, 'year'] = '1943'\n",
    "sh_copy.loc[6265, 'year'] = '1942'"
   ]
  },
  {
   "cell_type": "code",
   "execution_count": 60,
   "metadata": {},
   "outputs": [],
   "source": [
    "#Converting the values to datetime format\n",
    "sh_copy['year'] = pd.to_datetime(sh_copy['year'], format=\"%Y\").dt.year"
   ]
  },
  {
   "cell_type": "code",
   "execution_count": 61,
   "metadata": {},
   "outputs": [
    {
     "data": {
      "text/plain": [
       "<Axes: xlabel='year', ylabel='Density'>"
      ]
     },
     "execution_count": 61,
     "metadata": {},
     "output_type": "execute_result"
    },
    {
     "data": {
      "image/png": "[encoded data removed]",
      "text/plain": [
       "<Figure size 640x480 with 1 Axes>"
      ]
     },
     "metadata": {},
     "output_type": "display_data"
    }
   ],
   "source": [
    "#Plotting the column\n",
    "sns.distplot(sh_copy['year'], bins=24)"
   ]
  },
  {
   "cell_type": "markdown",
   "metadata": {},
   "source": [
    "As we can see from the plot, most of the attacks were made during the 2000s and 2010s, maybe it can be linked to more data collected during the most recent years."
   ]
  },
  {
   "cell_type": "markdown",
   "metadata": {},
   "source": [
    "For the next part, we will tackle the Activity column."
   ]
  },
  {
   "cell_type": "code",
   "execution_count": 62,
   "metadata": {},
   "outputs": [
    {
     "data": {
      "text/plain": [
       "activity\n",
       "Surfing                                                          724\n",
       "Swimming                                                         428\n",
       "Spearfishing                                                     157\n",
       "Fishing                                                          109\n",
       "Wading                                                           104\n",
       "                                                                ... \n",
       "Hookah diving for pen shells                                       1\n",
       "Preparing to fish for jack-mackerel                                1\n",
       "Fell from cliff while fishing & disappeared in strong current      1\n",
       "Kneeling in the water                                              1\n",
       "A group of survivors on a raft for 17-days                         1\n",
       "Name: count, Length: 583, dtype: int64"
      ]
     },
     "execution_count": 62,
     "metadata": {},
     "output_type": "execute_result"
    }
   ],
   "source": [
    "#Getting the value counts of the column\n",
    "sh_copy['activity'].value_counts()"
   ]
  },
  {
   "cell_type": "code",
   "execution_count": 63,
   "metadata": {},
   "outputs": [
    {
     "data": {
      "text/plain": [
       "array(['Paddling', 'Surfing', 'Swimming', 'Walking', 'Standing',\n",
       "       'Feeding sharks', 'Fishing', 'Scuba diving', 'Paddle-skiing',\n",
       "       'Windsurfing', 'Stand-Up Paddleboarding', 'Wading',\n",
       "       'Kayak fishing for sharks', nan, 'Spearfishing', 'Diving',\n",
       "       'Night bathing', 'Surfing ', 'Kayaking / Fishing', 'Kayaking',\n",
       "       'Snorkeling', 'Scuba Diving', 'Swimming, poaching abalone', 'SUP',\n",
       "       'Skimboarding', 'Body boarding', 'Paddle boarding', 'Kakaying',\n",
       "       'Grabbing shark for a selfie', 'Surf skiing ', 'Free diving',\n",
       "       'Surf fishing', 'Floating', 'Surfng', 'Kite surfing',\n",
       "       'Boogie boarding', 'SUP Foil boarding', 'Floating in tube',\n",
       "       'Teasing a shark', 'Surf-skiing', 'Body surfing',\n",
       "       'Diving for beche-de-mer', 'Kayak Fishing', 'Swimming / Wading',\n",
       "       'Photographing fish', 'Scallop diving on hookah', 'Body boarding ',\n",
       "       'Playing in the water', 'Body Boarding', 'Body surfing?',\n",
       "       'Playing', 'Standing / Snorkeling', 'Hand feeding sharks',\n",
       "       'Rowing', 'Shark fishing', 'Swimming after falling overboard',\n",
       "       'Fishing for blue sharks', 'Body surfing or Boogie boarding',\n",
       "       'Kayaking ', 'Fishing ', 'Shark diving', 'Kneeling in the water',\n",
       "       'Diving for lobsters', 'Kite Surfing', 'Kitesurfing', 'Sailing',\n",
       "       'Spearfishing / Free diving', 'Kiteboarding',\n",
       "       'Diving for crayfish', 'Diving ', 'Swimming / snorkeling',\n",
       "       'Diving for Abalone', 'Casting a net',\n",
       "       'Longline fishing for sharks', 'Wrangling a shark',\n",
       "       'Cleaning fish', 'Walking in surf', 'Swimming & snorkeling',\n",
       "       'Boogie Boarding', 'Playing in the surf', 'Kite boarding',\n",
       "       \"Fishing - 'tag & release'\", 'Bodyboarding',\n",
       "       'Swimming or boogie boarding', 'Sitting in the water',\n",
       "       'Attempting to rescue an injured & beached shark',\n",
       "       'Free diving / spearfishing', 'Crayfishing',\n",
       "       'Diving, feeding sharks', 'Canoeing', 'Wade fishing',\n",
       "       'Jumping in the waves', 'Wade Fishing',\n",
       "       'Standing, collecting sea stars', 'Floating ',\n",
       "       'Swimming or Snorkeling', 'Kayaking or Wave skiing', 'Jet skiing',\n",
       "       'Standing or boogie boardin', 'Kite Boarding',\n",
       "       'Washing sand off a speared fish', 'Diving / fishing',\n",
       "       'Wakeboarding', 'Diving for abalone', 'Swimming /  Whale Watching',\n",
       "       'Rescuing', 'Measuring sharks', 'Swimming / treading water',\n",
       "       'Surf fishing / wading', 'Spearfishing (free diving)', 'Bathing',\n",
       "       'Paddling on kneeboard', 'Paddle-boarding',\n",
       "       'Swimming, attempting to rescue a girl  believed to be drowning',\n",
       "       'Paddle-surfing', 'Crawling', 'Crabbing',\n",
       "       'Swimming, towing surfboard', 'Treading water',\n",
       "       'Swimming or surfing', 'Night diving',\n",
       "       'Walking out of the water after surfing',\n",
       "       \"Accidentally stood on hooked shark's tail before attempting to gut it \",\n",
       "       'Attempting to chase shark out to sea',\n",
       "       'The 426-ton cargo ship Mia, laden with cement, capsized in heavy seas ',\n",
       "       'Wading?', 'Jumping',\n",
       "       'Floating near boat & observing bioluminesce',\n",
       "       'Jumped into the water', 'Reviving a sedated shark',\n",
       "       'Swimming / jumping off a jetty', 'Playing on a sandbar', 'Murder',\n",
       "       'Shrimping', 'Swimming / Body Surfing', 'Sea Disaster',\n",
       "       'Playing soccer in the water', 'Lifesaving drill',\n",
       "       'Tagging sharks', 'Night Surfing', 'Fishing for sharks',\n",
       "       'Standing / Surfing', 'Treading water/ Surfing',\n",
       "       'Boogie boarding, kicked at object in the water',\n",
       "       'Holding onto an inflatable boat', 'Swimming with boogie board',\n",
       "       'Spearfishing (Free diving)', \"Crouching in 2' of water\",\n",
       "       'Diving in aquarium display tank',\n",
       "       'Attempting to drive shark away from sailing regatta',\n",
       "       'Fishing from a kayak',\n",
       "       'Scurfing (surfboard being  towed behind a boat)',\n",
       "       'Chumming for white sharks', 'Spearfishing/ filming',\n",
       "       'Wading / fishing & carrying a bag of fish',\n",
       "       'Swimming, poaching perlemoen', 'Boogie-boarding / swimming',\n",
       "       'Free diving & spearfishing', 'Tandem surfing',\n",
       "       'Kayaking (returning from spearfishing)',\n",
       "       'Air disaster. Flash Airlines Boeing 737 crashed into the Red Sea',\n",
       "       'Swimming / shipwreck', 'Surfing amid a shoal of sharks',\n",
       "       'Sitting on surfboard', 'Wading near a fishing net',\n",
       "       'Wading to shore from his boat', 'Standing, stepped on shark',\n",
       "       'Swimming, wearing black wetsuit & swim fins',\n",
       "       'Walking, carrying surfboard & stepped on shark',\n",
       "       'Swimming with pod of dolphins', 'Swimming ',\n",
       "       'Swimming (using a float)', 'Fishing from Surfboard',\n",
       "       'Surf skiing', 'Wading, when he stepped on the shark',\n",
       "       'Floating on a raft', 'Fishing, removing the shark from his line',\n",
       "       'Playing in the surf with his 2 dogs',\n",
       "       'Scallop diving (using surface-supplied air & a POD) ',\n",
       "       'Surfing, but standing in water alongside board', 'Body-boarding',\n",
       "       'Swimming /  boogie boarding',\n",
       "       'Surfing, fell off surfboard & stepped on the shark.',\n",
       "       'Wreck / Technical diving', 'Walking in shallows',\n",
       "       'Floating face-down in knee-deep water',\n",
       "       'Standing alongside surfboard',\n",
       "       'Swimming back from anchored sailboat', 'Standing / surfing',\n",
       "       'Swimming / Body surfing', 'Windsurfing, but sitting on his board',\n",
       "       'Surfing / Wading',\n",
       "       'Spearfishing, holding mesh bag with speared fish',\n",
       "       'Boogie boarding / wading',\n",
       "       'Spearfishing, but swimming at surface',\n",
       "       'Surfing, lying on surfboard', 'Wading to shore after surfing',\n",
       "       'Wading with surfboard', \"Lying prone in 2' of water\",\n",
       "       'Spearfishing & holding catch', 'Swimming with dolphins',\n",
       "       'Wading in school of baitfish', 'Splashing / wading',\n",
       "       'Swimming after being swept into sea by a large wave',\n",
       "       'Swimming, towing a kayak', 'Swimming near pod of whales',\n",
       "       'Fishing / washing bait off hands', 'Free diving for abalone',\n",
       "       'Swimming / surfing', 'Towing rubber dinghy',\n",
       "       'Snorkeling \\x96 hunting crayfish and abalone',\n",
       "       'Swimming or paddle boarding',\n",
       "       'Scuba diving (submerged riding a scooter)',\n",
       "       'Body boarding or surfing', 'Walking / surfing',\n",
       "       'Surfing (sitting on his board)', 'Floating on raft',\n",
       "       'Wading / Surfing', 'Spearfishing / night diving',\n",
       "       'Body surfing, stood up on sandbar', 'Surfing / Swimming',\n",
       "       'Free diving with a pod of dolphins', 'Shell Diving',\n",
       "       'Swimming breast stoke', 'Dived naked into the water on a bet',\n",
       "       'Swimming with mask & snorkel', 'Chumming for sharks',\n",
       "       'Playing / standing',\n",
       "       'Abalone diving using Hookah (near calving whales)',\n",
       "       'Abalone diving using Hookah (resting on the surface)',\n",
       "       'Scuba diving (ascending using scooter)',\n",
       "       'Scuba diving for bivalves', 'Surfing, sitting on board',\n",
       "       'Commercial diver (submerged or treading water)',\n",
       "       'Surfing, paddling seawards', 'Jumped off rocks into white water',\n",
       "       'Freediving for seashells',\n",
       "       'Swimming alongside NOAA research vessel Discoverer',\n",
       "       'Hookah diving', 'Surfing, paddling shorewards',\n",
       "       'Watching the shark feeding on a dead pinniped',\n",
       "       'Riding floatation device', 'Free diving for abalone (ascending)',\n",
       "       'Paddling on surfboard or body board',\n",
       "       'Scuba diving at seal colony', 'Floating on his back',\n",
       "       'Paddling on surfboard', 'Free diving & spearfishing (ascending)',\n",
       "       'Sea disaster', 'Lying on surfboard', 'Spearfishing / free diving',\n",
       "       'Scuba diving (submerged)', 'Hookah diving for sea urchins',\n",
       "       'Fell from cliff while fishing & disappeared in strong current',\n",
       "       'Preparing to fish for jack-mackerel',\n",
       "       'Hookah diving for pen shells ',\n",
       "       'Fishing for yellowtail, Seriola quinqueradiata',\n",
       "       'Diving for pen shells',\n",
       "       'Fishing from rocks, swept out to sea by large wave & treading water',\n",
       "       'Finning the shark that bit him', 'Swimming behind sailboat',\n",
       "       'Surfing, collided with shark', 'Scuba diving (but on surface)',\n",
       "       'Free diving / spearfishing, from paddleboard & floating on the surface',\n",
       "       'Resting on surfboard', 'Lying on surfboard & paddling',\n",
       "       'Scuba diving & spearfishing',\n",
       "       'Wading, knocked down & swept away by large waves',\n",
       "       \"Fishing, stepped on hooked shark's head\",\n",
       "       'Hookah diving for abalone (descending)', 'Feeding fish',\n",
       "       'Windsurfing (urinating on his board)',\n",
       "       'Surfing (lying prone on his board)',\n",
       "       'Scuba diving, but swimming on surface', 'Surfing with dolphins',\n",
       "       'The Christie V sank on 11/6/1988, survivors were adrift on a dinghy',\n",
       "       'Sittting in water with his child', 'Surfing / treading water',\n",
       "       'pêcheur de bichiques', 'Lying atop surfboard',\n",
       "       \"Attempting to lasso shark's tail\",\n",
       "       'Free diving  & spearfishing (submerged)', 'Racing ski',\n",
       "       'Hookah diving for abalone', 'Free diving for scallops',\n",
       "       'Scuba Diving for lobster (at surface)',\n",
       "       'Sailing on catamaran & fell into the water',\n",
       "       'Surfing or body surfing', 'Free diving , but surfacing',\n",
       "       'Skindiving',\n",
       "       \"During a shark fishing tournament, the 18' Boatem was capsized by waves, throwing 3 men into the water \",\n",
       "       'Towing her sister on plastic ski board',\n",
       "       'Swimming from the New Venture ',\n",
       "       '14 m prawn trawler New Venture capsized  & sank in heavy seas Three people in the water',\n",
       "       'Surfing & dangling foot in water amid baitfish', 'Water-skiing',\n",
       "       'Paddleskiing', 'Free diving for abalone from Zodiac (submerged)',\n",
       "       'Paddle Boarding', 'Snorkeling on surface', 'Shell diving',\n",
       "       'Standing / Wading', 'Free diving Spearfishing',\n",
       "       'Sinking of the ferryboat Don Juan', 'Hookah Diving',\n",
       "       'Floating with life preserver after his boat foundered',\n",
       "       'Fishing for mackerel',\n",
       "       'Swimming, after single-engine aircraft went down in the sea',\n",
       "       'Free diving for abalone (surfacing)', \"40' fishing boat sank\",\n",
       "       'Spearfishing / Scuba diving',\n",
       "       'Hookah diving for abalone (submerged)',\n",
       "       'Thrashing the water / imitating the shark victim from \"Jaws\"',\n",
       "       'Fishing for snoek & yellowtail',\n",
       "       'Floating on a small orange raft ', 'Scuba diving for abalone',\n",
       "       'Scuba diving for abalone (at surface)',\n",
       "       'Spearfishing Competition',\n",
       "       'Swimming underwater from crayfish cage to a fishing bait',\n",
       "       'Free diving (but on surface)', 'Fishing for kob',\n",
       "       'Swimming alongside yacht Mexico Fiesta',\n",
       "       'Free diving, Spearfishing', 'Sitting in shallows',\n",
       "       'Scuba diving & feeding fish', 'Fishing for prawns',\n",
       "       'Sea Disaster Sinking of ferryboat Christina',\n",
       "       'Washing cooking pans',\n",
       "       'Fishing, trying to catch the end of his fishing line',\n",
       "       'Freediving for abalone (at surface)', 'Surf-fishing',\n",
       "       'Freediving', 'Feeding mullet to sharks',\n",
       "       'Playing with a frisbee in the shallows', 'Leaving the water',\n",
       "       'Dynamite fishing', 'Spearfishing using Scuba', 'Clamming',\n",
       "       'Wading & pushing dinghy toward  the shallows',\n",
       "       'Standing on sandbar', 'Pulling shark from the water',\n",
       "       'Spearfishing, dived to pick up a float line',\n",
       "       'Anti-sabotage night dive exercise alongside destroyer (Scuba diving)',\n",
       "       'Photographing sharks underwater using Scuba',\n",
       "       'Beach seine netting', 'Feeding a shark',\n",
       "       'The shrimper Loless Maurine capsized in heavy seas & the men were swimming ashore  ',\n",
       "       'Free diving, carrying speargun', 'Diving into water',\n",
       "       'Lobster diving using Scuba', 'Spearfishing on Scuba',\n",
       "       'Killing a shark', 'Sinking of the dredge World Atlas',\n",
       "       'Helping men land a shark', 'Body surfing ',\n",
       "       'Argentine Air Force C-54', 'Fishing (rod & line)',\n",
       "       'Walking on reef', 'Aircraft exploded', 'Paddling rescue ski',\n",
       "       'Canoe swamped, swimming back to canoe', 'Free diving with seals',\n",
       "       'Swimming out to rescue swimmers in difficulty',\n",
       "       'Longline fishing', 'Boat Miss Becky  sank 12 miles from shore',\n",
       "       'Surfing, but swimming to his board',\n",
       "       'Floating on his back in an inner tube',\n",
       "       'Spearfishing using scuba',\n",
       "       'Attempting to swim across the Atlantic Ocean', 'Skin diving ',\n",
       "       'preparing to go skin diving', 'Shark watching',\n",
       "       'Spearfishing / Scuba diving (at surface)',\n",
       "       'Helping friend land hooked shark', 'Splashing in surf',\n",
       "       'Treading water while alongside capsized yacht',\n",
       "       'Fishing / standing in waist deep water', 'Spearing fish',\n",
       "       'Testing anti-shark cage', 'Surf fishing, wading ',\n",
       "       'Spearfishing, pulled shark\\x92s tail',\n",
       "       'The 500-ton coastal trader Polurrian foundered ',\n",
       "       'Free diving, hunting crayfish', 'Spearfishing with Scuba gear',\n",
       "       'Surf fishing in waist-deep water', 'Finning the shark',\n",
       "       'Fishing for albacore', 'Playing in surf with his child  (9)',\n",
       "       'Dived from inner-tube', 'On a \"shark hunt\"', 'Rolled off raft',\n",
       "       'Escaping from Alacatraz', 'Washing',\n",
       "       'Scuba diving, attempting to catch a captive shark', 'Splashing ',\n",
       "       'Fishing, slipped on rocks & fell into sea',\n",
       "       \"Fishing with hand net in 2' of water\",\n",
       "       'Surfing, pushing board ashore',\n",
       "       'Swimming with other crew near wharf',\n",
       "       'Free diving, surveying a pipeline & examing cathodes under jetty',\n",
       "       'Net fishing, picking catch from the net',\n",
       "       'Scuba diving & spearfishing ', 'Walking in chest-deep water',\n",
       "       'Checking fish traps, fell into the water',\n",
       "       'Swimming, using bundles of sticks as raft', 'Floating on back',\n",
       "       'Spearfishing, shark grabbed his white t-shirt and towed him ',\n",
       "       'Collecting aquarium specimens',\n",
       "       'Fishing, when line became snagged on rock & he dived into water to free it ',\n",
       "       'Chasing shark out of bathing area while riding on a surf-ski',\n",
       "       'Ejected from F3H-2 aircraft ', 'Free diving / Spearfishing',\n",
       "       'Swimming 3 miles offshore', 'Standing in knee-deep water',\n",
       "       'Holding shark on leader & dangling it above the water',\n",
       "       'Fishing, tossing netted shark onboard',\n",
       "       'Diving for shells, saw shark circling wife near the surface, intercepted shark & it pulled him beneath the water',\n",
       "       'Spearfishing, free diving, possibly ascended into path of cruising shark',\n",
       "       'Free diving but treading water at surface',\n",
       "       'Skindiving for abalone (but at surface)',\n",
       "       'Speared a grouper, saw shark but it came for him instead of the fish so he fired spear into shark\\x92s mouth. Then shark took grouper but unable to swallow because of the spear in its mouth.',\n",
       "       'Spearfishing, carrying fish on belt',\n",
       "       'Wading, fishing for flounder',\n",
       "       'S2F-1 airplane crashed immediately after carrier take-off',\n",
       "       'Setting crayfish pots',\n",
       "       'Dived from dinghy to retrieve oar in heavy seas',\n",
       "       'ship M.V. Rizal sank during typhoon', 'Fishing for snapper',\n",
       "       'Standing in chest-deep water',\n",
       "       'Trailing the field in a surf race',\n",
       "       'National Airlines DC7B enroute from Miami to Los Angeles with 42 or 46 people on board went down in heavy fog',\n",
       "       \"Adrift, hanging onto cushion, after his 17' skiff ran out of gas & capsized 3 miles from shore\",\n",
       "       'Pulling hooked salmon to boat',\n",
       "       'The 240-ton motor vessel Pilar II with 100 people on board capsized in high winds & rough seas',\n",
       "       'Fishing boat capsized ', 'Pulling anchor',\n",
       "       'Spearfishing (but on surface)', 'Bathing with sister',\n",
       "       'Working prawn net', 'In deep water about 100 yards from his ship',\n",
       "       'Surfing, but treading water',\n",
       "       'Swimming ashore from fishing boat swamped and sunk by a squall',\n",
       "       'Surfing on air mattress', 'Cleaning hull of ship ',\n",
       "       '\"Climbing up to ship after repairing the stern in water\"',\n",
       "       'Boat stopped to repair electric pump',\n",
       "       'Swimming, ducking for shells in water 0.9 m deep',\n",
       "       'Spearfishing, had fish on his spear',\n",
       "       'Paddling in knee-deep water', 'Swimming with goggles',\n",
       "       'Competing in spearfishing championship & towing dead fish',\n",
       "       'Swimming between  anchored  pearling luggers',\n",
       "       'Skindiving, fish at belt', 'Swimming near pier',\n",
       "       'Free diving for crayfish', 'Floating in inner tube',\n",
       "       'Swimming, attacked at  surf carnival', 'Hunting turtle',\n",
       "       \"Competing in U/W endurance record, standing beside drum in 10' of water\",\n",
       "       'Hunting lobsters in 2.4 m of water',\n",
       "       'Crossing the bay at the ford', 'Swimming near canoe',\n",
       "       'Fishing trawler Flavio Gioia ',\n",
       "       'Pearl diving from lugger Whyalla', 'Crouching in the water',\n",
       "       'Swimming or wading out  to warn bathers that a shark had been seen',\n",
       "       'Accidentally dragged overboard from the sampan Holokahana into school of yellowfin tuna',\n",
       "       'Fishing, setting nets', 'Body surfing & treading water',\n",
       "       'Spearfishing, carrying fish on spear', 'Fishing for white sharks',\n",
       "       'Fishing for squid', 'Fell off surf ski',\n",
       "       'Body surfing / treading water',\n",
       "       'Jerked overboard while pole fishing for tuna',\n",
       "       'Survived crash of two-engine  C-46 transport plane carrying 62 migrant workers from Puerto Rico to USA ',\n",
       "       'Fishing, one of three fishermen swept into the sea by a large wave ',\n",
       "       'Bathing ', 'Free diving or wading back to shore',\n",
       "       'Swimming near shore', 'Bathing in water 0.9 m deep',\n",
       "       'Lifesaving exhibition', 'Treading water, waiting for a wave',\n",
       "       'Underwater photography', 'Fishing / diving',\n",
       "       'Fishing from surf ski', 'Swimming after a tennis ball',\n",
       "       'Jumping in swells',\n",
       "       '90 European civilians, many women & children, were placed on the deck of a Japanese submarine that submerged when it was well offshore',\n",
       "       'Dived overboard to check propeller of US Navy motor torpedo boat',\n",
       "       'The 3540-ton Alfonso Penna was torpedoed & sunk by the Italian submarine Barbarigo',\n",
       "       'Dog paddling or standing',\n",
       "       'U-177 torpedoed & sank the troopship Nova Scotia',\n",
       "       'Swimming along side N.E.L. vessel Saluda', 'Fishing for tuna',\n",
       "       \"Fishing from 32' boat\", 'Seine netting', 'Standing on sandbank',\n",
       "       'Dress diving, filming shark & pulling it through the water for a motion picture scene',\n",
       "       'Swimming, naked', 'Diving off jetty',\n",
       "       'Diving from the lugger San, operated by the Protector of the Aborigines',\n",
       "       'Refused permission to cross on the ferry, he was swimming across the river',\n",
       "       \"12 of the Penang's crew were returning to the ship when their 12' dinghy capsized\",\n",
       "       'Swimming crawl stroke', 'Fishing for bluefish',\n",
       "       'Diving for trochus',\n",
       "       'Swimming. Passer-by, Len Bedford, heard him shriek , saw shark leap from the water & swimmer disappeared',\n",
       "       'Fell overboard, hanging onto lifebuoy',\n",
       "       'Diving from dinghy for trochus shell',\n",
       "       'Surfing (pneumatic surfboard)', 'Splashing',\n",
       "       'Swimming (lead swimmer in race)',\n",
       "       'Taken as he dived into the water', 'Swimming & splashing',\n",
       "       'Swimming in waist-deep water ', 'Swimming in hip-deep water',\n",
       "       'Splashing in water ', 'Swimming on sandbar adjacent to channel',\n",
       "       'Collecting fish by lamplight in gully', 'Diving off wharf',\n",
       "       'Swimming / floating', 'Diving off pier & treading water',\n",
       "       'Standing in waist-deep water', 'Jumped overboard and swimming',\n",
       "       'Italian liner Principessa Mafalda sank',\n",
       "       'British patrol boat 1250-ton HMS  Valerian foundered in a hurricane',\n",
       "       'Bathing in waist-deep water', 'Removing shark from a net',\n",
       "       'Fishing, fell in water & swimming strongly to shore',\n",
       "       \"Bathing in 5' of water\",\n",
       "       'Had just dived into water & was swimming', 'Diving?',\n",
       "       \"Bathing in 3' to 4' of water\", 'Bathing in knee-deep water',\n",
       "       \"Fell from his father's back into the water\",\n",
       "       'Wading to dinghy, carrying his son',\n",
       "       'Dived into a school of baitfish', 'Floating face down',\n",
       "       '\"Swimming vigorously\"', 'Wading (shrimping)',\n",
       "       'Wreck of the tug Magellan', 'Ship Mariston torpedoed & sunk',\n",
       "       'Taking wife to beach & about 1 m from the shore',\n",
       "       'Swimming 10 m from shore', 'Fishing boat',\n",
       "       'Jumped overboard to rescue companion', 'Surf bathing',\n",
       "       'Fell overboard while fishing for sharks',\n",
       "       'Diving, retrieving fish caught in net ', 'Washing horses',\n",
       "       'Floating or standing', 'Standing, gathering oysters',\n",
       "       'Fell into the water', 'Swimming at side of small boat',\n",
       "       'Wading after stray fish from seine netter\\x92s catch',\n",
       "       'Shipwreck', '\"Crossing the river\"',\n",
       "       'His balloon crashed in the harbor',\n",
       "       'Boat capsized, swimming ashore', 'Fleeing across a river',\n",
       "       'boat capsized', 'The steamships Thingvalla and Geiser collided',\n",
       "       'The passenger ship Kapuna was run down the ore carrier Ada Melmore',\n",
       "       'Fell overboard', 'Swimming to retrieve a flannel',\n",
       "       'Bathing in river',\n",
       "       'Fleet of canoes caught by a squall and charged by sharks.',\n",
       "       'Swimming alongside the schooner Catherine Wilcox',\n",
       "       'Reaching for life preserver',\n",
       "       'Bathing near whaling ship (bark A. R. Tucker of New Bedford, Massachusetts)',\n",
       "       'Swimming alongside the SS Kearsarge',\n",
       "       'Bathing alongside the American ship Thomas W. Sears',\n",
       "       'Gloucester fishing schooner run down',\n",
       "       'Wreck of the steamship Birkenhead', 'Washing his feet',\n",
       "       'Washing a dog', 'Fell overboard from the ship Gem', 'Conch diver',\n",
       "       'Shark tagging',\n",
       "       'Fishing from a small boat & put his hand in the water while holding a dead fish',\n",
       "       'Swimming naked near a date palm where many dates fell into the water',\n",
       "       'Swimming in section of river used for washing clothes & cooking utensils',\n",
       "       'A group of survivors on a raft for 17-days'], dtype=object)"
      ]
     },
     "execution_count": 63,
     "metadata": {},
     "output_type": "execute_result"
    }
   ],
   "source": [
    "#Getting the unique values\n",
    "sh_copy['activity'].unique()"
   ]
  },
  {
   "cell_type": "code",
   "execution_count": 64,
   "metadata": {},
   "outputs": [],
   "source": [
    "#Creating a dictionary to replace the values (again, sorry for the long dictionary)\n",
    "rule_replace = {'(?i).*Swimming.*' : 'Swimming',\n",
    "                '(?i).*swim.*' : 'Swimming',\n",
    "                '(?i).*Fishing.*' : 'Fishing',\n",
    "                '(?i).*fish.*' : 'Fishing',\n",
    "                '(?i).*Surfing.*' : 'Surfing',\n",
    "                '(?i).*Bathing.*' : 'Swimming',\n",
    "                '(?i).*Diving.*' : 'Diving',\n",
    "                '(?i).*Standing.*' : 'Standing',\n",
    "                '(?i).*Snorkeling.*' : 'Diving',\n",
    "                '(?i).*Wading.*' : 'Wading',\n",
    "                '(?i).*Scuba.*' : 'Diving',\n",
    "                '(?i).*Body.*' : 'Surfing',\n",
    "                '(?i).*Kayaking.*' : 'Kayaking',\n",
    "                '(?i).*Windsurfing.*' : 'Surfing',\n",
    "                '(?i).*Paddle.*' : 'Surfing',\n",
    "                '(?i).*Floating.*' : 'Swimming',\n",
    "                '(?i).*Rowing.*' : 'Sailing',\n",
    "                '(?i).*Canoeing.*' : 'Sailing',\n",
    "                '(?i).*Boogie.*' : 'Surfing',\n",
    "                '(?i).*Sailing.*' : 'Sailing',\n",
    "                '(?i).*Fell.*' : 'Swimming',\n",
    "                '(?i).*Walking.*' : 'Walking',\n",
    "                '(?i).*Boating.*' : 'Sailing',\n",
    "                '(?i).*surf.*' : 'Surfing',\n",
    "                '(?i).*SUP.*' : 'Surfing',\n",
    "                '(?i).*Fell.*' : 'Swimming',\n",
    "                '(?i).*Freediving.*' : 'Diving',\n",
    "                '(?i).*boardin.*' : 'Surfing',\n",
    "                '(?i).*snorkeling.*' : 'Diving',\n",
    "                '(?i).*cast.*' : 'Fishing',\n",
    "                '(?i).*cleaning.*' : 'Fishing',\n",
    "                '(?i).*disaster.*' : 'Swimming',\n",
    "                '(?i).*ski.*' : 'Surfing',\n",
    "                '(?i).*shark.*' : 'Messing with Sharks',\n",
    "                '(?i).*water.*' : 'Swimming',\n",
    "                '(?i).*playing.*' : 'Playing',\n",
    "                '(?i).*dive.*' : 'Diving',\n",
    "                '(?i).*float.*' : 'Swimming',\n",
    "                '(?i).*clean.*' : 'Shore Activity',\n",
    "                '(?i).*spear.*' : 'Fishing',\n",
    "                '(?i).*sink.*' : 'Swimming',\n",
    "                '(?i).*sank.*' : 'Swimming',\n",
    "                '(?i).*sunk.*' : 'Swimming',\n",
    "                '(?i).*wreck.*' : 'Swimming',\n",
    "                '(?i).*crash.*' : 'Swimming',\n",
    "                '(?i).*aircraft.*' : 'Swimming',\n",
    "                '(?i).*waves.*' : 'Shore Activity',\n",
    "                '(?i).*sea.*' : 'Swimming',\n",
    "                '(?i).*raft.*' : 'Swimming',\n",
    "                '(?i).*towing.*' : 'Swimming',\n",
    "                '(?i).*air.*' : 'Swimming',\n",
    "                '(?i).*wash.*' : 'Shore Activity',\n",
    "                '(?i).*collect.*' : 'Fishing',\n",
    "                '(?i).*boat.*' : 'Sailing',\n",
    "                '(?i)Pulling.*' : 'Fishing',\n",
    "                '(?i).*net.*' : 'Fishing',\n",
    "                '(?i).*Beach.*' : 'Shore Activity',\n",
    "                '(?i).*founder.*' : 'Sailing',\n",
    "                '(?i).*hunt.*' : 'Fishing',\n",
    "                '(?i).*overboard.*' : 'Swimming',\n",
    "                '(?i).*ship.*' : 'Sailing',\n",
    "                '(?i).*river.*' : 'Swimming',\n",
    "                'pêcheur de bichiques' : 'Fishing',\n",
    "                'Kakaying' : 'Kayaking',\n",
    "                '(?i).*cross.*' : 'Swimming',\n",
    "                '(?i).*swell.*' : 'Swimming',\n",
    "                'Splashing' : 'Shore Activity',\n",
    "                '(?i).*reach.*' : 'Swimming',\n",
    "                '(?i).*submarine.*' : 'Swimming',\n",
    "                }"
   ]
  },
  {
   "cell_type": "code",
   "execution_count": 65,
   "metadata": {},
   "outputs": [],
   "source": [
    "#Apllying the dictionary to the column\n",
    "sh_copy['activity'] = sh_copy['activity'].replace(rule_replace, regex=True)"
   ]
  },
  {
   "cell_type": "code",
   "execution_count": 66,
   "metadata": {},
   "outputs": [
    {
     "data": {
      "text/plain": [
       "array(['Paddling', 'Surfing', 'Swimming', 'Walking', 'Standing',\n",
       "       'Messing with Sharks', 'Fishing', 'Diving', 'Wading', nan,\n",
       "       'Kayaking', 'Playing', 'Sailing', 'Shore Activity', 'Rescuing',\n",
       "       'Paddling on kneeboard', 'Crawling', 'Crabbing', 'Jumping',\n",
       "       'Murder', 'Shrimping', 'Lifesaving drill', 'Sitting in shallows',\n",
       "       'Clamming', 'Escaping from Alacatraz', 'Shore Activity ',\n",
       "       'Lifesaving exhibition'], dtype=object)"
      ]
     },
     "execution_count": 66,
     "metadata": {},
     "output_type": "execute_result"
    }
   ],
   "source": [
    "#Getting the new uniques to check if everything is ok\n",
    "sh_copy['activity'].unique()"
   ]
  },
  {
   "cell_type": "code",
   "execution_count": 67,
   "metadata": {},
   "outputs": [
    {
     "data": {
      "text/plain": [
       "activity\n",
       "Surfing                    1001\n",
       "Swimming                    722\n",
       "Fishing                     430\n",
       "Diving                      241\n",
       "Wading                      114\n",
       "Standing                     84\n",
       "Messing with Sharks          32\n",
       "Kayaking                     28\n",
       "Sailing                      23\n",
       "Walking                      19\n",
       "Shore Activity                8\n",
       "Playing                       7\n",
       "Lifesaving drill              4\n",
       "Jumping                       3\n",
       "Clamming                      2\n",
       "Paddling                      2\n",
       "Escaping from Alacatraz       2\n",
       "Shore Activity                2\n",
       "Sitting in shallows           1\n",
       "Rescuing                      1\n",
       "Shrimping                     1\n",
       "Murder                        1\n",
       "Crabbing                      1\n",
       "Crawling                      1\n",
       "Paddling on kneeboard         1\n",
       "Lifesaving exhibition         1\n",
       "Name: count, dtype: int64"
      ]
     },
     "execution_count": 67,
     "metadata": {},
     "output_type": "execute_result"
    }
   ],
   "source": [
    "#Getting the new value counts\n",
    "sh_copy['activity'].value_counts()"
   ]
  },
  {
   "cell_type": "code",
   "execution_count": 68,
   "metadata": {},
   "outputs": [],
   "source": [
    "#Filling the nan values with the most common value\n",
    "sh_copy['activity'].fillna(value='Surfing', inplace=True)"
   ]
  },
  {
   "cell_type": "code",
   "execution_count": 69,
   "metadata": {},
   "outputs": [
    {
     "data": {
      "image/png": "[encoded data removed]",
      "text/plain": [
       "<Figure size 640x480 with 1 Axes>"
      ]
     },
     "metadata": {},
     "output_type": "display_data"
    }
   ],
   "source": [
    "#Plotting the top 10 activities with most attacks\n",
    "sh_copy['activity'].value_counts().sort_values(ascending=False).head(10).plot(kind='bar')\n",
    "plt.xlabel('Activity')\n",
    "plt.ylabel('Number of Attacks')\n",
    "plt.title('Top 20 Activities with Most Attacks')\n",
    "plt.style.use('seaborn-deep')\n",
    "plt.show()"
   ]
  },
  {
   "cell_type": "markdown",
   "metadata": {},
   "source": [
    "From the plot, we can see that the two most common activities that suffer attacks are surfing and swimming, followed by fishing. Something easy to understand as it represents being in the water and moving the way that the sharks seem to relationate to easy prey."
   ]
  },
  {
   "cell_type": "code",
   "execution_count": null,
   "metadata": {},
   "outputs": [],
   "source": []
  }
 ],
 "metadata": {
  "kernelspec": {
   "display_name": "base",
   "language": "python",
   "name": "python3"
  },
  "language_info": {
   "codemirror_mode": {
    "name": "ipython",
    "version": 3
   },
   "file_extension": ".py",
   "mimetype": "text/x-python",
   "name": "python",
   "nbconvert_exporter": "python",
   "pygments_lexer": "ipython3",
   "version": "3.11.5"
  }
 },
 "nbformat": 4,
 "nbformat_minor": 2
}
