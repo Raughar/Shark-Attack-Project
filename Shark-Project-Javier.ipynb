{
 "cells": [
  {
   "cell_type": "markdown",
   "metadata": {},
   "source": [
    "## Shark attacks"
   ]
  },
  {
   "cell_type": "markdown",
   "metadata": {},
   "source": [
    "The objective of this notebook is to clean and analyze the data and train a classification algorithim to predicct if an attack is going to be fatal or not"
   ]
  },
  {
   "cell_type": "markdown",
   "metadata": {},
   "source": [
    "-----------------------"
   ]
  },
  {
   "cell_type": "markdown",
   "metadata": {},
   "source": [
    "First we are going to do some data cleaning"
   ]
  },
  {
   "cell_type": "markdown",
   "metadata": {},
   "source": [
    "We are going to use the 'attacks.cvs' file because it has de information we need for this proyect"
   ]
  },
  {
   "cell_type": "code",
   "execution_count": 1,
   "metadata": {},
   "outputs": [],
   "source": [
    "import pandas as pd \n",
    "import numpy as np\n",
    "import matplotlib.pyplot as plt"
   ]
  },
  {
   "cell_type": "code",
   "execution_count": 2,
   "metadata": {},
   "outputs": [],
   "source": [
    "df  = pd.read_csv(r'/home/kotarum/Documentos/Mini_proyect/archive/attacks.csv', encoding='latin1')"
   ]
  },
  {
   "cell_type": "markdown",
   "metadata": {},
   "source": [
    "Now that we have our data let's have a look"
   ]
  },
  {
   "cell_type": "code",
   "execution_count": 3,
   "metadata": {},
   "outputs": [
    {
     "name": "stdout",
     "output_type": "stream",
     "text": [
      "      Case Number         Date    Year        Type    Country  \\\n",
      "0      2018.06.25  25-Jun-2018  2018.0     Boating        USA   \n",
      "1      2018.06.18  18-Jun-2018  2018.0  Unprovoked        USA   \n",
      "2      2018.06.09  09-Jun-2018  2018.0     Invalid        USA   \n",
      "3      2018.06.08  08-Jun-2018  2018.0  Unprovoked  AUSTRALIA   \n",
      "4      2018.06.04  04-Jun-2018  2018.0    Provoked     MEXICO   \n",
      "...           ...          ...     ...         ...        ...   \n",
      "25718         NaN          NaN     NaN         NaN        NaN   \n",
      "25719         NaN          NaN     NaN         NaN        NaN   \n",
      "25720         NaN          NaN     NaN         NaN        NaN   \n",
      "25721         NaN          NaN     NaN         NaN        NaN   \n",
      "25722          xx          NaN     NaN         NaN        NaN   \n",
      "\n",
      "                  Area                        Location     Activity  \\\n",
      "0           California     Oceanside, San Diego County     Paddling   \n",
      "1              Georgia  St. Simon Island, Glynn County     Standing   \n",
      "2               Hawaii                    Habush, Oahu      Surfing   \n",
      "3      New South Wales              Arrawarra Headland      Surfing   \n",
      "4               Colima                        La Ticla  Free diving   \n",
      "...                ...                             ...          ...   \n",
      "25718              NaN                             NaN          NaN   \n",
      "25719              NaN                             NaN          NaN   \n",
      "25720              NaN                             NaN          NaN   \n",
      "25721              NaN                             NaN          NaN   \n",
      "25722              NaN                             NaN          NaN   \n",
      "\n",
      "                  Name Sex   ...         Species   \\\n",
      "0          Julie Wolfe    F  ...      White shark   \n",
      "1      Adyson McNeely     F  ...              NaN   \n",
      "2          John Denges    M  ...              NaN   \n",
      "3                 male    M  ...        2 m shark   \n",
      "4       Gustavo Ramos     M  ...  Tiger shark, 3m   \n",
      "...                ...  ...  ...              ...   \n",
      "25718              NaN  NaN  ...              NaN   \n",
      "25719              NaN  NaN  ...              NaN   \n",
      "25720              NaN  NaN  ...              NaN   \n",
      "25721              NaN  NaN  ...              NaN   \n",
      "25722              NaN  NaN  ...              NaN   \n",
      "\n",
      "               Investigator or Source                       pdf  \\\n",
      "0                    R. Collier, GSAF      2018.06.25-Wolfe.pdf   \n",
      "1      K.McMurray, TrackingSharks.com    2018.06.18-McNeely.pdf   \n",
      "2      K.McMurray, TrackingSharks.com     2018.06.09-Denges.pdf   \n",
      "3                      B. Myatt, GSAF  2018.06.08-Arrawarra.pdf   \n",
      "4                           A .Kipper      2018.06.04-Ramos.pdf   \n",
      "...                               ...                       ...   \n",
      "25718                             NaN                       NaN   \n",
      "25719                             NaN                       NaN   \n",
      "25720                             NaN                       NaN   \n",
      "25721                             NaN                       NaN   \n",
      "25722                             NaN                       NaN   \n",
      "\n",
      "                                            href formula  \\\n",
      "0      http://sharkattackfile.net/spreadsheets/pdf_di...   \n",
      "1      http://sharkattackfile.net/spreadsheets/pdf_di...   \n",
      "2      http://sharkattackfile.net/spreadsheets/pdf_di...   \n",
      "3      http://sharkattackfile.net/spreadsheets/pdf_di...   \n",
      "4      http://sharkattackfile.net/spreadsheets/pdf_di...   \n",
      "...                                                  ...   \n",
      "25718                                                NaN   \n",
      "25719                                                NaN   \n",
      "25720                                                NaN   \n",
      "25721                                                NaN   \n",
      "25722                                                NaN   \n",
      "\n",
      "                                                    href Case Number.1  \\\n",
      "0      http://sharkattackfile.net/spreadsheets/pdf_di...    2018.06.25   \n",
      "1      http://sharkattackfile.net/spreadsheets/pdf_di...    2018.06.18   \n",
      "2      http://sharkattackfile.net/spreadsheets/pdf_di...    2018.06.09   \n",
      "3      http://sharkattackfile.net/spreadsheets/pdf_di...    2018.06.08   \n",
      "4      http://sharkattackfile.net/spreadsheets/pdf_di...    2018.06.04   \n",
      "...                                                  ...           ...   \n",
      "25718                                                NaN           NaN   \n",
      "25719                                                NaN           NaN   \n",
      "25720                                                NaN           NaN   \n",
      "25721                                                NaN           NaN   \n",
      "25722                                                NaN           NaN   \n",
      "\n",
      "      Case Number.2 original order Unnamed: 22 Unnamed: 23  \n",
      "0        2018.06.25         6303.0         NaN         NaN  \n",
      "1        2018.06.18         6302.0         NaN         NaN  \n",
      "2        2018.06.09         6301.0         NaN         NaN  \n",
      "3        2018.06.08         6300.0         NaN         NaN  \n",
      "4        2018.06.04         6299.0         NaN         NaN  \n",
      "...             ...            ...         ...         ...  \n",
      "25718           NaN            NaN         NaN         NaN  \n",
      "25719           NaN            NaN         NaN         NaN  \n",
      "25720           NaN            NaN         NaN         NaN  \n",
      "25721           NaN            NaN         NaN         NaN  \n",
      "25722           NaN            NaN         NaN         NaN  \n",
      "\n",
      "[25723 rows x 24 columns]\n"
     ]
    }
   ],
   "source": [
    "print(df)"
   ]
  },
  {
   "cell_type": "markdown",
   "metadata": {},
   "source": [
    "Now that we have our db let's standarize the header so we can work it better"
   ]
  },
  {
   "cell_type": "code",
   "execution_count": 4,
   "metadata": {},
   "outputs": [],
   "source": [
    "df.columns = df.columns.str.lower()\n",
    "df.columns = df.columns.str.lower().str.replace(\" \", \"_\").str.replace(\".\", \"_\").str.replace(\":\",\"_\")"
   ]
  },
  {
   "cell_type": "markdown",
   "metadata": {},
   "source": [
    "Let's see what type and how many columns we have:"
   ]
  },
  {
   "cell_type": "code",
   "execution_count": 5,
   "metadata": {},
   "outputs": [
    {
     "data": {
      "text/plain": [
       "case_number                object\n",
       "date                       object\n",
       "year                      float64\n",
       "type                       object\n",
       "country                    object\n",
       "area                       object\n",
       "location                   object\n",
       "activity                   object\n",
       "name                       object\n",
       "sex_                       object\n",
       "age                        object\n",
       "injury                     object\n",
       "fatal_(y/n)                object\n",
       "time                       object\n",
       "species_                   object\n",
       "investigator_or_source     object\n",
       "pdf                        object\n",
       "href_formula               object\n",
       "href                       object\n",
       "case_number_1              object\n",
       "case_number_2              object\n",
       "original_order            float64\n",
       "unnamed__22                object\n",
       "unnamed__23                object\n",
       "dtype: object"
      ]
     },
     "execution_count": 5,
     "metadata": {},
     "output_type": "execute_result"
    }
   ],
   "source": [
    "df.dtypes"
   ]
  },
  {
   "cell_type": "markdown",
   "metadata": {},
   "source": [
    "We have a lot of NaN and some columns will not be useful to this analysis because it does not have an influence in the fatal column, such us the pdf or the case number. Let's drop some columns!"
   ]
  },
  {
   "cell_type": "code",
   "execution_count": 6,
   "metadata": {},
   "outputs": [],
   "source": [
    "dropcolumns = ['unnamed__22', 'unnamed__23', 'date','area','pdf', 'href', 'investigator_or_source', 'href_formula', 'case_number_1', 'case_number_2', 'original_order', 'injury', 'age', 'name', 'case_number', 'location', 'year']\n",
    "# Remove leading and trailing whitespaces from column names\n",
    "df = df.drop(dropcolumns, axis=1)"
   ]
  },
  {
   "cell_type": "code",
   "execution_count": 7,
   "metadata": {},
   "outputs": [],
   "source": [
    "df = df.rename(columns={'fatal_(y/n)':'fatal', 'sex_':'sex', 'species_':'species'})"
   ]
  },
  {
   "cell_type": "markdown",
   "metadata": {},
   "source": [
    "Let's check the nulls and clean them"
   ]
  },
  {
   "cell_type": "code",
   "execution_count": 8,
   "metadata": {},
   "outputs": [
    {
     "data": {
      "text/plain": [
       "type        19425\n",
       "country     19471\n",
       "activity    19965\n",
       "sex         19986\n",
       "fatal       19960\n",
       "time        22775\n",
       "species     22259\n",
       "dtype: int64"
      ]
     },
     "execution_count": 8,
     "metadata": {},
     "output_type": "execute_result"
    }
   ],
   "source": [
    "df.isna().sum()"
   ]
  },
  {
   "cell_type": "code",
   "execution_count": 9,
   "metadata": {},
   "outputs": [
    {
     "data": {
      "text/plain": [
       "type           4\n",
       "country       50\n",
       "activity     544\n",
       "sex          565\n",
       "fatal        539\n",
       "time        3354\n",
       "species     2838\n",
       "dtype: int64"
      ]
     },
     "execution_count": 9,
     "metadata": {},
     "output_type": "execute_result"
    }
   ],
   "source": [
    "df = df.dropna(how='all')\n",
    "df.isna().sum()"
   ]
  },
  {
   "cell_type": "code",
   "execution_count": 10,
   "metadata": {},
   "outputs": [
    {
     "data": {
      "text/plain": [
       "type        0\n",
       "country     0\n",
       "activity    0\n",
       "sex         0\n",
       "fatal       0\n",
       "time        0\n",
       "species     0\n",
       "dtype: int64"
      ]
     },
     "execution_count": 10,
     "metadata": {},
     "output_type": "execute_result"
    }
   ],
   "source": [
    "df = df.dropna()\n",
    "df.isna().sum()"
   ]
  },
  {
   "cell_type": "markdown",
   "metadata": {},
   "source": [
    "Now we shouldn't have any nulls left, lets get to work with the column 'time'.\n",
    "\n",
    "This column has many diferent entries and variables, to have a better variance later we are going to group all cases in 6 categories:"
   ]
  },
  {
   "cell_type": "code",
   "execution_count": 11,
   "metadata": {},
   "outputs": [],
   "source": [
    "def convert_to_time_category(time_str):\n",
    "    if pd.isnull(time_str):  # Check if the value is missing\n",
    "        return 'Unknown'             # Return an empty string for missing values\n",
    "\n",
    "    if str(time_str).lower() in ['morning', 'afternoon', 'late afternoon', 'night', 'evening']:\n",
    "        return time_str.lower()\n",
    "    try:\n",
    "        time_dt = pd.to_datetime(time_str, format='%Hh%M', errors='raise')\n",
    "\n",
    "        if 6 <= time_dt.hour < 12:\n",
    "            return 'morning'\n",
    "        elif 12 <= time_dt.hour < 18:\n",
    "            return 'afternoon'\n",
    "        elif 18 <= time_dt.hour < 21:\n",
    "            return 'evening'\n",
    "        else:\n",
    "            return 'night'\n",
    "    except ValueError:\n",
    "        return 'Unknown'\n",
    "\n",
    "# Replace missing values with empty strings\n",
    "df['time'].fillna('Unknown', inplace=True)\n",
    "\n",
    "# Apply the convert_to_time_category() function to the 'time' column\n",
    "df['time'] = df['time'].apply(convert_to_time_category)"
   ]
  },
  {
   "cell_type": "markdown",
   "metadata": {},
   "source": [
    "Great! Let's see how the column time distributed just to check if something is wrong"
   ]
  },
  {
   "cell_type": "code",
   "execution_count": 12,
   "metadata": {},
   "outputs": [
    {
     "data": {
      "text/plain": [
       "<Axes: xlabel='time', ylabel='Count'>"
      ]
     },
     "execution_count": 12,
     "metadata": {},
     "output_type": "execute_result"
    },
    {
     "data": {
      "image/png": "[encoded data removed]",
      "text/plain": [
       "<Figure size 640x480 with 1 Axes>"
      ]
     },
     "metadata": {},
     "output_type": "display_data"
    }
   ],
   "source": [
    "import seaborn as sns\n",
    "\n",
    "\n",
    "sns.histplot(data=df, x='time')"
   ]
  },
  {
   "cell_type": "markdown",
   "metadata": {},
   "source": [
    "Now will be cleaning the column 'type'"
   ]
  },
  {
   "cell_type": "code",
   "execution_count": 13,
   "metadata": {},
   "outputs": [
    {
     "data": {
      "text/plain": [
       "array(['Boating', 'Unprovoked', 'Provoked', 'Invalid', 'Questionable',\n",
       "       'Boat', 'Sea Disaster'], dtype=object)"
      ]
     },
     "execution_count": 13,
     "metadata": {},
     "output_type": "execute_result"
    }
   ],
   "source": [
    "df['type'].unique()"
   ]
  },
  {
   "cell_type": "markdown",
   "metadata": {},
   "source": [
    "Less variables, better predictions"
   ]
  },
  {
   "cell_type": "code",
   "execution_count": 14,
   "metadata": {},
   "outputs": [
    {
     "data": {
      "text/plain": [
       "array(['Boating', 'Unprovoked', 'Provoked', 'Sea Disaster'], dtype=object)"
      ]
     },
     "execution_count": 14,
     "metadata": {},
     "output_type": "execute_result"
    }
   ],
   "source": [
    "df['type'] = df['type'].replace({'Boatomg' : 'Boating', 'Questionable' : 'Unprovoked', 'Boat' : 'Boating', 'Invalid' : 'Unprovoked'})\n",
    "df['type'].unique()"
   ]
  },
  {
   "cell_type": "code",
   "execution_count": 15,
   "metadata": {},
   "outputs": [
    {
     "data": {
      "text/plain": [
       "<Axes: xlabel='type', ylabel='Count'>"
      ]
     },
     "execution_count": 15,
     "metadata": {},
     "output_type": "execute_result"
    },
    {
     "data": {
      "image/png": "[encoded data removed]",
      "text/plain": [
       "<Figure size 640x480 with 1 Axes>"
      ]
     },
     "metadata": {},
     "output_type": "display_data"
    }
   ],
   "source": [
    "sns.histplot(data=df, x='type')"
   ]
  },
  {
   "cell_type": "markdown",
   "metadata": {},
   "source": [
    "Now will be cleaning the 'sex' column"
   ]
  },
  {
   "cell_type": "code",
   "execution_count": 16,
   "metadata": {},
   "outputs": [
    {
     "data": {
      "text/plain": [
       "array(['F', 'M', 'lli'], dtype=object)"
      ]
     },
     "execution_count": 16,
     "metadata": {},
     "output_type": "execute_result"
    }
   ],
   "source": [
    "df['sex'].unique()"
   ]
  },
  {
   "cell_type": "code",
   "execution_count": 17,
   "metadata": {},
   "outputs": [
    {
     "data": {
      "text/plain": [
       "array(['f', 'm', 'other'], dtype=object)"
      ]
     },
     "execution_count": 17,
     "metadata": {},
     "output_type": "execute_result"
    }
   ],
   "source": [
    "df['sex'] = df['sex'].str.lower().str.strip()\n",
    "df.loc[~df['sex'].isin(['f', 'm']), 'sex'] = np.nan\n",
    "df['sex'].fillna('default_value', inplace=True)\n",
    "df['sex'].replace({'default_value': 'other'}, inplace=True)\n",
    "\n",
    "df['sex'].unique()\n"
   ]
  },
  {
   "cell_type": "code",
   "execution_count": 18,
   "metadata": {},
   "outputs": [
    {
     "data": {
      "text/plain": [
       "<Axes: xlabel='sex', ylabel='Count'>"
      ]
     },
     "execution_count": 18,
     "metadata": {},
     "output_type": "execute_result"
    },
    {
     "data": {
      "image/png": "[encoded data removed]",
      "text/plain": [
       "<Figure size 640x480 with 1 Axes>"
      ]
     },
     "metadata": {},
     "output_type": "display_data"
    }
   ],
   "source": [
    "sns.histplot(data=df, x='sex')"
   ]
  },
  {
   "cell_type": "markdown",
   "metadata": {},
   "source": [
    "'country' is next and we are going to group by continent"
   ]
  },
  {
   "cell_type": "code",
   "execution_count": 19,
   "metadata": {},
   "outputs": [
    {
     "data": {
      "text/plain": [
       "array(['USA', 'BRAZIL', 'AUSTRALIA', 'ENGLAND', 'COSTA RICA', 'MALDIVES',\n",
       "       'SOUTH AFRICA', 'BAHAMAS', 'NEW CALEDONIA', 'CUBA', 'NEW ZEALAND',\n",
       "       'SPAIN', 'REUNION', 'INDONESIA', 'COLUMBIA', 'EGYPT',\n",
       "       'FRENCH POLYNESIA', 'ECUADOR', 'THAILAND', 'FRANCE', 'MEXICO',\n",
       "       'JAMAICA', 'ITALY', 'PAPUA NEW GUINEA', 'RUSSIA', 'SEYCHELLES',\n",
       "       'VIETNAM', 'MOZAMBIQUE', 'SCOTLAND', 'UNITED KINGDOM', 'TAIWAN',\n",
       "       'GUAM', 'CROATIA', 'PANAMA', 'SOLOMON ISLANDS', 'FIJI', 'TONGA',\n",
       "       'ST. MAARTIN', 'GRAND CAYMAN', 'VANUATU', 'VENEZUELA',\n",
       "       'MICRONESIA', 'TURKS & CAICOS', 'OKINAWA', 'MARSHALL ISLANDS',\n",
       "       'MAURITIUS', 'EGYPT / ISRAEL', 'HONG KONG', 'JAPAN', 'CHILE',\n",
       "       'SOUTH KOREA', 'ISRAEL', 'SENEGAL', 'NEW BRITAIN',\n",
       "       'JOHNSTON ISLAND', 'SOUTH PACIFIC OCEAN', 'PALAU',\n",
       "       'FEDERATED STATES OF MICRONESIA', 'GREECE', 'BRITISH WEST INDIES',\n",
       "       'MADAGASCAR', 'MID ATLANTIC OCEAN', 'PERSIAN GULF', 'BERMUDA',\n",
       "       'NORTH PACIFIC OCEAN', 'NICARAGUA ', 'AMERICAN SAMOA',\n",
       "       'ANDAMAN / NICOBAR ISLANDAS', 'PACIFIC OCEAN', 'ARGENTINA',\n",
       "       'SUDAN', 'EL SALVADOR', 'IRAQ', 'HAITI', 'INDIA'], dtype=object)"
      ]
     },
     "execution_count": 19,
     "metadata": {},
     "output_type": "execute_result"
    }
   ],
   "source": [
    "df['country'].unique()"
   ]
  },
  {
   "cell_type": "code",
   "execution_count": 20,
   "metadata": {},
   "outputs": [],
   "source": [
    "df['country'] = df['country'].str.upper()"
   ]
  },
  {
   "cell_type": "code",
   "execution_count": 21,
   "metadata": {},
   "outputs": [
    {
     "data": {
      "text/plain": [
       "array(['USA', 'BRAZIL', 'AUSTRALIA', 'ENGLAND', 'COSTA RICA', 'MALDIVES',\n",
       "       'SOUTH AFRICA', 'BAHAMAS', 'NEW CALEDONIA', 'CUBA', 'NEW ZEALAND',\n",
       "       'SPAIN', 'REUNION', 'INDONESIA', 'COLUMBIA', 'EGYPT',\n",
       "       'FRENCH POLYNESIA', 'ECUADOR', 'THAILAND', 'FRANCE', 'MEXICO',\n",
       "       'JAMAICA', 'ITALY', 'PAPUA NEW GUINEA', 'RUSSIA', 'SEYCHELLES',\n",
       "       'VIETNAM', 'MOZAMBIQUE', 'SCOTLAND', 'UNITED KINGDOM', 'TAIWAN',\n",
       "       'GUAM', 'CROATIA', 'PANAMA', 'SOLOMON ISLANDS', 'FIJI', 'TONGA',\n",
       "       'ST. MAARTIN', 'GRAND CAYMAN', 'VANUATU', 'VENEZUELA',\n",
       "       'MICRONESIA', 'TURKS & CAICOS', 'OKINAWA', 'MARSHALL ISLANDS',\n",
       "       'MAURITIUS', 'EGYPT / ISRAEL', 'HONG KONG', 'JAPAN', 'CHILE',\n",
       "       'SOUTH KOREA', 'ISRAEL', 'SENEGAL', 'NEW BRITAIN',\n",
       "       'JOHNSTON ISLAND', 'SOUTH PACIFIC OCEAN', 'PALAU',\n",
       "       'FEDERATED STATES OF MICRONESIA', 'GREECE', 'BRITISH WEST INDIES',\n",
       "       'MADAGASCAR', 'MID ATLANTIC OCEAN', 'PERSIAN GULF', 'BERMUDA',\n",
       "       'NORTH PACIFIC OCEAN', 'NICARAGUA', 'AMERICAN SAMOA',\n",
       "       'ANDAMAN / NICOBAR ISLANDAS', 'PACIFIC OCEAN', 'ARGENTINA',\n",
       "       'SUDAN', 'EL SALVADOR', 'IRAQ', 'HAITI', 'INDIA'], dtype=object)"
      ]
     },
     "execution_count": 21,
     "metadata": {},
     "output_type": "execute_result"
    }
   ],
   "source": [
    "df['country'] = df['country'].str.strip()\n",
    "df['country'].unique()"
   ]
  },
  {
   "cell_type": "code",
   "execution_count": 22,
   "metadata": {},
   "outputs": [],
   "source": [
    "df['country'].fillna(value='USA', inplace=True)"
   ]
  },
  {
   "cell_type": "code",
   "execution_count": 23,
   "metadata": {},
   "outputs": [],
   "source": [
    " country_mapping = {\n",
    "    'USA': 'North America',\n",
    "    'BRAZIL': 'South America',\n",
    "    'AUSTRALIA': 'Oceania',\n",
    "    'ENGLAND': 'Europe',\n",
    "    'SOUTH AFRICA': 'Africa',\n",
    "    'COSTA RICA': 'North America',\n",
    "    'MALDIVES': 'Asia',\n",
    "    'BAHAMAS': 'North America',\n",
    "    'CUBA': 'North America',\n",
    "    'MAURITIUS': 'Africa',\n",
    "    'NEW ZEALAND': 'Oceania',\n",
    "    'JAPAN': 'Asia',\n",
    "    'ST HELENA, BRITISH OVERSEAS TERRITORY': 'Africa',\n",
    "    'SPAIN': 'Europe',\n",
    "    'UNITED ARAB EMIRATES': 'Asia',\n",
    "    'MEXICO': 'North America',\n",
    "    'REUNION': 'Africa',\n",
    "    'INDONESIA': 'Asia',\n",
    "    'NEW CALEDONIA': 'Oceania',\n",
    "    'COLUMBIA': 'South America',\n",
    "    'EGYPT': 'Africa',\n",
    "    'FRENCH POLYNESIA': 'Oceania',\n",
    "    'FIJI': 'Oceania',\n",
    "    'DOMINICAN REPUBLIC': 'North America',\n",
    "    'ECUADOR': 'South America',\n",
    "    'MOZAMBIQUE': 'Africa',\n",
    "    'THAILAND': 'Asia',\n",
    "    'FRANCE': 'Europe',\n",
    "    'ISRAEL': 'Asia',\n",
    "    'JAMAICA': 'North America',\n",
    "    'ITALY': 'Europe',\n",
    "    'PAPUA NEW GUINEA': 'Oceania',\n",
    "    'RUSSIA': 'Europe',\n",
    "    'SEYCHELLES': 'Africa',\n",
    "    'TURKS & CAICOS': 'North America',\n",
    "    'TONGA': 'Oceania',\n",
    "    'SOUTH KOREA': 'Asia',\n",
    "    'VIETNAM': 'Asia',\n",
    "    'MADAGASCAR': 'Africa',\n",
    "    'UNITED ARAB EMIRATES (UAE)': 'Asia',\n",
    "    'PANAMA': 'North America',\n",
    "    'SCOTLAND': 'Europe',\n",
    "    'UNITED KINGDOM': 'Europe',\n",
    "    'TAIWAN': 'Asia',\n",
    "    'GUAM': 'Oceania',\n",
    "    'PHILIPPINES': 'Asia',\n",
    "    'CROATIA': 'Europe',\n",
    "    'SOLOMON ISLANDS': 'Oceania',\n",
    "    'ST. MAARTIN': 'North America',\n",
    "    'GRAND CAYMAN': 'North America',\n",
    "    'VANUATU': 'Oceania',\n",
    "    'MEXICO ': 'North America',\n",
    "    'VENEZUELA': 'South America',\n",
    "    'MICRONESIA': 'Oceania',\n",
    "    'OKINAWA': 'Asia',\n",
    "    'MARSHALL ISLANDS': 'Oceania',\n",
    "    'EGYPT / ISRAEL': 'Africa',\n",
    "    'HONG KONG': 'Asia',\n",
    "    'CHILE': 'South America',\n",
    "    'GRENADA': 'North America',\n",
    "    'IRAQ': 'Asia',\n",
    "    'BERMUDA': 'North America',\n",
    "    'SENEGAL': 'Africa',\n",
    "    'TURKEY': 'Asia',\n",
    "    'NEW BRITAIN': 'Oceania',\n",
    "    'PACIFIC OCEAN ': 'Oceania',\n",
    "    'PALAU': 'Oceania',\n",
    "    'FEDERATED STATES OF MICRONESIA': 'Oceania',\n",
    "    'GREECE': 'Europe',\n",
    "    'BRITISH WEST INDIES': 'North America',\n",
    "    'MID ATLANTIC OCEAN': 'Atlantic Ocean',\n",
    "    'PERSIAN GULF': 'Asia',\n",
    "    'NORTH PACIFIC OCEAN': 'Pacific Ocean',\n",
    "    'NICARAGUA ': 'North America',\n",
    "    'AMERICAN SAMOA': 'Oceania',\n",
    "    'KENYA': 'Africa',\n",
    "    'PACIFIC OCEAN': 'Oceania',\n",
    "    'NORTH ATLANTIC OCEAN ': 'Atlantic Ocean',\n",
    "    'THE BALKANS': 'Europe',\n",
    "    'ARGENTINA': 'South America',\n",
    "    'SUDAN': 'Africa',\n",
    "    'EL SALVADOR': 'North America',\n",
    "    'SAUDI ARABIA': 'Asia',\n",
    "    'SOUTH ATLANTIC OCEAN': 'Atlantic Ocean',\n",
    "    'IRAN': 'Asia',\n",
    "    'GUYANA': 'South America',\n",
    "    'HAITI': 'North America',\n",
    "    'IRELAND': 'Europe',\n",
    "    'MONTENEGRO': 'Europe',\n",
    "    'NICARAGUA': 'South America',\n",
    "    'EGYPT': 'Africa',\n",
    "    'YEMEN': 'Asia',\n",
    "    'CANADA': 'North America',\n",
    "    'INDIA': 'Asia',\n",
    "    'GUINEA': 'Africa',\n",
    "    'SRI LANKA': 'Asia',\n",
    "    'BARBADOS': 'North America',\n",
    "    'PUERTO RICO': 'South America',\n",
    "    'PALESTINIAN TERRITORIES': 'Asia',\n",
    "    'SAMOA': 'Oceania',\n",
    "    'SINGAPORE': 'Asia',\n",
    "    'JOHNSTON ISLAND': 'Asia',\n",
    "    'SOUTH PACIFIC OCEAN': 'Pacific Ocean',\n",
    "    'Atlantic Ocean': 'Atlantic Ocean',\n",
    "    'TANZANIA': 'Africa',\n",
    "    'ANDAMAN / NICOBAR ISLANDAS': 'Asia',\n",
    "    'SOLOMON ISLANDS / VANUATU': 'Oceania',\n",
    "    'ANDAMAN ISLANDS': 'Asia'\n",
    " }"
   ]
  },
  {
   "cell_type": "code",
   "execution_count": 24,
   "metadata": {},
   "outputs": [
    {
     "data": {
      "text/plain": [
       "array(['North America', 'South America', 'Oceania', 'Europe', 'Asia',\n",
       "       'Africa', 'Pacific Ocean', 'Atlantic Ocean'], dtype=object)"
      ]
     },
     "execution_count": 24,
     "metadata": {},
     "output_type": "execute_result"
    }
   ],
   "source": [
    "df['country'] = df['country'].replace(country_mapping)\n",
    "df['country'].unique()"
   ]
  },
  {
   "cell_type": "code",
   "execution_count": 25,
   "metadata": {},
   "outputs": [],
   "source": [
    "drop = ['Atlantic Ocean', 'Pacific Ocean', 'NORTH ATLANTIC OCEAN', 'CARIBBEAN SEA', 'RED SEA?']\n",
    "df = df[~df['country'].isin(drop)]"
   ]
  },
  {
   "cell_type": "code",
   "execution_count": 26,
   "metadata": {},
   "outputs": [
    {
     "data": {
      "image/png": "[encoded data removed]",
      "text/plain": [
       "<Figure size 1000x600 with 1 Axes>"
      ]
     },
     "metadata": {},
     "output_type": "display_data"
    }
   ],
   "source": [
    "x = df['country'].value_counts()\n",
    "plt.figure(figsize=(10, 6))\n",
    "sns.barplot(x=x.index, y=x.values)\n",
    "plt.xlabel('Continents')\n",
    "plt.ylabel('Count')\n",
    "plt.xticks(rotation=45)\n",
    "plt.show()"
   ]
  },
  {
   "cell_type": "markdown",
   "metadata": {},
   "source": [
    "Now the 'fatal' column"
   ]
  },
  {
   "cell_type": "code",
   "execution_count": 27,
   "metadata": {},
   "outputs": [
    {
     "data": {
      "text/plain": [
       "array(['N', 'Y', 'M', '2017', ' N', 'UNKNOWN'], dtype=object)"
      ]
     },
     "execution_count": 27,
     "metadata": {},
     "output_type": "execute_result"
    }
   ],
   "source": [
    "df['fatal'].unique()"
   ]
  },
  {
   "cell_type": "code",
   "execution_count": 28,
   "metadata": {},
   "outputs": [
    {
     "data": {
      "text/plain": [
       "fatal\n",
       "N          1424\n",
       "Y           254\n",
       " N            2\n",
       "M             1\n",
       "2017          1\n",
       "UNKNOWN       1\n",
       "Name: count, dtype: int64"
      ]
     },
     "execution_count": 28,
     "metadata": {},
     "output_type": "execute_result"
    }
   ],
   "source": [
    "df['fatal'].value_counts()"
   ]
  },
  {
   "cell_type": "code",
   "execution_count": 29,
   "metadata": {},
   "outputs": [],
   "source": [
    "fatal_column = {'M' : 'N',\n",
    "                'UNKNOWN' : 'N',\n",
    "                ' N' : 'N',\n",
    "                '2017' : 'N',}"
   ]
  },
  {
   "cell_type": "code",
   "execution_count": 30,
   "metadata": {},
   "outputs": [
    {
     "data": {
      "text/plain": [
       "array(['N', 'Y'], dtype=object)"
      ]
     },
     "execution_count": 30,
     "metadata": {},
     "output_type": "execute_result"
    }
   ],
   "source": [
    "df['fatal'] = df['fatal'].replace(fatal_column)\n",
    "df['fatal'].unique()"
   ]
  },
  {
   "cell_type": "code",
   "execution_count": 31,
   "metadata": {},
   "outputs": [
    {
     "data": {
      "image/png": "[encoded data removed]",
      "text/plain": [
       "<Figure size 1000x600 with 1 Axes>"
      ]
     },
     "metadata": {},
     "output_type": "display_data"
    }
   ],
   "source": [
    "x = df['fatal'].value_counts()\n",
    "plt.figure(figsize=(10, 6))\n",
    "sns.barplot(x=x.index, y=x.values)\n",
    "plt.xticks(rotation=45)\n",
    "plt.show()"
   ]
  },
  {
   "cell_type": "markdown",
   "metadata": {},
   "source": [
    "Now the 'activity'"
   ]
  },
  {
   "cell_type": "code",
   "execution_count": 32,
   "metadata": {},
   "outputs": [
    {
     "data": {
      "text/plain": [
       "array(['Paddling', 'Swimming', 'Walking', 'Feeding sharks', 'Fishing',\n",
       "       'Surfing', 'Scuba diving', 'Paddle-skiing',\n",
       "       'Stand-Up Paddleboarding', 'Wading', 'Spearfishing', 'Diving',\n",
       "       'Night bathing', 'Kayaking / Fishing', 'Kayaking', 'Snorkeling',\n",
       "       'SUP', 'Body boarding', 'Grabbing shark for a selfie',\n",
       "       'Scuba Diving', 'Surf skiing ', 'Surf fishing', 'Floating',\n",
       "       'SUP Foil boarding', 'Kite surfing', 'Floating in tube',\n",
       "       'Standing', 'Teasing a shark', 'Surf-skiing', 'Paddle boarding',\n",
       "       'Kayak Fishing', 'Kayak fishing', 'Scallop diving on hookah',\n",
       "       'Body boarding ', 'Playing in the water', 'Body Boarding',\n",
       "       'Boogie boarding', 'Playing', 'Standing / Snorkeling',\n",
       "       'Hand feeding sharks', 'Rowing', 'Shark fishing', 'Kayaking ',\n",
       "       'Fishing ', 'Body surfing', 'Kitesurfing', 'Kiteboarding',\n",
       "       'Diving for crayfish', 'Diving ', 'Swimming / snorkeling',\n",
       "       'Diving for Abalone', 'Casting a net',\n",
       "       'Longline fishing for sharks', 'Cleaning fish', 'Boogie Boarding',\n",
       "       'Playing in the surf', 'Kite boarding',\n",
       "       \"Fishing - 'tag & release'\", 'Bodyboarding',\n",
       "       'Swimming or boogie boarding', 'Free diving ',\n",
       "       'Sitting in the water',\n",
       "       'Attempting to rescue an injured & beached shark',\n",
       "       'Free diving / spearfishing', 'Diving, feeding sharks',\n",
       "       'Kite Surfing', 'Canoeing', 'Swimming or Snorkeling',\n",
       "       'Kite Boarding', 'Washing sand off a speared fish', 'Surfing ',\n",
       "       'Wakeboarding', 'Diving for abalone', 'Rescuing',\n",
       "       'Measuring sharks', 'Swimming / treading water',\n",
       "       'Surf fishing / wading', 'Wade Fishing', 'Paddle-surfing',\n",
       "       'Diving, but on the surface when bitten by the shark',\n",
       "       'Treading water', 'Swimming or surfing',\n",
       "       'Walking out of the water after surfing', 'Jet skiing',\n",
       "       \"Accidentally stood on hooked shark's tail before attempting to gut it \",\n",
       "       'Jumping', 'Floating near boat & observing bioluminesce',\n",
       "       'Jumped into the water', 'Reviving a sedated shark',\n",
       "       'Swimming / jumping off a jetty', 'Spearfishing (free diving)',\n",
       "       'Swimming / Body Surfing', 'Playing soccer in the water',\n",
       "       'Lifesaving drill', 'Fishing for sharks', 'Standing / Surfing',\n",
       "       'Holding onto an inflatable boat', 'Swimming with boogie board',\n",
       "       'Spearfishing (Free diving)', \"Crouching in 2' of water\",\n",
       "       'Diving in aquarium display tank', 'Fishing from a kayak',\n",
       "       'Scurfing (surfboard being  towed behind a boat)',\n",
       "       'Chumming for white sharks', 'Bathing',\n",
       "       'Wading / fishing & carrying a bag of fish',\n",
       "       'Swimming, poaching perlemoen', 'Free diving & spearfishing',\n",
       "       'Tandem surfing', 'Swimming to shore from boat or kayak',\n",
       "       'Wading near a fishing net', 'Standing, stepped on shark',\n",
       "       'Swimming, wearing black wetsuit & swim fins',\n",
       "       'Sitting on surfboard',\n",
       "       'Walking, carrying surfboard & stepped on shark',\n",
       "       'Swimming with pod of dolphins', 'Swimming (using a float)',\n",
       "       'Fishing from Surfboard', 'Boogie boarding or Surfing',\n",
       "       'Surf skiing', 'Wading, when he stepped on the shark',\n",
       "       'Shark Fishing', 'Snorkeling (filming the sardine run)',\n",
       "       'Floating on a raft', 'Fishing, removing the shark from his line',\n",
       "       'Scallop diving (using surface-supplied air & a POD) ',\n",
       "       'Surfing, but standing in water alongside board',\n",
       "       'Swimming / Wading', 'Body-boarding',\n",
       "       'Swimming /  boogie boarding',\n",
       "       'Surfing, fell off surfboard & stepped on the shark.',\n",
       "       'Wreck / Technical diving', 'Swimming ',\n",
       "       'Standing alongside surfboard',\n",
       "       'Swimming back from anchored sailboat', 'Swimming / Body surfing',\n",
       "       'Free diving', 'Windsurfing, but sitting on his board',\n",
       "       'Surfing / Wading',\n",
       "       'Spearfishing, holding mesh bag with speared fish',\n",
       "       'Spearfishing, but swimming at surface',\n",
       "       'Surfing, lying on surfboard', \"Lying prone in 2' of water\",\n",
       "       'Spearfishing & holding catch', 'Swimming with dolphins',\n",
       "       'Wading in school of baitfish', 'Splashing / wading',\n",
       "       'Windsurfing',\n",
       "       'Swimming after being swept into sea by a large wave',\n",
       "       'Swimming near pod of whales', 'Free diving for abalone',\n",
       "       'Towing rubber dinghy', 'Surfing (lying prone on his board)',\n",
       "       'Snorkeling \\x96 hunting crayfish and abalone',\n",
       "       'Swimming or paddle boarding',\n",
       "       'Scuba diving (submerged riding a scooter)',\n",
       "       'Body boarding or surfing', 'Surfing (sitting on his board)',\n",
       "       'Wading / Surfing', 'Spearfishing / night diving',\n",
       "       'Body surfing, stood up on sandbar', 'Surfing / Swimming',\n",
       "       'Wade fishing', 'Free diving with a pod of dolphins',\n",
       "       'Swimming breast stoke', 'Dived naked into the water on a bet',\n",
       "       'Swimming with mask & snorkel', 'Playing / standing',\n",
       "       'Abalone diving using Hookah (near calving whales)',\n",
       "       'Abalone diving using Hookah (resting on the surface)',\n",
       "       'Scuba diving (ascending using scooter)',\n",
       "       'Scuba diving for bivalves',\n",
       "       'Commercial diver (submerged or treading water)',\n",
       "       'Surfing, paddling seawards', 'Jumped off rocks into white water',\n",
       "       'Swimming alongside NOAA research vessel Discoverer',\n",
       "       'Hookah diving', 'Riding floatation device',\n",
       "       'Free diving for abalone (ascending)',\n",
       "       'Paddling on surfboard or body board',\n",
       "       'Scuba diving at seal colony', 'Paddling on surfboard',\n",
       "       'Free diving & spearfishing (ascending)', 'Sea disaster',\n",
       "       'Standing in waist-deep water, helping his father tend a gill net containing dead fish',\n",
       "       'Lying on surfboard', 'Spearfishing / free diving',\n",
       "       'Scuba diving (submerged)', 'Hookah diving for sea urchins',\n",
       "       'Hookah diving for pen shells ', 'Diving for pen shells',\n",
       "       'Fishing from rocks, swept out to sea by large wave & treading water',\n",
       "       'Finning the shark that bit him', 'Swimming behind sailboat',\n",
       "       'Surfing, collided with shark', 'Scuba diving (but on surface)',\n",
       "       'Free diving / spearfishing, from paddleboard & floating on the surface',\n",
       "       'Resting on surfboard', 'Lying on surfboard & paddling',\n",
       "       'Scuba diving & spearfishing',\n",
       "       \"Fishing, stepped on hooked shark's head\",\n",
       "       'Hookah diving for abalone (descending)', 'Feeding fish',\n",
       "       'Windsurfing (urinating on his board)',\n",
       "       'Scuba diving, but swimming on surface', 'Surfing with dolphins',\n",
       "       'Sittting in water with his child', 'Lying atop surfboard',\n",
       "       \"Attempting to lasso shark's tail\",\n",
       "       'Free diving  & spearfishing (submerged)', 'Racing ski',\n",
       "       'Hookah diving for abalone', 'Free diving for scallops',\n",
       "       'Scuba Diving for lobster (at surface)',\n",
       "       'Sailing on catamaran & fell into the water',\n",
       "       'Surfing or body surfing', 'Free diving , but surfacing',\n",
       "       'Skindiving', 'Towing her sister on plastic ski board',\n",
       "       'Swimming from the New Venture ',\n",
       "       '14 m prawn trawler New Venture capsized  & sank in heavy seas Three people in the water',\n",
       "       'Water-skiing', 'Paddleskiing',\n",
       "       'Free diving for abalone from Zodiac (submerged)',\n",
       "       'Paddle Boarding', 'Snorkeling on surface', 'Shell diving',\n",
       "       'Standing / Wading', 'Free diving Spearfishing', 'Hookah Diving',\n",
       "       'Free diving for abalone (surfacing)',\n",
       "       'Spearfishing / Scuba diving',\n",
       "       'Hookah diving for abalone (submerged)',\n",
       "       'Thrashing the water / imitating the shark victim from \"Jaws\"',\n",
       "       'Floating on a small orange raft ', 'Scuba diving for abalone',\n",
       "       'Scuba diving for abalone (at surface)',\n",
       "       'Spearfishing Competition',\n",
       "       'Swimming underwater from crayfish cage to a fishing bait',\n",
       "       'Free diving (but on surface)', 'Free diving, Spearfishing',\n",
       "       'Sitting in shallows', 'Scuba diving & feeding fish',\n",
       "       'Freediving for abalone (at surface)', 'Surf-fishing',\n",
       "       'Feeding mullet to sharks', 'Dynamite fishing',\n",
       "       'Spearfishing using Scuba',\n",
       "       'Wading & pushing dinghy toward  the shallows',\n",
       "       'Standing on sandbar', 'Pulling shark from the water',\n",
       "       'Spearfishing, dived to pick up a float line',\n",
       "       'Photographing sharks underwater using Scuba',\n",
       "       'Beach seine netting', 'Feeding a shark',\n",
       "       'Free diving, carrying speargun', 'Diving into water',\n",
       "       'Lobster diving using Scuba', 'Killing a shark', 'Clamming',\n",
       "       'Shipwreck', 'Helping men land a shark',\n",
       "       'Free diving / spearfishing (resting on the surface)',\n",
       "       'Freediving', 'Fishing (rod & line)', 'Walking on reef',\n",
       "       'Paddling rescue ski', 'Canoe swamped, swimming back to canoe',\n",
       "       'Free diving with seals', 'Surfing, but swimming to his board',\n",
       "       'Floating on his back in an inner tube',\n",
       "       'Spearfishing using scuba', 'Skin diving ',\n",
       "       'Spearfishing / Scuba diving (at surface)', 'Diving for sinkers',\n",
       "       'Sitting on gunwale of boat', 'Helping friend land hooked shark',\n",
       "       'Splashing in surf',\n",
       "       'Treading water while alongside capsized yacht',\n",
       "       'Fishing / standing in waist deep water',\n",
       "       'Testing anti-shark cage', 'Surf fishing, wading ',\n",
       "       'Spearing fish', 'Spearfishing, pulled shark\\x92s tail',\n",
       "       'Free diving, hunting crayfish', 'Spearfishing with Scuba gear',\n",
       "       'Surf fishing in waist-deep water', 'Finning the shark',\n",
       "       'Fishing for albacore', 'Rolled off raft', 'Washing',\n",
       "       'Scuba diving, attempting to catch a captive shark',\n",
       "       'Fishing for snappers & cleaning mullet. Put mullet over side of boat to wash it',\n",
       "       'Splashing ', \"Fishing with hand net in 2' of water\",\n",
       "       'Surfing, pushing board ashore',\n",
       "       'Swimming with other crew near wharf',\n",
       "       'Free diving, surveying a pipeline & examing cathodes under jetty',\n",
       "       'Net fishing, picking catch from the net',\n",
       "       'Walking in chest-deep water',\n",
       "       'Checking fish traps, fell into the water',\n",
       "       'Swimming, using bundles of sticks as raft',\n",
       "       'Spearfishing, shark grabbed his white t-shirt and towed him ',\n",
       "       'Collecting aquarium specimens',\n",
       "       'Fishing, when line became snagged on rock & he dived into water to free it ',\n",
       "       'Holding shark on leader & dangling it above the water',\n",
       "       'Fishing, tossing netted shark onboard',\n",
       "       'Free diving but treading water at surface',\n",
       "       'Skindiving for abalone (but at surface)',\n",
       "       'Speared a grouper, saw shark but it came for him instead of the fish so he fired spear into shark\\x92s mouth. Then shark took grouper but unable to swallow because of the spear in its mouth.',\n",
       "       'Spearfishing, carrying fish on belt',\n",
       "       'Wading, fishing for flounder',\n",
       "       'Fishing, lifting shark out of craypot', 'Fishing for snapper',\n",
       "       'Standing in chest-deep water',\n",
       "       'Trailing the field in a surf race',\n",
       "       \"Swimming at surface through school of feeding 2.5' to 5\\x92 sharks\",\n",
       "       \"Adrift, hanging onto cushion, after his 17' skiff ran out of gas & capsized 3 miles from shore\",\n",
       "       'Spearfishing (but on surface)', 'Working prawn net',\n",
       "       'In deep water about 100 yards from his ship',\n",
       "       'Surfing, but treading water', 'Surfing on air mattress',\n",
       "       'Cleaning hull of ship ',\n",
       "       '\"Climbing up to ship after repairing the stern in water\"',\n",
       "       'Swimming, ducking for shells in water 0.9 m deep',\n",
       "       'U.S. Airforce C124 enroute from Hickham Air Base to Japan went down. The 3 survivors fashioned raft from mailbags  & were rescued 3 days after the crash.',\n",
       "       'Spearfishing, had fish on his spear',\n",
       "       'Paddling in knee-deep water', 'Swimming with goggles',\n",
       "       'Competing in spearfishing championship & towing dead fish',\n",
       "       'Swimming between  anchored  pearling luggers',\n",
       "       'Skindiving, fish at belt', 'Swimming near pier',\n",
       "       'Swimming, attacked at  surf carnival',\n",
       "       'Hunting lobsters in 2.4 m of water',\n",
       "       'Pearl diving from lugger Whyalla', 'Crouching in the water',\n",
       "       'Fishing, setting nets', 'Body surfing & treading water',\n",
       "       'Spearfishing, carrying fish on spear', 'Swimming on surface',\n",
       "       'Fell overboard', 'Fell off surf ski',\n",
       "       'Body surfing / treading water',\n",
       "       'Jerked overboard while pole fishing for tuna', 'Bending over',\n",
       "       'Bathing ', 'Free diving or wading back to shore',\n",
       "       'Bathing in water 0.9 m deep', 'Lifesaving exhibition',\n",
       "       'Underwater photography', 'Fishing / diving',\n",
       "       'Swimming after a tennis ball', 'Jumping in swells',\n",
       "       'Dived overboard to check propeller of US Navy motor torpedo boat',\n",
       "       'Dog paddling or standing',\n",
       "       'U-177 torpedoed & sank the troopship Nova Scotia',\n",
       "       'Swimming along side N.E.L. vessel Saluda',\n",
       "       \"Fishing from 32' boat\",\n",
       "       'Dress diving, filming shark & pulling it through the water for a motion picture scene',\n",
       "       'Seine netting', 'Swimming, naked',\n",
       "       'Diving from the lugger San, operated by the Protector of the Aborigines',\n",
       "       'Refused permission to cross on the ferry, he was swimming across the river',\n",
       "       'Swimming crawl stroke', 'Diving for trochus',\n",
       "       'Swimming. Passer-by, Len Bedford, heard him shriek , saw shark leap from the water & swimmer disappeared',\n",
       "       'Fell overboard, hanging onto lifebuoy', 'Splashing',\n",
       "       'Swimming in waist-deep water ', 'Swimming in hip-deep water',\n",
       "       'Splashing in water ', 'Swimming on sandbar adjacent to channel',\n",
       "       'Collecting fish by lamplight in gully',\n",
       "       'Diving off pier & treading water', 'Standing in knee-deep water',\n",
       "       'Swimming with dog near canning factory', 'Floating on his back',\n",
       "       'Bathing in waist-deep water',\n",
       "       'Had just dived into water & was swimming',\n",
       "       \"Bathing in 3' to 4' of water\", 'Bathing in knee-deep water',\n",
       "       'Dived into a school of baitfish', 'Cutter capsized',\n",
       "       'Surf bathing', 'Washing horses', 'Floating or standing',\n",
       "       'Sailing', 'Swimming alongside the SS Kearsarge',\n",
       "       'Wreck of the steamship Birkenhead', 'Shark tagging',\n",
       "       'Swimming naked near a date palm where many dates fell into the water',\n",
       "       'Swimming in section of river used for washing clothes & cooking utensils'],\n",
       "      dtype=object)"
      ]
     },
     "execution_count": 32,
     "metadata": {},
     "output_type": "execute_result"
    }
   ],
   "source": [
    "df['activity'].unique()"
   ]
  },
  {
   "cell_type": "code",
   "execution_count": 33,
   "metadata": {},
   "outputs": [
    {
     "data": {
      "text/plain": [
       "activity\n",
       "Surfing                                                                     453\n",
       "Swimming                                                                    229\n",
       "Spearfishing                                                                123\n",
       "Fishing                                                                      70\n",
       "Wading                                                                       51\n",
       "                                                                           ... \n",
       "Wading / Surfing                                                              1\n",
       "Body boarding or surfing                                                      1\n",
       "Scuba diving (submerged riding a scooter)                                     1\n",
       "Swimming or paddle boarding                                                   1\n",
       "Swimming in section of river used for washing clothes & cooking utensils      1\n",
       "Name: count, Length: 394, dtype: int64"
      ]
     },
     "execution_count": 33,
     "metadata": {},
     "output_type": "execute_result"
    }
   ],
   "source": [
    "df['activity'].value_counts()"
   ]
  },
  {
   "cell_type": "code",
   "execution_count": 34,
   "metadata": {},
   "outputs": [],
   "source": [
    "df['activity'] = df['activity'].str.lower()\n",
    "df['activity'] = df['activity'].str.strip()"
   ]
  },
  {
   "cell_type": "markdown",
   "metadata": {},
   "source": [
    "In this case I will group the activities by related categories and try to have some coherent classes"
   ]
  },
  {
   "cell_type": "code",
   "execution_count": 35,
   "metadata": {},
   "outputs": [],
   "source": [
    "import re\n",
    "activity_mapping = {\n",
    "    'Water Activities': r'(surf|swim|dive|paddle|snorkel|kayak|float|skim|board|sail|kite|row)',\n",
    "    'Fishing Activities': r'(fish|angling)',\n",
    "    'Walking Activities': r'(walk|hike)',\n",
    "    'Sports Activities': r'(play|run|jump|cycle|climb)',\n",
    "    'Adventure Activities': r'(explore|adventure|trek)',\n",
    "    'Relaxing Activities': r'(relax|sunbathe|meditate|stroll)',\n",
    "    'Unknown Activities': r'.*'\n",
    "}\n",
    "df['activity'] = df['activity'].apply(lambda x: next((category for category, regex in activity_mapping.items() if re.search(regex, x, flags=re.IGNORECASE)), 'Unknown Activities'))"
   ]
  },
  {
   "cell_type": "code",
   "execution_count": 36,
   "metadata": {},
   "outputs": [
    {
     "data": {
      "text/plain": [
       "activity\n",
       "Water Activities      1075\n",
       "Unknown Activities     321\n",
       "Fishing Activities     261\n",
       "Sports Activities       16\n",
       "Walking Activities      10\n",
       "Name: count, dtype: int64"
      ]
     },
     "execution_count": 36,
     "metadata": {},
     "output_type": "execute_result"
    }
   ],
   "source": [
    "df['activity'].value_counts()"
   ]
  },
  {
   "cell_type": "code",
   "execution_count": 37,
   "metadata": {},
   "outputs": [
    {
     "data": {
      "image/png": "[encoded data removed]",
      "text/plain": [
       "<Figure size 1000x600 with 1 Axes>"
      ]
     },
     "metadata": {},
     "output_type": "display_data"
    }
   ],
   "source": [
    "x = df['activity'].value_counts()\n",
    "plt.figure(figsize=(10, 6))\n",
    "sns.barplot(x=x.index, y=x.values)\n",
    "plt.xticks(rotation=45)\n",
    "plt.show()"
   ]
  },
  {
   "cell_type": "markdown",
   "metadata": {},
   "source": [
    "Lastly, 'species'"
   ]
  },
  {
   "cell_type": "code",
   "execution_count": 38,
   "metadata": {},
   "outputs": [
    {
     "data": {
      "text/plain": [
       "array(['White shark', 'Tiger shark', \"Bull shark, 6'\", 'Grey reef shark',\n",
       "       'Invalid incident', 'Shark involvement not confirmed',\n",
       "       'Questionable', '3 m shark', 'White shark, 3.5 m',\n",
       "       'White shark, 2.5 m', 'Bull shark', \"Tiger shark, 12'\",\n",
       "       'Wobbegong shark', '3.5 m shark', '1.8 m shark',\n",
       "       'Juvenile white shark,  2.7 to 3.2 m', 'Bull shark, 2 m',\n",
       "       'Possibly a wobbegong', 'Bull shark, 3 m ', 'Grey reef shark. 2 m',\n",
       "       'small shark', 'White shark, 4.6 m', '2 m shark',\n",
       "       'Wobbegong shark, 1 m', 'White shark, 4.5 m',\n",
       "       'Spinner shark, 4 to 5 feet', 'Tiger shark, 8 to 10 feet',\n",
       "       \"8' shark\", \"5' shark\", \"4' to 5' shark\", \"5' to 6' shark\",\n",
       "       'White shark, 3 to 3.5m ', 'White shark, 3 m',\n",
       "       \"White shark, 5' to 7'\", 'Possibly a juvenile blacktip shark',\n",
       "       \"4' shark\", \"White shark, 10'\", \"Blue shark 6'\",\n",
       "       \"White shark, 11' to 13'\", \"White shark, 8' to 10'\",\n",
       "       \"White shark, 9'\", \"Bull shark, 4' to 5'\", 'Bull shark, 2m',\n",
       "       'White shark, 4 m', 'Seven-gill shark', \"Bull shark, 5' to 7'\",\n",
       "       'Bull shark, 1.5', 'Lemon shark pup', 'Bull shark, 4 m',\n",
       "       'Bull shark, 1 m', 'a small shark', 'Wobbegong shark, 2m',\n",
       "       'Broadnose sevengill shark, 1.5 m', \" 6' to 8' shark\",\n",
       "       \"3' to 4' shark\", \"Tiger shark, 10'\", 'Bull shark, 3.5 m',\n",
       "       \"Tiger shark, 10' \", 'Blue shark', 'reef shark, 1m',\n",
       "       \"White shark, 10' to 12'\", 'dogfish shark', 'Tawny nurse shark',\n",
       "       \"Caribbean reef shark, 4.5'\", \"3' to 5' shark\", \"3' shark\",\n",
       "       '3+ m shark', 'Mako shark', \"Blacktip shark, 4'\",\n",
       "       \"Nurse shark, 2'\", \"Mako shark, 1.5 m [5'] \",\n",
       "       'Grey reef shark, 2 m', 'Tiger shark, 2.5 m', 'Bronze whaler',\n",
       "       \"Reef shark, 5'\", 'Bull sharks x 2', \"Tiger shark, 14'\",\n",
       "       'Blacktip shark', \"9' shark\", \"Bronze whaler shark, 6'\",\n",
       "       'Galapagos shark', 'Bull shark, 2.8 to 3.1 m', \"Spinner shark, 5'\",\n",
       "       \"Tiger shark, 7'\", 'Hammerhead sp.', \"Tiger shark, 13' \",\n",
       "       \"Blacktip shark, 4' to 5'\", \"Blacktip shark, 5' to 6'\",\n",
       "       \"White shark, 19'\", 'juvenile shark', \"Tiger shark, 13'\",\n",
       "       \"6' shark\", \"White shark, 11' to 12'\", 'Hammerhead shark.',\n",
       "       \"White shark, 10' to 12' \", \"White shark, 13'\",\n",
       "       \"Hammerhead shark. 6' to 7'\", \"Blacktip or spinner shark, 4'\",\n",
       "       'White shark, 3.9 to 4.2 m', \"White shark, 7'\", \"6' to 7' shark\",\n",
       "       'White shark, 2m to 3 m', 'Sandtiger shark', \"Bull shark, 5'\",\n",
       "       'Bull shark, 2.5 m', '1m to 1.2 m shark', '3- to 4-foot shark',\n",
       "       'White shark, 6 m', 'Tiger shark, 8 to 12 feet',\n",
       "       'Tiger shark, 3.5 m', '3.5 to 4 m shark', '2 m to  3 m shark',\n",
       "       'Bull shark, 1.3 m', '5 m shark',\n",
       "       'White shark or oceanic whitetip shark',\n",
       "       'Raggedtooth shark, 1.3 m', 'White shark, 4 to 5 m', '1.5 m shark',\n",
       "       \"2' shark\", \"12' to 14' shark\", '1 m shark',\n",
       "       \"White shark, 18' to 20'\", \"8' to 10' shark\",\n",
       "       '2 white shark: 13\\' & 9\"8\"', \"7' shark\",\n",
       "       \"White shark, 12' to 14'\", 'Spinner shark', \" Bull shark, 8'\",\n",
       "       \" Bull shark, 5'\", \"4' tp 5' shark\", '1.8 metre shark',\n",
       "       \"6' to 8' shark\", \" White shark, 7' \",\n",
       "       \"Caribbean reef shark, 7' to 8'\", \" Sandbar shark, 3' to 4'\",\n",
       "       'Bronze whaler shark, 1.5m', '3m shark', \" white shark, 15' \",\n",
       "       ' Raggedtooth shark, 2m', '3 m to 4 m white shark',\n",
       "       'Blacktip reef shark ', '7-gill shark?',\n",
       "       'Reported to involve a bull shark', 'White shark, 3m ',\n",
       "       \"Tiger shark, 10' to 12'\", \"4' to 6' shark\",\n",
       "       ' Wobbegong shark, 1.6 to 1.8m ', 'Tiger shark, 3m ',\n",
       "       'Thought to involve a white shark', \"White shark, 10 '\",\n",
       "       'Reported to involve a white shark', 'Blacktip reef shark, 1m',\n",
       "       'Thought to involve a bull shark',\n",
       "       'Reported to involve a 4 m white shark',\n",
       "       \"Whitetip reef shark, 4' to 6'\", 'Nurse shark?',\n",
       "       'Small bull shark', 'Salmon shark', \"Mako shark, 5'\",\n",
       "       'Tiger shark?', \"Bull shark, 8'\", \"Bull shark, 6' to 8'\",\n",
       "       \"Tiger shark, 8' to 10' \", 'Nurse shark', 'Grey nurse shark, 3m',\n",
       "       'Possibly a blacktip reef shark', 'Raggedtooth shark, 1.5 m',\n",
       "       'Tiger shark, 4.8 m', 'Bronze whaler shark, 2.5m',\n",
       "       'White shark, 4m', 'reef shark?', 'Lemon shark',\n",
       "       \"Tiger shark, 15'\", '2.5 m shark', 'Bull shark, 2m ',\n",
       "       \"Tiger shark, 6'\", \"10' shark\", \"2' to 3' shark\",\n",
       "       \"Tiger shark, 8'\", \"Tiger shark, 10' to 12' \",\n",
       "       \"White shark, 15' to 16' \", '2m shark', \"3.5' to 4' shark\",\n",
       "       \"Lemon shark, 4' to 5' \", 'White shark or bronze whaler',\n",
       "       'White shark, 5m', \"14' to 18'shark\", \"15' shark\",\n",
       "       'possibly a bull shark', 'a small reef shark',\n",
       "       'small blacktip shark?', 'Blacktip shark ', 'Blue shark, 2.5m',\n",
       "       'White shark, 2 m', '18\" to 24\" shark', 'Bull shark, 3m',\n",
       "       \"Tiger shark, 8' to 9' \", 'White shark, 4 m to 5m ',\n",
       "       \"Tiger shark, 10'  \", 'White shark, 4m ', 'Possibly a bull shark',\n",
       "       \"Possibly a 5' to 6' bull shark\", 'Tawny nurse shark, 40cm',\n",
       "       'Grey nurse shark', 'Tiger shark, 3m', 'White shark, 2.7 m',\n",
       "       'Allegedly a 4 m tiger shark', 'White shark, 2.5m',\n",
       "       'Wobbegong shark?', 'Port Jackson shark, 1m', '2 to 2.5 m shark',\n",
       "       'Tiger shark, 2m', \"6' shark, possibly a blactip or spinner shark\",\n",
       "       \"White shark, >6'\", \"Possibly a 5' to 6' sandtiger shark\",\n",
       "       '4 m shark', 'Grey reef shark ', 'White shark, 3m to 4m',\n",
       "       'Bull shark, 3m female', \"White shark, 5' k\", 'Zambesi shark',\n",
       "       ' Tiger shark, 2.8m', 'reef shark, 1.5m', \"1' to 2' shark\",\n",
       "       'possibly a bronze whaler shark', ' Bull shark, 2.5 m',\n",
       "       'Bull shark, 2.5m', '3 m to 4 m shark', 'White shark x 2',\n",
       "       'Caribbean reef shark', 'Oceanic whitetip shark, 2.5m ',\n",
       "       'Mako shark ', 'Oceanic whitetip shark, 2.5m, female',\n",
       "       \"Porbeagle shark, 8' \", \"White shark, 14' to 18' \",\n",
       "       'Bull shark, 1.4m ', \"Possibly a 6' lemon shark\",\n",
       "       \"White shark, 15'\", 'Possibly a small blacktip shark',\n",
       "       \"Sandtiger shark, 4' to 5'\", 'Angel shark', \"Blue shark, 7'\",\n",
       "       \"Lemon shark, 4'\", '20 to 30kg shark', \"Lemon shark, 6'\",\n",
       "       \"14' shark\", \"Oceanic whitetip shark, 6'\", 'Possibly a blue shark',\n",
       "       'Wobbegong shark, 1.6m', \"Spinner shark, 6'\", 'Zambesi shark, 2m ',\n",
       "       \"Sandtiger shark, 8'\", 'Thresher shark', 'Spurdog',\n",
       "       'Shark involvement prior to death not confirmed',\n",
       "       \"White shark, 5' to 6' juvenile \", 'White shark, 2m',\n",
       "       'Tiger shark, 12', 'Bull shark?', \"Nurse shark, 6'\",\n",
       "       'Thought to involve a Bronze whale shark, 2m',\n",
       "       'Oceanic whitetip shark, 2.5 to 3m', '80 kg shark',\n",
       "       \"5' to 8' shark\", 'blacktip or spinner shark',\n",
       "       \"White shark, 12' to 15' female\", 'Bronze whaler shark?',\n",
       "       'Thought to involve a cookie cutter shark', 'Blue shark, 1m',\n",
       "       '2.6 m shark', 'White shark, 2.5m ', 'Bull shark, 2.7 m ',\n",
       "       \"White shark, 12' \", 'White shark, 5.5 m ', 'Dusky shark, 2m',\n",
       "       'White shark, 3.5m', 'Broadnose sevengill shark',\n",
       "       'White shark, 4m to 5m ', '4 to 5m white shark',\n",
       "       'Raggedtooth shark, 2m', 'Oceanic whitetip shark',\n",
       "       '5 m white shark', \"+3' shark\", 'Bronze whaler shark',\n",
       "       \"2' to 3' juvenile shark\", \"White shark, 14' to 16' \",\n",
       "       \"8' bull shark or Caribbean reef shark\",\n",
       "       \"8' white shark or 7-gill shark\", \"3'  shark\",\n",
       "       \"2' to 3' reef shark\", \"Bull shark, 6' to 7'\", \"4.5 to 5' shark\",\n",
       "       '2 small bull sharks', 'Bull shark, 1.8m',\n",
       "       \"White shark, 12' to 15'\", \"1.5' to 2' shark\", \"2.5' shark\",\n",
       "       'A bull shark, according to some of the divers on the boat',\n",
       "       'Mako shark, 90kg', '1.5 to 2 m shark', \"Blacktip shark, 5'\",\n",
       "       'Oceanic whitetip sharks were in the vicinity', 'Gray reef shark',\n",
       "       \"9.5' shark?\", \"Nurse shark, 2' to 3' \",\n",
       "       'Possibly a spinner shark', \"White shark, 12'\",\n",
       "       \"Possibly a 6' bull shark\", ' ', \"Possibly a 10' bull shark\",\n",
       "       'Bronze whaler shark, 1.5 m ', \"Bull shark, 5' \",\n",
       "       'A 10-year-old 94-pound pregnant blacktip reef shark',\n",
       "       'Lesser spotted dogfish, Scyliorhinus canicula, less than 80 cm in length',\n",
       "       \"Tiger shark, 14' \", '\"a small shark\"', 'White shark, 3m',\n",
       "       '2.4 m shark', \"6' to 8' shark, possibly a tiger shark\",\n",
       "       '2.5 to 3 m shark', '2 to 3 m shark', \"White shark, 12' to 15' \",\n",
       "       'Raggedtooth shark, 150-kg', 'White shark, 5m ',\n",
       "       '2 m to 3 m shark', 'Bull shark, 1.5m ', \"White shark, 16' \",\n",
       "       \"3' to 3.5' shark\", 'White shark?',\n",
       "       'Thought to involve a mako shark, but possibly a sea lion',\n",
       "       'Angel shark, 1.2m ', \"5' to 6' spinner or bull shark\",\n",
       "       \"Possibly a 1' to 3' blacktip or spinner shark\", \"14' white shark\",\n",
       "       \"Tiger shark, 8' to 12'\", \"Grey reef shark, 5' to 8' \",\n",
       "       'Wobbegong shark, 2 m ', \"Bull shark, 4' to bull shark\",\n",
       "       'Bronze whaler shark, a  juvenile ',\n",
       "       'Raggedtooth shark, 2.5 m to 3 m ', \"Tiger shark, 5' \",\n",
       "       'Bronze whaler shark, 2 m', \"5' to 7' shark\", '4.5 m white shark',\n",
       "       'Raggedtooth shark', \"12' to 18' shark\", '3.5 m white shark',\n",
       "       'Whitetip reef shark', 'Raggedtooth shark, 2.5m ',\n",
       "       \"12' to 14' white shark\", \"18' white shark\",\n",
       "       \"Tiger shark, less than 10'\", 'Caribbean reef sharks',\n",
       "       \"14' to 16' white shark\", \"4 m [13'] white shark\",\n",
       "       'juvenile white shark',\n",
       "       'Possibly a sandbar shark or small blacktip shark',\n",
       "       \"1.8 m [6'] shark\", \"[4.5' to 5'] shark\", \"[4' to 5']\",\n",
       "       \"1.8 m [6'] bull shark\",\n",
       "       'On 8/13/2005 anglers from New Zealand caught a 2.8 m [9\\'3\"], 140-kg [309-lb] shark at the same spot. It was believed this was the same shark that killed Alysha',\n",
       "       'Unknown, but it was reported that a shark tooth was recovered from the wound',\n",
       "       '\"small shark\"', '18\" to 36\" shark', \"Tiger shark, 3 m [10']\",\n",
       "       \"4 m [13'] shark\", \"6 m [20'] white shark\",\n",
       "       \"Sandtiger shark, 2.1 m [7'] \",\n",
       "       \"Bronze whaler shark, 4.3 m [14'] \", \"Tiger shark, 2.4 m [8']\",\n",
       "       '4.5 m & 5 m white shark ', \"5.5 m [18'] white shark\",\n",
       "       \"2.5 m [8.25'] bull shark\", \"2 m [6.75'] white shark\",\n",
       "       \"Bronze whaler shark, 2.4 m [8'] \",\n",
       "       \"1.8 m to 2.4 m [6' to 8'] white shark\",\n",
       "       \"Tiger shark, 2.4 m to 3.7 m [8' to 12'] \",\n",
       "       \"Raggedtooth shark, 1.5 to 2 m [5' to 6.75']\",\n",
       "       'Thought to involve a 2.5 m bull or tiger shark',\n",
       "       \"2.4 m [8'] shark\", 'Tiger shark, 1.5 m ',\n",
       "       \"0.9 m to 1.2 m [3' to 4'] white shark\",\n",
       "       \"4.9 m to 5.5 m [16' to 18'] white shark\", \"1.2 m [4'] shark\",\n",
       "       \"1.2 m to 1.5 m [4' to 5'] shark\", '2 sharks, 4.5 m & 3 m ',\n",
       "       '9\\'2\" white shark', \"Bronze whaler shark, 2.5 m [8.25'] \",\n",
       "       \"0.9 m to 1.5 m [3' to 5'] shark\",\n",
       "       \"2.4 m to 3.7 m [8' to 12'] shark\",\n",
       "       \"1,5 m [5'] Caribbean reef shark (Carcharhinus  perezi)\",\n",
       "       \"Mako shark, 1.8 m [6']\", \"Wobbegong shark, 1.2 m [4'] k\",\n",
       "       \"5 m [16.5'] white shark\", \"1.2 m [4'] bull shark\", 'bull shark',\n",
       "       \"Tiger shark, 2.4 m to 3 m [8' to 10'] \",\n",
       "       \"2 m [6.75'] sevengill  shark\",\n",
       "       \"4 m to 5 m [13' to 16.5'] white shark\",\n",
       "       'Bull shark, 1.65 m [5\\'5\"] was speared & killed',\n",
       "       'Bull shark, 132-kg [291-lb] ',\n",
       "       \"Raggedtooth shark, 3.5 m [11.5'] \",\n",
       "       \"Wobbegong shark, 1.2 m [4'] \", \"Tiger shark, 4 m [13']  ?\",\n",
       "       \"1.5 m [5'] shark, either a bronze whaler or a grey nurse shark\",\n",
       "       'Shark involvement prior to death was not confirmed',\n",
       "       '1.2 m [4\\'] \"grey-colored shark\"',\n",
       "       \"4.5 m to 5.5 m [15' to 18'] white shark\",\n",
       "       \"3.5 m [11.5'] white shark\", 'Unidentified species',\n",
       "       \"2.1 m  [7'] bull shark\", \"106 cm [3.5']  shark\",\n",
       "       '\\x93small brown shark\\x94', \"3.7 m to 4.3 m [12' to 14'] shark\",\n",
       "       '\"sand shark\"',\n",
       "       \"1.8 m [6'] reef shark - or a 2.1 m to 2.4 m [7' to 8'] grey-colored shark\",\n",
       "       \"0.9 m to 1.2 m [3' to 4'] shark\", 'A \\x93small\\x94 shark',\n",
       "       '15 cm to 20 cm [6\" to 8\"] bite diameter just below left knee',\n",
       "       \"Mako shark, 3 m [10']\", \"2.5 m [8.25'] white shark\",\n",
       "       'Species unidentified',\n",
       "       \"Thought to involve a 2 m [6.75'] grey nurse shark\",\n",
       "       \"Thought to involve a >2 m [6.75'] bull shark\",\n",
       "       'White shark, 4 m white shark',\n",
       "       \"3 m to 4.5 m [10' to 15'] white shark\",\n",
       "       \"2.4 m to 3 m [8' to 10'] grey colored shark\",\n",
       "       \"1.8 m to 2.1 m [6' to 7']\\xa0 Caribbean Reef Shark \",\n",
       "       'Possibly a bull shark or tiger shark',\n",
       "       'Blacktip or spinner shark', \"3.5' to 4.5' shark\",\n",
       "       \"1.2 m [4'] blacktip shark\", \"1.8 m [6'] blacktip shark\",\n",
       "       \"Tiger shark, 1.5 m [5']k\", \"3 m to 3.7 m [10' to 12'] shark\",\n",
       "       'Bull or tiger shark', \"1' to 2' hammerhead or bonnethed shark\",\n",
       "       \"0.9 m  to 1.2 m [3' to 4'] shark\", \"Nurse shark, 1.5 m [5'] \",\n",
       "       \"1.2 m [4'] blacktip or sandbar shark\",\n",
       "       \"Bull shark, 1.8 m to 2.1 m [6' to 7'] \", 'Mako shark, 400-lb ',\n",
       "       \"1.2 m to 1.5 m [4' to 5'] shark, possibly a bull shark\",\n",
       "       \"0.9 m to 1.2 m [3' to 4'] shark; Tooth fragment recovered from hand\",\n",
       "       '\\xa0 ', \"1.5 to 2.5 m [5' to 8.25'] copper shark\",\n",
       "       \"3.7 m to 4.3 m [12' to 14'] white shark\", '1 m  shark',\n",
       "       \"3' blacktip shark\", \"White shark, 6m [20']\",\n",
       "       'Bull shark, 400-lb ', \"0.9 m [3'] shark\", 'Nurse shark, 1m ',\n",
       "       \"Spinner shark, 3' to 4' \", '1.5 m [5\\'] \"whaler shark\"',\n",
       "       'C. leucas tooth fragment recovered from kayak', 'Zambesi shark?',\n",
       "       'Unidentified', \"Tiger shark, 1.8 m [6'] \",\n",
       "       \"Tiger shark, 1.8 m [6']\",\n",
       "       'Questionable incident - shark bite may have precipitated drowning',\n",
       "       \"2' to 3.5' shark\",\n",
       "       'A large white shark was filmed by divers on a local wreck 2 days prior to the incident.',\n",
       "       \"1.5 m [5'] shark\", \"3 m [10'] bull shark\",\n",
       "       'Possibly  a blacktip or spinner shark',\n",
       "       \"3' shark, possibly  a blacktip or spinner shark\",\n",
       "       \"Blacktip shark, 5' to 6' \", \"1.9 m [6.5'] bull shark\",\n",
       "       \"0.9 m  [3'] shark\", \"Bull shark, 2.3 m [7.5'] \",\n",
       "       \"White shark, 2.4 m to 3 m [8' to 10'] \",\n",
       "       'Possibly a juvenile blacktip or spinner shark',\n",
       "       \"Possibly a 1.5 m [5'] blacktip or spinner shark\",\n",
       "       '1 m shark, possibly whitetip reef shark',\n",
       "       \"White shark, 2.7 m [9'] \",\n",
       "       \"Bronze whaler shark, 2.5 m [8.25']  k\", \"6 m [20'] shark\",\n",
       "       \"1.2 m to 1.8 m [4' to 6'] shark\", \"White shark, 4.9 m [16'] \",\n",
       "       \"White shark, 5 m [16.5'] \",\n",
       "       \"Tiger shark, 1.8 m to 2.4 m [6' to 8'] \",\n",
       "       \"2.1 to 2.4 m [7' to 8'] shark\", \"Blacktip shark, 2' \",\n",
       "       \"White shark, 4.3 m [14']\",\n",
       "       \"White shark, 4 m to 5 m [13' to 16.5'] \", 'White shark, 2.5 m ',\n",
       "       \"60 cm to 90 cm [2' to 3'] shark\",\n",
       "       \"White shark, 3.5 m [11.5']  male \", \"Tiger shark, 3 m [10'] \",\n",
       "       \"A 2' shark was seen in the area by witnesses\",\n",
       "       \"Thought to involve a 2.7 m [9'], 400-lb bull shark\",\n",
       "       'Tiger shark, 3.7 m to 4.5 m [12\\' to 14\\'9\"]  ',\n",
       "       \"Blacktip shark, 2.4 m to 3 m [8' to 10'] \",\n",
       "       \"Tiger shark, 0.9 m to 1.5 m [3' to 5'] ?\",\n",
       "       \"Nurse shark, 1.2 m [4'] \",\n",
       "       \"0.9 m [3'] shark,  probably a blacktip or spinner shark\",\n",
       "       \"Blacktip shark, 1.2 m to 1.8 m [4' to 6'] \",\n",
       "       \"Tiger shark, 4 m [13'] ?\",\n",
       "       \"Shortfin mako shark, 3 m to 3.4 m [10' to 11'] \",\n",
       "       '1.3 to 1.6 m shark', \"Lemon shark, 2.7 m [9'] \",\n",
       "       \"2.7 m [9']  bull shark or Caribbean reef shark\",\n",
       "       \"White shark, 3 m to 5 m [10' to 16.5'] \",\n",
       "       \"Bull shark, 2.1 m [7']\", \"Blacktip shark, 1.8 m [6'] \",\n",
       "       \"White shark, 4 m [13'] \", \"Tiger shark, 2.5 m [8.25']\",\n",
       "       'Grey reef shark, 1.5 m ', '3 bull sharks', '200 to 300 kg shark',\n",
       "       \"3.7 m to 4.6 m [12' to 15'] shark seen in the vicinity\",\n",
       "       'Bronze whaler or tiger shark', \"White shark, 4.6 m [15'] \",\n",
       "       'Possibly a white shark', 'A \"small shark\"',\n",
       "       'Though to involve a white shark',\n",
       "       \"White shark, 5 m to 6 m [16.5' to 20'] \",\n",
       "       \"Caribbean reef shark, 1.2 m to 1.5 m [4' to 5'] \",\n",
       "       \"White shark, 4.9 m [16']\",\n",
       "       'Thought to involve a 5.5 m white shark named Kong',\n",
       "       \"3 m to 4 m [10' to 13'] white shark\",\n",
       "       \"Lemon shark, 1.5 m [5'], identified  by the surfer\",\n",
       "       \"1.8 m [6'] shark, possibly a blacktip\", \"3 m [10'] shark\",\n",
       "       \"3 m [10'] white shark\", \"5' spinner shark\",\n",
       "       'Small dusky shark or blackfin shark',\n",
       "       \"Tiger shark, 4 m to 4.3 m [13' to 14'] \",\n",
       "       'Possibly a blacktip shark', '\"juvenile shark\"',\n",
       "       \"Tiger shark, 2.7m  [9']\", \"1.2 m [4'] shark (spinner shark?)\",\n",
       "       'Possibly a sand shark', 'Tiger shark, 2m to 3m ',\n",
       "       \"1.8 m to 2.1 m [6' to 7'] shark\", 'Tiger shark, 4.5 m [14\\'9\"]',\n",
       "       \"3 m to 5 m [10' to 16.5'] white shark\",\n",
       "       \"5.5 m to 6 m [18' to 20'] white shark\", '\"a young shark\"',\n",
       "       \"Tiger shark, 2.4 m [8'] \",\n",
       "       \"1.8 m to 2.1 m [6' to 7'] hammerhead shark\",\n",
       "       'said to involve an oceanic whitetip shark', '4 m white shark',\n",
       "       \"2.5 m [8.25'] white shark \",\n",
       "       \"60 cm to 90 cm [2' to 3'] blacktip or spinner shark\",\n",
       "       '\"reef shark\"', 'Possibly a tiger shark',\n",
       "       'Tiger shark, 300-kg [662-lb] ',\n",
       "       \"1.2 m to 1.5 m [4' to 5']   shark\",\n",
       "       \"1.5 to 1.8 m [5' to 6'] shark\", '\"sand\" shark',\n",
       "       \"Tiger shark, 3.7 m [12'] \", 'Bronze whaler shark, 2 m ',\n",
       "       \"5 m to 5.5 m [16.5' to 18'] white shark\", \"2.7 m [9'] shark\",\n",
       "       'Thought to involve a small sand shark', 'Small shark',\n",
       "       \"3 to 3.5 m [10' to 11.5'] bull shark\", \"1.2 m [4'] spinner shark\",\n",
       "       \">1.8 m [6'] shark\", '3.6 m [11\\'9\"] white shark',\n",
       "       '1.3 m [4\\'3\"] shark',\n",
       "       'Tiger shark caught 6 days later with diver\\x92s remains in its gut',\n",
       "       \">6 m [20'] white shark\",\n",
       "       \"1.8 m [6'] blacktip shark or Caribbean reef shark\",\n",
       "       \"5.5 m to 6 m [18' to 20']  white shark\",\n",
       "       \"1.8 m to 2.4 m [6' to 8'] shark, tooth fragments recovered \",\n",
       "       'Thought to involve a tiger shark',\n",
       "       \"Remains recovered from 5.5 m [18'] white shark\",\n",
       "       \"Tiger shark, 3.7 m [12'], (tooth fragment recovered from wound)\",\n",
       "       \"Tiger shark, 3 m to 4.9 m [10' to 16'] \",\n",
       "       \"Mako shark, 1.8 m [6']  \", \"6' to 7' blacktip shark\",\n",
       "       '5 m to 6 m white shark', 'Unidentified shark',\n",
       "       \"Tiger shark, 3 m to 3.7 m [10' to 12'] \",\n",
       "       \"Tiger shark, 4.3 m [14'] \", '4.2 m white shark',\n",
       "       \"4 m to 5 m [13' to 16.5']  white shark \",\n",
       "       'Bull shark or lemon shark',\n",
       "       \"Tiger shark, 3 m to 4 m [10' to 13'] \",\n",
       "       \"4 m [13'], 590-kg white shark\", '>2 m shark',\n",
       "       \"5 m [16.5'] white shark, identification by K. Nakaya\",\n",
       "       \"Said to involve a 6 m to 7 m [20' to 23'] white shark\",\n",
       "       \"5 m [16.5'] shark\", '1.8 m grey shark',\n",
       "       \"Bronze whaler shark, 2.3 m [7.5'] \",\n",
       "       \"Zambesi shark, 1.7 m [5.5'] \",\n",
       "       \"Possibly a 1.5 m [5'] blacktip shark\",\n",
       "       \"Tiger shark, 2.4 m 3.4 m [8' to 11']  \",\n",
       "       \"5 m to 6 m [16.5' to 20'] white shark\",\n",
       "       \"3 m [10'], 270- kg [595-lb] shark\", 'sand shark',\n",
       "       \"Tiger shark, 3 to 4 m [10' to 13'] \",\n",
       "       \"2.7 m [9'] bull or lemon shark\", \"Tiger shark, >3 m [10']\",\n",
       "       '3.5 m [11.5\\'] female white shark named \"Notchfin\"',\n",
       "       '\"Shark had a very large girth\"', \"1.8 m [6'] shark \",\n",
       "       \"4' spinner shark\", \"1.8 m to 2.4 m [6' to 8'] shark\",\n",
       "       \"5 m  [16.5'] white shark\",\n",
       "       \"2.5 m to 3 m [8.25' to 10']  white shark\",\n",
       "       '4.5 m [14\\'9\"] white shark',\n",
       "       \"5.5 m [18'] white shark, identified by witnesses & tooth marks\",\n",
       "       \"2.3 m [7.5'] white shark, identified by M. Smale\",\n",
       "       'Tiger shark, 3 m ',\n",
       "       \"Two sharks seen in vicinity: 2.4 m & 4.25 m  [8' & 14'] TL\",\n",
       "       \"2.7 m [9'] white shark\",\n",
       "       'White shark, identified by tooth pattern', '150-lb shark',\n",
       "       \"4 m to 5 m [13' to 16.5']  white shark\",\n",
       "       \">3.4 m [11'] white shark\", \"Bronze whaler shark, 3 m [10'] \",\n",
       "       \"Tiger shark, 4 m [13'] \", \"2.4 m to 3 m [8' to 10'] white shark\",\n",
       "       'Sand shark?', \"1.5 m to 2 m [5' to 6.75'] shark\",\n",
       "       '1 m \"grey-colored\" shark',\n",
       "       'Zambezi shark (tooth fragments recovered)', '1.5 m copper shark',\n",
       "       \"2 m [6.75'] shark\", \"3.5 m [11.5']  white shark\",\n",
       "       '5.7 m white shark', \"1.5 m [5'] blacktip shark\", '4.3 m shark',\n",
       "       \">2.5 m [8.25'] white shark\", \"Raggedtooth shark, 2.5 m [8.25'] \",\n",
       "       \"1.8 m to 2.1 m [6' to 7'] spinner or blacktip shark\",\n",
       "       \"Lemon shark, 1.8 m to 2.4 m [6' to 8'], tooth fragment recovered\",\n",
       "       '1.6 m shark', \"1.2 m [4'] dusky shark\", '>1 m shark',\n",
       "       \">2.4 m [8'] white shark\", \"Raggedtooth shark, 2 m [6.75'] \",\n",
       "       'Bronze whaler shark, 3.5 m ', '1m shark',\n",
       "       \"2 m to 2.5 m [6.75'  to 8.25'] sixgill or sevengill shark\",\n",
       "       '1.8 m silky shark', 'Possibly a small hammerhead shark',\n",
       "       '3 m to 3.6 m  [10\\' to 11\\'9\"] white shark',\n",
       "       '3.5 m white shark, tooth fragments recovered',\n",
       "       \"1.5 m [5'] dusky shark\", 'Tiger shark, 4 m ',\n",
       "       \"3 m to 4 m [10' to 13']  white shark\", 'Hammerhead shark?+O2356',\n",
       "       'small blue shark', '4.5 m to 5 m white shark',\n",
       "       '4.5 m to 5.5m white shark', \"2.4 m [8'] white shark\",\n",
       "       \"1.2 m to 1.5 m [4' to 5'] hammerhead shark\",\n",
       "       'Raggedtooth shark, 56-kg [123-lb] ', \" 1.5 m [5'] dusky shark\",\n",
       "       'Raggedtooth shark, 1 m ', 'Raggedtooth shark, >1 m ',\n",
       "       'Sand shark', \"6' to 8' bull shark\", \"Tiger shark, 5 m [16.5']\",\n",
       "       \"3.5' hammerhead shark\",\n",
       "       \"Raggedtooth shark, 1.5 m [5'] (tooth fragment recovered)\",\n",
       "       \"1.8 m [6'] Zambezi shark\",\n",
       "       'Believed to involve a 2.8 m [9\\'3\"] white shark',\n",
       "       \"2.4 m [8'] white shark, species identity confirmed by tooth fragment\",\n",
       "       \"4.5 m to 5.5 m [14.7' to 18'] white shark\",\n",
       "       \"2.4 m [8'] white shark, species identity confirmed by witnesses & tooth pattern in surfboard\",\n",
       "       \"7 m [23'] white shark\",\n",
       "       'Said to involve a tiger shark or a hammerhead shark',\n",
       "       'Mako shark (tooth fragments recovered)',\n",
       "       \"Possibly a  1.8 m [6'] Zambezi shark\", '6 m  white shark',\n",
       "       \"Tiger shark, 2.1 m [7']\",\n",
       "       \"1.2 m to 1.5 m [4' to 5'] bull, sandbar or dusky shark\",\n",
       "       'C. maculpinnis or C. limbatus',\n",
       "       'Juvenile dusky or blacktip shark',\n",
       "       \"1.8 m to 2.4 m [6' to 8'] hammerhead shark\",\n",
       "       'Tiger shark, 2.5 m ', \"3.5 m [11.5'] shark\",\n",
       "       \"1.8 m [6'] white shark\", \"4' to 8' shark\",\n",
       "       '2.8 m [9\\'3\"] white shark', '2 m [6\\'9\"] Zambesi shark',\n",
       "       'Raggedtooth shark, 2 m [6\\'9\"] ', \"White shark, 2.5 m [8.25']  \",\n",
       "       \"White shark, 2.3 m [7.5'], tooth fragment recovered\",\n",
       "       \"White shark, 3.7 m [12'] \", '2 m [6\\'9\"] shark',\n",
       "       'Thought to involve a blacktip shark',\n",
       "       \"White shark, 5.5 m to 6 m [18' to 20']  \", 'Bull shark, 8',\n",
       "       \"White shark, 5.5 m [18'] \", \"White shark, 3 m [10'] k\",\n",
       "       \"2.1 m [7'] lemon shark or bull shark\",\n",
       "       \"White shark, 3 m to 4 m [10' to 13'] \",\n",
       "       \"White shark, 3.5 m [11.5'], species identity confirmed by tooth fragment\",\n",
       "       \"Tiger shark, 6' \", 'White shark, 4.5 m ', 'Juvenile dusky shark',\n",
       "       \"White shark, 2.4 m [8']\", \"White shark, 5.8 m [19'] \",\n",
       "       'White shark, 5m to 6m', 'White shark, 600-kg [1323-lb]',\n",
       "       \"White shark, 3 m [10'] \",\n",
       "       \"White shark, 5.5 m to 6 m [18' to 20'] \",\n",
       "       'White shark, 4 m to 5 m ', \"Shortfin mako shark, 2.3 m [7.5'] \",\n",
       "       \"White shark, 5 m to 6 m [16.5 to 20'] \",\n",
       "       \"White shark, 5 m [16.5']\", \"Raggedtooth shark, 1.5 m [5'] \",\n",
       "       \"2 m to 2.5 m [6.75'  to 8.25'] shark\", \"7' to 8' bull shark\",\n",
       "       '2 m shark, possibly a dusky or blacktip shark',\n",
       "       \"White shark, > 3 m [10']\", \"White shark, 6 m [20'] \",\n",
       "       \"4.5' shark\", \"White shark, 4.4 m to 5 m [14.5' to 16.5'] \",\n",
       "       \"White shark, 2.5 m [8.25'] \", \"White shark, 3 m [10']rk\",\n",
       "       '1.5 m to 2 m shark', \"White shark, 5 m to 6 m [16.5' to 20']  \",\n",
       "       \"Grey nurse shark, 11'\",\n",
       "       \"White shark, 3 m [10'], species identity confirmed by witnesses & tooth pattern in leg & board \",\n",
       "       'White shark according to tooth pattern and witnesses',\n",
       "       '1.8 to 2 m C. albimarginatus',\n",
       "       'Raggedtooth shark, 2 m [6\\'9\"], 5-year-old, captive female ',\n",
       "       \"White shark, 4.3 m 4.9 m [14' to 16'] \",\n",
       "       'White shark, identified by tooth fragments in surfboard',\n",
       "       '7-gill shark', \"Grey nurse shark, 10' \",\n",
       "       \"White shark, 4.3 m [14'], (tooth fragment recovered)\",\n",
       "       \"4m [13'] shark\", \"1.5 m to 1.8m [5' to 6'] shark\",\n",
       "       \"1.5 m to 1.8 m [5' to 6'] shark\", 'small blacktip shark',\n",
       "       \"5' blue shark\", 'Nurse shark, 106 cm, 28-lb, male ',\n",
       "       \"1.5 m to 1.8 m [5' to 6'] sandbar shark\", 'Nurse shark, 1 m ',\n",
       "       \"3.7 m [12'] shark\",\n",
       "       \"Bronze whaler shark, 2.1 m [7'], a tooth was embedded in the speargun \",\n",
       "       \"Mako shark, 1.9 m [6.5'] \", 'A pack of 6 sharks',\n",
       "       \"1.5 m to 2.1 m  [5' to 7'] shark\", 'Spinner or blacktip sharks',\n",
       "       \"Local authorities speculated that the water was too cold for sharks, but a 2.1 m [7'], 200-lb pregnant sandbar shark was caught next day\",\n",
       "       \"1.2 m [4'] hammerhead shark\",\n",
       "       'Believed white shark and other smaller species of sharks involved.',\n",
       "       \"White shark, 2.5 m [8.25'], an immature female, previously injured\",\n",
       "       'Copper shark', \"1.5 m to 1.8 m [5' to 6'] Zambesi shark\",\n",
       "       '1.8 m to 2 m [6\\' to 6\\'9\"] shark', 'Hammerhead shark',\n",
       "       \"Grey nurse shark, 2.4 m [8'] \",\n",
       "       'Tiger shark, tooth fragment recovered',\n",
       "       \"1.8 m [6'], 136-kg [300-lb] shark \", 'Raggedtooth shark ',\n",
       "       \"2.1 m [7'] shark\", \"White shark, 2.4 m [8'] \",\n",
       "       \"Grey nurse shark, 1.8 m [6']\", \"1.8 to 2.4 m [6' to 8'] shark\",\n",
       "       \"1.7 m [5.5'] shark\", \"White shark, 1.5 m [5'] k\",\n",
       "       \"White shark, 3 m to 3.7 m [10' to 12'] \",\n",
       "       'White shark (tooth fragment recovered)',\n",
       "       \"2.1 m to 2.4 m  [7' to 8'] shark\", \"Zambesi shark, 1.8 m [6'] \",\n",
       "       \"1.8 m [6']  shark\", \"4.3 m [14'], 1000-lb shark\",\n",
       "       'Dusky shark, 1 m ', \"White shark, 1.7 m [5.5']\",\n",
       "       '300- to 400-lb Zambesi shark',\n",
       "       'Possibly a broadnose 7-gill shark', \">1.2 m [4'] tiger shark\",\n",
       "       \"Silky shark, 1.9 m [6.5']\",\n",
       "       'Dooley believed his Injury was caused by stingray (Dasyatidae family)',\n",
       "       '500-lb shark', \"White shark, 4 m [13'] rk\", \"5.5 m [18'] shark\",\n",
       "       'White shark, 3 m ',\n",
       "       'Hand found in gut of 2.9 m to 3.3 m [9\\'7\" to 10\\'11\"] Galapagos shark, C. galapagensis',\n",
       "       \"3.7 to 4.5 m [12' to 15'] shark seen in vicinity\",\n",
       "       \"White shark, 2.1 m [7'] \",\n",
       "       'Tooth fragments of \\x93whaler\\x94 shark were recovered, a bull shark, according to Edwards',\n",
       "       'Zambesi shark, 2 m [6\\'9\"] ',\n",
       "       \"White shark, 4.3 m [14'] (or bronze whaler)\",\n",
       "       \"White shark, 4.3 m to 4.9m [14' to 16']\",\n",
       "       \" Blacktip shark, C. maculipinnis. 1.9 m to 2.1 m [6.5' to 7'] \",\n",
       "       '\"A long thin brown-colored shark\"',\n",
       "       \"Horn shar,k Heterodontus francisci, 1.2 m [4'] \", 'Unknown',\n",
       "       'Possibly a bronze whaler shark', \" Sevengill  shark, 1.2 m [4'] \",\n",
       "       \"Zambesi shark, 1.2 m [4'] \", '60 cm  shark ',\n",
       "       \"Bronze whaler shark, 2.1 m [7'] shark\", '36\"  shark',\n",
       "       \"Next morning a 3 m [10'] shark was caught that had Andrews' leg in its gut\",\n",
       "       \"1.5 m to 1.8 m  [5' to 6'] shark\",\n",
       "       \"Blacktip shark, 1.8 m to 2.1 m [6' to 7'] \", '43\" shark',\n",
       "       'Hammerhead shark, 500-llb ', 'Wobbegong shark, 1.4 m [4\\'6\"] ',\n",
       "       ' \"gummy\" shark (Rhizoprionodon or Loxodon) 1.2 m [4\\']',\n",
       "       '2\\' \"banjo shark\"', \"2.1 m [7'], 90-kg shark\",\n",
       "       \"Wobbegong shark, 1.5 m [5'] \",\n",
       "       'White shark, based on bite pattern',\n",
       "       \"Six Zambesi sharks seen to 1.5 m [5'] in length\",\n",
       "       \"White shark, 3 m [10'], tooth fragment from wounds identified as that of a white shark\",\n",
       "       'Grey nurse shark, 1m ',\n",
       "       'Lemon shark, 1164 mm, immature male, identified by  V.G. Springer',\n",
       "       \"Mako shark, 1.8 m to 2.1 m [6' to 7']  with hook & wire leader caught in mouth\",\n",
       "       \"Dusky shark, 2.7 m [9'] dusky shark C. obscurus identified by S. Springer on tooth recovered\",\n",
       "       \"White shark, 2.1 m [7']  based on tooth pattern\",\n",
       "       \"Bronze whaler shark, 3.7 m [12'] identified by G.P. Whitley based on description\",\n",
       "       \"1.2 m [4'], possibly  larger shark\", \"Two 2.1 m [7'] sharks\",\n",
       "       \"3.7 m to 4.6 m [12' to 15'] shark\", \"Mako shark, 4.3 m [14']\",\n",
       "       \"3 m to 4.3 m [10' to 14'] shark\", \"Blue shark, 1.5 m [5'] \",\n",
       "       \"White shark, 5 m [16.5'], identified by Dr. W. I. Follett on tooth marks\",\n",
       "       'A hammerhead shark, then 8 to 10 other sharks were said to be  involved',\n",
       "       \"Blue shark, 3 m [10']\",\n",
       "       \"Hammerhead shark, 1.8 m [6'] S. zygena identified by C. Limbaugh on description\",\n",
       "       \"Reported to involve a White shark, 6 m to 7m [20' to 23'] \",\n",
       "       \"White shark, 3 m [10']; identifed by Dr. W.I. Follett on tooth marks\",\n",
       "       \"Tiger shark, 3.7 m [12']\", \"1.8 to 2.1 m [6' to 7'] shark\",\n",
       "       \"Said to involve 2 sharks: 5.2 m & 6 m [17' & 20'] \",\n",
       "       \"White shark, 1.8 m to 2.1 m [6' to 7']  according to Shreuder and a witness\",\n",
       "       \"Tiger shark, 4.6 m to 7.6 m [15' to 25'] \", \"12' shark\",\n",
       "       '200-lb shark', \"Tiger shark, 1.5 m to 1.8 m [5' to 6'] \",\n",
       "       \"Sharks averaged 1.8 m [6'] in length\",\n",
       "       \"Nurse shark, 1.5 m [5']  identified by Dr. E. Clark on description of shark\",\n",
       "       'Tiger shark, <2 m TL',\n",
       "       \"Nurse shark, 2.1 m [7']  identified by Dr. E. Clark on color & tooth impressions\",\n",
       "       'Mako shark, 100-kg [221-lb] ', \">3 m [10'] shark\",\n",
       "       \"4.6 m [15'] shark\",\n",
       "       'Shark seen feeding on turtle scraps thrown overboard prior to incident.',\n",
       "       \"1.2 m  [4'] shark\",\n",
       "       \"2.4 m [8'] tiger shark caught 40 hours later with shorts of the boy in its gut\",\n",
       "       \"3.7 m [12'] shark & may have been another shark nearby\",\n",
       "       \"White shark, 5 m to 6 m [16.5' to 20] \",\n",
       "       '3.6 m  white shark  (or bronze whaler)',\n",
       "       \"Bronze whaler shark,3.7 m [12'] \",\n",
       "       \"Blacktip reef shark, 1.5 m [5'] \", \"2.4 m [8']  shark\",\n",
       "       'White shark tooth fragment recovered from ankle & identified by Dr. W. I. Follett',\n",
       "       \"Said to involve a >4 m [13'] shark\",\n",
       "       \"3 m [10'] shark seen in vicinity\", \"White shark,4.6 m [15'] \",\n",
       "       \"Tiger shark, 1.5 m [5'] \",\n",
       "       'White shark, 2 m to 4 m [6\\'9\" to 13\\'] ',\n",
       "       'a \"small slim brown shark\"', \"White shark, 1.8 m [6'] \",\n",
       "       \"Wobbegong shark, 4'\", '136-kg [300-lb] shark',\n",
       "       'White shark, 3m, seen in area and hooked 3 days later',\n",
       "       '1,100-lb shark',\n",
       "       \"1.5 m to 1.8 m [5' to 6'] \\x93spear-eye\\x94 shark \",\n",
       "       \"White shark, 3.7 m [12']  according to witnesses\",\n",
       "       \"Tiger shark, 3.7 m to 4.3 m  [12' to 14']\",\n",
       "       \"2.7 m [9'] shark with black-tipped pectoral fins\",\n",
       "       '3.3 m [10\\'9\"] shark', 'White shark, 3.6 m [11\\'9\"] ',\n",
       "       \"Said to be 6.4 m [21'] shark\", 'Possibly C. leucas',\n",
       "       '1.5 m, 45-kg shark', \"Blacktip shark, 2 m [6.75'] \",\n",
       "       '>1.6 m shark', \"4.3 m [14'] shark\",\n",
       "       'White shark, 4.2 m [13\\'9\"] ',\n",
       "       'Thought to involve a Zambesi shark',\n",
       "       'White shark, according to witnesses',\n",
       "       'White shark, 2 m [6\\'9\"]  (Tooth fragment recovered from victim\\'s shoulder & identified by J.T. Nicholls)',\n",
       "       \"1.8 m to 2.4 m [6' to 8'] sharks, most were oceanic whitetip sharks\",\n",
       "       'White shark, 4.5 m  to 6 m [14\\'9\" to 20\\'] according to witnesses',\n",
       "       \"Bull shark, 4 m [13'] \",\n",
       "       \"Mako shark (aka bonito shark) 1.2 m [4'] \",\n",
       "       'White shark, species identity confirmed by tooth pattern',\n",
       "       'White shark, 160-kg [353-lb], identity confirmed by tooth pattern',\n",
       "       \"2.6 m [8.5'] shark landed 2 hours later\",\n",
       "       \"Nurse shark, 2.1 m [7']\", \"18' shark\",\n",
       "       'Tiger shark,  3.6 m [11\\'9\"], 850-kg [1874-lb] female, contained Girvan\\'s remains ',\n",
       "       \"Tiger shark, 9' to 10' \",\n",
       "       '2 days later a 600-lb shark was caught 100 yards from the site',\n",
       "       'White shark (identified by Dr. Hugh Smith) ',\n",
       "       \"Tiger shark, 4.6 m [15'] \",\n",
       "       \"White shark, 3.5 m to 4 m [11.5' to 13'] \",\n",
       "       'A 6.5\\' \"blue-nosed shark\"', \"4.3 m [14'] shark seen in vicinity\",\n",
       "       \"4 m [13'] shark seen in vicinity\",\n",
       "       \"3.4 m [11']  tiger shark & a 5' shark\",\n",
       "       \"4.3 m [14'] shark seen in area previous week\",\n",
       "       'Thought to involve a mako or grey nurse shark', 'A small shark',\n",
       "       \"Raggedtooth shark, 1.2 m to 1.5 m [4' to 5'] \",\n",
       "       \"White shark 4.9 m [16'] \",\n",
       "       'White shark, 4.5 m [14\\'9\"], identity confirmed by witness & tooth pattern',\n",
       "       \"Grey nurse shark, 4' \",\n",
       "       \"Moreno\\x92s leg  & part of his swim suit found in 9' shark caught two hours after the attack. Identified as carcharhinid shark by L. Schultz & C. Limbaugh on photograph\",\n",
       "       \"White shark, 4.4 m [14.5'] . \", 'Grey nurse shark?',\n",
       "       \"Grey nurse shark, 4'\",\n",
       "       \"Said to involve 6 to 7 m [20' to 23'] white shark\",\n",
       "       \"1.5 m [5'] white shark or sevengill shark\",\n",
       "       \"According to Carlsmith, the shark's mouth was 3' wide\",\n",
       "       \"White shark, 3.7 m [12']  \", \"Tiger shark, 4 m [13'] female\",\n",
       "       'Said to be a \\x93small shark\\x94', '2.7 m [9\\'] \"blue\" shark',\n",
       "       \"White shark, 12', identity confirmed by tooth fragment, witness and photograph of captured shark \",\n",
       "       \"Comrades saw shark's tail appear about 5' away\",\n",
       "       'Shark involvement prior to death unconfirmed',\n",
       "       \"3.7 m to 4.3 m [12' to 14']  shark\",\n",
       "       \"Thought to involve a 2.6 m [8.5'] white shark\",\n",
       "       '2.8 m [9\\'3\"] whaler shark captured 3 days later with his remains in its gut',\n",
       "       \"5.5' to 6' shark\", \"1.8 m to 2.7 m [6' to 9'] shark\",\n",
       "       '13\\'10\" shark', \"10' to 12' shark\",\n",
       "       'Unknown, but the shark was caught and put on exhibition',\n",
       "       \"13' shark\", '68\" shark', 'Wobbegongs',\n",
       "       'Identified as C. gangeticus by Dr. J. Fayrer', \"16' shark\",\n",
       "       'White sharks'], dtype=object)"
      ]
     },
     "execution_count": 38,
     "metadata": {},
     "output_type": "execute_result"
    }
   ],
   "source": [
    "df['species'].unique()"
   ]
  },
  {
   "cell_type": "code",
   "execution_count": 39,
   "metadata": {},
   "outputs": [
    {
     "data": {
      "text/plain": [
       "species\n",
       "White shark                              92\n",
       "Tiger shark                              40\n",
       "4' shark                                 35\n",
       "Bull shark                               33\n",
       "1.8 m [6'] shark                         23\n",
       "                                         ..\n",
       "4.5 m & 5 m white shark                   1\n",
       "2.5 m [8.25'] bull shark                  1\n",
       "Bronze whaler shark, 2.4 m [8']           1\n",
       "1.8 m to 2.4 m [6' to 8'] white shark     1\n",
       "White sharks                              1\n",
       "Name: count, Length: 935, dtype: int64"
      ]
     },
     "execution_count": 39,
     "metadata": {},
     "output_type": "execute_result"
    }
   ],
   "source": [
    "df['species'].value_counts()"
   ]
  },
  {
   "cell_type": "markdown",
   "metadata": {},
   "source": [
    "In this case, all the entries that have that word in it will be categorize correspondly"
   ]
  },
  {
   "cell_type": "code",
   "execution_count": 40,
   "metadata": {},
   "outputs": [],
   "source": [
    "shark_mapping = {\n",
    "    'White Shark': r'(white)',\n",
    "    'Tiger Shark': r'(tiger)',\n",
    "    'Bull Shark': r'(bull)',\n",
    "    'Reef Shark': r'(reef)',\n",
    "    'Wobbegong Shark': r'(wobbegong)',\n",
    "    'Blue Shark': r'(blue)',\n",
    "    'Nurse Shark': r'(nurse)',\n",
    "    'Unknown Shark': r'.*'\n",
    "}\n",
    "df['species'] = df['species'].apply(lambda x: next((category for category, regex in shark_mapping.items() if re.search(regex, x, flags=re.IGNORECASE)), 'Unknown Shark'))"
   ]
  },
  {
   "cell_type": "code",
   "execution_count": 41,
   "metadata": {},
   "outputs": [
    {
     "data": {
      "text/plain": [
       "species\n",
       "Unknown Shark      836\n",
       "White Shark        446\n",
       "Tiger Shark        171\n",
       "Bull Shark         122\n",
       "Nurse Shark         40\n",
       "Reef Shark          32\n",
       "Wobbegong Shark     21\n",
       "Blue Shark          15\n",
       "Name: count, dtype: int64"
      ]
     },
     "execution_count": 41,
     "metadata": {},
     "output_type": "execute_result"
    }
   ],
   "source": [
    "df['species'].value_counts()"
   ]
  },
  {
   "cell_type": "code",
   "execution_count": 42,
   "metadata": {},
   "outputs": [
    {
     "data": {
      "image/png": "[encoded data removed]",
      "text/plain": [
       "<Figure size 1000x600 with 1 Axes>"
      ]
     },
     "metadata": {},
     "output_type": "display_data"
    }
   ],
   "source": [
    "x = df['species'].value_counts()\n",
    "plt.figure(figsize=(10, 6))\n",
    "sns.barplot(x=x.index, y=x.values)\n",
    "plt.xticks(rotation=45)\n",
    "plt.show()"
   ]
  },
  {
   "cell_type": "markdown",
   "metadata": {},
   "source": [
    "------------------"
   ]
  },
  {
   "cell_type": "markdown",
   "metadata": {},
   "source": [
    "## EDA"
   ]
  },
  {
   "cell_type": "markdown",
   "metadata": {},
   "source": [
    "Now we have a clean database we can use to our analisys, so lets do some data exploration and see what the data is trying to say"
   ]
  },
  {
   "cell_type": "code",
   "execution_count": 43,
   "metadata": {},
   "outputs": [
    {
     "data": {
      "text/plain": [
       "type        country        activity          sex  fatal  time            species      \n",
       "Unprovoked  North America  Water Activities  m    N      afternoon       Unknown Shark    140\n",
       "                                                         morning         Unknown Shark     78\n",
       "                                                                         White Shark       38\n",
       "            Africa         Water Activities  m    N      afternoon       White Shark       37\n",
       "            North America  Water Activities  m    N      afternoon       White Shark       37\n",
       "                                                                                         ... \n",
       "            Asia           Water Activities  m    Y      afternoon       White Shark        1\n",
       "                                                                         Unknown Shark      1\n",
       "                                                                         Bull Shark         1\n",
       "                                                                         Blue Shark         1\n",
       "            South America  Water Activities  m    Y      late afternoon  White Shark        1\n",
       "Name: count, Length: 485, dtype: int64"
      ]
     },
     "execution_count": 43,
     "metadata": {},
     "output_type": "execute_result"
    }
   ],
   "source": [
    "df.value_counts()"
   ]
  },
  {
   "cell_type": "code",
   "execution_count": 44,
   "metadata": {},
   "outputs": [
    {
     "data": {
      "image/png": "[encoded data removed]",
      "text/plain": [
       "<Figure size 640x480 with 1 Axes>"
      ]
     },
     "metadata": {},
     "output_type": "display_data"
    }
   ],
   "source": [
    "sns.set(style=\"darkgrid\")\n",
    "sns.countplot(data=df, x='country', hue='type')\n",
    "plt.xticks(rotation=45)\n",
    "plt.show()\n"
   ]
  },
  {
   "cell_type": "code",
   "execution_count": 45,
   "metadata": {},
   "outputs": [
    {
     "data": {
      "image/png": "[encoded data removed]",
      "text/plain": [
       "<Figure size 640x480 with 1 Axes>"
      ]
     },
     "metadata": {},
     "output_type": "display_data"
    }
   ],
   "source": [
    "sns.set(style=\"darkgrid\")\n",
    "sns.countplot(data=df, x='time', hue='type')\n",
    "plt.xticks(rotation=45)\n",
    "plt.show()"
   ]
  },
  {
   "cell_type": "code",
   "execution_count": 46,
   "metadata": {},
   "outputs": [
    {
     "data": {
      "image/png": "[encoded data removed]",
      "text/plain": [
       "<Figure size 640x480 with 1 Axes>"
      ]
     },
     "metadata": {},
     "output_type": "display_data"
    }
   ],
   "source": [
    "sns.set(style=\"darkgrid\")\n",
    "sns.countplot(data=df, x='fatal', hue='species')\n",
    "plt.xticks(rotation=45)\n",
    "plt.show()"
   ]
  },
  {
   "cell_type": "markdown",
   "metadata": {},
   "source": [
    "----------------"
   ]
  },
  {
   "cell_type": "markdown",
   "metadata": {},
   "source": [
    "## Model training"
   ]
  },
  {
   "cell_type": "markdown",
   "metadata": {},
   "source": [
    "Now lest train our model. We are going to use a linea"
   ]
  },
  {
   "cell_type": "code",
   "execution_count": 47,
   "metadata": {},
   "outputs": [],
   "source": [
    "from sklearn.preprocessing import LabelEncoder\n",
    "from sklearn.ensemble import RandomForestClassifier\n",
    "from sklearn.model_selection import train_test_split\n",
    "from sklearn.metrics import accuracy_score"
   ]
  },
  {
   "cell_type": "code",
   "execution_count": 48,
   "metadata": {},
   "outputs": [],
   "source": [
    "label_encoder = LabelEncoder()\n",
    "X_encoded = df.copy()\n",
    "for col in df:\n",
    "    X_encoded[col] = label_encoder.fit_transform(df[col])"
   ]
  },
  {
   "cell_type": "code",
   "execution_count": 49,
   "metadata": {},
   "outputs": [],
   "source": [
    "X = X_encoded[['type', 'country', 'activity', 'sex', 'time', 'species']] \n",
    "y = X_encoded['fatal'] "
   ]
  },
  {
   "cell_type": "code",
   "execution_count": 50,
   "metadata": {},
   "outputs": [],
   "source": [
    "from sklearn.model_selection import train_test_split\n",
    "\n",
    "X_train, X_test, y_train, y_test = train_test_split(X, y, test_size=0.2, random_state=42)"
   ]
  },
  {
   "cell_type": "code",
   "execution_count": 51,
   "metadata": {},
   "outputs": [
    {
     "data": {
      "text/html": [
       "<style>#sk-container-id-1 {color: black;}#sk-container-id-1 pre{padding: 0;}#sk-container-id-1 div.sk-toggleable {background-color: white;}#sk-container-id-1 label.sk-toggleable__label {cursor: pointer;display: block;width: 100%;margin-bottom: 0;padding: 0.3em;box-sizing: border-box;text-align: center;}#sk-container-id-1 label.sk-toggleable__label-arrow:before {content: \"▸\";float: left;margin-right: 0.25em;color: #696969;}#sk-container-id-1 label.sk-toggleable__label-arrow:hover:before {color: black;}#sk-container-id-1 div.sk-estimator:hover label.sk-toggleable__label-arrow:before {color: black;}#sk-container-id-1 div.sk-toggleable__content {max-height: 0;max-width: 0;overflow: hidden;text-align: left;background-color: #f0f8ff;}#sk-container-id-1 div.sk-toggleable__content pre {margin: 0.2em;color: black;border-radius: 0.25em;background-color: #f0f8ff;}#sk-container-id-1 input.sk-toggleable__control:checked~div.sk-toggleable__content {max-height: 200px;max-width: 100%;overflow: auto;}#sk-container-id-1 input.sk-toggleable__control:checked~label.sk-toggleable__label-arrow:before {content: \"▾\";}#sk-container-id-1 div.sk-estimator input.sk-toggleable__control:checked~label.sk-toggleable__label {background-color: #d4ebff;}#sk-container-id-1 div.sk-label input.sk-toggleable__control:checked~label.sk-toggleable__label {background-color: #d4ebff;}#sk-container-id-1 input.sk-hidden--visually {border: 0;clip: rect(1px 1px 1px 1px);clip: rect(1px, 1px, 1px, 1px);height: 1px;margin: -1px;overflow: hidden;padding: 0;position: absolute;width: 1px;}#sk-container-id-1 div.sk-estimator {font-family: monospace;background-color: #f0f8ff;border: 1px dotted black;border-radius: 0.25em;box-sizing: border-box;margin-bottom: 0.5em;}#sk-container-id-1 div.sk-estimator:hover {background-color: #d4ebff;}#sk-container-id-1 div.sk-parallel-item::after {content: \"\";width: 100%;border-bottom: 1px solid gray;flex-grow: 1;}#sk-container-id-1 div.sk-label:hover label.sk-toggleable__label {background-color: #d4ebff;}#sk-container-id-1 div.sk-serial::before {content: \"\";position: absolute;border-left: 1px solid gray;box-sizing: border-box;top: 0;bottom: 0;left: 50%;z-index: 0;}#sk-container-id-1 div.sk-serial {display: flex;flex-direction: column;align-items: center;background-color: white;padding-right: 0.2em;padding-left: 0.2em;position: relative;}#sk-container-id-1 div.sk-item {position: relative;z-index: 1;}#sk-container-id-1 div.sk-parallel {display: flex;align-items: stretch;justify-content: center;background-color: white;position: relative;}#sk-container-id-1 div.sk-item::before, #sk-container-id-1 div.sk-parallel-item::before {content: \"\";position: absolute;border-left: 1px solid gray;box-sizing: border-box;top: 0;bottom: 0;left: 50%;z-index: -1;}#sk-container-id-1 div.sk-parallel-item {display: flex;flex-direction: column;z-index: 1;position: relative;background-color: white;}#sk-container-id-1 div.sk-parallel-item:first-child::after {align-self: flex-end;width: 50%;}#sk-container-id-1 div.sk-parallel-item:last-child::after {align-self: flex-start;width: 50%;}#sk-container-id-1 div.sk-parallel-item:only-child::after {width: 0;}#sk-container-id-1 div.sk-dashed-wrapped {border: 1px dashed gray;margin: 0 0.4em 0.5em 0.4em;box-sizing: border-box;padding-bottom: 0.4em;background-color: white;}#sk-container-id-1 div.sk-label label {font-family: monospace;font-weight: bold;display: inline-block;line-height: 1.2em;}#sk-container-id-1 div.sk-label-container {text-align: center;}#sk-container-id-1 div.sk-container {/* jupyter's `normalize.less` sets `[hidden] { display: none; }` but bootstrap.min.css set `[hidden] { display: none !important; }` so we also need the `!important` here to be able to override the default hidden behavior on the sphinx rendered scikit-learn.org. See: https://github.com/scikit-learn/scikit-learn/issues/21755 */display: inline-block !important;position: relative;}#sk-container-id-1 div.sk-text-repr-fallback {display: none;}</style><div id=\"sk-container-id-1\" class=\"sk-top-container\"><div class=\"sk-text-repr-fallback\"><pre>RandomForestClassifier()</pre><b>In a Jupyter environment, please rerun this cell to show the HTML representation or trust the notebook. <br />On GitHub, the HTML representation is unable to render, please try loading this page with nbviewer.org.</b></div><div class=\"sk-container\" hidden><div class=\"sk-item\"><div class=\"sk-estimator sk-toggleable\"><input class=\"sk-toggleable__control sk-hidden--visually\" id=\"sk-estimator-id-1\" type=\"checkbox\" checked><label for=\"sk-estimator-id-1\" class=\"sk-toggleable__label sk-toggleable__label-arrow\">RandomForestClassifier</label><div class=\"sk-toggleable__content\"><pre>RandomForestClassifier()</pre></div></div></div></div></div>"
      ],
      "text/plain": [
       "RandomForestClassifier()"
      ]
     },
     "execution_count": 51,
     "metadata": {},
     "output_type": "execute_result"
    }
   ],
   "source": [
    "model = RandomForestClassifier(n_estimators=100)\n",
    "model.fit(X_train, y_train)"
   ]
  },
  {
   "cell_type": "code",
   "execution_count": 52,
   "metadata": {},
   "outputs": [],
   "source": [
    "y_pred = model.predict(X_test)\n"
   ]
  },
  {
   "cell_type": "code",
   "execution_count": 53,
   "metadata": {},
   "outputs": [
    {
     "name": "stdout",
     "output_type": "stream",
     "text": [
      "Accuracy: 0.8605341246290801\n"
     ]
    }
   ],
   "source": [
    "from sklearn.metrics import accuracy_score\n",
    "\n",
    "accuracy = accuracy_score(y_test, y_pred)\n",
    "print(f\"Accuracy: {accuracy}\")"
   ]
  },
  {
   "cell_type": "markdown",
   "metadata": {},
   "source": [
    "Now will se the importance for each variable"
   ]
  },
  {
   "cell_type": "code",
   "execution_count": 54,
   "metadata": {},
   "outputs": [
    {
     "name": "stdout",
     "output_type": "stream",
     "text": [
      "[0.07573451 0.2702629  0.12990788 0.06426545 0.20601057 0.25381869]\n"
     ]
    }
   ],
   "source": [
    "feature_importances = model.feature_importances_\n",
    "print(feature_importances)"
   ]
  },
  {
   "cell_type": "markdown",
   "metadata": {},
   "source": [
    "This tells us that the sex is not a very importan variable, as well as the type of attack"
   ]
  }
 ],
 "metadata": {
  "kernelspec": {
   "display_name": "ih_venv",
   "language": "python",
   "name": "python3"
  },
  "language_info": {
   "codemirror_mode": {
    "name": "ipython",
    "version": 3
   },
   "file_extension": ".py",
   "mimetype": "text/x-python",
   "name": "python",
   "nbconvert_exporter": "python",
   "pygments_lexer": "ipython3",
   "version": "3.9.13"
  }
 },
 "nbformat": 4,
 "nbformat_minor": 2
}
