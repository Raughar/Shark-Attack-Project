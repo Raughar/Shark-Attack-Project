{
 "cells": [
  {
   "cell_type": "markdown",
   "metadata": {},
   "source": [
    "We will start with some data exploration and some data cleaning"
   ]
  },
  {
   "cell_type": "code",
   "execution_count": 2,
   "metadata": {},
   "outputs": [
    {
     "name": "stdout",
     "output_type": "stream",
     "text": [
      "Requirement already satisfied: imblearn in c:\\users\\samu\\anaconda3\\lib\\site-packages (0.0)\n",
      "Requirement already satisfied: imbalanced-learn in c:\\users\\samu\\anaconda3\\lib\\site-packages (from imblearn) (0.11.0)\n",
      "Requirement already satisfied: numpy>=1.17.3 in c:\\users\\samu\\anaconda3\\lib\\site-packages (from imbalanced-learn->imblearn) (1.26.2)\n",
      "Requirement already satisfied: scipy>=1.5.0 in c:\\users\\samu\\anaconda3\\lib\\site-packages (from imbalanced-learn->imblearn) (1.11.1)\n",
      "Requirement already satisfied: scikit-learn>=1.0.2 in c:\\users\\samu\\anaconda3\\lib\\site-packages (from imbalanced-learn->imblearn) (1.3.0)\n",
      "Requirement already satisfied: joblib>=1.1.1 in c:\\users\\samu\\anaconda3\\lib\\site-packages (from imbalanced-learn->imblearn) (1.2.0)\n",
      "Requirement already satisfied: threadpoolctl>=2.0.0 in c:\\users\\samu\\anaconda3\\lib\\site-packages (from imbalanced-learn->imblearn) (2.2.0)\n"
     ]
    }
   ],
   "source": [
    "#Installing imblearn\n",
    "!pip install imblearn"
   ]
  },
  {
   "cell_type": "code",
   "execution_count": 3,
   "metadata": {},
   "outputs": [],
   "source": [
    "#Importing all the libraries\n",
    "import pandas as pd\n",
    "import numpy as np\n",
    "import matplotlib.pylab as plt\n",
    "import seaborn as sns\n",
    "import sklearn as sk\n",
    "import warnings\n",
    "import re\n",
    "import plotly.express as px\n",
    "from sklearn.metrics import confusion_matrix\n",
    "from sklearn.model_selection import train_test_split\n",
    "from sklearn.linear_model import LogisticRegression\n",
    "from sklearn.preprocessing import StandardScaler\n",
    "from imblearn.over_sampling import RandomOverSampler\n",
    "warnings.filterwarnings('ignore')\n",
    "plt.style.use('ggplot')"
   ]
  },
  {
   "cell_type": "code",
   "execution_count": 4,
   "metadata": {},
   "outputs": [],
   "source": [
    "#Reading the datasets\n",
    "sh_att = pd.read_csv(r'C:\\Users\\Samu\\Documents\\Ironhack\\Shark-Attack-Project\\files\\attacks.csv', encoding='latin1')"
   ]
  },
  {
   "cell_type": "code",
   "execution_count": 5,
   "metadata": {},
   "outputs": [
    {
     "data": {
      "text/plain": [
       "(25723, 24)"
      ]
     },
     "execution_count": 5,
     "metadata": {},
     "output_type": "execute_result"
    }
   ],
   "source": [
    "#Getting the shape of the datasets\n",
    "sh_att.shape"
   ]
  },
  {
   "cell_type": "code",
   "execution_count": 6,
   "metadata": {},
   "outputs": [
    {
     "data": {
      "text/html": [
       "<div>\n",
       "<style scoped>\n",
       "    .dataframe tbody tr th:only-of-type {\n",
       "        vertical-align: middle;\n",
       "    }\n",
       "\n",
       "    .dataframe tbody tr th {\n",
       "        vertical-align: top;\n",
       "    }\n",
       "\n",
       "    .dataframe thead th {\n",
       "        text-align: right;\n",
       "    }\n",
       "</style>\n",
       "<table border=\"1\" class=\"dataframe\">\n",
       "  <thead>\n",
       "    <tr style=\"text-align: right;\">\n",
       "      <th></th>\n",
       "      <th>Case Number</th>\n",
       "      <th>Date</th>\n",
       "      <th>Year</th>\n",
       "      <th>Type</th>\n",
       "      <th>Country</th>\n",
       "      <th>Area</th>\n",
       "      <th>Location</th>\n",
       "      <th>Activity</th>\n",
       "      <th>Name</th>\n",
       "      <th>Sex</th>\n",
       "      <th>...</th>\n",
       "      <th>Species</th>\n",
       "      <th>Investigator or Source</th>\n",
       "      <th>pdf</th>\n",
       "      <th>href formula</th>\n",
       "      <th>href</th>\n",
       "      <th>Case Number.1</th>\n",
       "      <th>Case Number.2</th>\n",
       "      <th>original order</th>\n",
       "      <th>Unnamed: 22</th>\n",
       "      <th>Unnamed: 23</th>\n",
       "    </tr>\n",
       "  </thead>\n",
       "  <tbody>\n",
       "    <tr>\n",
       "      <th>0</th>\n",
       "      <td>2018.06.25</td>\n",
       "      <td>25-Jun-2018</td>\n",
       "      <td>2018.0</td>\n",
       "      <td>Boating</td>\n",
       "      <td>USA</td>\n",
       "      <td>California</td>\n",
       "      <td>Oceanside, San Diego County</td>\n",
       "      <td>Paddling</td>\n",
       "      <td>Julie Wolfe</td>\n",
       "      <td>F</td>\n",
       "      <td>...</td>\n",
       "      <td>White shark</td>\n",
       "      <td>R. Collier, GSAF</td>\n",
       "      <td>2018.06.25-Wolfe.pdf</td>\n",
       "      <td>http://sharkattackfile.net/spreadsheets/pdf_di...</td>\n",
       "      <td>http://sharkattackfile.net/spreadsheets/pdf_di...</td>\n",
       "      <td>2018.06.25</td>\n",
       "      <td>2018.06.25</td>\n",
       "      <td>6303.0</td>\n",
       "      <td>NaN</td>\n",
       "      <td>NaN</td>\n",
       "    </tr>\n",
       "    <tr>\n",
       "      <th>1</th>\n",
       "      <td>2018.06.18</td>\n",
       "      <td>18-Jun-2018</td>\n",
       "      <td>2018.0</td>\n",
       "      <td>Unprovoked</td>\n",
       "      <td>USA</td>\n",
       "      <td>Georgia</td>\n",
       "      <td>St. Simon Island, Glynn County</td>\n",
       "      <td>Standing</td>\n",
       "      <td>Adyson McNeely</td>\n",
       "      <td>F</td>\n",
       "      <td>...</td>\n",
       "      <td>NaN</td>\n",
       "      <td>K.McMurray, TrackingSharks.com</td>\n",
       "      <td>2018.06.18-McNeely.pdf</td>\n",
       "      <td>http://sharkattackfile.net/spreadsheets/pdf_di...</td>\n",
       "      <td>http://sharkattackfile.net/spreadsheets/pdf_di...</td>\n",
       "      <td>2018.06.18</td>\n",
       "      <td>2018.06.18</td>\n",
       "      <td>6302.0</td>\n",
       "      <td>NaN</td>\n",
       "      <td>NaN</td>\n",
       "    </tr>\n",
       "    <tr>\n",
       "      <th>2</th>\n",
       "      <td>2018.06.09</td>\n",
       "      <td>09-Jun-2018</td>\n",
       "      <td>2018.0</td>\n",
       "      <td>Invalid</td>\n",
       "      <td>USA</td>\n",
       "      <td>Hawaii</td>\n",
       "      <td>Habush, Oahu</td>\n",
       "      <td>Surfing</td>\n",
       "      <td>John Denges</td>\n",
       "      <td>M</td>\n",
       "      <td>...</td>\n",
       "      <td>NaN</td>\n",
       "      <td>K.McMurray, TrackingSharks.com</td>\n",
       "      <td>2018.06.09-Denges.pdf</td>\n",
       "      <td>http://sharkattackfile.net/spreadsheets/pdf_di...</td>\n",
       "      <td>http://sharkattackfile.net/spreadsheets/pdf_di...</td>\n",
       "      <td>2018.06.09</td>\n",
       "      <td>2018.06.09</td>\n",
       "      <td>6301.0</td>\n",
       "      <td>NaN</td>\n",
       "      <td>NaN</td>\n",
       "    </tr>\n",
       "    <tr>\n",
       "      <th>3</th>\n",
       "      <td>2018.06.08</td>\n",
       "      <td>08-Jun-2018</td>\n",
       "      <td>2018.0</td>\n",
       "      <td>Unprovoked</td>\n",
       "      <td>AUSTRALIA</td>\n",
       "      <td>New South Wales</td>\n",
       "      <td>Arrawarra Headland</td>\n",
       "      <td>Surfing</td>\n",
       "      <td>male</td>\n",
       "      <td>M</td>\n",
       "      <td>...</td>\n",
       "      <td>2 m shark</td>\n",
       "      <td>B. Myatt, GSAF</td>\n",
       "      <td>2018.06.08-Arrawarra.pdf</td>\n",
       "      <td>http://sharkattackfile.net/spreadsheets/pdf_di...</td>\n",
       "      <td>http://sharkattackfile.net/spreadsheets/pdf_di...</td>\n",
       "      <td>2018.06.08</td>\n",
       "      <td>2018.06.08</td>\n",
       "      <td>6300.0</td>\n",
       "      <td>NaN</td>\n",
       "      <td>NaN</td>\n",
       "    </tr>\n",
       "    <tr>\n",
       "      <th>4</th>\n",
       "      <td>2018.06.04</td>\n",
       "      <td>04-Jun-2018</td>\n",
       "      <td>2018.0</td>\n",
       "      <td>Provoked</td>\n",
       "      <td>MEXICO</td>\n",
       "      <td>Colima</td>\n",
       "      <td>La Ticla</td>\n",
       "      <td>Free diving</td>\n",
       "      <td>Gustavo Ramos</td>\n",
       "      <td>M</td>\n",
       "      <td>...</td>\n",
       "      <td>Tiger shark, 3m</td>\n",
       "      <td>A .Kipper</td>\n",
       "      <td>2018.06.04-Ramos.pdf</td>\n",
       "      <td>http://sharkattackfile.net/spreadsheets/pdf_di...</td>\n",
       "      <td>http://sharkattackfile.net/spreadsheets/pdf_di...</td>\n",
       "      <td>2018.06.04</td>\n",
       "      <td>2018.06.04</td>\n",
       "      <td>6299.0</td>\n",
       "      <td>NaN</td>\n",
       "      <td>NaN</td>\n",
       "    </tr>\n",
       "  </tbody>\n",
       "</table>\n",
       "<p>5 rows × 24 columns</p>\n",
       "</div>"
      ],
      "text/plain": [
       "  Case Number         Date    Year        Type    Country             Area  \\\n",
       "0  2018.06.25  25-Jun-2018  2018.0     Boating        USA       California   \n",
       "1  2018.06.18  18-Jun-2018  2018.0  Unprovoked        USA          Georgia   \n",
       "2  2018.06.09  09-Jun-2018  2018.0     Invalid        USA           Hawaii   \n",
       "3  2018.06.08  08-Jun-2018  2018.0  Unprovoked  AUSTRALIA  New South Wales   \n",
       "4  2018.06.04  04-Jun-2018  2018.0    Provoked     MEXICO           Colima   \n",
       "\n",
       "                         Location     Activity             Name Sex   ...  \\\n",
       "0     Oceanside, San Diego County     Paddling      Julie Wolfe    F  ...   \n",
       "1  St. Simon Island, Glynn County     Standing  Adyson McNeely     F  ...   \n",
       "2                    Habush, Oahu      Surfing      John Denges    M  ...   \n",
       "3              Arrawarra Headland      Surfing             male    M  ...   \n",
       "4                        La Ticla  Free diving   Gustavo Ramos     M  ...   \n",
       "\n",
       "          Species           Investigator or Source                       pdf  \\\n",
       "0      White shark                R. Collier, GSAF      2018.06.25-Wolfe.pdf   \n",
       "1              NaN  K.McMurray, TrackingSharks.com    2018.06.18-McNeely.pdf   \n",
       "2              NaN  K.McMurray, TrackingSharks.com     2018.06.09-Denges.pdf   \n",
       "3        2 m shark                  B. Myatt, GSAF  2018.06.08-Arrawarra.pdf   \n",
       "4  Tiger shark, 3m                       A .Kipper      2018.06.04-Ramos.pdf   \n",
       "\n",
       "                                        href formula  \\\n",
       "0  http://sharkattackfile.net/spreadsheets/pdf_di...   \n",
       "1  http://sharkattackfile.net/spreadsheets/pdf_di...   \n",
       "2  http://sharkattackfile.net/spreadsheets/pdf_di...   \n",
       "3  http://sharkattackfile.net/spreadsheets/pdf_di...   \n",
       "4  http://sharkattackfile.net/spreadsheets/pdf_di...   \n",
       "\n",
       "                                                href Case Number.1  \\\n",
       "0  http://sharkattackfile.net/spreadsheets/pdf_di...    2018.06.25   \n",
       "1  http://sharkattackfile.net/spreadsheets/pdf_di...    2018.06.18   \n",
       "2  http://sharkattackfile.net/spreadsheets/pdf_di...    2018.06.09   \n",
       "3  http://sharkattackfile.net/spreadsheets/pdf_di...    2018.06.08   \n",
       "4  http://sharkattackfile.net/spreadsheets/pdf_di...    2018.06.04   \n",
       "\n",
       "  Case Number.2 original order Unnamed: 22 Unnamed: 23  \n",
       "0    2018.06.25         6303.0         NaN         NaN  \n",
       "1    2018.06.18         6302.0         NaN         NaN  \n",
       "2    2018.06.09         6301.0         NaN         NaN  \n",
       "3    2018.06.08         6300.0         NaN         NaN  \n",
       "4    2018.06.04         6299.0         NaN         NaN  \n",
       "\n",
       "[5 rows x 24 columns]"
      ]
     },
     "execution_count": 6,
     "metadata": {},
     "output_type": "execute_result"
    }
   ],
   "source": [
    "#Checking the head of the dataset\n",
    "sh_att.head(5)"
   ]
  },
  {
   "cell_type": "code",
   "execution_count": 7,
   "metadata": {},
   "outputs": [
    {
     "data": {
      "text/html": [
       "<div>\n",
       "<style scoped>\n",
       "    .dataframe tbody tr th:only-of-type {\n",
       "        vertical-align: middle;\n",
       "    }\n",
       "\n",
       "    .dataframe tbody tr th {\n",
       "        vertical-align: top;\n",
       "    }\n",
       "\n",
       "    .dataframe thead th {\n",
       "        text-align: right;\n",
       "    }\n",
       "</style>\n",
       "<table border=\"1\" class=\"dataframe\">\n",
       "  <thead>\n",
       "    <tr style=\"text-align: right;\">\n",
       "      <th></th>\n",
       "      <th>Case Number</th>\n",
       "      <th>Date</th>\n",
       "      <th>Year</th>\n",
       "      <th>Type</th>\n",
       "      <th>Country</th>\n",
       "      <th>Area</th>\n",
       "      <th>Location</th>\n",
       "      <th>Activity</th>\n",
       "      <th>Name</th>\n",
       "      <th>Sex</th>\n",
       "      <th>...</th>\n",
       "      <th>Species</th>\n",
       "      <th>Investigator or Source</th>\n",
       "      <th>pdf</th>\n",
       "      <th>href formula</th>\n",
       "      <th>href</th>\n",
       "      <th>Case Number.1</th>\n",
       "      <th>Case Number.2</th>\n",
       "      <th>original order</th>\n",
       "      <th>Unnamed: 22</th>\n",
       "      <th>Unnamed: 23</th>\n",
       "    </tr>\n",
       "  </thead>\n",
       "  <tbody>\n",
       "    <tr>\n",
       "      <th>25713</th>\n",
       "      <td>NaN</td>\n",
       "      <td>NaN</td>\n",
       "      <td>NaN</td>\n",
       "      <td>NaN</td>\n",
       "      <td>NaN</td>\n",
       "      <td>NaN</td>\n",
       "      <td>NaN</td>\n",
       "      <td>NaN</td>\n",
       "      <td>NaN</td>\n",
       "      <td>NaN</td>\n",
       "      <td>...</td>\n",
       "      <td>NaN</td>\n",
       "      <td>NaN</td>\n",
       "      <td>NaN</td>\n",
       "      <td>NaN</td>\n",
       "      <td>NaN</td>\n",
       "      <td>NaN</td>\n",
       "      <td>NaN</td>\n",
       "      <td>NaN</td>\n",
       "      <td>NaN</td>\n",
       "      <td>NaN</td>\n",
       "    </tr>\n",
       "    <tr>\n",
       "      <th>25714</th>\n",
       "      <td>NaN</td>\n",
       "      <td>NaN</td>\n",
       "      <td>NaN</td>\n",
       "      <td>NaN</td>\n",
       "      <td>NaN</td>\n",
       "      <td>NaN</td>\n",
       "      <td>NaN</td>\n",
       "      <td>NaN</td>\n",
       "      <td>NaN</td>\n",
       "      <td>NaN</td>\n",
       "      <td>...</td>\n",
       "      <td>NaN</td>\n",
       "      <td>NaN</td>\n",
       "      <td>NaN</td>\n",
       "      <td>NaN</td>\n",
       "      <td>NaN</td>\n",
       "      <td>NaN</td>\n",
       "      <td>NaN</td>\n",
       "      <td>NaN</td>\n",
       "      <td>NaN</td>\n",
       "      <td>NaN</td>\n",
       "    </tr>\n",
       "    <tr>\n",
       "      <th>25715</th>\n",
       "      <td>NaN</td>\n",
       "      <td>NaN</td>\n",
       "      <td>NaN</td>\n",
       "      <td>NaN</td>\n",
       "      <td>NaN</td>\n",
       "      <td>NaN</td>\n",
       "      <td>NaN</td>\n",
       "      <td>NaN</td>\n",
       "      <td>NaN</td>\n",
       "      <td>NaN</td>\n",
       "      <td>...</td>\n",
       "      <td>NaN</td>\n",
       "      <td>NaN</td>\n",
       "      <td>NaN</td>\n",
       "      <td>NaN</td>\n",
       "      <td>NaN</td>\n",
       "      <td>NaN</td>\n",
       "      <td>NaN</td>\n",
       "      <td>NaN</td>\n",
       "      <td>NaN</td>\n",
       "      <td>NaN</td>\n",
       "    </tr>\n",
       "    <tr>\n",
       "      <th>25716</th>\n",
       "      <td>NaN</td>\n",
       "      <td>NaN</td>\n",
       "      <td>NaN</td>\n",
       "      <td>NaN</td>\n",
       "      <td>NaN</td>\n",
       "      <td>NaN</td>\n",
       "      <td>NaN</td>\n",
       "      <td>NaN</td>\n",
       "      <td>NaN</td>\n",
       "      <td>NaN</td>\n",
       "      <td>...</td>\n",
       "      <td>NaN</td>\n",
       "      <td>NaN</td>\n",
       "      <td>NaN</td>\n",
       "      <td>NaN</td>\n",
       "      <td>NaN</td>\n",
       "      <td>NaN</td>\n",
       "      <td>NaN</td>\n",
       "      <td>NaN</td>\n",
       "      <td>NaN</td>\n",
       "      <td>NaN</td>\n",
       "    </tr>\n",
       "    <tr>\n",
       "      <th>25717</th>\n",
       "      <td>NaN</td>\n",
       "      <td>NaN</td>\n",
       "      <td>NaN</td>\n",
       "      <td>NaN</td>\n",
       "      <td>NaN</td>\n",
       "      <td>NaN</td>\n",
       "      <td>NaN</td>\n",
       "      <td>NaN</td>\n",
       "      <td>NaN</td>\n",
       "      <td>NaN</td>\n",
       "      <td>...</td>\n",
       "      <td>NaN</td>\n",
       "      <td>NaN</td>\n",
       "      <td>NaN</td>\n",
       "      <td>NaN</td>\n",
       "      <td>NaN</td>\n",
       "      <td>NaN</td>\n",
       "      <td>NaN</td>\n",
       "      <td>NaN</td>\n",
       "      <td>NaN</td>\n",
       "      <td>NaN</td>\n",
       "    </tr>\n",
       "    <tr>\n",
       "      <th>25718</th>\n",
       "      <td>NaN</td>\n",
       "      <td>NaN</td>\n",
       "      <td>NaN</td>\n",
       "      <td>NaN</td>\n",
       "      <td>NaN</td>\n",
       "      <td>NaN</td>\n",
       "      <td>NaN</td>\n",
       "      <td>NaN</td>\n",
       "      <td>NaN</td>\n",
       "      <td>NaN</td>\n",
       "      <td>...</td>\n",
       "      <td>NaN</td>\n",
       "      <td>NaN</td>\n",
       "      <td>NaN</td>\n",
       "      <td>NaN</td>\n",
       "      <td>NaN</td>\n",
       "      <td>NaN</td>\n",
       "      <td>NaN</td>\n",
       "      <td>NaN</td>\n",
       "      <td>NaN</td>\n",
       "      <td>NaN</td>\n",
       "    </tr>\n",
       "    <tr>\n",
       "      <th>25719</th>\n",
       "      <td>NaN</td>\n",
       "      <td>NaN</td>\n",
       "      <td>NaN</td>\n",
       "      <td>NaN</td>\n",
       "      <td>NaN</td>\n",
       "      <td>NaN</td>\n",
       "      <td>NaN</td>\n",
       "      <td>NaN</td>\n",
       "      <td>NaN</td>\n",
       "      <td>NaN</td>\n",
       "      <td>...</td>\n",
       "      <td>NaN</td>\n",
       "      <td>NaN</td>\n",
       "      <td>NaN</td>\n",
       "      <td>NaN</td>\n",
       "      <td>NaN</td>\n",
       "      <td>NaN</td>\n",
       "      <td>NaN</td>\n",
       "      <td>NaN</td>\n",
       "      <td>NaN</td>\n",
       "      <td>NaN</td>\n",
       "    </tr>\n",
       "    <tr>\n",
       "      <th>25720</th>\n",
       "      <td>NaN</td>\n",
       "      <td>NaN</td>\n",
       "      <td>NaN</td>\n",
       "      <td>NaN</td>\n",
       "      <td>NaN</td>\n",
       "      <td>NaN</td>\n",
       "      <td>NaN</td>\n",
       "      <td>NaN</td>\n",
       "      <td>NaN</td>\n",
       "      <td>NaN</td>\n",
       "      <td>...</td>\n",
       "      <td>NaN</td>\n",
       "      <td>NaN</td>\n",
       "      <td>NaN</td>\n",
       "      <td>NaN</td>\n",
       "      <td>NaN</td>\n",
       "      <td>NaN</td>\n",
       "      <td>NaN</td>\n",
       "      <td>NaN</td>\n",
       "      <td>NaN</td>\n",
       "      <td>NaN</td>\n",
       "    </tr>\n",
       "    <tr>\n",
       "      <th>25721</th>\n",
       "      <td>NaN</td>\n",
       "      <td>NaN</td>\n",
       "      <td>NaN</td>\n",
       "      <td>NaN</td>\n",
       "      <td>NaN</td>\n",
       "      <td>NaN</td>\n",
       "      <td>NaN</td>\n",
       "      <td>NaN</td>\n",
       "      <td>NaN</td>\n",
       "      <td>NaN</td>\n",
       "      <td>...</td>\n",
       "      <td>NaN</td>\n",
       "      <td>NaN</td>\n",
       "      <td>NaN</td>\n",
       "      <td>NaN</td>\n",
       "      <td>NaN</td>\n",
       "      <td>NaN</td>\n",
       "      <td>NaN</td>\n",
       "      <td>NaN</td>\n",
       "      <td>NaN</td>\n",
       "      <td>NaN</td>\n",
       "    </tr>\n",
       "    <tr>\n",
       "      <th>25722</th>\n",
       "      <td>xx</td>\n",
       "      <td>NaN</td>\n",
       "      <td>NaN</td>\n",
       "      <td>NaN</td>\n",
       "      <td>NaN</td>\n",
       "      <td>NaN</td>\n",
       "      <td>NaN</td>\n",
       "      <td>NaN</td>\n",
       "      <td>NaN</td>\n",
       "      <td>NaN</td>\n",
       "      <td>...</td>\n",
       "      <td>NaN</td>\n",
       "      <td>NaN</td>\n",
       "      <td>NaN</td>\n",
       "      <td>NaN</td>\n",
       "      <td>NaN</td>\n",
       "      <td>NaN</td>\n",
       "      <td>NaN</td>\n",
       "      <td>NaN</td>\n",
       "      <td>NaN</td>\n",
       "      <td>NaN</td>\n",
       "    </tr>\n",
       "  </tbody>\n",
       "</table>\n",
       "<p>10 rows × 24 columns</p>\n",
       "</div>"
      ],
      "text/plain": [
       "      Case Number Date  Year Type Country Area Location Activity Name Sex   \\\n",
       "25713         NaN  NaN   NaN  NaN     NaN  NaN      NaN      NaN  NaN  NaN   \n",
       "25714         NaN  NaN   NaN  NaN     NaN  NaN      NaN      NaN  NaN  NaN   \n",
       "25715         NaN  NaN   NaN  NaN     NaN  NaN      NaN      NaN  NaN  NaN   \n",
       "25716         NaN  NaN   NaN  NaN     NaN  NaN      NaN      NaN  NaN  NaN   \n",
       "25717         NaN  NaN   NaN  NaN     NaN  NaN      NaN      NaN  NaN  NaN   \n",
       "25718         NaN  NaN   NaN  NaN     NaN  NaN      NaN      NaN  NaN  NaN   \n",
       "25719         NaN  NaN   NaN  NaN     NaN  NaN      NaN      NaN  NaN  NaN   \n",
       "25720         NaN  NaN   NaN  NaN     NaN  NaN      NaN      NaN  NaN  NaN   \n",
       "25721         NaN  NaN   NaN  NaN     NaN  NaN      NaN      NaN  NaN  NaN   \n",
       "25722          xx  NaN   NaN  NaN     NaN  NaN      NaN      NaN  NaN  NaN   \n",
       "\n",
       "       ... Species  Investigator or Source  pdf href formula href  \\\n",
       "25713  ...      NaN                    NaN  NaN          NaN  NaN   \n",
       "25714  ...      NaN                    NaN  NaN          NaN  NaN   \n",
       "25715  ...      NaN                    NaN  NaN          NaN  NaN   \n",
       "25716  ...      NaN                    NaN  NaN          NaN  NaN   \n",
       "25717  ...      NaN                    NaN  NaN          NaN  NaN   \n",
       "25718  ...      NaN                    NaN  NaN          NaN  NaN   \n",
       "25719  ...      NaN                    NaN  NaN          NaN  NaN   \n",
       "25720  ...      NaN                    NaN  NaN          NaN  NaN   \n",
       "25721  ...      NaN                    NaN  NaN          NaN  NaN   \n",
       "25722  ...      NaN                    NaN  NaN          NaN  NaN   \n",
       "\n",
       "      Case Number.1 Case Number.2 original order Unnamed: 22 Unnamed: 23  \n",
       "25713           NaN           NaN            NaN         NaN         NaN  \n",
       "25714           NaN           NaN            NaN         NaN         NaN  \n",
       "25715           NaN           NaN            NaN         NaN         NaN  \n",
       "25716           NaN           NaN            NaN         NaN         NaN  \n",
       "25717           NaN           NaN            NaN         NaN         NaN  \n",
       "25718           NaN           NaN            NaN         NaN         NaN  \n",
       "25719           NaN           NaN            NaN         NaN         NaN  \n",
       "25720           NaN           NaN            NaN         NaN         NaN  \n",
       "25721           NaN           NaN            NaN         NaN         NaN  \n",
       "25722           NaN           NaN            NaN         NaN         NaN  \n",
       "\n",
       "[10 rows x 24 columns]"
      ]
     },
     "execution_count": 7,
     "metadata": {},
     "output_type": "execute_result"
    }
   ],
   "source": [
    "#Checking the taik of the dataset\n",
    "sh_att.tail(10)"
   ]
  },
  {
   "cell_type": "markdown",
   "metadata": {},
   "source": [
    "As we can see, there are a ton of NaN rows at the end of the dataset, so we have to take care of them."
   ]
  },
  {
   "cell_type": "code",
   "execution_count": 8,
   "metadata": {},
   "outputs": [
    {
     "data": {
      "text/plain": [
       "Case Number                object\n",
       "Date                       object\n",
       "Year                      float64\n",
       "Type                       object\n",
       "Country                    object\n",
       "Area                       object\n",
       "Location                   object\n",
       "Activity                   object\n",
       "Name                       object\n",
       "Sex                        object\n",
       "Age                        object\n",
       "Injury                     object\n",
       "Fatal (Y/N)                object\n",
       "Time                       object\n",
       "Species                    object\n",
       "Investigator or Source     object\n",
       "pdf                        object\n",
       "href formula               object\n",
       "href                       object\n",
       "Case Number.1              object\n",
       "Case Number.2              object\n",
       "original order            float64\n",
       "Unnamed: 22                object\n",
       "Unnamed: 23                object\n",
       "dtype: object"
      ]
     },
     "execution_count": 8,
     "metadata": {},
     "output_type": "execute_result"
    }
   ],
   "source": [
    "#Checking the column types\n",
    "sh_att.dtypes"
   ]
  },
  {
   "cell_type": "code",
   "execution_count": 9,
   "metadata": {},
   "outputs": [],
   "source": [
    "#Dropping duplicates from the dataset.\n",
    "sh_att.drop_duplicates(inplace=True)"
   ]
  },
  {
   "cell_type": "code",
   "execution_count": 10,
   "metadata": {},
   "outputs": [],
   "source": [
    "#Standaraizing the column names\n",
    "sh_att.columns = sh_att.columns.str.lower().str.replace(\" \", \"_\").str.replace(\".\", \"_\").str.replace(\":\",\"_\")"
   ]
  },
  {
   "cell_type": "code",
   "execution_count": 11,
   "metadata": {},
   "outputs": [],
   "source": [
    "#Dropping the columns that will not be used\n",
    "sh_att = sh_att.drop(['date', 'name','area', 'location', 'injury','case_number', 'investigator_or_source','original_order','pdf','href','href_formula','case_number_1','case_number_2', 'unnamed__22', 'unnamed__23'], axis=1)"
   ]
  },
  {
   "cell_type": "code",
   "execution_count": 12,
   "metadata": {},
   "outputs": [],
   "source": [
    "#Renaming the columns for better understanding and correcting some errors after the standardization\n",
    "sh_att = sh_att.rename(columns={'fatal_(y/n)':'fatal', 'sex_':'sex', 'species_':'species'})"
   ]
  },
  {
   "cell_type": "code",
   "execution_count": 13,
   "metadata": {},
   "outputs": [
    {
     "data": {
      "text/plain": [
       "year          12\n",
       "type          14\n",
       "country       60\n",
       "activity     554\n",
       "sex          575\n",
       "age         2841\n",
       "fatal        549\n",
       "time        3364\n",
       "species     2848\n",
       "dtype: int64"
      ]
     },
     "execution_count": 13,
     "metadata": {},
     "output_type": "execute_result"
    }
   ],
   "source": [
    "#Checking the totaln nan values\n",
    "sh_att.isna().sum()"
   ]
  },
  {
   "cell_type": "code",
   "execution_count": 14,
   "metadata": {},
   "outputs": [],
   "source": [
    "#Creating a copy of the dataset to work with\n",
    "sh_copy = sh_att.copy()"
   ]
  },
  {
   "cell_type": "code",
   "execution_count": 15,
   "metadata": {},
   "outputs": [],
   "source": [
    "#Dropping the rows whose all of their values are nans\n",
    "sh_copy = sh_copy.dropna(how='all')"
   ]
  },
  {
   "cell_type": "code",
   "execution_count": 16,
   "metadata": {},
   "outputs": [
    {
     "data": {
      "text/plain": [
       "year           2\n",
       "type           4\n",
       "country       50\n",
       "activity     544\n",
       "sex          565\n",
       "age         2831\n",
       "fatal        539\n",
       "time        3354\n",
       "species     2838\n",
       "dtype: int64"
      ]
     },
     "execution_count": 16,
     "metadata": {},
     "output_type": "execute_result"
    }
   ],
   "source": [
    "#Checking how many nans are after dropping the rows\n",
    "sh_copy.isna().sum()"
   ]
  },
  {
   "cell_type": "code",
   "execution_count": 17,
   "metadata": {},
   "outputs": [
    {
     "data": {
      "text/plain": [
       "(6302, 9)"
      ]
     },
     "execution_count": 17,
     "metadata": {},
     "output_type": "execute_result"
    }
   ],
   "source": [
    "#Getting the new shape\n",
    "sh_copy.shape"
   ]
  },
  {
   "cell_type": "markdown",
   "metadata": {},
   "source": [
    "We will start the cleaning with the Time column"
   ]
  },
  {
   "cell_type": "code",
   "execution_count": 18,
   "metadata": {},
   "outputs": [
    {
     "data": {
      "text/plain": [
       "time\n",
       "Afternoon      187\n",
       "11h00          128\n",
       "Morning        121\n",
       "12h00          109\n",
       "15h00          108\n",
       "              ... \n",
       "14h37            1\n",
       "10h07            1\n",
       "13h53            1\n",
       "13h23            1\n",
       "19h00-20h00      1\n",
       "Name: count, Length: 366, dtype: int64"
      ]
     },
     "execution_count": 18,
     "metadata": {},
     "output_type": "execute_result"
    }
   ],
   "source": [
    "#Checking the value counts of the column\n",
    "sh_copy['time'].value_counts()"
   ]
  },
  {
   "cell_type": "code",
   "execution_count": 19,
   "metadata": {},
   "outputs": [
    {
     "data": {
      "text/plain": [
       "time\n",
       "Afternoon      187\n",
       "11h00          128\n",
       "Morning        121\n",
       "12h00          109\n",
       "15h00          108\n",
       "              ... \n",
       "14h37            1\n",
       "10h07            1\n",
       "13h53            1\n",
       "13h23            1\n",
       "19h00-20h00      1\n",
       "Name: count, Length: 366, dtype: int64"
      ]
     },
     "execution_count": 19,
     "metadata": {},
     "output_type": "execute_result"
    }
   ],
   "source": [
    "#Creating a pattern to standarize the hours and filter the invalid values\n",
    "pattern = r'^\\d{2}:\\d{2}$'\n",
    "invalid_times = sh_copy[~sh_copy['time'].str.contains(pattern, na=False)]\n",
    "invalid_times['time'].value_counts()"
   ]
  },
  {
   "cell_type": "code",
   "execution_count": 20,
   "metadata": {},
   "outputs": [],
   "source": [
    "#Creating a dictionary to replace the invalid times\n",
    "time_mapping = {  \n",
    "    '.*noon*.': '12:00', \n",
    "    '.*dusk*.': '18:00',\n",
    "    '.*Dusk*.': '18:00',\n",
    "    '.*Nig*.' : '22:00',\n",
    "    '.*ning*.' : '10:00',\n",
    "    '.*night*.' : '22:00',\n",
    "    '.*daybreak*.' : '07:00',\n",
    "    '.*dark*.' : '22:00',\n",
    "    '.*Daytime*.' : '12:00',\n",
    "    '.*fall*.' : '19:00',\n",
    "    '.*lunc*.' : '12:00',\n",
    "    '.*Midday*.' : '12:00',\n",
    "    }"
   ]
  },
  {
   "cell_type": "code",
   "execution_count": 21,
   "metadata": {},
   "outputs": [],
   "source": [
    "#Replacing the letters for the :\n",
    "if sh_copy is not None:\n",
    "    sh_copy['time'].replace('h', ':', regex=True, inplace=True)\n",
    "    sh_copy['time'].replace('j', ':', regex=True, inplace=True)\n",
    "    sh_copy['time'].replace('t', '', regex=True, inplace=True)"
   ]
  },
  {
   "cell_type": "code",
   "execution_count": 22,
   "metadata": {},
   "outputs": [],
   "source": [
    "#Applying the standarizing dictionary to the column:\n",
    "sh_copy['time'] = sh_copy['time'].replace(time_mapping, regex=True)"
   ]
  },
  {
   "cell_type": "code",
   "execution_count": 23,
   "metadata": {},
   "outputs": [],
   "source": [
    "#Filling the nan values temporarily\n",
    "sh_copy['time'].fillna(value=0, inplace=True)"
   ]
  },
  {
   "cell_type": "code",
   "execution_count": 24,
   "metadata": {},
   "outputs": [],
   "source": [
    "#Making it so everything fits the pattern\n",
    "sh_copy = sh_copy[sh_copy['time'].notna() & sh_copy['time'].str.match(pattern)]"
   ]
  },
  {
   "cell_type": "code",
   "execution_count": 25,
   "metadata": {},
   "outputs": [],
   "source": [
    "#Making so we only have on clock hours for easier understanding of the graphs:\n",
    "def convert_to_clock_hour(time):\n",
    "    pattern = r'^(\\d{2}):(\\d{2})$'\n",
    "    match = re.match(pattern, time)\n",
    "    if match:\n",
    "        hour = match.group(1)\n",
    "        return hour + ':00'\n",
    "    else:\n",
    "        return time\n",
    "sh_copy['time'] = sh_copy['time'].apply(convert_to_clock_hour)"
   ]
  },
  {
   "cell_type": "code",
   "execution_count": 26,
   "metadata": {},
   "outputs": [],
   "source": [
    "#Converting the data into datetime format\n",
    "sh_copy['time'] = pd.to_datetime(sh_copy['time'], format=\"%H:%M\").dt.hour"
   ]
  },
  {
   "cell_type": "code",
   "execution_count": 27,
   "metadata": {},
   "outputs": [
    {
     "data": {
      "image/png": "[encoded data removed]",
      "text/plain": [
       "<Figure size 640x480 with 1 Axes>"
      ]
     },
     "metadata": {},
     "output_type": "display_data"
    }
   ],
   "source": [
    "#Plotting to see the distribution of the attacks by hour:\n",
    "sh_copy['time'].value_counts().sort_index().plot(kind='bar')\n",
    "plt.xlabel('Time')\n",
    "plt.ylabel('Number of Attacks')\n",
    "plt.title('Attacks by Hour')\n",
    "plt.show()"
   ]
  },
  {
   "cell_type": "code",
   "execution_count": 28,
   "metadata": {},
   "outputs": [
    {
     "data": {
      "text/plain": [
       "<Axes: xlabel='time', ylabel='Density'>"
      ]
     },
     "execution_count": 28,
     "metadata": {},
     "output_type": "execute_result"
    },
    {
     "data": {
      "image/png": "[encoded data removed]",
      "text/plain": [
       "<Figure size 640x480 with 1 Axes>"
      ]
     },
     "metadata": {},
     "output_type": "display_data"
    }
   ],
   "source": [
    "#Plotting in another shape, just to see which one is better\n",
    "sns.distplot(sh_copy['time'], bins=24)"
   ]
  },
  {
   "cell_type": "markdown",
   "metadata": {},
   "source": [
    "From what we can see from the graphs, during the morning through midday we have the most attacks, maybe because is the hour that the people is more prone to go swimming. During the night there are almost no attacks, but we can see that during 22:00, we have a peak of attacks, it may be interesting to see why."
   ]
  },
  {
   "cell_type": "markdown",
   "metadata": {},
   "source": [
    "We will continue the cleaning with the Type column"
   ]
  },
  {
   "cell_type": "code",
   "execution_count": 29,
   "metadata": {},
   "outputs": [
    {
     "data": {
      "text/plain": [
       "array(['Boating', 'Invalid', 'Unprovoked', 'Provoked', 'Questionable',\n",
       "       nan, 'Boat', 'Sea Disaster'], dtype=object)"
      ]
     },
     "execution_count": 29,
     "metadata": {},
     "output_type": "execute_result"
    }
   ],
   "source": [
    "#Getting the unique values from the column\n",
    "sh_copy['type'].unique()"
   ]
  },
  {
   "cell_type": "code",
   "execution_count": 30,
   "metadata": {},
   "outputs": [
    {
     "data": {
      "text/plain": [
       "type\n",
       "Unprovoked      2355\n",
       "Provoked         180\n",
       "Invalid          144\n",
       "Boating           59\n",
       "Sea Disaster      40\n",
       "Boat              32\n",
       "Questionable       2\n",
       "Name: count, dtype: int64"
      ]
     },
     "execution_count": 30,
     "metadata": {},
     "output_type": "execute_result"
    }
   ],
   "source": [
    "#Getting the count\n",
    "sh_copy['type'].value_counts()"
   ]
  },
  {
   "cell_type": "code",
   "execution_count": 31,
   "metadata": {},
   "outputs": [],
   "source": [
    "#Filling the nan values with the most common value\n",
    "sh_copy['type'].fillna(value='Unprovoked', inplace=True)"
   ]
  },
  {
   "cell_type": "code",
   "execution_count": 32,
   "metadata": {},
   "outputs": [],
   "source": [
    "#Reducing the number of categories\n",
    "sh_copy['type'] = sh_copy['type'].replace({'Boatomg' : 'Boating', 'Questionable' : 'Unprovoked', 'Boat' : 'Boating', 'Invalid' : 'Unprovoked'})"
   ]
  },
  {
   "cell_type": "code",
   "execution_count": 33,
   "metadata": {},
   "outputs": [
    {
     "data": {
      "image/png": "[encoded data removed]",
      "text/plain": [
       "<Figure size 640x480 with 1 Axes>"
      ]
     },
     "metadata": {},
     "output_type": "display_data"
    }
   ],
   "source": [
    "sns.countplot(x='type', data=sh_copy)\n",
    "plt.show()"
   ]
  },
  {
   "cell_type": "markdown",
   "metadata": {},
   "source": [
    "As we can see, almost all of the attacks were unprovoked."
   ]
  },
  {
   "cell_type": "markdown",
   "metadata": {},
   "source": [
    "For the next part, we will continue with the countries, as it is a ver long column, with a lot of different values."
   ]
  },
  {
   "cell_type": "code",
   "execution_count": 34,
   "metadata": {},
   "outputs": [
    {
     "data": {
      "text/plain": [
       "array(['USA', 'BRAZIL', 'AUSTRALIA', 'ENGLAND', 'SOUTH AFRICA',\n",
       "       'COSTA RICA', 'MALDIVES', 'BAHAMAS', 'NEW CALEDONIA', 'CUBA',\n",
       "       'MAURITIUS', 'NEW ZEALAND', 'SAMOA', 'JAPAN', 'SPAIN',\n",
       "       'ST HELENA, British overseas territory', 'REUNION',\n",
       "       'UNITED ARAB EMIRATES', 'MEXICO', 'INDONESIA', 'COLUMBIA', 'EGYPT',\n",
       "       'FRENCH POLYNESIA', 'Fiji', 'DOMINICAN REPUBLIC', 'ECUADOR',\n",
       "       'MOZAMBIQUE', 'THAILAND', 'PUERTO RICO', 'FRANCE',\n",
       "       'PAPUA NEW GUINEA', 'ISRAEL', 'PALESTINIAN TERRITORIES', 'JAMAICA',\n",
       "       'ITALY', 'ANTIGUA', 'RUSSIA', 'SEYCHELLES', 'TURKS & CAICOS',\n",
       "       'FIJI', 'TONGA', 'SOUTH KOREA', 'VIETNAM', 'MADAGASCAR', 'GUAM',\n",
       "       'UNITED ARAB EMIRATES (UAE)', 'PANAMA', 'SCOTLAND',\n",
       "       'UNITED KINGDOM', 'TAIWAN', 'CROATIA', 'PHILIPPINES',\n",
       "       'SOLOMON ISLANDS', 'YEMEN', 'ATLANTIC OCEAN', 'ST. MAARTIN',\n",
       "       'GRAND CAYMAN', 'VANUATU', 'MEXICO ', 'VENEZUELA', 'MICRONESIA',\n",
       "       'OKINAWA', 'MARSHALL ISLANDS', 'EGYPT / ISRAEL', 'HONG KONG',\n",
       "       'CHILE', 'GREECE', nan, 'GRENADA', 'IRAQ', 'MALAYSIA', 'BERMUDA',\n",
       "       'SENEGAL', 'TURKEY', 'SINGAPORE', 'NEW BRITAIN', 'JOHNSTON ISLAND',\n",
       "       'PACIFIC OCEAN ', 'SOUTH PACIFIC OCEAN', 'PALAU',\n",
       "       'FEDERATED STATES OF MICRONESIA', 'MID ATLANTIC OCEAN',\n",
       "       'BRITISH WEST INDIES', 'TANZANIA', 'PERSIAN GULF',\n",
       "       'NORTH PACIFIC OCEAN', 'NICARAGUA ', 'AMERICAN SAMOA',\n",
       "       'ANDAMAN / NICOBAR ISLANDAS', 'PACIFIC OCEAN',\n",
       "       'NORTH ATLANTIC OCEAN ', 'THE BALKANS', 'ARGENTINA', 'EL SALVADOR',\n",
       "       'JAVA', 'CARIBBEAN SEA', 'SOUTH ATLANTIC OCEAN', 'IRAN', 'INDIA',\n",
       "       'GUYANA', 'HAITI', 'IRELAND', 'MONTENEGRO', 'NICARAGUA', 'EGYPT ',\n",
       "       'YEMEN ', 'SRI LANKA', 'PARAGUAY', 'CANADA', 'TUVALU', 'GUINEA',\n",
       "       'ANDAMAN ISLANDS', 'MARTINIQUE', 'BARBADOS', 'RED SEA?'],\n",
       "      dtype=object)"
      ]
     },
     "execution_count": 34,
     "metadata": {},
     "output_type": "execute_result"
    }
   ],
   "source": [
    "#Getting all the unique values\n",
    "sh_copy['country'].unique()"
   ]
  },
  {
   "cell_type": "code",
   "execution_count": 35,
   "metadata": {},
   "outputs": [
    {
     "data": {
      "text/plain": [
       "country\n",
       "USA                    1328\n",
       "AUSTRALIA               573\n",
       "SOUTH AFRICA            333\n",
       "BAHAMAS                  48\n",
       "NEW ZEALAND              46\n",
       "                       ... \n",
       "PERSIAN GULF              1\n",
       "NORTH PACIFIC OCEAN       1\n",
       "NICARAGUA                 1\n",
       "AMERICAN SAMOA            1\n",
       "RED SEA?                  1\n",
       "Name: count, Length: 114, dtype: int64"
      ]
     },
     "execution_count": 35,
     "metadata": {},
     "output_type": "execute_result"
    }
   ],
   "source": [
    "#Checking the value counts\n",
    "sh_copy['country'].value_counts()"
   ]
  },
  {
   "cell_type": "code",
   "execution_count": 36,
   "metadata": {},
   "outputs": [],
   "source": [
    "#Fillin the nan values with the most common value\n",
    "sh_copy['country'].fillna(value='USA', inplace=True)"
   ]
  },
  {
   "cell_type": "code",
   "execution_count": 37,
   "metadata": {},
   "outputs": [],
   "source": [
    "#Dealing with duplicated values with different names and erratas\n",
    "sh_copy['country'] = sh_copy['country'].replace({'Fiji' : 'FIJI',\n",
    "                                                'ST HELENA, British overseas territory' : 'ST HELENA',\n",
    "                                                 'UNITED ARAB EMIRATES (UAE)' : 'UNITED ARAB EMIRATES', \n",
    "                                                 'PALESTINIAN TERRITORIES' : 'PALESTINE',\n",
    "                                                 'SCOTLAND' : 'UNITED KINGDOM', \n",
    "                                                 'OKINAWA' : 'JAPAN', \n",
    "                                                 'EGYPT / ISRAEL' : 'EGYPT',\n",
    "                                                 'EGYPT ' : 'EGYPT', \n",
    "                                                 'FEDERATED STATES OF MICRONESIA' : 'MICRONESIA', \n",
    "                                                 'ANDAMAN / NICOBAR ISLANDAS' : 'ANDAMAN ISLANDS', \n",
    "                                                 'BRITISH WEST INDIES' : 'TURKS & CAICOS',\n",
    "                                                 'ENGLAND' : 'UNITED KINGDOM',\n",
    "                                                 'MEXICO ' : 'MEXICO',\n",
    "                                                 'PERSIAN GULF' : 'IRAN',\n",
    "                                                 'AMERICAN SAMOA' : 'SAMOA',\n",
    "                                                 'JOHNSTON ISLAND' : 'USA',\n",
    "                                                 'NICARAGUA ' : 'NICARAGUA',\n",
    "                                                 'THE BALKANS' : 'CROATIA',\n",
    "                                                 'YEMEN ' : 'YEMEN',\n",
    "                                                 })"
   ]
  },
  {
   "cell_type": "code",
   "execution_count": 38,
   "metadata": {},
   "outputs": [
    {
     "data": {
      "text/plain": [
       "array(['USA', 'BRAZIL', 'AUSTRALIA', 'UNITED KINGDOM', 'SOUTH AFRICA',\n",
       "       'COSTA RICA', 'MALDIVES', 'BAHAMAS', 'NEW CALEDONIA', 'CUBA',\n",
       "       'MAURITIUS', 'NEW ZEALAND', 'SAMOA', 'JAPAN', 'SPAIN', 'ST HELENA',\n",
       "       'REUNION', 'UNITED ARAB EMIRATES', 'MEXICO', 'INDONESIA',\n",
       "       'COLUMBIA', 'EGYPT', 'FRENCH POLYNESIA', 'FIJI',\n",
       "       'DOMINICAN REPUBLIC', 'ECUADOR', 'MOZAMBIQUE', 'THAILAND',\n",
       "       'PUERTO RICO', 'FRANCE', 'PAPUA NEW GUINEA', 'ISRAEL', 'PALESTINE',\n",
       "       'JAMAICA', 'ITALY', 'ANTIGUA', 'RUSSIA', 'SEYCHELLES',\n",
       "       'TURKS & CAICOS', 'TONGA', 'SOUTH KOREA', 'VIETNAM', 'MADAGASCAR',\n",
       "       'GUAM', 'PANAMA', 'TAIWAN', 'CROATIA', 'PHILIPPINES',\n",
       "       'SOLOMON ISLANDS', 'YEMEN', 'ATLANTIC OCEAN', 'ST. MAARTIN',\n",
       "       'GRAND CAYMAN', 'VANUATU', 'VENEZUELA', 'MICRONESIA',\n",
       "       'MARSHALL ISLANDS', 'HONG KONG', 'CHILE', 'GREECE', 'GRENADA',\n",
       "       'IRAQ', 'MALAYSIA', 'BERMUDA', 'SENEGAL', 'TURKEY', 'SINGAPORE',\n",
       "       'NEW BRITAIN', 'PACIFIC OCEAN ', 'SOUTH PACIFIC OCEAN', 'PALAU',\n",
       "       'MID ATLANTIC OCEAN', 'TANZANIA', 'IRAN', 'NORTH PACIFIC OCEAN',\n",
       "       'NICARAGUA', 'ANDAMAN ISLANDS', 'PACIFIC OCEAN',\n",
       "       'NORTH ATLANTIC OCEAN ', 'ARGENTINA', 'EL SALVADOR', 'JAVA',\n",
       "       'CARIBBEAN SEA', 'SOUTH ATLANTIC OCEAN', 'INDIA', 'GUYANA',\n",
       "       'HAITI', 'IRELAND', 'MONTENEGRO', 'SRI LANKA', 'PARAGUAY',\n",
       "       'CANADA', 'TUVALU', 'GUINEA', 'MARTINIQUE', 'BARBADOS', 'RED SEA?'],\n",
       "      dtype=object)"
      ]
     },
     "execution_count": 38,
     "metadata": {},
     "output_type": "execute_result"
    }
   ],
   "source": [
    "#Checking that everything is ok\n",
    "sh_copy['country'].unique()"
   ]
  },
  {
   "cell_type": "code",
   "execution_count": 39,
   "metadata": {},
   "outputs": [],
   "source": [
    "#Dropping the few rows that have Ocean or Sea as a descriptor, as it is not exact enough to link it to a country\n",
    "sh_copy = sh_copy[~sh_copy['country'].str.contains('OCEAN|SEA', case=False)]"
   ]
  },
  {
   "cell_type": "code",
   "execution_count": 40,
   "metadata": {},
   "outputs": [],
   "source": [
    "#Abbrebiating the countries names so they are easier to read in a plot (really long dictionary, sorry, didn't find a better way to do it)\n",
    "sh_copy['country'] = sh_copy['country'].replace({'BRAZIL' : 'BRZ',\n",
    "                                                 'AUSTRALIA' : 'AUS',\n",
    "                                                 'UNITED KINGDOM' : 'UK',\n",
    "                                                 'SOUTH AFRICA' : 'SA',\n",
    "                                                 'COSTA RICA' : 'CR',\n",
    "                                                 'MALDIVES' : 'MAL',\n",
    "                                                 'BAHAMAS' : 'BAH',\n",
    "                                                 'NEW CALEDONIA' : 'NC',\n",
    "                                                 'CUBA' : 'CUB',\n",
    "                                                 'MAURITIUS' : 'MAU',\n",
    "                                                 'NEW ZEALAND' : 'NZ',\n",
    "                                                 'SAMOA' : 'SAM',\n",
    "                                                 'JAPAN': 'JP',\n",
    "                                                 'SPAIN' : 'ESP',\n",
    "                                                 'ST HELENA' : 'STH',\n",
    "                                                 'REUNION' : 'REU',\n",
    "                                                 'UNITED ARAB EMIRATES' : 'UAE',\n",
    "                                                 'MEXICO' : 'MEX',\n",
    "                                                 'INDONESIA' : 'INDO',\n",
    "                                                 'COLUMBIA' : 'COL',\n",
    "                                                 'EGYPT' : 'EGY',\n",
    "                                                 'FRENCH POLYNESIA' : 'FP',\n",
    "                                                 'DOMINICAN REPUBLIC' : 'DR',\n",
    "                                                 'ECUADOR' : 'ECU',\n",
    "                                                 'MOZAMBIQUE' : 'MOZ',\n",
    "                                                 'THAILAND' : 'THAI',\n",
    "                                                 'PUERTO RICO' : 'PR',\n",
    "                                                 'FRANCE' : 'FR',\n",
    "                                                 'PAPUA NEW GUINEA' : 'PNG',\n",
    "                                                 'ISRAEL' : 'ISR',\n",
    "                                                 'PALESTINE' : 'PAL',\n",
    "                                                 'JAMAICA' : 'JAM',\n",
    "                                                 'ITALY' : 'IT',\n",
    "                                                 'ANTIGUA' : 'ANT',\n",
    "                                                 'RUSSIA' : 'RUS',\n",
    "                                                 'SEYCHELLES' : 'SEY',\n",
    "                                                 'TURKS & CAICOS' : 'TC',\n",
    "                                                 'TONGA' : 'TONG',\n",
    "                                                 'SOUTH KOREA' : 'SK',\n",
    "                                                 'VIETNAM' : 'VN',\n",
    "                                                 'MADAGASCAR' : 'MAD',\n",
    "                                                 'GUAM' : 'GU',\n",
    "                                                 'PANAMA' : 'PAN',\n",
    "                                                 'TAIWAN' : 'TW',\n",
    "                                                 'CROATIA' : 'CRO',\n",
    "                                                 'PHILIPPINES' : 'PHI',\n",
    "                                                 'SOLOMON ISLANDS' : 'SI',\n",
    "                                                 'YEMEN' : 'YEM',\n",
    "                                                 'ST. MAARTIN' : 'STM',\n",
    "                                                 'GRAND CAYMAN' : 'GC',\n",
    "                                                 'VANUATU' : 'VAN',\n",
    "                                                 'VENEZUELA' : 'VEN',\n",
    "                                                 'MICRONESIA' : 'MIC',\n",
    "                                                 'MARSHALL ISLANDS' : 'MI',\n",
    "                                                 'HONG KONG' : 'HK',\n",
    "                                                 'CHILE' : 'CHI',\n",
    "                                                 'GREECE' : 'GR',\n",
    "                                                 'GRENADA' : 'GRE',\n",
    "                                                 'IRAQ' : 'IRQ',\n",
    "                                                 'MALAYSIA' : 'MAL',\n",
    "                                                 'BERMUDA' : 'BER',\n",
    "                                                 'SENEGAL' : 'SEN',\n",
    "                                                 'TURKEY' : 'TUR',\n",
    "                                                 'SINGAPORE' : 'SIN',\n",
    "                                                 'NEW BRITAIN' : 'NB',\n",
    "                                                 'JOHNSON ISLAND' : 'JI',\n",
    "                                                 'PALAU' : 'PAL',\n",
    "                                                 'TANZAIA' : 'TAN',\n",
    "                                                 'NICARAGUA' : 'NIC',\n",
    "                                                 'ANDAMAN ISLANDS' : 'AND',\n",
    "                                                 'TANZANIA' : 'TAN',\n",
    "                                                 'IRAN' : 'IRN',\n",
    "                                                 'ARGENTINA' : 'ARG',\n",
    "                                                 'EL SALVADOR' : 'ES',\n",
    "                                                 'JAVA' : 'JAV',\n",
    "                                                 'INDIA' : 'IND',\n",
    "                                                 'GUYANA' : 'GUY',\n",
    "                                                 'IRELAND' : 'IRL',\n",
    "                                                 'MONTENEGRO' : 'MONT',\n",
    "                                                 'YEMEN' : 'YEM',\n",
    "                                                 'SRI LANKA' : 'SL',\n",
    "                                                 'PARAGUAY' : 'PAR',\n",
    "                                                 'CANADA' : 'CAN',\n",
    "                                                 'TUVALU' : 'TUV',\n",
    "                                                 'GUINEA' : 'GUI',\n",
    "                                                 'MARTINIQUE' : 'MAR',\n",
    "                                                 'BARBADOS' : 'BAR',\n",
    "                                                })"
   ]
  },
  {
   "cell_type": "code",
   "execution_count": 41,
   "metadata": {},
   "outputs": [
    {
     "data": {
      "image/png": "[encoded data removed]",
      "text/plain": [
       "<Figure size 640x480 with 1 Axes>"
      ]
     },
     "metadata": {},
     "output_type": "display_data"
    }
   ],
   "source": [
    "#Plotting the top 20 countries with most attacks\n",
    "sh_copy['country'].value_counts().sort_values(ascending=False).head(20).plot(kind='bar')\n",
    "plt.xlabel('Country')\n",
    "plt.ylabel('Number of Attacks')\n",
    "plt.title('Top 20 Countries with Most Attacks')\n",
    "plt.show()"
   ]
  },
  {
   "cell_type": "markdown",
   "metadata": {},
   "source": [
    "As we can see, USA gets the prize here by a long run, with the rest of countries only having some attacks. "
   ]
  },
  {
   "cell_type": "markdown",
   "metadata": {},
   "source": [
    "We will continue with the Sex column."
   ]
  },
  {
   "cell_type": "code",
   "execution_count": 42,
   "metadata": {},
   "outputs": [
    {
     "data": {
      "text/plain": [
       "sex\n",
       "M      2325\n",
       "F       372\n",
       "M         1\n",
       "lli       1\n",
       "Name: count, dtype: int64"
      ]
     },
     "execution_count": 42,
     "metadata": {},
     "output_type": "execute_result"
    }
   ],
   "source": [
    "#Getting the value counts of the column\n",
    "sh_copy['sex'].value_counts()"
   ]
  },
  {
   "cell_type": "code",
   "execution_count": 43,
   "metadata": {},
   "outputs": [],
   "source": [
    "#Filling the nan values with the most common value\n",
    "sh_copy['sex'].fillna(value='M', inplace=True)"
   ]
  },
  {
   "cell_type": "code",
   "execution_count": 44,
   "metadata": {},
   "outputs": [],
   "source": [
    "#Replacing the non standard values with the correct ones\n",
    "sh_copy['sex'] = sh_copy['sex'].replace(['N', 'M ', 'lli', '.'], 'M')"
   ]
  },
  {
   "cell_type": "code",
   "execution_count": 45,
   "metadata": {},
   "outputs": [
    {
     "data": {
      "image/png": "[encoded data removed]",
      "text/plain": [
       "<Figure size 640x480 with 1 Axes>"
      ]
     },
     "metadata": {},
     "output_type": "display_data"
    }
   ],
   "source": [
    "sns.countplot(x='sex', data=sh_copy)\n",
    "plt.show()"
   ]
  },
  {
   "cell_type": "markdown",
   "metadata": {},
   "source": [
    "From the data, we get that more men are attacked than women, but we don't know if it is something that the sharks take in consideration."
   ]
  },
  {
   "cell_type": "markdown",
   "metadata": {},
   "source": [
    "Next, we start working with the age."
   ]
  },
  {
   "cell_type": "code",
   "execution_count": 46,
   "metadata": {},
   "outputs": [
    {
     "data": {
      "text/plain": [
       "age\n",
       "18          104\n",
       "19          103\n",
       "17           94\n",
       "15           89\n",
       "16           89\n",
       "           ... \n",
       "              1\n",
       "6½            1\n",
       "33 or 37      1\n",
       "mid-30s       1\n",
       "13 or 14      1\n",
       "Name: count, Length: 108, dtype: int64"
      ]
     },
     "execution_count": 46,
     "metadata": {},
     "output_type": "execute_result"
    }
   ],
   "source": [
    "#Getting the value counts of the column\n",
    "sh_copy['age'].value_counts()"
   ]
  },
  {
   "cell_type": "code",
   "execution_count": 47,
   "metadata": {},
   "outputs": [
    {
     "data": {
      "text/plain": [
       "array(['57', '48', '18', '15', '12', '32', '10', '21', nan, '30', '60',\n",
       "       '33', '37', '19', '25', '69', '55', '34', '35', '40s', '20', '54',\n",
       "       '14', '22', '31', '17', '40', '28', '42', '3', '11', '13', '50',\n",
       "       '46', '82', '41', '20s', '51', '39', '58', '26', 'Teen', '47',\n",
       "       '16', '61', '65', '73', '36', '66', '29', '43', '60s', '49', '59',\n",
       "       '6', '27', '64', '23', '52', '24', '45', '71', '9', '44', '7',\n",
       "       '62', '38', '68', '63', '70', '53', '8', 'teen', '77', '74', '56',\n",
       "       '30s', '5', '86', '18 or 20', '12 or 13', '36 & 26', '8 or 10',\n",
       "       '84', '\\xa0 ', ' ', '6½', '33 or 37', 'mid-30s', ' 30', ' 28',\n",
       "       '20?', \"60's\", '67', '21 or 26', '20 ', '>50', '9 & 12', '? & 19',\n",
       "       '(adult)', '25 or 28', '30 & 32', '13 or 18', '33 & 26',\n",
       "       'MAKE LINE GREEN', '9 or 10', '  ', '31 or 33', '13 or 14'],\n",
       "      dtype=object)"
      ]
     },
     "execution_count": 47,
     "metadata": {},
     "output_type": "execute_result"
    }
   ],
   "source": [
    "#Getting the unique values\n",
    "sh_copy['age'].unique()"
   ]
  },
  {
   "cell_type": "code",
   "execution_count": 48,
   "metadata": {},
   "outputs": [],
   "source": [
    "#Starting the cleaning process, by removing the s at the end of the numbers and getting rid of the dual ages.\n",
    "sh_copy['age'] = sh_copy['age'].str.split().str[0]\n",
    "sh_copy['age'] = sh_copy['age'].str.split().str[0].str.replace('s','')"
   ]
  },
  {
   "cell_type": "code",
   "execution_count": 49,
   "metadata": {},
   "outputs": [],
   "source": [
    "#Correcting the rest of the values\n",
    "sh_copy['age'] = sh_copy['age'].replace({\n",
    "                                        'Teen' : '15',\n",
    "                                         'teen' : '15',\n",
    "                                         '\\xa0' : '18',\n",
    "                                         ' ' : '18',\n",
    "                                         '6½' : '6',\n",
    "                                         'mid-30' : '35',\n",
    "                                         '20?' : '20',\n",
    "                                         \"60'\" : '60',\n",
    "                                         '>50' : '50',\n",
    "                                         '?' : '18',\n",
    "                                         '(adult)' : '30',\n",
    "                                         'MAKE' : '18',\n",
    "\n",
    "\n",
    "})"
   ]
  },
  {
   "cell_type": "code",
   "execution_count": 50,
   "metadata": {},
   "outputs": [],
   "source": [
    "#Filling the nan values with the more common value\n",
    "sh_copy['age'].fillna(value='18', inplace=True)"
   ]
  },
  {
   "cell_type": "code",
   "execution_count": 51,
   "metadata": {},
   "outputs": [
    {
     "data": {
      "text/plain": [
       "<Axes: xlabel='age', ylabel='Density'>"
      ]
     },
     "execution_count": 51,
     "metadata": {},
     "output_type": "execute_result"
    },
    {
     "data": {
      "image/png": "[encoded data removed]",
      "text/plain": [
       "<Figure size 640x480 with 1 Axes>"
      ]
     },
     "metadata": {},
     "output_type": "display_data"
    }
   ],
   "source": [
    "#Plotting to see the data\n",
    "sns.distplot(sh_copy['age'], bins=24)"
   ]
  },
  {
   "cell_type": "markdown",
   "metadata": {},
   "source": [
    "From the graph, we can see that the most attacks were performed on people around the age 18 to 20."
   ]
  },
  {
   "cell_type": "markdown",
   "metadata": {},
   "source": [
    "Next, we tackle the fatal column"
   ]
  },
  {
   "cell_type": "code",
   "execution_count": 52,
   "metadata": {},
   "outputs": [
    {
     "data": {
      "text/plain": [
       "fatal\n",
       "N          2192\n",
       "Y           459\n",
       "UNKNOWN       4\n",
       " N            3\n",
       "M             1\n",
       "2017          1\n",
       "Name: count, dtype: int64"
      ]
     },
     "execution_count": 52,
     "metadata": {},
     "output_type": "execute_result"
    }
   ],
   "source": [
    "#Getting the value counts of the column\n",
    "sh_copy['fatal'].value_counts()"
   ]
  },
  {
   "cell_type": "code",
   "execution_count": 53,
   "metadata": {},
   "outputs": [],
   "source": [
    "#Filling the nan values with the most common value\n",
    "sh_copy['fatal'].fillna(value='N', inplace=True)"
   ]
  },
  {
   "cell_type": "code",
   "execution_count": 54,
   "metadata": {},
   "outputs": [],
   "source": [
    "#Getting rid of the invalid values\n",
    "sh_copy['fatal'] = sh_copy['fatal'].replace({'M' : 'N',\n",
    "                                             'UNKNOWN' : 'N',\n",
    "                                             ' N' : 'N',\n",
    "                                             '2017' : 'N',})"
   ]
  },
  {
   "cell_type": "code",
   "execution_count": 55,
   "metadata": {},
   "outputs": [
    {
     "data": {
      "image/png": "[encoded data removed]",
      "text/plain": [
       "<Figure size 640x480 with 1 Axes>"
      ]
     },
     "metadata": {},
     "output_type": "display_data"
    }
   ],
   "source": [
    "#Plotting the column\n",
    "sns.countplot(x='fatal', data=sh_copy)\n",
    "plt.show()"
   ]
  },
  {
   "cell_type": "markdown",
   "metadata": {},
   "source": [
    "As we can see from the graph, most of the attacks were non fatal and the person survived it."
   ]
  },
  {
   "cell_type": "markdown",
   "metadata": {},
   "source": [
    "Next, we will tackle the year column"
   ]
  },
  {
   "cell_type": "code",
   "execution_count": 56,
   "metadata": {},
   "outputs": [
    {
     "data": {
      "text/plain": [
       "year\n",
       "2015.0    105\n",
       "2017.0     97\n",
       "2012.0     91\n",
       "2016.0     89\n",
       "2011.0     86\n",
       "         ... \n",
       "1890.0      1\n",
       "1894.0      1\n",
       "1909.0      1\n",
       "1918.0      1\n",
       "1892.0      1\n",
       "Name: count, Length: 157, dtype: int64"
      ]
     },
     "execution_count": 56,
     "metadata": {},
     "output_type": "execute_result"
    }
   ],
   "source": [
    "#Checking the value counts of the column\n",
    "sh_copy['year'].value_counts()"
   ]
  },
  {
   "cell_type": "code",
   "execution_count": 57,
   "metadata": {},
   "outputs": [
    {
     "data": {
      "text/plain": [
       "array([2018., 2017., 2016., 2015., 2014., 2013., 2012., 2011., 2010.,\n",
       "       2009., 2008., 2007., 2006., 2005., 2004., 2003., 2002., 2001.,\n",
       "       2000., 1999., 1998., 1997., 1996., 1995., 1984., 1994., 1993.,\n",
       "       1992., 1991., 1990., 1989., 1988., 1987., 1986., 1985., 1983.,\n",
       "       1982., 1981., 1980., 1979., 1978., 1977., 1976., 1975., 1974.,\n",
       "       1973., 1972., 1971., 1970., 1969., 1968., 1967., 1966., 1965.,\n",
       "       1964., 1963., 1962., 1961., 1960., 1959., 1958., 1957., 1956.,\n",
       "       1955., 1954., 1953., 1952., 1951., 1950., 1949., 1948., 1947.,\n",
       "       1946., 1945., 1944., 1943., 1942., 1941., 1940., 1939., 1938.,\n",
       "       1937., 1936., 1935., 1934., 1933., 1932., 1931., 1930., 1929.,\n",
       "       1928., 1927., 1926., 1925., 1924., 1923., 1922., 1921., 1920.,\n",
       "       1919., 1918., 1917., 1916., 1914., 1912., 1911., 1910., 1909.,\n",
       "       1907., 1906., 1905., 1902., 1901., 1900., 1899., 1898., 1897.,\n",
       "       1896., 1895., 1894., 1893., 1892., 1891., 1890., 1889., 1888.,\n",
       "       1887., 1886., 1885., 1884., 1883., 1882., 1881., 1880., 1878.,\n",
       "       1877., 1874., 1872., 1871., 1865., 1864., 1863., 1862., 1861.,\n",
       "       1860., 1858., 1852., 1849., 1841., 1837., 1830., 1829., 1817.,\n",
       "       1784., 1783., 1703.,    0.])"
      ]
     },
     "execution_count": 57,
     "metadata": {},
     "output_type": "execute_result"
    }
   ],
   "source": [
    "#Checking the unique values\n",
    "sh_copy['year'].unique()"
   ]
  },
  {
   "cell_type": "code",
   "execution_count": 58,
   "metadata": {},
   "outputs": [],
   "source": [
    "#Cleaning the column of the dots\n",
    "sh_copy['year'] = sh_copy['year'].astype(str).str.split('.').str[0]"
   ]
  },
  {
   "cell_type": "code",
   "execution_count": 59,
   "metadata": {},
   "outputs": [
    {
     "name": "stdout",
     "output_type": "stream",
     "text": [
      "6\n"
     ]
    },
    {
     "data": {
      "text/html": [
       "<div>\n",
       "<style scoped>\n",
       "    .dataframe tbody tr th:only-of-type {\n",
       "        vertical-align: middle;\n",
       "    }\n",
       "\n",
       "    .dataframe tbody tr th {\n",
       "        vertical-align: top;\n",
       "    }\n",
       "\n",
       "    .dataframe thead th {\n",
       "        text-align: right;\n",
       "    }\n",
       "</style>\n",
       "<table border=\"1\" class=\"dataframe\">\n",
       "  <thead>\n",
       "    <tr style=\"text-align: right;\">\n",
       "      <th></th>\n",
       "      <th>year</th>\n",
       "      <th>type</th>\n",
       "      <th>country</th>\n",
       "      <th>activity</th>\n",
       "      <th>sex</th>\n",
       "      <th>age</th>\n",
       "      <th>fatal</th>\n",
       "      <th>time</th>\n",
       "      <th>species</th>\n",
       "    </tr>\n",
       "  </thead>\n",
       "  <tbody>\n",
       "    <tr>\n",
       "      <th>6200</th>\n",
       "      <td>0</td>\n",
       "      <td>Unprovoked</td>\n",
       "      <td>USA</td>\n",
       "      <td>Shark tagging</td>\n",
       "      <td>F</td>\n",
       "      <td>21</td>\n",
       "      <td>N</td>\n",
       "      <td>18</td>\n",
       "      <td>Blacktip shark, 5'</td>\n",
       "    </tr>\n",
       "    <tr>\n",
       "      <th>6241</th>\n",
       "      <td>0</td>\n",
       "      <td>Unprovoked</td>\n",
       "      <td>IRQ</td>\n",
       "      <td>Fishing from a small boat &amp; put his hand in th...</td>\n",
       "      <td>M</td>\n",
       "      <td>25</td>\n",
       "      <td>N</td>\n",
       "      <td>12</td>\n",
       "      <td>NaN</td>\n",
       "    </tr>\n",
       "    <tr>\n",
       "      <th>6242</th>\n",
       "      <td>0</td>\n",
       "      <td>Unprovoked</td>\n",
       "      <td>IRQ</td>\n",
       "      <td>Swimming naked near a date palm where many dat...</td>\n",
       "      <td>M</td>\n",
       "      <td>6</td>\n",
       "      <td>N</td>\n",
       "      <td>12</td>\n",
       "      <td>Bull shark</td>\n",
       "    </tr>\n",
       "    <tr>\n",
       "      <th>6243</th>\n",
       "      <td>0</td>\n",
       "      <td>Unprovoked</td>\n",
       "      <td>IRQ</td>\n",
       "      <td>Swimming in section of river used for washing ...</td>\n",
       "      <td>M</td>\n",
       "      <td>16</td>\n",
       "      <td>N</td>\n",
       "      <td>12</td>\n",
       "      <td>Bull shark</td>\n",
       "    </tr>\n",
       "    <tr>\n",
       "      <th>6259</th>\n",
       "      <td>0</td>\n",
       "      <td>Sea Disaster</td>\n",
       "      <td>USA</td>\n",
       "      <td>A group of survivors on a raft for 17-days</td>\n",
       "      <td>M</td>\n",
       "      <td>18</td>\n",
       "      <td>Y</td>\n",
       "      <td>12</td>\n",
       "      <td>1.2 m [4'] shark</td>\n",
       "    </tr>\n",
       "    <tr>\n",
       "      <th>6265</th>\n",
       "      <td>0</td>\n",
       "      <td>Unprovoked</td>\n",
       "      <td>IRQ</td>\n",
       "      <td>Swimming</td>\n",
       "      <td>M</td>\n",
       "      <td>13</td>\n",
       "      <td>Y</td>\n",
       "      <td>12</td>\n",
       "      <td>Bull shark</td>\n",
       "    </tr>\n",
       "  </tbody>\n",
       "</table>\n",
       "</div>"
      ],
      "text/plain": [
       "     year          type country  \\\n",
       "6200    0    Unprovoked     USA   \n",
       "6241    0    Unprovoked     IRQ   \n",
       "6242    0    Unprovoked     IRQ   \n",
       "6243    0    Unprovoked     IRQ   \n",
       "6259    0  Sea Disaster     USA   \n",
       "6265    0    Unprovoked     IRQ   \n",
       "\n",
       "                                               activity sex age fatal  time  \\\n",
       "6200                                      Shark tagging   F  21     N    18   \n",
       "6241  Fishing from a small boat & put his hand in th...   M  25     N    12   \n",
       "6242  Swimming naked near a date palm where many dat...   M   6     N    12   \n",
       "6243  Swimming in section of river used for washing ...   M  16     N    12   \n",
       "6259         A group of survivors on a raft for 17-days   M  18     Y    12   \n",
       "6265                                           Swimming   M  13     Y    12   \n",
       "\n",
       "                 species  \n",
       "6200  Blacktip shark, 5'  \n",
       "6241                 NaN  \n",
       "6242          Bull shark  \n",
       "6243          Bull shark  \n",
       "6259    1.2 m [4'] shark  \n",
       "6265          Bull shark  "
      ]
     },
     "execution_count": 59,
     "metadata": {},
     "output_type": "execute_result"
    }
   ],
   "source": [
    "#Checking the rows with values 0\n",
    "print(sh_copy['year'].value_counts()['0'])\n",
    "sh_copy[sh_copy['year'] == '0']"
   ]
  },
  {
   "cell_type": "code",
   "execution_count": 60,
   "metadata": {},
   "outputs": [],
   "source": [
    "#Correcting the values using the info from the date column\n",
    "sh_copy.loc[6200, 'year'] = '2008'\n",
    "sh_copy.loc[6241, 'year'] = '1960'\n",
    "sh_copy.loc[6242, 'year'] = '1960'\n",
    "sh_copy.loc[6243, 'year'] = '1960'\n",
    "sh_copy.loc[6259, 'year'] = '1943'\n",
    "sh_copy.loc[6265, 'year'] = '1942'"
   ]
  },
  {
   "cell_type": "code",
   "execution_count": 61,
   "metadata": {},
   "outputs": [],
   "source": [
    "#Converting the values to datetime format\n",
    "sh_copy['year'] = pd.to_datetime(sh_copy['year'], format=\"%Y\").dt.year"
   ]
  },
  {
   "cell_type": "code",
   "execution_count": 62,
   "metadata": {},
   "outputs": [
    {
     "data": {
      "text/plain": [
       "<Axes: xlabel='year', ylabel='Density'>"
      ]
     },
     "execution_count": 62,
     "metadata": {},
     "output_type": "execute_result"
    },
    {
     "data": {
      "image/png": "[encoded data removed]",
      "text/plain": [
       "<Figure size 640x480 with 1 Axes>"
      ]
     },
     "metadata": {},
     "output_type": "display_data"
    }
   ],
   "source": [
    "#Plotting the column\n",
    "sns.distplot(sh_copy['year'], bins=24)"
   ]
  },
  {
   "cell_type": "markdown",
   "metadata": {},
   "source": [
    "As we can see from the plot, most of the attacks were made during the 2000s and 2010s, maybe it can be linked to more data collected during the most recent years."
   ]
  },
  {
   "cell_type": "markdown",
   "metadata": {},
   "source": [
    "For the next part, we will tackle the Activity column."
   ]
  },
  {
   "cell_type": "code",
   "execution_count": 63,
   "metadata": {},
   "outputs": [
    {
     "data": {
      "text/plain": [
       "activity\n",
       "Surfing                                                          724\n",
       "Swimming                                                         428\n",
       "Spearfishing                                                     157\n",
       "Fishing                                                          109\n",
       "Wading                                                           104\n",
       "                                                                ... \n",
       "Hookah diving for pen shells                                       1\n",
       "Preparing to fish for jack-mackerel                                1\n",
       "Fell from cliff while fishing & disappeared in strong current      1\n",
       "Kneeling in the water                                              1\n",
       "A group of survivors on a raft for 17-days                         1\n",
       "Name: count, Length: 583, dtype: int64"
      ]
     },
     "execution_count": 63,
     "metadata": {},
     "output_type": "execute_result"
    }
   ],
   "source": [
    "#Getting the value counts of the column\n",
    "sh_copy['activity'].value_counts()"
   ]
  },
  {
   "cell_type": "code",
   "execution_count": 64,
   "metadata": {},
   "outputs": [
    {
     "data": {
      "text/plain": [
       "array(['Paddling', 'Surfing', 'Swimming', 'Walking', 'Standing',\n",
       "       'Feeding sharks', 'Fishing', 'Scuba diving', 'Paddle-skiing',\n",
       "       'Windsurfing', 'Stand-Up Paddleboarding', 'Wading',\n",
       "       'Kayak fishing for sharks', nan, 'Spearfishing', 'Diving',\n",
       "       'Night bathing', 'Surfing ', 'Kayaking / Fishing', 'Kayaking',\n",
       "       'Snorkeling', 'Scuba Diving', 'Swimming, poaching abalone', 'SUP',\n",
       "       'Skimboarding', 'Body boarding', 'Paddle boarding', 'Kakaying',\n",
       "       'Grabbing shark for a selfie', 'Surf skiing ', 'Free diving',\n",
       "       'Surf fishing', 'Floating', 'Surfng', 'Kite surfing',\n",
       "       'Boogie boarding', 'SUP Foil boarding', 'Floating in tube',\n",
       "       'Teasing a shark', 'Surf-skiing', 'Body surfing',\n",
       "       'Diving for beche-de-mer', 'Kayak Fishing', 'Swimming / Wading',\n",
       "       'Photographing fish', 'Scallop diving on hookah', 'Body boarding ',\n",
       "       'Playing in the water', 'Body Boarding', 'Body surfing?',\n",
       "       'Playing', 'Standing / Snorkeling', 'Hand feeding sharks',\n",
       "       'Rowing', 'Shark fishing', 'Swimming after falling overboard',\n",
       "       'Fishing for blue sharks', 'Body surfing or Boogie boarding',\n",
       "       'Kayaking ', 'Fishing ', 'Shark diving', 'Kneeling in the water',\n",
       "       'Diving for lobsters', 'Kite Surfing', 'Kitesurfing', 'Sailing',\n",
       "       'Spearfishing / Free diving', 'Kiteboarding',\n",
       "       'Diving for crayfish', 'Diving ', 'Swimming / snorkeling',\n",
       "       'Diving for Abalone', 'Casting a net',\n",
       "       'Longline fishing for sharks', 'Wrangling a shark',\n",
       "       'Cleaning fish', 'Walking in surf', 'Swimming & snorkeling',\n",
       "       'Boogie Boarding', 'Playing in the surf', 'Kite boarding',\n",
       "       \"Fishing - 'tag & release'\", 'Bodyboarding',\n",
       "       'Swimming or boogie boarding', 'Sitting in the water',\n",
       "       'Attempting to rescue an injured & beached shark',\n",
       "       'Free diving / spearfishing', 'Crayfishing',\n",
       "       'Diving, feeding sharks', 'Canoeing', 'Wade fishing',\n",
       "       'Jumping in the waves', 'Wade Fishing',\n",
       "       'Standing, collecting sea stars', 'Floating ',\n",
       "       'Swimming or Snorkeling', 'Kayaking or Wave skiing', 'Jet skiing',\n",
       "       'Standing or boogie boardin', 'Kite Boarding',\n",
       "       'Washing sand off a speared fish', 'Diving / fishing',\n",
       "       'Wakeboarding', 'Diving for abalone', 'Swimming /  Whale Watching',\n",
       "       'Rescuing', 'Measuring sharks', 'Swimming / treading water',\n",
       "       'Surf fishing / wading', 'Spearfishing (free diving)', 'Bathing',\n",
       "       'Paddling on kneeboard', 'Paddle-boarding',\n",
       "       'Swimming, attempting to rescue a girl  believed to be drowning',\n",
       "       'Paddle-surfing', 'Crawling', 'Crabbing',\n",
       "       'Swimming, towing surfboard', 'Treading water',\n",
       "       'Swimming or surfing', 'Night diving',\n",
       "       'Walking out of the water after surfing',\n",
       "       \"Accidentally stood on hooked shark's tail before attempting to gut it \",\n",
       "       'Attempting to chase shark out to sea',\n",
       "       'The 426-ton cargo ship Mia, laden with cement, capsized in heavy seas ',\n",
       "       'Wading?', 'Jumping',\n",
       "       'Floating near boat & observing bioluminesce',\n",
       "       'Jumped into the water', 'Reviving a sedated shark',\n",
       "       'Swimming / jumping off a jetty', 'Playing on a sandbar', 'Murder',\n",
       "       'Shrimping', 'Swimming / Body Surfing', 'Sea Disaster',\n",
       "       'Playing soccer in the water', 'Lifesaving drill',\n",
       "       'Tagging sharks', 'Night Surfing', 'Fishing for sharks',\n",
       "       'Standing / Surfing', 'Treading water/ Surfing',\n",
       "       'Boogie boarding, kicked at object in the water',\n",
       "       'Holding onto an inflatable boat', 'Swimming with boogie board',\n",
       "       'Spearfishing (Free diving)', \"Crouching in 2' of water\",\n",
       "       'Diving in aquarium display tank',\n",
       "       'Attempting to drive shark away from sailing regatta',\n",
       "       'Fishing from a kayak',\n",
       "       'Scurfing (surfboard being  towed behind a boat)',\n",
       "       'Chumming for white sharks', 'Spearfishing/ filming',\n",
       "       'Wading / fishing & carrying a bag of fish',\n",
       "       'Swimming, poaching perlemoen', 'Boogie-boarding / swimming',\n",
       "       'Free diving & spearfishing', 'Tandem surfing',\n",
       "       'Kayaking (returning from spearfishing)',\n",
       "       'Air disaster. Flash Airlines Boeing 737 crashed into the Red Sea',\n",
       "       'Swimming / shipwreck', 'Surfing amid a shoal of sharks',\n",
       "       'Sitting on surfboard', 'Wading near a fishing net',\n",
       "       'Wading to shore from his boat', 'Standing, stepped on shark',\n",
       "       'Swimming, wearing black wetsuit & swim fins',\n",
       "       'Walking, carrying surfboard & stepped on shark',\n",
       "       'Swimming with pod of dolphins', 'Swimming ',\n",
       "       'Swimming (using a float)', 'Fishing from Surfboard',\n",
       "       'Surf skiing', 'Wading, when he stepped on the shark',\n",
       "       'Floating on a raft', 'Fishing, removing the shark from his line',\n",
       "       'Playing in the surf with his 2 dogs',\n",
       "       'Scallop diving (using surface-supplied air & a POD) ',\n",
       "       'Surfing, but standing in water alongside board', 'Body-boarding',\n",
       "       'Swimming /  boogie boarding',\n",
       "       'Surfing, fell off surfboard & stepped on the shark.',\n",
       "       'Wreck / Technical diving', 'Walking in shallows',\n",
       "       'Floating face-down in knee-deep water',\n",
       "       'Standing alongside surfboard',\n",
       "       'Swimming back from anchored sailboat', 'Standing / surfing',\n",
       "       'Swimming / Body surfing', 'Windsurfing, but sitting on his board',\n",
       "       'Surfing / Wading',\n",
       "       'Spearfishing, holding mesh bag with speared fish',\n",
       "       'Boogie boarding / wading',\n",
       "       'Spearfishing, but swimming at surface',\n",
       "       'Surfing, lying on surfboard', 'Wading to shore after surfing',\n",
       "       'Wading with surfboard', \"Lying prone in 2' of water\",\n",
       "       'Spearfishing & holding catch', 'Swimming with dolphins',\n",
       "       'Wading in school of baitfish', 'Splashing / wading',\n",
       "       'Swimming after being swept into sea by a large wave',\n",
       "       'Swimming, towing a kayak', 'Swimming near pod of whales',\n",
       "       'Fishing / washing bait off hands', 'Free diving for abalone',\n",
       "       'Swimming / surfing', 'Towing rubber dinghy',\n",
       "       'Snorkeling \\x96 hunting crayfish and abalone',\n",
       "       'Swimming or paddle boarding',\n",
       "       'Scuba diving (submerged riding a scooter)',\n",
       "       'Body boarding or surfing', 'Walking / surfing',\n",
       "       'Surfing (sitting on his board)', 'Floating on raft',\n",
       "       'Wading / Surfing', 'Spearfishing / night diving',\n",
       "       'Body surfing, stood up on sandbar', 'Surfing / Swimming',\n",
       "       'Free diving with a pod of dolphins', 'Shell Diving',\n",
       "       'Swimming breast stoke', 'Dived naked into the water on a bet',\n",
       "       'Swimming with mask & snorkel', 'Chumming for sharks',\n",
       "       'Playing / standing',\n",
       "       'Abalone diving using Hookah (near calving whales)',\n",
       "       'Abalone diving using Hookah (resting on the surface)',\n",
       "       'Scuba diving (ascending using scooter)',\n",
       "       'Scuba diving for bivalves', 'Surfing, sitting on board',\n",
       "       'Commercial diver (submerged or treading water)',\n",
       "       'Surfing, paddling seawards', 'Jumped off rocks into white water',\n",
       "       'Freediving for seashells',\n",
       "       'Swimming alongside NOAA research vessel Discoverer',\n",
       "       'Hookah diving', 'Surfing, paddling shorewards',\n",
       "       'Watching the shark feeding on a dead pinniped',\n",
       "       'Riding floatation device', 'Free diving for abalone (ascending)',\n",
       "       'Paddling on surfboard or body board',\n",
       "       'Scuba diving at seal colony', 'Floating on his back',\n",
       "       'Paddling on surfboard', 'Free diving & spearfishing (ascending)',\n",
       "       'Sea disaster', 'Lying on surfboard', 'Spearfishing / free diving',\n",
       "       'Scuba diving (submerged)', 'Hookah diving for sea urchins',\n",
       "       'Fell from cliff while fishing & disappeared in strong current',\n",
       "       'Preparing to fish for jack-mackerel',\n",
       "       'Hookah diving for pen shells ',\n",
       "       'Fishing for yellowtail, Seriola quinqueradiata',\n",
       "       'Diving for pen shells',\n",
       "       'Fishing from rocks, swept out to sea by large wave & treading water',\n",
       "       'Finning the shark that bit him', 'Swimming behind sailboat',\n",
       "       'Surfing, collided with shark', 'Scuba diving (but on surface)',\n",
       "       'Free diving / spearfishing, from paddleboard & floating on the surface',\n",
       "       'Resting on surfboard', 'Lying on surfboard & paddling',\n",
       "       'Scuba diving & spearfishing',\n",
       "       'Wading, knocked down & swept away by large waves',\n",
       "       \"Fishing, stepped on hooked shark's head\",\n",
       "       'Hookah diving for abalone (descending)', 'Feeding fish',\n",
       "       'Windsurfing (urinating on his board)',\n",
       "       'Surfing (lying prone on his board)',\n",
       "       'Scuba diving, but swimming on surface', 'Surfing with dolphins',\n",
       "       'The Christie V sank on 11/6/1988, survivors were adrift on a dinghy',\n",
       "       'Sittting in water with his child', 'Surfing / treading water',\n",
       "       'pêcheur de bichiques', 'Lying atop surfboard',\n",
       "       \"Attempting to lasso shark's tail\",\n",
       "       'Free diving  & spearfishing (submerged)', 'Racing ski',\n",
       "       'Hookah diving for abalone', 'Free diving for scallops',\n",
       "       'Scuba Diving for lobster (at surface)',\n",
       "       'Sailing on catamaran & fell into the water',\n",
       "       'Surfing or body surfing', 'Free diving , but surfacing',\n",
       "       'Skindiving',\n",
       "       \"During a shark fishing tournament, the 18' Boatem was capsized by waves, throwing 3 men into the water \",\n",
       "       'Towing her sister on plastic ski board',\n",
       "       'Swimming from the New Venture ',\n",
       "       '14 m prawn trawler New Venture capsized  & sank in heavy seas Three people in the water',\n",
       "       'Surfing & dangling foot in water amid baitfish', 'Water-skiing',\n",
       "       'Paddleskiing', 'Free diving for abalone from Zodiac (submerged)',\n",
       "       'Paddle Boarding', 'Snorkeling on surface', 'Shell diving',\n",
       "       'Standing / Wading', 'Free diving Spearfishing',\n",
       "       'Sinking of the ferryboat Don Juan', 'Hookah Diving',\n",
       "       'Floating with life preserver after his boat foundered',\n",
       "       'Fishing for mackerel',\n",
       "       'Swimming, after single-engine aircraft went down in the sea',\n",
       "       'Free diving for abalone (surfacing)', \"40' fishing boat sank\",\n",
       "       'Spearfishing / Scuba diving',\n",
       "       'Hookah diving for abalone (submerged)',\n",
       "       'Thrashing the water / imitating the shark victim from \"Jaws\"',\n",
       "       'Fishing for snoek & yellowtail',\n",
       "       'Floating on a small orange raft ', 'Scuba diving for abalone',\n",
       "       'Scuba diving for abalone (at surface)',\n",
       "       'Spearfishing Competition',\n",
       "       'Swimming underwater from crayfish cage to a fishing bait',\n",
       "       'Free diving (but on surface)', 'Fishing for kob',\n",
       "       'Swimming alongside yacht Mexico Fiesta',\n",
       "       'Free diving, Spearfishing', 'Sitting in shallows',\n",
       "       'Scuba diving & feeding fish', 'Fishing for prawns',\n",
       "       'Sea Disaster Sinking of ferryboat Christina',\n",
       "       'Washing cooking pans',\n",
       "       'Fishing, trying to catch the end of his fishing line',\n",
       "       'Freediving for abalone (at surface)', 'Surf-fishing',\n",
       "       'Freediving', 'Feeding mullet to sharks',\n",
       "       'Playing with a frisbee in the shallows', 'Leaving the water',\n",
       "       'Dynamite fishing', 'Spearfishing using Scuba', 'Clamming',\n",
       "       'Wading & pushing dinghy toward  the shallows',\n",
       "       'Standing on sandbar', 'Pulling shark from the water',\n",
       "       'Spearfishing, dived to pick up a float line',\n",
       "       'Anti-sabotage night dive exercise alongside destroyer (Scuba diving)',\n",
       "       'Photographing sharks underwater using Scuba',\n",
       "       'Beach seine netting', 'Feeding a shark',\n",
       "       'The shrimper Loless Maurine capsized in heavy seas & the men were swimming ashore  ',\n",
       "       'Free diving, carrying speargun', 'Diving into water',\n",
       "       'Lobster diving using Scuba', 'Spearfishing on Scuba',\n",
       "       'Killing a shark', 'Sinking of the dredge World Atlas',\n",
       "       'Helping men land a shark', 'Body surfing ',\n",
       "       'Argentine Air Force C-54', 'Fishing (rod & line)',\n",
       "       'Walking on reef', 'Aircraft exploded', 'Paddling rescue ski',\n",
       "       'Canoe swamped, swimming back to canoe', 'Free diving with seals',\n",
       "       'Swimming out to rescue swimmers in difficulty',\n",
       "       'Longline fishing', 'Boat Miss Becky  sank 12 miles from shore',\n",
       "       'Surfing, but swimming to his board',\n",
       "       'Floating on his back in an inner tube',\n",
       "       'Spearfishing using scuba',\n",
       "       'Attempting to swim across the Atlantic Ocean', 'Skin diving ',\n",
       "       'preparing to go skin diving', 'Shark watching',\n",
       "       'Spearfishing / Scuba diving (at surface)',\n",
       "       'Helping friend land hooked shark', 'Splashing in surf',\n",
       "       'Treading water while alongside capsized yacht',\n",
       "       'Fishing / standing in waist deep water', 'Spearing fish',\n",
       "       'Testing anti-shark cage', 'Surf fishing, wading ',\n",
       "       'Spearfishing, pulled shark\\x92s tail',\n",
       "       'The 500-ton coastal trader Polurrian foundered ',\n",
       "       'Free diving, hunting crayfish', 'Spearfishing with Scuba gear',\n",
       "       'Surf fishing in waist-deep water', 'Finning the shark',\n",
       "       'Fishing for albacore', 'Playing in surf with his child  (9)',\n",
       "       'Dived from inner-tube', 'On a \"shark hunt\"', 'Rolled off raft',\n",
       "       'Escaping from Alacatraz', 'Washing',\n",
       "       'Scuba diving, attempting to catch a captive shark', 'Splashing ',\n",
       "       'Fishing, slipped on rocks & fell into sea',\n",
       "       \"Fishing with hand net in 2' of water\",\n",
       "       'Surfing, pushing board ashore',\n",
       "       'Swimming with other crew near wharf',\n",
       "       'Free diving, surveying a pipeline & examing cathodes under jetty',\n",
       "       'Net fishing, picking catch from the net',\n",
       "       'Scuba diving & spearfishing ', 'Walking in chest-deep water',\n",
       "       'Checking fish traps, fell into the water',\n",
       "       'Swimming, using bundles of sticks as raft', 'Floating on back',\n",
       "       'Spearfishing, shark grabbed his white t-shirt and towed him ',\n",
       "       'Collecting aquarium specimens',\n",
       "       'Fishing, when line became snagged on rock & he dived into water to free it ',\n",
       "       'Chasing shark out of bathing area while riding on a surf-ski',\n",
       "       'Ejected from F3H-2 aircraft ', 'Free diving / Spearfishing',\n",
       "       'Swimming 3 miles offshore', 'Standing in knee-deep water',\n",
       "       'Holding shark on leader & dangling it above the water',\n",
       "       'Fishing, tossing netted shark onboard',\n",
       "       'Diving for shells, saw shark circling wife near the surface, intercepted shark & it pulled him beneath the water',\n",
       "       'Spearfishing, free diving, possibly ascended into path of cruising shark',\n",
       "       'Free diving but treading water at surface',\n",
       "       'Skindiving for abalone (but at surface)',\n",
       "       'Speared a grouper, saw shark but it came for him instead of the fish so he fired spear into shark\\x92s mouth. Then shark took grouper but unable to swallow because of the spear in its mouth.',\n",
       "       'Spearfishing, carrying fish on belt',\n",
       "       'Wading, fishing for flounder',\n",
       "       'S2F-1 airplane crashed immediately after carrier take-off',\n",
       "       'Setting crayfish pots',\n",
       "       'Dived from dinghy to retrieve oar in heavy seas',\n",
       "       'ship M.V. Rizal sank during typhoon', 'Fishing for snapper',\n",
       "       'Standing in chest-deep water',\n",
       "       'Trailing the field in a surf race',\n",
       "       'National Airlines DC7B enroute from Miami to Los Angeles with 42 or 46 people on board went down in heavy fog',\n",
       "       \"Adrift, hanging onto cushion, after his 17' skiff ran out of gas & capsized 3 miles from shore\",\n",
       "       'Pulling hooked salmon to boat',\n",
       "       'The 240-ton motor vessel Pilar II with 100 people on board capsized in high winds & rough seas',\n",
       "       'Fishing boat capsized ', 'Pulling anchor',\n",
       "       'Spearfishing (but on surface)', 'Bathing with sister',\n",
       "       'Working prawn net', 'In deep water about 100 yards from his ship',\n",
       "       'Surfing, but treading water',\n",
       "       'Swimming ashore from fishing boat swamped and sunk by a squall',\n",
       "       'Surfing on air mattress', 'Cleaning hull of ship ',\n",
       "       '\"Climbing up to ship after repairing the stern in water\"',\n",
       "       'Boat stopped to repair electric pump',\n",
       "       'Swimming, ducking for shells in water 0.9 m deep',\n",
       "       'Spearfishing, had fish on his spear',\n",
       "       'Paddling in knee-deep water', 'Swimming with goggles',\n",
       "       'Competing in spearfishing championship & towing dead fish',\n",
       "       'Swimming between  anchored  pearling luggers',\n",
       "       'Skindiving, fish at belt', 'Swimming near pier',\n",
       "       'Free diving for crayfish', 'Floating in inner tube',\n",
       "       'Swimming, attacked at  surf carnival', 'Hunting turtle',\n",
       "       \"Competing in U/W endurance record, standing beside drum in 10' of water\",\n",
       "       'Hunting lobsters in 2.4 m of water',\n",
       "       'Crossing the bay at the ford', 'Swimming near canoe',\n",
       "       'Fishing trawler Flavio Gioia ',\n",
       "       'Pearl diving from lugger Whyalla', 'Crouching in the water',\n",
       "       'Swimming or wading out  to warn bathers that a shark had been seen',\n",
       "       'Accidentally dragged overboard from the sampan Holokahana into school of yellowfin tuna',\n",
       "       'Fishing, setting nets', 'Body surfing & treading water',\n",
       "       'Spearfishing, carrying fish on spear', 'Fishing for white sharks',\n",
       "       'Fishing for squid', 'Fell off surf ski',\n",
       "       'Body surfing / treading water',\n",
       "       'Jerked overboard while pole fishing for tuna',\n",
       "       'Survived crash of two-engine  C-46 transport plane carrying 62 migrant workers from Puerto Rico to USA ',\n",
       "       'Fishing, one of three fishermen swept into the sea by a large wave ',\n",
       "       'Bathing ', 'Free diving or wading back to shore',\n",
       "       'Swimming near shore', 'Bathing in water 0.9 m deep',\n",
       "       'Lifesaving exhibition', 'Treading water, waiting for a wave',\n",
       "       'Underwater photography', 'Fishing / diving',\n",
       "       'Fishing from surf ski', 'Swimming after a tennis ball',\n",
       "       'Jumping in swells',\n",
       "       '90 European civilians, many women & children, were placed on the deck of a Japanese submarine that submerged when it was well offshore',\n",
       "       'Dived overboard to check propeller of US Navy motor torpedo boat',\n",
       "       'The 3540-ton Alfonso Penna was torpedoed & sunk by the Italian submarine Barbarigo',\n",
       "       'Dog paddling or standing',\n",
       "       'U-177 torpedoed & sank the troopship Nova Scotia',\n",
       "       'Swimming along side N.E.L. vessel Saluda', 'Fishing for tuna',\n",
       "       \"Fishing from 32' boat\", 'Seine netting', 'Standing on sandbank',\n",
       "       'Dress diving, filming shark & pulling it through the water for a motion picture scene',\n",
       "       'Swimming, naked', 'Diving off jetty',\n",
       "       'Diving from the lugger San, operated by the Protector of the Aborigines',\n",
       "       'Refused permission to cross on the ferry, he was swimming across the river',\n",
       "       \"12 of the Penang's crew were returning to the ship when their 12' dinghy capsized\",\n",
       "       'Swimming crawl stroke', 'Fishing for bluefish',\n",
       "       'Diving for trochus',\n",
       "       'Swimming. Passer-by, Len Bedford, heard him shriek , saw shark leap from the water & swimmer disappeared',\n",
       "       'Fell overboard, hanging onto lifebuoy',\n",
       "       'Diving from dinghy for trochus shell',\n",
       "       'Surfing (pneumatic surfboard)', 'Splashing',\n",
       "       'Swimming (lead swimmer in race)',\n",
       "       'Taken as he dived into the water', 'Swimming & splashing',\n",
       "       'Swimming in waist-deep water ', 'Swimming in hip-deep water',\n",
       "       'Splashing in water ', 'Swimming on sandbar adjacent to channel',\n",
       "       'Collecting fish by lamplight in gully', 'Diving off wharf',\n",
       "       'Swimming / floating', 'Diving off pier & treading water',\n",
       "       'Standing in waist-deep water', 'Jumped overboard and swimming',\n",
       "       'Italian liner Principessa Mafalda sank',\n",
       "       'British patrol boat 1250-ton HMS  Valerian foundered in a hurricane',\n",
       "       'Bathing in waist-deep water', 'Removing shark from a net',\n",
       "       'Fishing, fell in water & swimming strongly to shore',\n",
       "       \"Bathing in 5' of water\",\n",
       "       'Had just dived into water & was swimming', 'Diving?',\n",
       "       \"Bathing in 3' to 4' of water\", 'Bathing in knee-deep water',\n",
       "       \"Fell from his father's back into the water\",\n",
       "       'Wading to dinghy, carrying his son',\n",
       "       'Dived into a school of baitfish', 'Floating face down',\n",
       "       '\"Swimming vigorously\"', 'Wading (shrimping)',\n",
       "       'Wreck of the tug Magellan', 'Ship Mariston torpedoed & sunk',\n",
       "       'Taking wife to beach & about 1 m from the shore',\n",
       "       'Swimming 10 m from shore', 'Fishing boat',\n",
       "       'Jumped overboard to rescue companion', 'Surf bathing',\n",
       "       'Fell overboard while fishing for sharks',\n",
       "       'Diving, retrieving fish caught in net ', 'Washing horses',\n",
       "       'Floating or standing', 'Standing, gathering oysters',\n",
       "       'Fell into the water', 'Swimming at side of small boat',\n",
       "       'Wading after stray fish from seine netter\\x92s catch',\n",
       "       'Shipwreck', '\"Crossing the river\"',\n",
       "       'His balloon crashed in the harbor',\n",
       "       'Boat capsized, swimming ashore', 'Fleeing across a river',\n",
       "       'boat capsized', 'The steamships Thingvalla and Geiser collided',\n",
       "       'The passenger ship Kapuna was run down the ore carrier Ada Melmore',\n",
       "       'Fell overboard', 'Swimming to retrieve a flannel',\n",
       "       'Bathing in river',\n",
       "       'Fleet of canoes caught by a squall and charged by sharks.',\n",
       "       'Swimming alongside the schooner Catherine Wilcox',\n",
       "       'Reaching for life preserver',\n",
       "       'Bathing near whaling ship (bark A. R. Tucker of New Bedford, Massachusetts)',\n",
       "       'Swimming alongside the SS Kearsarge',\n",
       "       'Bathing alongside the American ship Thomas W. Sears',\n",
       "       'Gloucester fishing schooner run down',\n",
       "       'Wreck of the steamship Birkenhead', 'Washing his feet',\n",
       "       'Washing a dog', 'Fell overboard from the ship Gem', 'Conch diver',\n",
       "       'Shark tagging',\n",
       "       'Fishing from a small boat & put his hand in the water while holding a dead fish',\n",
       "       'Swimming naked near a date palm where many dates fell into the water',\n",
       "       'Swimming in section of river used for washing clothes & cooking utensils',\n",
       "       'A group of survivors on a raft for 17-days'], dtype=object)"
      ]
     },
     "execution_count": 64,
     "metadata": {},
     "output_type": "execute_result"
    }
   ],
   "source": [
    "#Getting the unique values\n",
    "sh_copy['activity'].unique()"
   ]
  },
  {
   "cell_type": "code",
   "execution_count": 65,
   "metadata": {},
   "outputs": [],
   "source": [
    "#Creating a dictionary to replace the values (again, sorry for the long dictionary)\n",
    "rule_replace = {'(?i).*Swimming.*' : 'Swimming',\n",
    "                '(?i).*swim.*' : 'Swimming',\n",
    "                '(?i).*Fishing.*' : 'Fishing',\n",
    "                '(?i).*fish.*' : 'Fishing',\n",
    "                '(?i).*Surfing.*' : 'Surfing',\n",
    "                '(?i).*Bathing.*' : 'Swimming',\n",
    "                '(?i).*Diving.*' : 'Diving',\n",
    "                '(?i).*Standing.*' : 'Standing',\n",
    "                '(?i).*Snorkeling.*' : 'Diving',\n",
    "                '(?i).*Wading.*' : 'Wading',\n",
    "                '(?i).*Scuba.*' : 'Diving',\n",
    "                '(?i).*Body.*' : 'Surfing',\n",
    "                '(?i).*Kayaking.*' : 'Kayaking',\n",
    "                '(?i).*Windsurfing.*' : 'Surfing',\n",
    "                '(?i).*Paddle.*' : 'Surfing',\n",
    "                '(?i).*Floating.*' : 'Swimming',\n",
    "                '(?i).*Rowing.*' : 'Sailing',\n",
    "                '(?i).*Canoeing.*' : 'Sailing',\n",
    "                '(?i).*Boogie.*' : 'Surfing',\n",
    "                '(?i).*Sailing.*' : 'Sailing',\n",
    "                '(?i).*Fell.*' : 'Swimming',\n",
    "                '(?i).*Walking.*' : 'Walking',\n",
    "                '(?i).*Boating.*' : 'Sailing',\n",
    "                '(?i).*surf.*' : 'Surfing',\n",
    "                '(?i).*SUP.*' : 'Surfing',\n",
    "                '(?i).*Fell.*' : 'Swimming',\n",
    "                '(?i).*Freediving.*' : 'Diving',\n",
    "                '(?i).*boardin.*' : 'Surfing',\n",
    "                '(?i).*snorkeling.*' : 'Diving',\n",
    "                '(?i).*cast.*' : 'Fishing',\n",
    "                '(?i).*cleaning.*' : 'Fishing',\n",
    "                '(?i).*disaster.*' : 'Swimming',\n",
    "                '(?i).*ski.*' : 'Surfing',\n",
    "                '(?i).*shark.*' : 'Messing with Sharks',\n",
    "                '(?i).*water.*' : 'Swimming',\n",
    "                '(?i).*playing.*' : 'Playing',\n",
    "                '(?i).*dive.*' : 'Diving',\n",
    "                '(?i).*float.*' : 'Swimming',\n",
    "                '(?i).*clean.*' : 'Shore Activity',\n",
    "                '(?i).*spear.*' : 'Fishing',\n",
    "                '(?i).*sink.*' : 'Swimming',\n",
    "                '(?i).*sank.*' : 'Swimming',\n",
    "                '(?i).*sunk.*' : 'Swimming',\n",
    "                '(?i).*wreck.*' : 'Swimming',\n",
    "                '(?i).*crash.*' : 'Swimming',\n",
    "                '(?i).*aircraft.*' : 'Swimming',\n",
    "                '(?i).*waves.*' : 'Shore Activity',\n",
    "                '(?i).*sea.*' : 'Swimming',\n",
    "                '(?i).*raft.*' : 'Swimming',\n",
    "                '(?i).*towing.*' : 'Swimming',\n",
    "                '(?i).*air.*' : 'Swimming',\n",
    "                '(?i).*wash.*' : 'Shore Activity',\n",
    "                '(?i).*collect.*' : 'Fishing',\n",
    "                '(?i).*boat.*' : 'Sailing',\n",
    "                '(?i)Pulling.*' : 'Fishing',\n",
    "                '(?i).*net.*' : 'Fishing',\n",
    "                '(?i).*Beach.*' : 'Shore Activity',\n",
    "                '(?i).*founder.*' : 'Sailing',\n",
    "                '(?i).*hunt.*' : 'Fishing',\n",
    "                '(?i).*overboard.*' : 'Swimming',\n",
    "                '(?i).*ship.*' : 'Sailing',\n",
    "                '(?i).*river.*' : 'Swimming',\n",
    "                'pêcheur de bichiques' : 'Fishing',\n",
    "                'Kakaying' : 'Kayaking',\n",
    "                '(?i).*cross.*' : 'Swimming',\n",
    "                '(?i).*swell.*' : 'Swimming',\n",
    "                'Splashing' : 'Shore Activity',\n",
    "                '(?i).*reach.*' : 'Swimming',\n",
    "                '(?i).*submarine.*' : 'Swimming',\n",
    "                }"
   ]
  },
  {
   "cell_type": "code",
   "execution_count": 66,
   "metadata": {},
   "outputs": [],
   "source": [
    "#Apllying the dictionary to the column\n",
    "sh_copy['activity'] = sh_copy['activity'].replace(rule_replace, regex=True)"
   ]
  },
  {
   "cell_type": "code",
   "execution_count": 67,
   "metadata": {},
   "outputs": [
    {
     "data": {
      "text/plain": [
       "array(['Paddling', 'Surfing', 'Swimming', 'Walking', 'Standing',\n",
       "       'Messing with Sharks', 'Fishing', 'Diving', 'Wading', nan,\n",
       "       'Kayaking', 'Playing', 'Sailing', 'Shore Activity', 'Rescuing',\n",
       "       'Paddling on kneeboard', 'Crawling', 'Crabbing', 'Jumping',\n",
       "       'Murder', 'Shrimping', 'Lifesaving drill', 'Sitting in shallows',\n",
       "       'Clamming', 'Escaping from Alacatraz', 'Shore Activity ',\n",
       "       'Lifesaving exhibition'], dtype=object)"
      ]
     },
     "execution_count": 67,
     "metadata": {},
     "output_type": "execute_result"
    }
   ],
   "source": [
    "#Getting the new uniques to check if everything is ok\n",
    "sh_copy['activity'].unique()"
   ]
  },
  {
   "cell_type": "code",
   "execution_count": 68,
   "metadata": {},
   "outputs": [
    {
     "data": {
      "text/plain": [
       "activity\n",
       "Surfing                    1001\n",
       "Swimming                    722\n",
       "Fishing                     430\n",
       "Diving                      241\n",
       "Wading                      114\n",
       "Standing                     84\n",
       "Messing with Sharks          32\n",
       "Kayaking                     28\n",
       "Sailing                      23\n",
       "Walking                      19\n",
       "Shore Activity                8\n",
       "Playing                       7\n",
       "Lifesaving drill              4\n",
       "Jumping                       3\n",
       "Clamming                      2\n",
       "Paddling                      2\n",
       "Escaping from Alacatraz       2\n",
       "Shore Activity                2\n",
       "Sitting in shallows           1\n",
       "Rescuing                      1\n",
       "Shrimping                     1\n",
       "Murder                        1\n",
       "Crabbing                      1\n",
       "Crawling                      1\n",
       "Paddling on kneeboard         1\n",
       "Lifesaving exhibition         1\n",
       "Name: count, dtype: int64"
      ]
     },
     "execution_count": 68,
     "metadata": {},
     "output_type": "execute_result"
    }
   ],
   "source": [
    "#Getting the new value counts\n",
    "sh_copy['activity'].value_counts()"
   ]
  },
  {
   "cell_type": "code",
   "execution_count": 69,
   "metadata": {},
   "outputs": [],
   "source": [
    "#Filling the nan values with the most common value\n",
    "sh_copy['activity'].fillna(value='Surfing', inplace=True)"
   ]
  },
  {
   "cell_type": "code",
   "execution_count": 70,
   "metadata": {},
   "outputs": [
    {
     "data": {
      "image/png": "[encoded data removed]",
      "text/plain": [
       "<Figure size 640x480 with 1 Axes>"
      ]
     },
     "metadata": {},
     "output_type": "display_data"
    }
   ],
   "source": [
    "#Plotting the top 10 activities with most attacks\n",
    "sh_copy['activity'].value_counts().sort_values(ascending=False).head(10).plot(kind='bar')\n",
    "plt.xlabel('Activity')\n",
    "plt.ylabel('Number of Attacks')\n",
    "plt.title('Top 10 Activities with Most Attacks')\n",
    "plt.style.use('seaborn-deep')\n",
    "plt.show()"
   ]
  },
  {
   "cell_type": "markdown",
   "metadata": {},
   "source": [
    "From the plot, we can see that the two most common activities that suffer attacks are surfing and swimming, followed by fishing. Something easy to understand as it represents being in the water and moving the way that the sharks seem to relationate to easy prey."
   ]
  },
  {
   "cell_type": "markdown",
   "metadata": {},
   "source": [
    "We will tackle the species column next"
   ]
  },
  {
   "cell_type": "code",
   "execution_count": 71,
   "metadata": {},
   "outputs": [
    {
     "data": {
      "text/plain": [
       "species\n",
       "White shark                                         97\n",
       "Shark involvement not confirmed                     43\n",
       "Tiger shark                                         37\n",
       "4' shark                                            35\n",
       "Bull shark                                          35\n",
       "                                                    ..\n",
       "Bronze whaler shark, 4.3 m [14']                     1\n",
       "Tiger shark, 2.4 m [8']                              1\n",
       "Bronze whaler shark, 2 m to 3 m [6.75' to 10']       1\n",
       "4.5 m & 5 m white shark                              1\n",
       "White sharks                                         1\n",
       "Name: count, Length: 958, dtype: int64"
      ]
     },
     "execution_count": 71,
     "metadata": {},
     "output_type": "execute_result"
    }
   ],
   "source": [
    "#Getting the value counts of the column\n",
    "sh_copy['species'].value_counts()"
   ]
  },
  {
   "cell_type": "code",
   "execution_count": 72,
   "metadata": {},
   "outputs": [
    {
     "data": {
      "text/plain": [
       "array(['White shark', nan, 'Tiger shark', \"Bull shark, 6'\",\n",
       "       'Grey reef shark', 'Invalid incident',\n",
       "       'Shark involvement not confirmed', 'Questionable', '3 m shark',\n",
       "       'White shark, 3.5 m', 'White shark, 2.5 m', '2 m shark',\n",
       "       'Bull shark', \"Tiger shark, 12'\", 'Wobbegong shark', '3.5 m shark',\n",
       "       '1.8 m shark', 'Juvenile white shark,  2.7 to 3.2 m',\n",
       "       'Bull shark, 2 m', 'Possibly a wobbegong', 'Bull shark, 3 m ',\n",
       "       'Grey reef shark. 2 m', 'small shark', 'White shark, 4.6 m',\n",
       "       'Wobbegong shark, 1 m', 'White shark, 4.5 m',\n",
       "       'Spinner shark, 4 to 5 feet', 'Tiger shark, 8 to 10 feet',\n",
       "       \"8' shark\", \"5' shark\", \"4' to 5' shark\", \"5' to 6' shark\",\n",
       "       'White shark, 3 to 3.5m ', 'White shark, 3 m',\n",
       "       'Shark involvement questionable', \"White shark, 5' to 7'\",\n",
       "       'Possibly a juvenile blacktip shark', \"4' shark\",\n",
       "       \"White shark, 10'\", 'A small shark', \"Blue shark 6'\",\n",
       "       '\"A small shark\"', \"White shark, 11' to 13'\",\n",
       "       \"White shark, 8' to 10'\", \"White shark, 9'\",\n",
       "       \"Bull shark, 4' to 5'\", 'No shark invovlement ', 'Bull shark, 2m',\n",
       "       'White shark, 4 m', 'Seven-gill shark',\n",
       "       'Shark involvement highly doubtful', \"Bull shark, 5' to 7'\",\n",
       "       'Bull shark, 1.5', 'Lemon shark pup', 'Bull shark, 4 m',\n",
       "       'Bull shark, 1 m', 'a small shark', 'Wobbegong shark, 2m',\n",
       "       'Broadnose sevengill shark, 1.5 m', \" 6' to 8' shark\",\n",
       "       \"3' to 4' shark\", \"Tiger shark, 10'\", 'Bull shark, 3.5 m',\n",
       "       \"Tiger shark, 10' \", 'Blue shark', 'reef shark, 1m',\n",
       "       \"White shark, 10' to 12'\", 'dogfish shark', 'Tawny nurse shark',\n",
       "       \"Caribbean reef shark, 4.5'\", \"3' to 5' shark\", \"3' shark\",\n",
       "       \"Said to involve an 8' shark but more likely damage caused by debris\",\n",
       "       '3+ m shark', 'Mako shark', \"Blacktip shark, 4'\",\n",
       "       \"Nurse shark, 2'\", \"Mako shark, 1.5 m [5'] \",\n",
       "       'Grey reef shark, 2 m', 'Tiger shark, 2.5 m',\n",
       "       'No shark involvement', \"Reef shark, 5'\", \"Tiger shark, 14'\",\n",
       "       'Blacktip shark', \"9' shark\", \"Bronze whaler shark, 6'\",\n",
       "       'Galapagos shark', 'Bull shark, 2.8 to 3.1 m', \"Spinner shark, 5'\",\n",
       "       \"Tiger shark, 7'\", 'Hammerhead sp.', \"Tiger shark, 13' \",\n",
       "       \"Blacktip shark, 4' to 5'\", \"Blacktip shark, 5' to 6'\",\n",
       "       'juvenile shark', \"Tiger shark, 13'\", \"6' shark\",\n",
       "       \"White shark, 11' to 12'\", 'Hammerhead shark.', \"4' shark?\",\n",
       "       \"White shark, 10' to 12' \", \"White shark, 13'\",\n",
       "       \"Hammerhead shark. 6' to 7'\", \"Blacktip or spinner shark, 4'\",\n",
       "       \"Thought to involve a 3' to 4' shark, but shark involvement not confirmed\",\n",
       "       'White shark, 3.9 to 4.2 m', \"White shark, 7'\", \"6' to 7' shark\",\n",
       "       'White shark, 2m to 3 m', 'Sandtiger shark', \"Bull shark, 5'\",\n",
       "       'Bull shark, 2.5 m', '1m to 1.2 m shark', '3- to 4-foot shark',\n",
       "       'White shark, 6 m', 'Tiger shark, 8 to 12 feet',\n",
       "       'Tiger shark, 3.5 m', '3.5 to 4 m shark', '2 m to  3 m shark',\n",
       "       'Bull shark, 1.3 m', '5 m shark',\n",
       "       'White shark or oceanic whitetip shark',\n",
       "       'Raggedtooth shark, 1.3 m', 'White shark, 4 to 5 m',\n",
       "       'Shark involvement not confirmed & highly unlikely', '1.5 m shark',\n",
       "       \"2' shark\", \"12' to 14' shark\", '1 m shark',\n",
       "       \"White shark, 18' to 20'\", \"8' to 10' shark\",\n",
       "       '2 white shark: 13\\' & 9\"8\"', \"7' shark\",\n",
       "       \"White shark, 12' to 14'\", 'Spinner shark', \" Bull shark, 8'\",\n",
       "       \" Bull shark, 5'\", \"4' tp 5' shark\", '1.8 metre shark',\n",
       "       \"6' to 8' shark\", \" White shark, 7' \",\n",
       "       \"Caribbean reef shark, 7' to 8'\", \" Sandbar shark, 3' to 4'\",\n",
       "       'Bronze whaler shark, 1.5m', '3m shark', \" white shark, 15' \",\n",
       "       ' Raggedtooth shark, 2m', '3 m to 4 m white shark',\n",
       "       'Shark involvement prior to death not confirmed',\n",
       "       'Blacktip reef shark ', '7-gill shark?',\n",
       "       'Reported to involve a bull shark', 'White shark, 3m ',\n",
       "       \"Tiger shark, 10' to 12'\", \"4' to 6' shark\",\n",
       "       ' Wobbegong shark, 1.6 to 1.8m ', 'Tiger shark, 3m ',\n",
       "       'Thought to involve a white shark', \"White shark, 10 '\",\n",
       "       'Reported to involve a white shark', 'Blacktip reef shark, 1m',\n",
       "       'Thought to involve a bull shark',\n",
       "       'Reported to involve a 4 m white shark',\n",
       "       \"Whitetip reef shark, 4' to 6'\", 'Nurse shark?',\n",
       "       'Small bull shark', 'Salmon shark', \"Mako shark, 5'\",\n",
       "       'Tiger shark?', \"Bull shark, 8'\", \"Bull shark, 6' to 8'\",\n",
       "       \"Tiger shark, 8' to 10' \", 'Nurse shark', 'Grey nurse shark, 3m',\n",
       "       'Possibly a blacktip reef shark', 'Raggedtooth shark, 1.5 m',\n",
       "       'Tiger shark, 4.8 m', 'Bronze whaler shark, 2.5m',\n",
       "       'White shark, 4m', 'reef shark?', \"Tiger shark, 15'\",\n",
       "       '2.5 m shark', 'Bull shark, 2m ', \"10' shark\", \"2' to 3' shark\",\n",
       "       \"Tiger shark, 8'\", \"Tiger shark, 10' to 12' \",\n",
       "       \"White shark, 15' to 16' \", '2m shark', \"3.5' to 4' shark\",\n",
       "       '4.5 m shark', 'White shark or bronze whaler', 'White shark, 5m',\n",
       "       \"14' to 18'shark\", \"15' shark\", 'possibly a bull shark',\n",
       "       'a small reef shark', 'small blacktip shark?', 'Blacktip shark ',\n",
       "       'Blue shark, 2.5m', 'White shark, 2 m', '18\" to 24\" shark',\n",
       "       'Bull shark, 3m', \"Tiger shark, 8' to 9' \",\n",
       "       'White shark, 4 m to 5m ', \"Tiger shark, 10'  \",\n",
       "       'White shark, 4m ', 'Possibly a bull shark',\n",
       "       \"Possibly a 5' to 6' bull shark\", 'Tawny nurse shark, 40cm',\n",
       "       'Grey nurse shark', 'Tiger shark, 3m', 'White shark, 2.7 m',\n",
       "       'Allegedly a 4 m tiger shark', 'White shark, 2.5m',\n",
       "       'Wobbegong shark?', 'Port Jackson shark, 1m', '2 to 2.5 m shark',\n",
       "       'Tiger shark, 2m', \"6' shark, possibly a blactip or spinner shark\",\n",
       "       \"White shark, >6'\", \"Possibly a 5' to 6' sandtiger shark\",\n",
       "       '4 m shark', 'Grey reef shark ', 'White shark, 3m to 4m',\n",
       "       'Bull shark, 3m female', \"White shark, 5' k\", 'Zambesi shark',\n",
       "       ' Tiger shark, 2.8m', 'reef shark, 1.5m', \"1' to 2' shark\",\n",
       "       'possibly a bronze whaler shark', ' Bull shark, 2.5 m',\n",
       "       'Bull shark, 2.5m', '3 m to 4 m shark', 'White shark x 2',\n",
       "       'Caribbean reef shark', 'Oceanic whitetip shark, 2.5m ',\n",
       "       'Mako shark ', 'Oceanic whitetip shark, 2.5m, female',\n",
       "       \"Porbeagle shark, 8' \", \"White shark, 14' to 18' \",\n",
       "       'Bull shark, 1.4m ', \"Possibly a 6' lemon shark\",\n",
       "       \"White shark, 15'\", 'Possibly a small blacktip shark',\n",
       "       \"Sandtiger shark, 4' to 5'\", 'Angel shark', \"Blue shark, 7'\",\n",
       "       \"Lemon shark, 4'\", '20 to 30kg shark', \"Lemon shark, 6'\",\n",
       "       \"14' shark\", \"Oceanic whitetip shark, 6'\", 'Possibly a blue shark',\n",
       "       'Wobbegong shark, 1.6m', \"Spinner shark, 6'\", 'Invalid',\n",
       "       'Zambesi shark, 2m ', \"Sandtiger shark, 8'\", 'Thresher shark',\n",
       "       'Spurdog', \"White shark, 5' to 6' juvenile \", 'Tiger shark, 12',\n",
       "       'Bull shark?', \"Nurse shark, 6'\",\n",
       "       'Thought to involve a Bronze whale shark, 2m',\n",
       "       'Shark involvement probable, but not confirmed',\n",
       "       'Oceanic whitetip shark, 2.5 to 3m', '80 kg shark',\n",
       "       \"5' to 8' shark\", 'blacktip or spinner shark',\n",
       "       \"White shark, 12' to 15' female\", 'Bronze whaler shark?',\n",
       "       'Thought to involve a cookie cutter shark', 'Blue shark, 1m',\n",
       "       '2.6 m shark', 'White shark, 2.5m ', \"White shark, 12' \",\n",
       "       'White shark, 5.5 m ', 'Dusky shark, 2m', 'White shark, 3.5m',\n",
       "       'Broadnose sevengill shark', 'White shark, 4m to 5m ',\n",
       "       '4 to 5m white shark', 'Raggedtooth shark, 2m',\n",
       "       'White shark, 4.5 to 5 m ', 'Oceanic whitetip shark',\n",
       "       'Lemon shark', '5 m white shark', \"+3' shark\",\n",
       "       'Bronze whaler shark', \"2' to 3' juvenile shark\",\n",
       "       \"White shark, 14' to 16' \",\n",
       "       \"8' bull shark or Caribbean reef shark\",\n",
       "       \"8' white shark or 7-gill shark\", \"3'  shark\",\n",
       "       \"2' to 3' reef shark\", \"Bull shark, 6' to 7'\", 'White shark, 2m',\n",
       "       \"4.5 to 5' shark\", '2 small bull sharks', 'Bull shark, 1.8m',\n",
       "       \"White shark, 12' to 15'\",\n",
       "       'Reported by media as shark attack, but shark involvement prior to death was not confirmed',\n",
       "       'Shark involvement not confirmed; thought to be a barracuda bite',\n",
       "       \"1.5' to 2' shark\", \"2.5' shark\",\n",
       "       'A bull shark, according to some of the divers on the boat',\n",
       "       'Mako shark, 90kg', 'Bronze whaler shark, 4m',\n",
       "       'Not a shark attack; it was a hoax', '1.5 to 2 m shark',\n",
       "       \"Blacktip shark, 5'\",\n",
       "       'Oceanic whitetip sharks were in the vicinity', 'Gray reef shark',\n",
       "       \"9.5' shark?\", \"Nurse shark, 2' to 3' \",\n",
       "       'Possibly a spinner shark', \"White shark, 12'\",\n",
       "       \"Possibly a 6' bull shark\", ' ', \"Possibly a 10' bull shark\",\n",
       "       'Bronze whaler shark, 1.5 m ', \"Bull shark, 5' \",\n",
       "       'A 10-year-old 94-pound pregnant blacktip reef shark',\n",
       "       'Lesser spotted dogfish, Scyliorhinus canicula, less than 80 cm in length',\n",
       "       'Shark involvement prior to death was not confirmed',\n",
       "       \"Tiger shark, 14' \", '\"a small shark\"', 'White shark, 3m',\n",
       "       '2.4 m shark', '24\" to 30\" shark',\n",
       "       \"6' to 8' shark, possibly a tiger shark\", '2.5 to 3 m shark',\n",
       "       '2 to 3 m shark', \"White shark, 12' to 15' \",\n",
       "       'Raggedtooth shark, 150-kg', 'White shark, 5m ',\n",
       "       '2 m to 3 m shark', 'Bull shark, 1.5m ', \"3' to 3.5' shark\",\n",
       "       'White shark?',\n",
       "       'Thought to involve a mako shark, but possibly a sea lion',\n",
       "       'Angel shark, 1.2m ', \"5' to 6' spinner or bull shark\",\n",
       "       \"Possibly a 1' to 3' blacktip or spinner shark\", \"14' white shark\",\n",
       "       \"Tiger shark, 8' to 12'\", \"Tiger shark, 15' female\",\n",
       "       \"Grey reef shark, 5' to 8' \", 'Wobbegong shark, 2 m ',\n",
       "       \"Bull shark, 4' to bull shark\",\n",
       "       'Bronze whaler shark, a  juvenile ',\n",
       "       'Raggedtooth shark, 2.5 m to 3 m ', \"Tiger shark, 5' \",\n",
       "       'Bronze whaler shark, 2 m', \"5' to 7' shark\", '4.5 m white shark',\n",
       "       'Raggedtooth shark', \"12' to 18' shark\", '3.5 m white shark',\n",
       "       'Whitetip reef shark', '4 m white shark',\n",
       "       'Raggedtooth shark, 2.5m ', \"12' to 14' white shark\",\n",
       "       \"18' white shark\", \"Tiger shark, less than 10'\",\n",
       "       'Caribbean reef sharks', \"14' to 16' white shark\",\n",
       "       \"4 m [13'] white shark\", 'juvenile white shark',\n",
       "       'Possibly a sandbar shark or small blacktip shark',\n",
       "       \"1.8 m [6'] shark\", \"[4.5' to 5'] shark\", \"[4' to 5']\",\n",
       "       \"1.8 m [6'] bull shark\",\n",
       "       'On 8/13/2005 anglers from New Zealand caught a 2.8 m [9\\'3\"], 140-kg [309-lb] shark at the same spot. It was believed this was the same shark that killed Alysha',\n",
       "       'Unknown, but it was reported that a shark tooth was recovered from the wound',\n",
       "       \"Mr. Burgess of ISAF announced the injury was the bite of a 1.8 m [6'], 2- to 3-year old white shark. Subsequent investigation revealed there was  no shark involvement in this incident\",\n",
       "       '\"small shark\"', '18\" to 36\" shark', \"Tiger shark, 3 m [10']\",\n",
       "       \"4 m [13'] shark\", \"6 m [20'] white shark\",\n",
       "       \"Sandtiger shark, 2.1 m [7'] \",\n",
       "       \"Bronze whaler shark, 4.3 m [14'] \", \"Tiger shark, 2.4 m [8']\",\n",
       "       \"Bronze whaler shark, 2 m to 3 m [6.75' to 10']  \",\n",
       "       '4.5 m & 5 m white shark ', \"5.5 m [18'] white shark\",\n",
       "       \"2.5 m [8.25'] bull shark\", \"2 m [6.75'] white shark\",\n",
       "       \"Bronze whaler shark, 2.4 m [8'] \",\n",
       "       \"1.8 m to 2.4 m [6' to 8'] white shark\",\n",
       "       \"Tiger shark, 2.4 m to 3.7 m [8' to 12'] \",\n",
       "       \"Raggedtooth shark, 1.5 to 2 m [5' to 6.75']\",\n",
       "       'Thought to involve a 2.5 m bull or tiger shark',\n",
       "       \"Tiger shark, 3 m [10'] \", \"2.4 m [8'] shark\",\n",
       "       'Tiger shark, 1.5 m ', \"0.9 m to 1.2 m [3' to 4'] white shark\",\n",
       "       \"4.9 m to 5.5 m [16' to 18'] white shark\", \"1.2 m [4'] shark\",\n",
       "       \"1.2 m to 1.5 m [4' to 5'] shark\", '2 sharks, 4.5 m & 3 m ',\n",
       "       '9\\'2\" white shark', \"Bronze whaler shark, 2.5 m [8.25'] \",\n",
       "       \"0.9 m to 1.5 m [3' to 5'] shark\",\n",
       "       \"2.4 m to 3.7 m [8' to 12'] shark\",\n",
       "       \"1,5 m [5'] Caribbean reef shark (Carcharhinus  perezi)\",\n",
       "       \"Mako shark, 1.8 m [6']\", \"Wobbegong shark, 1.2 m [4'] k\",\n",
       "       \"5 m [16.5'] white shark\", \"1.2 m [4'] bull shark\", 'bull shark',\n",
       "       \"Tiger shark, 2.4 m to 3 m [8' to 10'] \",\n",
       "       \"2 m [6.75'] sevengill  shark\",\n",
       "       \"4 m to 5 m [13' to 16.5'] white shark\",\n",
       "       'Bull shark, 1.65 m [5\\'5\"] was speared & killed',\n",
       "       'Bull shark, 132-kg [291-lb] ',\n",
       "       \"Raggedtooth shark, 3.5 m [11.5'] \",\n",
       "       \"Wobbegong shark, 1.2 m [4'] \",\n",
       "       \"1.5 m [5'] shark, either a bronze whaler or a grey nurse shark\",\n",
       "       '1.2 m [4\\'] \"grey-colored shark\"', '2 m cow shark',\n",
       "       'Shark involvement doubtful',\n",
       "       \"4.5 m to 5.5 m [15' to 18'] white shark\",\n",
       "       \"3.5 m [11.5'] white shark\", 'Unidentified species',\n",
       "       \"2.1 m  [7'] bull shark\", \"106 cm [3.5']  shark\",\n",
       "       '\\x93small brown shark\\x94', \"3.7 m to 4.3 m [12' to 14'] shark\",\n",
       "       '\"sand shark\"',\n",
       "       \"1.8 m [6'] reef shark - or a 2.1 m to 2.4 m [7' to 8'] grey-colored shark\",\n",
       "       \"0.9 m to 1.2 m [3' to 4'] shark\", 'A \\x93small\\x94 shark',\n",
       "       '15 cm to 20 cm [6\" to 8\"] bite diameter just below left knee',\n",
       "       \"2.5 m [8.25'] white shark\", 'Species unidentified',\n",
       "       \"Thought to involve a >2 m [6.75'] bull shark\",\n",
       "       \"3 m to 4.5 m [10' to 15'] white shark\",\n",
       "       \"2.4 m to 3 m [8' to 10'] grey colored shark\",\n",
       "       \"1.8 m to 2.1 m [6' to 7']\\xa0 Caribbean Reef Shark \",\n",
       "       'Possibly a bull shark or tiger shark',\n",
       "       'Blacktip or spinner shark', \"3.5' to 4.5' shark\",\n",
       "       \"1.2 m [4'] blacktip shark\", \"1.8 m [6'] blacktip shark\",\n",
       "       \"Tiger shark, 1.5 m [5']k\", \"3 m to 3.7 m [10' to 12'] shark\",\n",
       "       'Bull or tiger shark', \"1' to 2' hammerhead or bonnethed shark\",\n",
       "       \"0.9 m  to 1.2 m [3' to 4'] shark\", \"Nurse shark, 1.5 m [5'] \",\n",
       "       \"1.2 m [4'] blacktip or sandbar shark\",\n",
       "       \"Bull shark, 1.8 m to 2.1 m [6' to 7'] \",\n",
       "       \"1.2 m to 1.5 m [4' to 5'] shark, possibly a bull shark\",\n",
       "       \"0.9 m to 1.2 m [3' to 4'] shark; Tooth fragment recovered from hand\",\n",
       "       '\\xa0 ', \"3.7 m to 4.3 m [12' to 14'] white shark\", '1 m  shark',\n",
       "       \"3' blacktip shark\", \"White shark, 6m [20']\",\n",
       "       'Bull shark, 400-lb ', \"0.9 m [3'] shark\", 'Nurse shark, 1m ',\n",
       "       \"Spinner shark, 3' to 4' \",\n",
       "       'C. leucas tooth fragment recovered from kayak', 'Zambesi shark?',\n",
       "       \"Tiger shark, 1.8 m [6'] \", \"Tiger shark, 1.8 m [6']\",\n",
       "       'Questionable incident - shark bite may have precipitated drowning',\n",
       "       \"2' to 3.5' shark\",\n",
       "       'A large white shark was filmed by divers on a local wreck 2 days prior to the incident.',\n",
       "       \"1.5 m [5'] shark\", \"3 m [10'] bull shark\",\n",
       "       'Possibly  a blacktip or spinner shark',\n",
       "       \"3' shark, possibly  a blacktip or spinner shark\",\n",
       "       \"Blacktip shark, 5' to 6' \", \"1.9 m [6.5'] bull shark\",\n",
       "       \"0.9 m  [3'] shark\", \"Bull shark, 2.3 m [7.5'] \",\n",
       "       \"White shark, 2.4 m to 3 m [8' to 10'] \",\n",
       "       'Possibly a juvenile blacktip or spinner shark',\n",
       "       \"Possibly a 1.5 m [5'] blacktip or spinner shark\",\n",
       "       '1 m shark, possibly whitetip reef shark',\n",
       "       \"White shark, 2.7 m [9'] \",\n",
       "       \"Bronze whaler shark, 2.5 m [8.25']  k\", \"6 m [20'] shark\",\n",
       "       \"1.2 m to 1.8 m [4' to 6'] shark\", \"White shark, 4.9 m [16'] \",\n",
       "       \"White shark, 5 m [16.5'] \",\n",
       "       \"Tiger shark, 1.8 m to 2.4 m [6' to 8'] \",\n",
       "       \"2.1 to 2.4 m [7' to 8'] shark\", \"Blacktip shark, 2' \",\n",
       "       \"White shark, 4.3 m [14']\",\n",
       "       \"White shark, 4 m to 5 m [13' to 16.5'] \", 'White shark, 2.5 m ',\n",
       "       \"60 cm to 90 cm [2' to 3'] shark\",\n",
       "       \"White shark, 3.5 m [11.5']  male \",\n",
       "       \"A 2' shark was seen in the area by witnesses\",\n",
       "       \"Thought to involve a 2.7 m [9'], 400-lb bull shark\",\n",
       "       'Tiger shark, 3.7 m to 4.5 m [12\\' to 14\\'9\"]  ',\n",
       "       \"Blacktip shark, 2.4 m to 3 m [8' to 10'] \",\n",
       "       \"Tiger shark, 0.9 m to 1.5 m [3' to 5'] ?\",\n",
       "       \"Nurse shark, 1.2 m [4'] \",\n",
       "       \"0.9 m [3'] shark,  probably a blacktip or spinner shark\",\n",
       "       \"Bull shark, 2.4 m [8']\",\n",
       "       \"Blacktip shark, 1.2 m to 1.8 m [4' to 6'] \",\n",
       "       \"Tiger shark, 4 m [13'] ?\",\n",
       "       \"Shortfin mako shark, 3 m to 3.4 m [10' to 11'] \",\n",
       "       '1.3 to 1.6 m shark',\n",
       "       \"2.7 m [9']  bull shark or Caribbean reef shark\",\n",
       "       \"White shark, 3 m to 5 m [10' to 16.5'] \",\n",
       "       \"Bull shark, 2.1 m [7']\", \"Blacktip shark, 1.8 m [6'] \",\n",
       "       \"White shark, 4 m [13'] \", \"Tiger shark, 2.5 m [8.25']\",\n",
       "       'Grey reef shark, 1.5 m ', '3 bull sharks', '200 to 300 kg shark',\n",
       "       \"3.7 m to 4.6 m [12' to 15'] shark seen in the vicinity\",\n",
       "       'Bronze whaler or tiger shark', \"White shark, 4.6 m [15'] \",\n",
       "       'Possibly a white shark', 'A \"small shark\"',\n",
       "       'Though to involve a white shark',\n",
       "       \"White shark, 5 m to 6 m [16.5' to 20'] \",\n",
       "       \"Caribbean reef shark, 1.2 m to 1.5 m [4' to 5'] \",\n",
       "       \"White shark, 4.9 m [16']\",\n",
       "       'Thought to involve a 5.5 m white shark named Kong',\n",
       "       'Unidentified',\n",
       "       \"Lemon shark, 1.5 m [5'], identified  by the surfer\",\n",
       "       \"1.8 m [6'] shark, possibly a blacktip\", \"3 m [10'] shark\",\n",
       "       \"3 m [10'] white shark\", \"5' spinner shark\",\n",
       "       'Small dusky shark or blackfin shark',\n",
       "       \"Tiger shark, 4 m to 4.3 m [13' to 14'] \",\n",
       "       'Possibly a blacktip shark', 'small blacktip shark',\n",
       "       '\"juvenile shark\"', \"Tiger shark, 2.7m  [9']\",\n",
       "       \"1.2 m [4'] shark (spinner shark?)\", 'Possibly a sand shark',\n",
       "       'Tiger shark, 2m to 3m ', 'Tiger shark, 4.5 m [14\\'9\"]',\n",
       "       \"3 m to 5 m [10' to 16.5'] white shark\",\n",
       "       \"5.5 m to 6 m [18' to 20'] white shark\", '\"a young shark\"',\n",
       "       \"Tiger shark, 2.4 m [8'] \",\n",
       "       \"1.8 m to 2.1 m [6' to 7'] hammerhead shark\",\n",
       "       'said to involve an oceanic whitetip shark',\n",
       "       \"2.5 m [8.25'] white shark \",\n",
       "       \"60 cm to 90 cm [2' to 3'] blacktip or spinner shark\",\n",
       "       '\"reef shark\"', 'Possibly a tiger shark',\n",
       "       \"Mako shark, 4.3 m [14']\", 'Tiger shark, 300-kg [662-lb] ',\n",
       "       \"1.2 m to 1.5 m [4' to 5']   shark\",\n",
       "       \"1.5 to 1.8 m [5' to 6'] shark\",\n",
       "       \"3 m to 4 m [10' to 13'] white shark\", '\"sand\" shark',\n",
       "       \"Tiger shark, 3.7 m [12'] \", \"1.8 m to 2.1 m [6' to 7'] shark\",\n",
       "       'Bronze whaler shark, 2 m ',\n",
       "       \"5 m to 5.5 m [16.5' to 18'] white shark\", \"2.7 m [9'] shark\",\n",
       "       'Thought to involve a small sand shark', 'Small shark',\n",
       "       \"3 to 3.5 m [10' to 11.5'] bull shark\", \"1.2 m [4'] spinner shark\",\n",
       "       \">1.8 m [6'] shark\", '3.6 m [11\\'9\"] white shark',\n",
       "       '1.3 m [4\\'3\"] shark',\n",
       "       'Tiger shark caught 6 days later with diver\\x92s remains in its gut',\n",
       "       \">6 m [20'] white shark\",\n",
       "       \"1.8 m [6'] blacktip shark or Caribbean reef shark\",\n",
       "       '>6 m white shark, according to witnesses',\n",
       "       \"5.5 m to 6 m [18' to 20']  white shark\",\n",
       "       \"1.8 m to 2.4 m [6' to 8'] shark, tooth fragments recovered \",\n",
       "       'Thought to involve a tiger shark',\n",
       "       \"Remains recovered from 5.5 m [18'] white shark\",\n",
       "       \"Tiger shark, 3.7 m [12'], (tooth fragment recovered from wound)\",\n",
       "       \"Tiger shark, 3 m to 4.9 m [10' to 16'] \",\n",
       "       \"Mako shark, 1.8 m [6']  \", \"6' to 7' blacktip shark\",\n",
       "       '5 m to 6 m white shark', 'Unidentified shark',\n",
       "       \"Tiger shark, 3 m to 3.7 m [10' to 12'] \",\n",
       "       \"Tiger shark, 4.3 m [14'] \", '4.2 m white shark',\n",
       "       \"4 m to 5 m [13' to 16.5']  white shark \", 'Questionable incident',\n",
       "       'Bull shark or lemon shark',\n",
       "       'White shark, identification by K. Nakaya',\n",
       "       \"Tiger shark, 3 m to 4 m [10' to 13'] \",\n",
       "       \"4 m [13'], 590-kg white shark\", '>2 m shark',\n",
       "       \"5 m [16.5'] white shark, identification by K. Nakaya\",\n",
       "       \"Said to involve a 6 m to 7 m [20' to 23'] white shark\",\n",
       "       \"5 m [16.5'] shark\", '1.8 m grey shark',\n",
       "       \"Bronze whaler shark, 2.3 m [7.5'] \",\n",
       "       \"Zambesi shark, 1.7 m [5.5'] \",\n",
       "       \"Possibly a 1.5 m [5'] blacktip shark\",\n",
       "       \"Tiger shark, 2.4 m 3.4 m [8' to 11']  \",\n",
       "       \"5 m to 6 m [16.5' to 20'] white shark\",\n",
       "       \"3 m [10'], 270- kg [595-lb] shark\", 'sand shark',\n",
       "       \"Tiger shark, 3 to 4 m [10' to 13'] \",\n",
       "       \"2.7 m [9'] bull or lemon shark\",\n",
       "       '3.5 m [11.5\\'] female white shark named \"Notchfin\"',\n",
       "       '170-kg, 2.8 m shark', \"7' female shark\",\n",
       "       '\"Shark had a very large girth\"', \"1.8 m [6'] shark \",\n",
       "       \"4' spinner shark\", \"1.8 m to 2.4 m [6' to 8'] shark\",\n",
       "       \"5 m  [16.5'] white shark\",\n",
       "       \"2.5 m to 3 m [8.25' to 10']  white shark\",\n",
       "       '4.5 m [14\\'9\"] white shark',\n",
       "       \"5.5 m [18'] white shark, identified by witnesses & tooth marks\",\n",
       "       \"2.3 m [7.5'] white shark, identified by M. Smale\",\n",
       "       'Tiger shark, 3 m ',\n",
       "       \"Two sharks seen in vicinity: 2.4 m & 4.25 m  [8' & 14'] TL\",\n",
       "       \"2.7 m [9'] white shark\",\n",
       "       'Shark involvement suspected but not confirmed',\n",
       "       'White shark, identified by tooth pattern', '150-lb shark',\n",
       "       \"4 m to 5 m [13' to 16.5']  white shark\",\n",
       "       \">3.4 m [11'] white shark\", \"Bronze whaler shark, 3 m [10'] \",\n",
       "       '5 m to 7 m white shark', \"Tiger shark, 4 m [13'] \",\n",
       "       \"2.4 m to 3 m [8' to 10'] white shark\", 'Sand shark?',\n",
       "       \"1.5 m to 2 m [5' to 6.75'] shark\", '1 m \"grey-colored\" shark',\n",
       "       'Zambezi shark (tooth fragments recovered)', '1.5 m copper shark',\n",
       "       \"2 m [6.75'] shark\", \"3.5 m [11.5']  white shark\",\n",
       "       '5.7 m white shark', \"1.5 m [5'] blacktip shark\", '4.3 m shark',\n",
       "       \">2.5 m [8.25'] white shark\", \"Raggedtooth shark, 2.5 m [8.25'] \",\n",
       "       \"1.8 m to 2.1 m [6' to 7'] spinner or blacktip shark\",\n",
       "       \"Lemon shark, 1.8 m to 2.4 m [6' to 8'], tooth fragment recovered\",\n",
       "       '1.6 m shark', \"1.2 m [4'] dusky shark\", '>1 m shark',\n",
       "       \">2.4 m [8'] white shark\", \"Raggedtooth shark, 2 m [6.75'] \",\n",
       "       'Bronze whaler shark, 3.5 m ', '1m shark',\n",
       "       \"2 m to 2.5 m [6.75'  to 8.25'] sixgill or sevengill shark\",\n",
       "       '1.8 m silky shark', 'Possibly a small hammerhead shark',\n",
       "       '3 m to 3.6 m  [10\\' to 11\\'9\"] white shark',\n",
       "       '3.5 m white shark, tooth fragments recovered',\n",
       "       \"1.5 m [5'] dusky shark\", 'Tiger shark, 4 m ',\n",
       "       'Shark involvement not confirmed; officials considered barracua',\n",
       "       \"3 m to 4 m [10' to 13']  white shark\", 'Hammerhead shark?+O2356',\n",
       "       'small blue shark', '4.5 m to 5 m white shark',\n",
       "       '4.5 m to 5.5m white shark', \"2.4 m [8'] white shark\",\n",
       "       \"1.2 m to 1.5 m [4' to 5'] hammerhead shark\",\n",
       "       'Raggedtooth shark, 56-kg [123-lb] ', \" 1.5 m [5'] dusky shark\",\n",
       "       'Raggedtooth shark, 1 m ', 'Raggedtooth shark, >1 m ',\n",
       "       'Sand shark', \"6' to 8' bull shark\", \"Tiger shark, 5 m [16.5']\",\n",
       "       \"3.5' hammerhead shark\", \"6' blacktip shark\",\n",
       "       \"Raggedtooth shark, 1.5 m [5'] (tooth fragment recovered)\",\n",
       "       \"1.8 m [6'] Zambezi shark\",\n",
       "       'Believed to involve a 2.8 m [9\\'3\"] white shark',\n",
       "       'Questionable incident; reported as shark attack but thought to involve a pinniped instead ',\n",
       "       \"2.4 m [8'] white shark, species identity confirmed by tooth fragment\",\n",
       "       \"4.5 m to 5.5 m [14.7' to 18'] white shark\",\n",
       "       \"2.4 m [8'] white shark, species identity confirmed by witnesses & tooth pattern in surfboard\",\n",
       "       \"7 m [23'] white shark\", 'Mako shark (tooth fragments recovered)',\n",
       "       \"Possibly a  1.8 m [6'] Zambezi shark\", '6 m  white shark',\n",
       "       \"Tiger shark, 2.1 m [7']\",\n",
       "       \"1.2 m to 1.5 m [4' to 5'] bull, sandbar or dusky shark\",\n",
       "       'C. maculpinnis or C. limbatus',\n",
       "       'Juvenile dusky or blacktip shark',\n",
       "       \"1.8 m to 2.4 m [6' to 8'] hammerhead shark\",\n",
       "       'Tiger shark, 2.5 m ', \"3.5 m [11.5'] shark\",\n",
       "       \"1.8 m [6'] white shark\", \"4' to 8' shark\",\n",
       "       '2.8 m [9\\'3\"] white shark', '2 m [6\\'9\"] Zambesi shark',\n",
       "       'Raggedtooth shark, 2 m [6\\'9\"] ', \"White shark, 2.5 m [8.25']  \",\n",
       "       \"White shark, 2.3 m [7.5'], tooth fragment recovered\",\n",
       "       \"White shark, 3.7 m [12'] \", '2 m [6\\'9\"] shark', '270 kg shark',\n",
       "       'Thought to involve a blacktip shark',\n",
       "       \"White shark, 5.5 m to 6 m [18' to 20']  \", 'Bull shark, 8',\n",
       "       \"White shark, 5.5 m [18'] \", \"White shark, 3 m [10'] k\",\n",
       "       \"2.1 m [7'] lemon shark or bull shark\",\n",
       "       \"White shark, 3 m to 4 m [10' to 13'] \",\n",
       "       \"White shark, 3.5 m [11.5'], species identity confirmed by tooth fragment\",\n",
       "       \"Tiger shark, 6' \", 'White shark, 4.5 m ',\n",
       "       \"White shark, 3 m [10'] \", 'Juvenile dusky shark',\n",
       "       'Shark involvement unconfirmed', \"White shark, 2.4 m [8']\",\n",
       "       \"White shark, 5.8 m [19'] \", 'White shark, 5m to 6m',\n",
       "       'White shark, 600-kg [1323-lb]',\n",
       "       \"White shark, 5.5 m to 6 m [18' to 20'] \",\n",
       "       'White shark, 4 m to 5 m ', \"Shortfin mako shark, 2.3 m [7.5'] \",\n",
       "       \"White shark, 5 m to 6 m [16.5 to 20'] \",\n",
       "       \"White shark, 5 m [16.5']\", \"Raggedtooth shark, 1.5 m [5'] \",\n",
       "       \"2 m to 2.5 m [6.75'  to 8.25'] shark\", \"7' to 8' bull shark\",\n",
       "       '2 m shark, possibly a dusky or blacktip shark',\n",
       "       \"White shark, > 3 m [10']\", \"White shark, 6 m [20'] \",\n",
       "       \"4.5' shark\", \"White shark, 4.4 m to 5 m [14.5' to 16.5'] \",\n",
       "       \"White shark, 2.5 m [8.25'] \", \"White shark, 3 m [10']rk\",\n",
       "       '1.5 m to 2 m shark', \"Grey nurse shark, 11'\",\n",
       "       \"White shark, 3 m [10'], species identity confirmed by witnesses & tooth pattern in leg & board \",\n",
       "       'White shark according to tooth pattern and witnesses',\n",
       "       '1.8 to 2 m C. albimarginatus',\n",
       "       'Raggedtooth shark, 2 m [6\\'9\"], 5-year-old, captive female ',\n",
       "       \"White shark, 4.3 m 4.9 m [14' to 16'] \",\n",
       "       'White shark, identified by tooth fragments in surfboard',\n",
       "       \"Grey nurse shark, 10' \",\n",
       "       \"White shark, 4.3 m [14'], (tooth fragment recovered)\",\n",
       "       'a small hammerhead shark', \"4m [13'] shark\", 'Not authenticated',\n",
       "       \"2.7 m [9'] silky shark\", '\"Blue whaler\" (Galeolamna)',\n",
       "       \"1.5 m to 1.8m [5' to 6'] shark\",\n",
       "       \"1.5 m to 1.8 m [5' to 6'] shark\", \"5' blue shark\",\n",
       "       'Nurse shark, 106 cm, 28-lb, male ',\n",
       "       \"1.5 m to 1.8 m [5' to 6'] sandbar shark\", 'Nurse shark, 1 m ',\n",
       "       \"3.7 m [12'] shark\",\n",
       "       \"Bronze whaler shark, 2.1 m [7'], a tooth was embedded in the speargun \",\n",
       "       \"Mako shark, 1.9 m [6.5'] \", 'A pack of 6 sharks',\n",
       "       \"1.5 m to 2.1 m  [5' to 7'] shark\", 'Spinner or blacktip sharks',\n",
       "       \"Local authorities speculated that the water was too cold for sharks, but a 2.1 m [7'], 200-lb pregnant sandbar shark was caught next day\",\n",
       "       \"1.2 m [4'] hammerhead shark\",\n",
       "       \"White shark, 2.5 m [8.25'], an immature female, previously injured\",\n",
       "       'Copper shark', \"1.5 m to 1.8 m [5' to 6'] Zambesi shark\",\n",
       "       '1.8 m to 2 m [6\\' to 6\\'9\"] shark', 'Hammerhead shark',\n",
       "       \"Grey nurse shark, 2.4 m [8'] \", '300-kg [662-lb] shark',\n",
       "       'Tiger shark, tooth fragment recovered', 'Raggedtooth shark ',\n",
       "       \"4.6 m [15'] shark\", \"2.1 m [7'] shark\",\n",
       "       \"White shark, 2.4 m [8'] \", \"Grey nurse shark, 1.8 m [6']\",\n",
       "       \"1.8 to 2.4 m [6' to 8'] shark\", \"1.7 m [5.5'] shark\",\n",
       "       \"White shark, 1.5 m [5'] k\",\n",
       "       \"White shark, 3 m to 3.7 m [10' to 12'] \",\n",
       "       'White shark, 3.6 m [11\\'9\"] ',\n",
       "       'White shark (tooth fragment recovered)',\n",
       "       \"Zambesi shark, 1.8 m [6'] \", \"1.8 m [6']  shark\",\n",
       "       'Dusky shark, 1 m ', \"White shark, 1.7 m [5.5']\",\n",
       "       '300- to 400-lb Zambesi shark',\n",
       "       'Possibly a broadnose 7-gill shark', \">1.2 m [4'] tiger shark\",\n",
       "       \"Silky shark, 1.9 m [6.5']\",\n",
       "       'Dooley believed his Injury was caused by stingray (Dasyatidae family)',\n",
       "       '500-lb shark', \"White shark, 4 m [13'] rk\", \"5.5 m [18'] shark\",\n",
       "       'White shark, 3 m ',\n",
       "       'Hand found in gut of 2.9 m to 3.3 m [9\\'7\" to 10\\'11\"] Galapagos shark, C. galapagensis',\n",
       "       \"3.7 to 4.5 m [12' to 15'] shark seen in vicinity\",\n",
       "       \"White shark, 2.1 m [7'] \",\n",
       "       'Tooth fragments of \\x93whaler\\x94 shark were recovered, a bull shark, according to Edwards',\n",
       "       \"Grey nurse shark, 1.8 m [6'] \", 'Zambesi shark, 2 m [6\\'9\"] ',\n",
       "       \"White shark, 4.3 m [14'] (or bronze whaler)\",\n",
       "       \" Blacktip shark, C. maculipinnis. 1.9 m to 2.1 m [6.5' to 7'] \",\n",
       "       '\"A long thin brown-colored shark\"',\n",
       "       \"Horn shar,k Heterodontus francisci, 1.2 m [4'] \",\n",
       "       \"4.3 m [14'] shark\", 'Unknown', \"2.7 m to 3 m [9' to 10'] sharks\",\n",
       "       'Possibly a bronze whaler shark', \" Sevengill  shark, 1.2 m [4'] \",\n",
       "       \"Zambesi shark, 1.2 m [4'] \", '60 cm  shark ',\n",
       "       \"Bronze whaler shark, 2.1 m [7'] shark\", '36\"  shark',\n",
       "       \"Next morning a 3 m [10'] shark was caught that had Andrews' leg in its gut\",\n",
       "       \"1.5 m to 1.8 m  [5' to 6'] shark\",\n",
       "       \"Blacktip shark, 1.8 m to 2.1 m [6' to 7'] \", '43\" shark',\n",
       "       'Hammerhead shark, 500-llb ', 'Wobbegong shark, 1.4 m [4\\'6\"] ',\n",
       "       ' \"gummy\" shark (Rhizoprionodon or Loxodon) 1.2 m [4\\']',\n",
       "       '2\\' \"banjo shark\"', \"2.1 m [7'], 90-kg shark\",\n",
       "       \"Wobbegong shark, 1.5 m [5'] \",\n",
       "       'White shark, based on bite pattern',\n",
       "       \"Six Zambesi sharks seen to 1.5 m [5'] in length\",\n",
       "       \"White shark, 3 m [10'], tooth fragment from wounds identified as that of a white shark\",\n",
       "       'Grey nurse shark, 1m ',\n",
       "       'Lemon shark, 1164 mm, immature male, identified by  V.G. Springer',\n",
       "       \"Mako shark, 1.8 m to 2.1 m [6' to 7']  with hook & wire leader caught in mouth\",\n",
       "       \"Dusky shark, 2.7 m [9'] dusky shark C. obscurus identified by S. Springer on tooth recovered\",\n",
       "       \"White shark, 2.1 m [7']  based on tooth pattern\",\n",
       "       \"Bronze whaler shark, 3.7 m [12'] identified by G.P. Whitley based on description\",\n",
       "       \"1.2 m [4'], possibly  larger shark\", \"Two 2.1 m [7'] sharks\",\n",
       "       'According to Benjamin, the injury was inflicted by a barracuda, not a shark',\n",
       "       'Shark involvement prior to deaths was not confirmed',\n",
       "       \"4.9 m [16'] shark\", \"3.7 m to 4.6 m [12' to 15'] shark\",\n",
       "       \"3.7 m [12'] tiger shark\", \"3 m to 4.3 m [10' to 14'] shark\",\n",
       "       \"White shark, 5 m [16.5'], identified by Dr. W. I. Follett on tooth marks\",\n",
       "       'A hammerhead shark, then 8 to 10 other sharks were said to be  involved',\n",
       "       \"White shark, 3.5 m [11.5'], identified by W. I.  Follett on tooth fragments\",\n",
       "       \"Blue shark, 3 m [10']\", \"White shark, 3 m to 5 m [10' to 15'] \",\n",
       "       \"Hammerhead shark, 1.8 m [6'] S. zygena identified by C. Limbaugh on description\",\n",
       "       'Blue shark?',\n",
       "       \"Reported to involve a White shark, 6 m to 7m [20' to 23'] \",\n",
       "       \"White shark, 3 m [10']; identifed by Dr. W.I. Follett on tooth marks\",\n",
       "       \"Tiger shark, 3.7 m [12']\", \"1.8 to 2.1 m [6' to 7'] shark\",\n",
       "       \"Said to involve 2 sharks: 5.2 m & 6 m [17' & 20'] \",\n",
       "       \"White shark, 1.8 m to 2.1 m [6' to 7']  according to Shreuder and a witness\",\n",
       "       \"Tiger shark, 4.6 m to 7.6 m [15' to 25'] \", \"12' shark\",\n",
       "       '200-lb shark', \"Hammerhead shark, 5.2 m [17'] \",\n",
       "       \"Tiger shark, 1.5 m to 1.8 m [5' to 6'] \",\n",
       "       \"Nurse shark, 1.5 m [5']  identified by Dr. E. Clark on description of shark\",\n",
       "       'Tiger shark, <2 m TL',\n",
       "       \"Nurse shark, 2.1 m [7']  identified by Dr. E. Clark on color & tooth impressions\",\n",
       "       'Mako shark, 100-kg [221-lb] ', \">3 m [10'] shark\",\n",
       "       'Shark seen feeding on turtle scraps thrown overboard prior to incident.',\n",
       "       \"1.2 m  [4'] shark\",\n",
       "       \"2.4 m [8'] tiger shark caught 40 hours later with shorts of the boy in its gut\",\n",
       "       \"3.7 m [12'] shark & may have been another shark nearby\",\n",
       "       \"White shark, 5 m to 6 m [16.5' to 20] \",\n",
       "       '3.6 m  white shark  (or bronze whaler)',\n",
       "       \"Bronze whaler shark,3.7 m [12'] \",\n",
       "       \"Blacktip reef shark, 1.5 m [5'] \", '5m shark',\n",
       "       \"2.4 m [8']  shark\",\n",
       "       'White shark tooth fragment recovered from ankle & identified by Dr. W. I. Follett',\n",
       "       \"Said to involve a >4 m [13'] shark\",\n",
       "       \"3 m [10'] shark seen in vicinity\", \"10' to 12' shark\",\n",
       "       \"White shark,4.6 m [15'] \", \"Tiger shark, 1.5 m [5'] \",\n",
       "       'White shark, 15\\'3\", 2,333-lb ', \"White shark, 1.8 m [6'] \",\n",
       "       \"Wobbegong shark, 4'\", '136-kg [300-lb] shark',\n",
       "       'White shark, 3m, seen in area and hooked 3 days later',\n",
       "       '1,100-lb shark',\n",
       "       \"1.5 m to 1.8 m [5' to 6'] \\x93spear-eye\\x94 shark \",\n",
       "       \"White shark, 3.7 m [12']  according to witnesses\",\n",
       "       \"2.7 m [9'] shark with black-tipped pectoral fins\",\n",
       "       '3.3 m [10\\'9\"] shark', \"Said to be 6.4 m [21'] shark\",\n",
       "       '1.5 m, 45-kg shark', \"Blacktip shark, 2 m [6.75'] \",\n",
       "       '>1.6 m shark', 'White shark, 4.2 m [13\\'9\"] ',\n",
       "       'Thought to involve a Zambesi shark',\n",
       "       'White shark, according to witnesses',\n",
       "       'White shark, 2 m [6\\'9\"]  (Tooth fragment recovered from victim\\'s shoulder & identified by J.T. Nicholls)',\n",
       "       \"1.8 m to 2.4 m [6' to 8'] sharks, most were oceanic whitetip sharks\",\n",
       "       'White shark, 4.5 m  to 6 m [14\\'9\" to 20\\'] according to witnesses',\n",
       "       \"Bull shark, 4 m [13'] \",\n",
       "       \"Mako shark (aka bonito shark) 1.2 m [4'] \",\n",
       "       'White shark, species identity confirmed by tooth pattern',\n",
       "       'White shark, 160-kg [353-lb], identity confirmed by tooth pattern',\n",
       "       \"2.6 m [8.5'] shark landed 2 hours later\",\n",
       "       \"Nurse shark, 2.1 m [7']\", \"18' shark\", \"Tiger shark, 6'\",\n",
       "       'Tiger shark,  3.6 m [11\\'9\"], 850-kg [1874-lb] female, contained Girvan\\'s remains ',\n",
       "       \"Tiger shark, 9' to 10' \",\n",
       "       '2 days later a 600-lb shark was caught 100 yards from the site',\n",
       "       'White shark (identified by Dr. Hugh Smith) ',\n",
       "       \"Blue shark, 8' [2.4 m], 500-lb \", \"Tiger shark, 4.6 m [15'] \",\n",
       "       \"White shark, 3.5 m to 4 m [11.5' to 13'] \",\n",
       "       'A 6.5\\' \"blue-nosed shark\"', \"4.3 m [14'] shark seen in vicinity\",\n",
       "       \"4 m [13'] shark seen in vicinity\",\n",
       "       \"3.4 m [11']  tiger shark & a 5' shark\",\n",
       "       \"4.3 m [14'] shark seen in area previous week\",\n",
       "       'Thought to involve a mako or grey nurse shark',\n",
       "       \"Raggedtooth shark, 1.2 m to 1.5 m [4' to 5'] \",\n",
       "       'Shark involvement prior to death unconfirmed',\n",
       "       \"White shark 4.9 m [16'] \",\n",
       "       'White shark, 4.5 m [14\\'9\"], identity confirmed by witness & tooth pattern',\n",
       "       \"Grey nurse shark, 4' \",\n",
       "       \"Moreno\\x92s leg  & part of his swim suit found in 9' shark caught two hours after the attack. Identified as carcharhinid shark by L. Schultz & C. Limbaugh on photograph\",\n",
       "       \"White shark, 4.4 m [14.5'] . \", 'Grey nurse shark?',\n",
       "       \"Grey nurse shark, 4'\",\n",
       "       \"Said to involve 6 to 7 m [20' to 23'] white shark\",\n",
       "       \"According to Carlsmith, the shark's mouth was 3' wide\",\n",
       "       \"White shark, 3.7 m [12']  \", \"Tiger shark, 4 m [13'] female\",\n",
       "       'Said to be a \\x93small shark\\x94', '2.7 m [9\\'] \"blue\" shark',\n",
       "       \"Comrades saw shark's tail appear about 5' away\",\n",
       "       \"3.7 m to 4.3 m [12' to 14']  shark\",\n",
       "       \"Thought to involve a 2.6 m [8.5'] white shark\",\n",
       "       '2.8 m [9\\'3\"] whaler shark captured 3 days later with his remains in its gut',\n",
       "       \"5.5' to 6' shark\", \"1.8 m to 2.7 m [6' to 9'] shark\", \"20' shark\",\n",
       "       '13\\'10\" shark',\n",
       "       'Unknown, but the shark was caught and put on exhibition',\n",
       "       \"13' shark\", '68\" shark', 'Wobbegongs', \"16' shark\",\n",
       "       'White sharks'], dtype=object)"
      ]
     },
     "execution_count": 72,
     "metadata": {},
     "output_type": "execute_result"
    }
   ],
   "source": [
    "#Getting the unique values\n",
    "sh_copy['species'].unique()"
   ]
  },
  {
   "cell_type": "code",
   "execution_count": 73,
   "metadata": {},
   "outputs": [],
   "source": [
    "#Preparing the dictionary for the bulk replacement, I have opted to name all the sharks with no specific species as 'Unkown Shark'\n",
    "shark_replace = {'(?i).*white.*' : 'White Shark',\n",
    "                 '(?i).*tiger.*' : 'Tiger Shark',\n",
    "                 '(?i).*bull.*' : 'Bull Shark',\n",
    "                 '(?i).*nurse.*' : 'Nurse Shark',\n",
    "                 '(?i).*blacktip.*' : 'Blacktip Shark',\n",
    "                 '(?i).*Wobbegong.*' : 'Wobbegong Shark',\n",
    "                 '(?i).*raggedtooth.*' : 'Raggedtooth Shark',\n",
    "                 '(?i).*reef.*' : 'Reef Shark',\n",
    "                  '(?i).*blue.*' : 'Blue Shark',\n",
    "                  '(?i).*mako.*' : 'Mako Shark',\n",
    "                  '(?i).*lemon.*' : 'Lemon Shark',\n",
    "                  '(?i).*sand.*' : 'Sand Shark',\n",
    "                  '(?i).*spinner.*' : 'Spinner Shark',\n",
    "                  '(?i).*hammerhead.*' : 'Hammerhead Shark',\n",
    "                  '(?i).*whaler.*' : 'Whaler Shark',\n",
    "                  '(?i).*grey.*' : 'Grey Shark',\n",
    "                  '(?i).*zambesi.*' : 'Zambesi Shark',\n",
    "                  '(?i).*carpet.*' : 'Carpet Shark',\n",
    "                  '(?i).*dogfish.*' : 'Dogfish Shark',\n",
    "                  '(?i).*basking.*' : 'Basking Shark',\n",
    "                  '(?i).*goblin.*' : 'Goblin Shark',\n",
    "                  '(?i).*broadnose.*' : 'Broadnose Shark',\n",
    "                  '(?i).*questionable.*' : 'Unknown Shark',\n",
    "                  '(?i).*invalid.*' : 'Unknown Shark',\n",
    "                  '(?i).*unidentified.*' : 'Unknown Shark',\n",
    "                  '\\xa0' : 'Unknown Shark',\n",
    "                  '(?i).*small.*' : 'Unknown Shark',\n",
    "                  '(?i).*authentic.*' : 'Unknown Shark',\n",
    "                  '(?i).*juvenile.*' : 'Unknown Shark',\n",
    "}\n"
   ]
  },
  {
   "cell_type": "code",
   "execution_count": 74,
   "metadata": {},
   "outputs": [],
   "source": [
    "#Applying the dictionary to the column\n",
    "sh_copy['species'] = sh_copy['species'].replace(shark_replace, regex=True)"
   ]
  },
  {
   "cell_type": "code",
   "execution_count": 75,
   "metadata": {},
   "outputs": [],
   "source": [
    "#Filling the nan values with Unknown Shark\n",
    "sh_copy['species'].fillna(value = 'Unknown Shark', inplace=True)"
   ]
  },
  {
   "cell_type": "code",
   "execution_count": 76,
   "metadata": {},
   "outputs": [],
   "source": [
    "#Getting rid of all the long shark descriptions\n",
    "sh_copy['species'] = sh_copy['species'].apply(lambda x: 'Unknown Shark' if re.search(r'\\d', x) or len(x.split()) >= 3 else x)"
   ]
  },
  {
   "cell_type": "code",
   "execution_count": 77,
   "metadata": {},
   "outputs": [
    {
     "data": {
      "text/plain": [
       "array(['White Shark', 'Unknown Shark', 'Tiger Shark', 'Bull Shark',\n",
       "       'Reef Shark', 'Wobbegong Shark', 'Spinner Shark', 'Blacktip Shark',\n",
       "       'Blue Shark', 'Seven-gill shark', 'Lemon Shark', 'Broadnose Shark',\n",
       "       'Dogfish Shark', 'Nurse Shark', 'Mako Shark', 'Whaler Shark',\n",
       "       'Galapagos shark', 'Hammerhead Shark', 'Raggedtooth Shark',\n",
       "       'Sand Shark', 'Salmon shark', 'Zambesi Shark', 'Angel shark',\n",
       "       'Thresher shark', 'Spurdog', ' ', 'Grey Shark', 'Unknown Shark ',\n",
       "       'Copper shark', 'Unknown'], dtype=object)"
      ]
     },
     "execution_count": 77,
     "metadata": {},
     "output_type": "execute_result"
    }
   ],
   "source": [
    "#Checking if there are still values to be cleaned\n",
    "sh_copy['species'].unique()"
   ]
  },
  {
   "cell_type": "code",
   "execution_count": 78,
   "metadata": {},
   "outputs": [
    {
     "data": {
      "text/html": [
       "<div>\n",
       "<style scoped>\n",
       "    .dataframe tbody tr th:only-of-type {\n",
       "        vertical-align: middle;\n",
       "    }\n",
       "\n",
       "    .dataframe tbody tr th {\n",
       "        vertical-align: top;\n",
       "    }\n",
       "\n",
       "    .dataframe thead th {\n",
       "        text-align: right;\n",
       "    }\n",
       "</style>\n",
       "<table border=\"1\" class=\"dataframe\">\n",
       "  <thead>\n",
       "    <tr style=\"text-align: right;\">\n",
       "      <th></th>\n",
       "      <th>year</th>\n",
       "      <th>type</th>\n",
       "      <th>country</th>\n",
       "      <th>activity</th>\n",
       "      <th>sex</th>\n",
       "      <th>age</th>\n",
       "      <th>fatal</th>\n",
       "      <th>time</th>\n",
       "      <th>species</th>\n",
       "    </tr>\n",
       "  </thead>\n",
       "  <tbody>\n",
       "    <tr>\n",
       "      <th>1348</th>\n",
       "      <td>2007</td>\n",
       "      <td>Unprovoked</td>\n",
       "      <td>USA</td>\n",
       "      <td>Swimming</td>\n",
       "      <td>F</td>\n",
       "      <td>15</td>\n",
       "      <td>N</td>\n",
       "      <td>17</td>\n",
       "      <td></td>\n",
       "    </tr>\n",
       "    <tr>\n",
       "      <th>1357</th>\n",
       "      <td>2007</td>\n",
       "      <td>Unprovoked</td>\n",
       "      <td>USA</td>\n",
       "      <td>Diving</td>\n",
       "      <td>M</td>\n",
       "      <td>36</td>\n",
       "      <td>N</td>\n",
       "      <td>15</td>\n",
       "      <td></td>\n",
       "    </tr>\n",
       "    <tr>\n",
       "      <th>1454</th>\n",
       "      <td>2006</td>\n",
       "      <td>Unprovoked</td>\n",
       "      <td>USA</td>\n",
       "      <td>Surfing</td>\n",
       "      <td>M</td>\n",
       "      <td>14</td>\n",
       "      <td>N</td>\n",
       "      <td>13</td>\n",
       "      <td></td>\n",
       "    </tr>\n",
       "  </tbody>\n",
       "</table>\n",
       "</div>"
      ],
      "text/plain": [
       "      year        type country  activity sex age fatal  time species\n",
       "1348  2007  Unprovoked     USA  Swimming   F  15     N    17        \n",
       "1357  2007  Unprovoked     USA    Diving   M  36     N    15        \n",
       "1454  2006  Unprovoked     USA   Surfing   M  14     N    13        "
      ]
     },
     "execution_count": 78,
     "metadata": {},
     "output_type": "execute_result"
    }
   ],
   "source": [
    "#Locating the rows with the value ' '\n",
    "sh_copy[sh_copy['species'] == ' ']"
   ]
  },
  {
   "cell_type": "code",
   "execution_count": 79,
   "metadata": {},
   "outputs": [],
   "source": [
    "#fixing the values\n",
    "sh_copy.loc[1348, 'species'] = 'Unknown Shark'\n",
    "sh_copy.loc[1357, 'species'] = 'Unknown Shark'\n",
    "sh_copy.loc[1454, 'species'] = 'Unknown Shark'"
   ]
  },
  {
   "cell_type": "code",
   "execution_count": 80,
   "metadata": {},
   "outputs": [
    {
     "data": {
      "image/png": "[encoded data removed]",
      "text/plain": [
       "<Figure size 640x480 with 1 Axes>"
      ]
     },
     "metadata": {},
     "output_type": "display_data"
    }
   ],
   "source": [
    "#Plottin the top 5 sharks with most attacks\n",
    "species_counts = sh_copy['species'].value_counts().head(5)\n",
    "plt.pie(species_counts, labels=species_counts.index, autopct='%1.1f%%')\n",
    "plt.title('Top 5 Sharks with Most Attacks')\n",
    "plt.axis('equal')\n",
    "plt.show()\n"
   ]
  },
  {
   "cell_type": "markdown",
   "metadata": {},
   "source": [
    "From the graph, we can see that in most of the attacks, we don't know the species, for what we know, white sharks are the ones that attacked the most, followed by a great margin by the tiger sharks."
   ]
  },
  {
   "cell_type": "code",
   "execution_count": 81,
   "metadata": {},
   "outputs": [
    {
     "data": {
      "text/html": [
       "<div>\n",
       "<style scoped>\n",
       "    .dataframe tbody tr th:only-of-type {\n",
       "        vertical-align: middle;\n",
       "    }\n",
       "\n",
       "    .dataframe tbody tr th {\n",
       "        vertical-align: top;\n",
       "    }\n",
       "\n",
       "    .dataframe thead th {\n",
       "        text-align: right;\n",
       "    }\n",
       "</style>\n",
       "<table border=\"1\" class=\"dataframe\">\n",
       "  <thead>\n",
       "    <tr style=\"text-align: right;\">\n",
       "      <th></th>\n",
       "      <th>year</th>\n",
       "      <th>type</th>\n",
       "      <th>country</th>\n",
       "      <th>activity</th>\n",
       "      <th>sex</th>\n",
       "      <th>age</th>\n",
       "      <th>fatal</th>\n",
       "      <th>time</th>\n",
       "      <th>species</th>\n",
       "    </tr>\n",
       "  </thead>\n",
       "  <tbody>\n",
       "    <tr>\n",
       "      <th>0</th>\n",
       "      <td>2018</td>\n",
       "      <td>Boating</td>\n",
       "      <td>USA</td>\n",
       "      <td>Paddling</td>\n",
       "      <td>F</td>\n",
       "      <td>57</td>\n",
       "      <td>N</td>\n",
       "      <td>18</td>\n",
       "      <td>White Shark</td>\n",
       "    </tr>\n",
       "    <tr>\n",
       "      <th>2</th>\n",
       "      <td>2018</td>\n",
       "      <td>Unprovoked</td>\n",
       "      <td>USA</td>\n",
       "      <td>Surfing</td>\n",
       "      <td>M</td>\n",
       "      <td>48</td>\n",
       "      <td>N</td>\n",
       "      <td>7</td>\n",
       "      <td>Unknown Shark</td>\n",
       "    </tr>\n",
       "    <tr>\n",
       "      <th>6</th>\n",
       "      <td>2018</td>\n",
       "      <td>Unprovoked</td>\n",
       "      <td>BRZ</td>\n",
       "      <td>Swimming</td>\n",
       "      <td>M</td>\n",
       "      <td>18</td>\n",
       "      <td>Y</td>\n",
       "      <td>12</td>\n",
       "      <td>Tiger Shark</td>\n",
       "    </tr>\n",
       "    <tr>\n",
       "      <th>8</th>\n",
       "      <td>2018</td>\n",
       "      <td>Unprovoked</td>\n",
       "      <td>USA</td>\n",
       "      <td>Walking</td>\n",
       "      <td>M</td>\n",
       "      <td>15</td>\n",
       "      <td>N</td>\n",
       "      <td>17</td>\n",
       "      <td>Bull Shark</td>\n",
       "    </tr>\n",
       "    <tr>\n",
       "      <th>9</th>\n",
       "      <td>2018</td>\n",
       "      <td>Unprovoked</td>\n",
       "      <td>USA</td>\n",
       "      <td>Standing</td>\n",
       "      <td>M</td>\n",
       "      <td>12</td>\n",
       "      <td>N</td>\n",
       "      <td>14</td>\n",
       "      <td>Unknown Shark</td>\n",
       "    </tr>\n",
       "    <tr>\n",
       "      <th>10</th>\n",
       "      <td>2018</td>\n",
       "      <td>Provoked</td>\n",
       "      <td>AUS</td>\n",
       "      <td>Messing with Sharks</td>\n",
       "      <td>M</td>\n",
       "      <td>32</td>\n",
       "      <td>N</td>\n",
       "      <td>10</td>\n",
       "      <td>Reef Shark</td>\n",
       "    </tr>\n",
       "    <tr>\n",
       "      <th>12</th>\n",
       "      <td>2018</td>\n",
       "      <td>Unprovoked</td>\n",
       "      <td>USA</td>\n",
       "      <td>Swimming</td>\n",
       "      <td>M</td>\n",
       "      <td>10</td>\n",
       "      <td>N</td>\n",
       "      <td>15</td>\n",
       "      <td>Unknown Shark</td>\n",
       "    </tr>\n",
       "    <tr>\n",
       "      <th>13</th>\n",
       "      <td>2018</td>\n",
       "      <td>Unprovoked</td>\n",
       "      <td>UK</td>\n",
       "      <td>Fishing</td>\n",
       "      <td>M</td>\n",
       "      <td>21</td>\n",
       "      <td>N</td>\n",
       "      <td>8</td>\n",
       "      <td>Unknown Shark</td>\n",
       "    </tr>\n",
       "    <tr>\n",
       "      <th>15</th>\n",
       "      <td>2018</td>\n",
       "      <td>Unprovoked</td>\n",
       "      <td>SA</td>\n",
       "      <td>Surfing</td>\n",
       "      <td>M</td>\n",
       "      <td>18</td>\n",
       "      <td>N</td>\n",
       "      <td>11</td>\n",
       "      <td>Unknown Shark</td>\n",
       "    </tr>\n",
       "    <tr>\n",
       "      <th>16</th>\n",
       "      <td>2018</td>\n",
       "      <td>Unprovoked</td>\n",
       "      <td>AUS</td>\n",
       "      <td>Surfing</td>\n",
       "      <td>M</td>\n",
       "      <td>18</td>\n",
       "      <td>N</td>\n",
       "      <td>10</td>\n",
       "      <td>Unknown Shark</td>\n",
       "    </tr>\n",
       "  </tbody>\n",
       "</table>\n",
       "</div>"
      ],
      "text/plain": [
       "    year        type country             activity sex age fatal  time  \\\n",
       "0   2018     Boating     USA             Paddling   F  57     N    18   \n",
       "2   2018  Unprovoked     USA              Surfing   M  48     N     7   \n",
       "6   2018  Unprovoked     BRZ             Swimming   M  18     Y    12   \n",
       "8   2018  Unprovoked     USA              Walking   M  15     N    17   \n",
       "9   2018  Unprovoked     USA             Standing   M  12     N    14   \n",
       "10  2018    Provoked     AUS  Messing with Sharks   M  32     N    10   \n",
       "12  2018  Unprovoked     USA             Swimming   M  10     N    15   \n",
       "13  2018  Unprovoked      UK              Fishing   M  21     N     8   \n",
       "15  2018  Unprovoked      SA              Surfing   M  18     N    11   \n",
       "16  2018  Unprovoked     AUS              Surfing   M  18     N    10   \n",
       "\n",
       "          species  \n",
       "0     White Shark  \n",
       "2   Unknown Shark  \n",
       "6     Tiger Shark  \n",
       "8      Bull Shark  \n",
       "9   Unknown Shark  \n",
       "10     Reef Shark  \n",
       "12  Unknown Shark  \n",
       "13  Unknown Shark  \n",
       "15  Unknown Shark  \n",
       "16  Unknown Shark  "
      ]
     },
     "execution_count": 81,
     "metadata": {},
     "output_type": "execute_result"
    }
   ],
   "source": [
    "#Checking the dataset after the cleaning\n",
    "sh_copy.head(10)"
   ]
  },
  {
   "cell_type": "code",
   "execution_count": 82,
   "metadata": {},
   "outputs": [],
   "source": [
    "#Saving the dataset and reseting the index\n",
    "shark_final = sh_copy.reset_index(drop=True)"
   ]
  },
  {
   "cell_type": "code",
   "execution_count": 83,
   "metadata": {},
   "outputs": [],
   "source": [
    "#Saving the dataset to a csv file\n",
    "shark_final.to_csv(r'C:\\Users\\Samu\\Documents\\Ironhack\\Shark-Attack-Project\\files\\shark_final.csv', index=False)"
   ]
  },
  {
   "cell_type": "markdown",
   "metadata": {},
   "source": [
    "We will now check some insights from the dataset and try to answer some questions:"
   ]
  },
  {
   "cell_type": "markdown",
   "metadata": {},
   "source": [
    "Which is the species that has perpetrated the most fatal attacks?"
   ]
  },
  {
   "cell_type": "code",
   "execution_count": 84,
   "metadata": {},
   "outputs": [
    {
     "data": {
      "image/png": "[encoded data removed]",
      "text/plain": [
       "<Figure size 640x480 with 1 Axes>"
      ]
     },
     "metadata": {},
     "output_type": "display_data"
    }
   ],
   "source": [
    "# Plotting to see which species have the most fatal attacks\n",
    "top_species = shark_final[shark_final['species'] != 'Unknown Shark']['species'].value_counts().head(5).index\n",
    "sns.countplot(x='fatal', hue='species', data=shark_final[shark_final['species'].isin(top_species)])\n",
    "plt.xlabel('Fatal')\n",
    "plt.ylabel('Number of Attacks')\n",
    "plt.legend(title='Species')\n",
    "plt.show()\n"
   ]
  },
  {
   "cell_type": "markdown",
   "metadata": {},
   "source": [
    "AS we can see, the White Shark is the most dangerous species by a margin. I have left out all the unknown species so we can be specific with the species that we know for sure."
   ]
  },
  {
   "cell_type": "markdown",
   "metadata": {},
   "source": [
    "Which sex is the one that suffered the most fatal attacks?"
   ]
  },
  {
   "cell_type": "code",
   "execution_count": 85,
   "metadata": {},
   "outputs": [
    {
     "data": {
      "image/png": "[encoded data removed]",
      "text/plain": [
       "<Figure size 640x480 with 1 Axes>"
      ]
     },
     "metadata": {},
     "output_type": "display_data"
    }
   ],
   "source": [
    "#Plotting to see which sex have the most fatal attacks\n",
    "sns.countplot(x='fatal', hue='sex', data=shark_final)\n",
    "plt.xlabel('Fatal')\n",
    "plt.ylabel('Number of Attacks')\n",
    "plt.title('Fatal Attacks by Sex')\n",
    "plt.legend(title='Sex')\n",
    "plt.show()\n"
   ]
  },
  {
   "cell_type": "markdown",
   "metadata": {},
   "source": [
    "From the plot, we get that males are the sex that received the most fatal attacks. Maybe is because there are more men working at the sea, but we can not be sure of the reasons."
   ]
  },
  {
   "cell_type": "markdown",
   "metadata": {},
   "source": [
    "To get more insights on the hypothesis from before, we can plot the activities by sex, to delve further in the data."
   ]
  },
  {
   "cell_type": "code",
   "execution_count": 106,
   "metadata": {},
   "outputs": [
    {
     "data": {
      "image/png": "[encoded data removed]",
      "text/plain": [
       "<Figure size 640x480 with 1 Axes>"
      ]
     },
     "metadata": {},
     "output_type": "display_data"
    }
   ],
   "source": [
    "top_activities = sh_copy['activity'].value_counts().head(10).index\n",
    "sns.countplot(x='activity', hue='sex', data=sh_copy[sh_copy['activity'].isin(top_activities)])\n",
    "plt.xlabel('Activity')\n",
    "plt.ylabel('Number of Attacks')\n",
    "plt.title('Top 10 Activities with Most Attacks by Sex')\n",
    "plt.legend(title='Sex')\n",
    "plt.xticks(rotation=45)\n",
    "plt.show()\n"
   ]
  },
  {
   "cell_type": "markdown",
   "metadata": {},
   "source": [
    "And, as we imagined, men do more activities on the sea. Maybe it is because the dataset contains more information about men, but it is what the data tells us."
   ]
  },
  {
   "cell_type": "markdown",
   "metadata": {},
   "source": [
    "During which activity is most probable to receive a fatal attack from a shark?"
   ]
  },
  {
   "cell_type": "code",
   "execution_count": 86,
   "metadata": {},
   "outputs": [
    {
     "data": {
      "image/png": "[encoded data removed]",
      "text/plain": [
       "<Figure size 640x480 with 1 Axes>"
      ]
     },
     "metadata": {},
     "output_type": "display_data"
    }
   ],
   "source": [
    "#Plotting to see which activity have the most fatal attacks\n",
    "top_10_activities = shark_final['activity'].value_counts().head(10).index\n",
    "sns.countplot(x='fatal', hue='activity', data=shark_final[shark_final['activity'].isin(top_10_activities)])\n",
    "plt.xlabel('Fatal')\n",
    "plt.ylabel('Number of Attacks')\n",
    "plt.title('Fatal Attacks by Top 10 Activities')\n",
    "plt.legend(title='Activity')\n",
    "plt.show()\n"
   ]
  },
  {
   "cell_type": "markdown",
   "metadata": {},
   "source": [
    "As we see, swimming is the activity that received the most fatal attacks, while surfing is the activity that suffered the most non fatal attacks."
   ]
  },
  {
   "cell_type": "markdown",
   "metadata": {},
   "source": [
    "Now, we will check which type has the most fatal attacks."
   ]
  },
  {
   "cell_type": "code",
   "execution_count": 87,
   "metadata": {},
   "outputs": [
    {
     "data": {
      "image/png": "[encoded data removed]",
      "text/plain": [
       "<Figure size 640x480 with 1 Axes>"
      ]
     },
     "metadata": {},
     "output_type": "display_data"
    }
   ],
   "source": [
    "#Plotting to see which types have the most fatal attacks\n",
    "sns.countplot(x='fatal', hue='type', data=shark_final)\n",
    "plt.xlabel('Fatal')\n",
    "plt.ylabel('Count')\n",
    "plt.title('Fatal Attacks by Type')\n",
    "plt.legend(title='Type')\n",
    "plt.show()\n"
   ]
  },
  {
   "cell_type": "markdown",
   "metadata": {},
   "source": [
    "AS we can see from the plot, there where more unprovoked attacks than from the others by a great margin. Also, it is th eone that has more fatal attacks."
   ]
  },
  {
   "cell_type": "markdown",
   "metadata": {},
   "source": [
    "We will also check which year had the most fatal attacks."
   ]
  },
  {
   "cell_type": "code",
   "execution_count": 88,
   "metadata": {},
   "outputs": [
    {
     "data": {
      "image/png": "[encoded data removed]",
      "text/plain": [
       "<Figure size 640x480 with 1 Axes>"
      ]
     },
     "metadata": {},
     "output_type": "display_data"
    }
   ],
   "source": [
    "#Plotting to see which year have the most fatal attacks\n",
    "top_10_years = shark_final['year'].value_counts().head(10).index\n",
    "sns.countplot(x='fatal', hue='year', data=shark_final[shark_final['year'].isin(top_10_years)])\n",
    "plt.xlabel('Fatal')\n",
    "plt.ylabel('Number of Attacks')\n",
    "plt.title('Fatal Attacks by Top 10 Years')\n",
    "plt.legend(title='Year')\n",
    "plt.show()\n"
   ]
  },
  {
   "cell_type": "markdown",
   "metadata": {},
   "source": [
    "As we see, we only plotted the top 10 years, as we have a lot of data from a lot of years, but we have the most information on the years from 2000 onwards, maybe because the data collection was done more consistently than before. From those years, 2011 had the most fatal attacks."
   ]
  },
  {
   "cell_type": "markdown",
   "metadata": {},
   "source": [
    "Now we will check the fatal attacks by country."
   ]
  },
  {
   "cell_type": "code",
   "execution_count": 89,
   "metadata": {},
   "outputs": [
    {
     "data": {
      "image/png": "[encoded data removed]",
      "text/plain": [
       "<Figure size 640x480 with 1 Axes>"
      ]
     },
     "metadata": {},
     "output_type": "display_data"
    }
   ],
   "source": [
    "#Plotting to see which country have the most fatal attacks\n",
    "top_10_countries = shark_final['country'].value_counts().head(10).index\n",
    "sns.countplot(x='fatal', hue='country', data=shark_final[shark_final['country'].isin(top_10_countries)])\n",
    "plt.xlabel('Fatal')\n",
    "plt.ylabel('Number of Attacks')\n",
    "plt.title('Fatal Attacks by Top 10 Countries')\n",
    "plt.legend(title='Country')\n",
    "plt.show()\n"
   ]
  },
  {
   "cell_type": "markdown",
   "metadata": {},
   "source": [
    "Even though USA has the most attacks, it is Australia the one that has the most fatal attacks."
   ]
  },
  {
   "cell_type": "markdown",
   "metadata": {},
   "source": [
    "Just to check further on the previous information, we will check which species is more predominant in which country."
   ]
  },
  {
   "cell_type": "code",
   "execution_count": 90,
   "metadata": {},
   "outputs": [
    {
     "data": {
      "image/png": "[encoded data removed]",
      "text/plain": [
       "<Figure size 640x480 with 1 Axes>"
      ]
     },
     "metadata": {},
     "output_type": "display_data"
    }
   ],
   "source": [
    "#Plotting the species with the country to see which one has the most pressence in each country.\n",
    "top_10_species = shark_final[shark_final['species'] != 'Unknown Shark']['species'].value_counts().head(5).index\n",
    "sns.countplot(x='country', hue='species', data=shark_final[shark_final['country'].isin(top_10_countries) & shark_final['species'].isin(top_10_species)])\n",
    "plt.xlabel('Country')\n",
    "plt.ylabel('Number of Attacks')\n",
    "plt.title('Top 10 Countries with Top 5 Species')\n",
    "plt.legend(title='Species')\n",
    "plt.xticks(rotation=45)\n",
    "plt.show()\n"
   ]
  },
  {
   "cell_type": "markdown",
   "metadata": {},
   "source": [
    "From the plot, we get why Australia has the most fatal attacks, as it has mainly attacks by White Sharks, that are the ones whith the most fatal attacks. USA also has a lot of white sharks, so maybe it has to do with the activity."
   ]
  },
  {
   "cell_type": "markdown",
   "metadata": {},
   "source": [
    "I will plot the activity with the country, to delve a little bit further in the data."
   ]
  },
  {
   "cell_type": "code",
   "execution_count": 108,
   "metadata": {},
   "outputs": [
    {
     "data": {
      "image/png": "[encoded data removed]",
      "text/plain": [
       "<Figure size 1000x600 with 1 Axes>"
      ]
     },
     "metadata": {},
     "output_type": "display_data"
    }
   ],
   "source": [
    "#Plotting the top ten activities with the top four countries to see which one has the most pressence in each country.\n",
    "top_activities = shark_final['activity'].value_counts().head(10).index\n",
    "top_countries = shark_final['country'].value_counts().head(4).index\n",
    "\n",
    "shark_filtered = shark_final[shark_final['activity'].isin(top_activities) & shark_final['country'].isin(top_countries)]\n",
    "\n",
    "plt.figure(figsize=(10, 6))\n",
    "sns.countplot(x='activity', hue='country', data=shark_filtered)\n",
    "plt.xlabel('Activity')\n",
    "plt.ylabel('Number of Occurrences')\n",
    "plt.title('Top Ten Activities with Top Four Countries')\n",
    "plt.legend(title='Country')\n",
    "plt.xticks(rotation=45)\n",
    "plt.show()\n"
   ]
  },
  {
   "cell_type": "markdown",
   "metadata": {},
   "source": [
    "From the plots, we can't get a lot of information, as USA continues to be the top socorer in the plots, maybe because we have more information on it."
   ]
  },
  {
   "cell_type": "markdown",
   "metadata": {},
   "source": [
    "From what we can see in the graphs, most of the fatal attacks were unprovoked, by white sharks and in Australia, even though USA has the most attacks. Also, by looking at the graphs, we see that in Australia white sharks are predominantly the main species, as they also are in USA an Samoa, by a great margin on the three. We can also see that most of the fatal attacks were perpetrated while the person was swimming."
   ]
  },
  {
   "cell_type": "markdown",
   "metadata": {},
   "source": [
    "And now, we will prepare the model to find out if an attack is more prone to be fatal or non fatal."
   ]
  },
  {
   "cell_type": "code",
   "execution_count": 91,
   "metadata": {},
   "outputs": [],
   "source": [
    "#Splitting the data\n",
    "y = shark_final['fatal']\n",
    "X = shark_final.drop('fatal', axis=1)"
   ]
  },
  {
   "cell_type": "code",
   "execution_count": 92,
   "metadata": {},
   "outputs": [
    {
     "data": {
      "text/html": [
       "<div>\n",
       "<style scoped>\n",
       "    .dataframe tbody tr th:only-of-type {\n",
       "        vertical-align: middle;\n",
       "    }\n",
       "\n",
       "    .dataframe tbody tr th {\n",
       "        vertical-align: top;\n",
       "    }\n",
       "\n",
       "    .dataframe thead th {\n",
       "        text-align: right;\n",
       "    }\n",
       "</style>\n",
       "<table border=\"1\" class=\"dataframe\">\n",
       "  <thead>\n",
       "    <tr style=\"text-align: right;\">\n",
       "      <th></th>\n",
       "      <th>year</th>\n",
       "      <th>time</th>\n",
       "      <th>type_Boating</th>\n",
       "      <th>type_Provoked</th>\n",
       "      <th>type_Sea Disaster</th>\n",
       "      <th>type_Unprovoked</th>\n",
       "      <th>country_AND</th>\n",
       "      <th>country_ANT</th>\n",
       "      <th>country_ARG</th>\n",
       "      <th>country_AUS</th>\n",
       "      <th>...</th>\n",
       "      <th>species_Spurdog</th>\n",
       "      <th>species_Thresher shark</th>\n",
       "      <th>species_Tiger Shark</th>\n",
       "      <th>species_Unknown</th>\n",
       "      <th>species_Unknown Shark</th>\n",
       "      <th>species_Unknown Shark</th>\n",
       "      <th>species_Whaler Shark</th>\n",
       "      <th>species_White Shark</th>\n",
       "      <th>species_Wobbegong Shark</th>\n",
       "      <th>species_Zambesi Shark</th>\n",
       "    </tr>\n",
       "  </thead>\n",
       "  <tbody>\n",
       "    <tr>\n",
       "      <th>0</th>\n",
       "      <td>2018</td>\n",
       "      <td>18</td>\n",
       "      <td>True</td>\n",
       "      <td>False</td>\n",
       "      <td>False</td>\n",
       "      <td>False</td>\n",
       "      <td>False</td>\n",
       "      <td>False</td>\n",
       "      <td>False</td>\n",
       "      <td>False</td>\n",
       "      <td>...</td>\n",
       "      <td>False</td>\n",
       "      <td>False</td>\n",
       "      <td>False</td>\n",
       "      <td>False</td>\n",
       "      <td>False</td>\n",
       "      <td>False</td>\n",
       "      <td>False</td>\n",
       "      <td>True</td>\n",
       "      <td>False</td>\n",
       "      <td>False</td>\n",
       "    </tr>\n",
       "    <tr>\n",
       "      <th>1</th>\n",
       "      <td>2018</td>\n",
       "      <td>7</td>\n",
       "      <td>False</td>\n",
       "      <td>False</td>\n",
       "      <td>False</td>\n",
       "      <td>True</td>\n",
       "      <td>False</td>\n",
       "      <td>False</td>\n",
       "      <td>False</td>\n",
       "      <td>False</td>\n",
       "      <td>...</td>\n",
       "      <td>False</td>\n",
       "      <td>False</td>\n",
       "      <td>False</td>\n",
       "      <td>False</td>\n",
       "      <td>True</td>\n",
       "      <td>False</td>\n",
       "      <td>False</td>\n",
       "      <td>False</td>\n",
       "      <td>False</td>\n",
       "      <td>False</td>\n",
       "    </tr>\n",
       "    <tr>\n",
       "      <th>2</th>\n",
       "      <td>2018</td>\n",
       "      <td>12</td>\n",
       "      <td>False</td>\n",
       "      <td>False</td>\n",
       "      <td>False</td>\n",
       "      <td>True</td>\n",
       "      <td>False</td>\n",
       "      <td>False</td>\n",
       "      <td>False</td>\n",
       "      <td>False</td>\n",
       "      <td>...</td>\n",
       "      <td>False</td>\n",
       "      <td>False</td>\n",
       "      <td>True</td>\n",
       "      <td>False</td>\n",
       "      <td>False</td>\n",
       "      <td>False</td>\n",
       "      <td>False</td>\n",
       "      <td>False</td>\n",
       "      <td>False</td>\n",
       "      <td>False</td>\n",
       "    </tr>\n",
       "    <tr>\n",
       "      <th>3</th>\n",
       "      <td>2018</td>\n",
       "      <td>17</td>\n",
       "      <td>False</td>\n",
       "      <td>False</td>\n",
       "      <td>False</td>\n",
       "      <td>True</td>\n",
       "      <td>False</td>\n",
       "      <td>False</td>\n",
       "      <td>False</td>\n",
       "      <td>False</td>\n",
       "      <td>...</td>\n",
       "      <td>False</td>\n",
       "      <td>False</td>\n",
       "      <td>False</td>\n",
       "      <td>False</td>\n",
       "      <td>False</td>\n",
       "      <td>False</td>\n",
       "      <td>False</td>\n",
       "      <td>False</td>\n",
       "      <td>False</td>\n",
       "      <td>False</td>\n",
       "    </tr>\n",
       "    <tr>\n",
       "      <th>4</th>\n",
       "      <td>2018</td>\n",
       "      <td>14</td>\n",
       "      <td>False</td>\n",
       "      <td>False</td>\n",
       "      <td>False</td>\n",
       "      <td>True</td>\n",
       "      <td>False</td>\n",
       "      <td>False</td>\n",
       "      <td>False</td>\n",
       "      <td>False</td>\n",
       "      <td>...</td>\n",
       "      <td>False</td>\n",
       "      <td>False</td>\n",
       "      <td>False</td>\n",
       "      <td>False</td>\n",
       "      <td>True</td>\n",
       "      <td>False</td>\n",
       "      <td>False</td>\n",
       "      <td>False</td>\n",
       "      <td>False</td>\n",
       "      <td>False</td>\n",
       "    </tr>\n",
       "    <tr>\n",
       "      <th>...</th>\n",
       "      <td>...</td>\n",
       "      <td>...</td>\n",
       "      <td>...</td>\n",
       "      <td>...</td>\n",
       "      <td>...</td>\n",
       "      <td>...</td>\n",
       "      <td>...</td>\n",
       "      <td>...</td>\n",
       "      <td>...</td>\n",
       "      <td>...</td>\n",
       "      <td>...</td>\n",
       "      <td>...</td>\n",
       "      <td>...</td>\n",
       "      <td>...</td>\n",
       "      <td>...</td>\n",
       "      <td>...</td>\n",
       "      <td>...</td>\n",
       "      <td>...</td>\n",
       "      <td>...</td>\n",
       "      <td>...</td>\n",
       "      <td>...</td>\n",
       "    </tr>\n",
       "    <tr>\n",
       "      <th>2792</th>\n",
       "      <td>1960</td>\n",
       "      <td>12</td>\n",
       "      <td>False</td>\n",
       "      <td>False</td>\n",
       "      <td>False</td>\n",
       "      <td>True</td>\n",
       "      <td>False</td>\n",
       "      <td>False</td>\n",
       "      <td>False</td>\n",
       "      <td>False</td>\n",
       "      <td>...</td>\n",
       "      <td>False</td>\n",
       "      <td>False</td>\n",
       "      <td>False</td>\n",
       "      <td>False</td>\n",
       "      <td>True</td>\n",
       "      <td>False</td>\n",
       "      <td>False</td>\n",
       "      <td>False</td>\n",
       "      <td>False</td>\n",
       "      <td>False</td>\n",
       "    </tr>\n",
       "    <tr>\n",
       "      <th>2793</th>\n",
       "      <td>1960</td>\n",
       "      <td>12</td>\n",
       "      <td>False</td>\n",
       "      <td>False</td>\n",
       "      <td>False</td>\n",
       "      <td>True</td>\n",
       "      <td>False</td>\n",
       "      <td>False</td>\n",
       "      <td>False</td>\n",
       "      <td>False</td>\n",
       "      <td>...</td>\n",
       "      <td>False</td>\n",
       "      <td>False</td>\n",
       "      <td>False</td>\n",
       "      <td>False</td>\n",
       "      <td>False</td>\n",
       "      <td>False</td>\n",
       "      <td>False</td>\n",
       "      <td>False</td>\n",
       "      <td>False</td>\n",
       "      <td>False</td>\n",
       "    </tr>\n",
       "    <tr>\n",
       "      <th>2794</th>\n",
       "      <td>1960</td>\n",
       "      <td>12</td>\n",
       "      <td>False</td>\n",
       "      <td>False</td>\n",
       "      <td>False</td>\n",
       "      <td>True</td>\n",
       "      <td>False</td>\n",
       "      <td>False</td>\n",
       "      <td>False</td>\n",
       "      <td>False</td>\n",
       "      <td>...</td>\n",
       "      <td>False</td>\n",
       "      <td>False</td>\n",
       "      <td>False</td>\n",
       "      <td>False</td>\n",
       "      <td>False</td>\n",
       "      <td>False</td>\n",
       "      <td>False</td>\n",
       "      <td>False</td>\n",
       "      <td>False</td>\n",
       "      <td>False</td>\n",
       "    </tr>\n",
       "    <tr>\n",
       "      <th>2795</th>\n",
       "      <td>1943</td>\n",
       "      <td>12</td>\n",
       "      <td>False</td>\n",
       "      <td>False</td>\n",
       "      <td>True</td>\n",
       "      <td>False</td>\n",
       "      <td>False</td>\n",
       "      <td>False</td>\n",
       "      <td>False</td>\n",
       "      <td>False</td>\n",
       "      <td>...</td>\n",
       "      <td>False</td>\n",
       "      <td>False</td>\n",
       "      <td>False</td>\n",
       "      <td>False</td>\n",
       "      <td>True</td>\n",
       "      <td>False</td>\n",
       "      <td>False</td>\n",
       "      <td>False</td>\n",
       "      <td>False</td>\n",
       "      <td>False</td>\n",
       "    </tr>\n",
       "    <tr>\n",
       "      <th>2796</th>\n",
       "      <td>1942</td>\n",
       "      <td>12</td>\n",
       "      <td>False</td>\n",
       "      <td>False</td>\n",
       "      <td>False</td>\n",
       "      <td>True</td>\n",
       "      <td>False</td>\n",
       "      <td>False</td>\n",
       "      <td>False</td>\n",
       "      <td>False</td>\n",
       "      <td>...</td>\n",
       "      <td>False</td>\n",
       "      <td>False</td>\n",
       "      <td>False</td>\n",
       "      <td>False</td>\n",
       "      <td>False</td>\n",
       "      <td>False</td>\n",
       "      <td>False</td>\n",
       "      <td>False</td>\n",
       "      <td>False</td>\n",
       "      <td>False</td>\n",
       "    </tr>\n",
       "  </tbody>\n",
       "</table>\n",
       "<p>2797 rows × 222 columns</p>\n",
       "</div>"
      ],
      "text/plain": [
       "      year  time  type_Boating  type_Provoked  type_Sea Disaster  \\\n",
       "0     2018    18          True          False              False   \n",
       "1     2018     7         False          False              False   \n",
       "2     2018    12         False          False              False   \n",
       "3     2018    17         False          False              False   \n",
       "4     2018    14         False          False              False   \n",
       "...    ...   ...           ...            ...                ...   \n",
       "2792  1960    12         False          False              False   \n",
       "2793  1960    12         False          False              False   \n",
       "2794  1960    12         False          False              False   \n",
       "2795  1943    12         False          False               True   \n",
       "2796  1942    12         False          False              False   \n",
       "\n",
       "      type_Unprovoked  country_AND  country_ANT  country_ARG  country_AUS  \\\n",
       "0               False        False        False        False        False   \n",
       "1                True        False        False        False        False   \n",
       "2                True        False        False        False        False   \n",
       "3                True        False        False        False        False   \n",
       "4                True        False        False        False        False   \n",
       "...               ...          ...          ...          ...          ...   \n",
       "2792             True        False        False        False        False   \n",
       "2793             True        False        False        False        False   \n",
       "2794             True        False        False        False        False   \n",
       "2795            False        False        False        False        False   \n",
       "2796             True        False        False        False        False   \n",
       "\n",
       "      ...  species_Spurdog  species_Thresher shark  species_Tiger Shark  \\\n",
       "0     ...            False                   False                False   \n",
       "1     ...            False                   False                False   \n",
       "2     ...            False                   False                 True   \n",
       "3     ...            False                   False                False   \n",
       "4     ...            False                   False                False   \n",
       "...   ...              ...                     ...                  ...   \n",
       "2792  ...            False                   False                False   \n",
       "2793  ...            False                   False                False   \n",
       "2794  ...            False                   False                False   \n",
       "2795  ...            False                   False                False   \n",
       "2796  ...            False                   False                False   \n",
       "\n",
       "      species_Unknown  species_Unknown Shark  species_Unknown Shark   \\\n",
       "0               False                  False                   False   \n",
       "1               False                   True                   False   \n",
       "2               False                  False                   False   \n",
       "3               False                  False                   False   \n",
       "4               False                   True                   False   \n",
       "...               ...                    ...                     ...   \n",
       "2792            False                   True                   False   \n",
       "2793            False                  False                   False   \n",
       "2794            False                  False                   False   \n",
       "2795            False                   True                   False   \n",
       "2796            False                  False                   False   \n",
       "\n",
       "      species_Whaler Shark  species_White Shark  species_Wobbegong Shark  \\\n",
       "0                    False                 True                    False   \n",
       "1                    False                False                    False   \n",
       "2                    False                False                    False   \n",
       "3                    False                False                    False   \n",
       "4                    False                False                    False   \n",
       "...                    ...                  ...                      ...   \n",
       "2792                 False                False                    False   \n",
       "2793                 False                False                    False   \n",
       "2794                 False                False                    False   \n",
       "2795                 False                False                    False   \n",
       "2796                 False                False                    False   \n",
       "\n",
       "      species_Zambesi Shark  \n",
       "0                     False  \n",
       "1                     False  \n",
       "2                     False  \n",
       "3                     False  \n",
       "4                     False  \n",
       "...                     ...  \n",
       "2792                  False  \n",
       "2793                  False  \n",
       "2794                  False  \n",
       "2795                  False  \n",
       "2796                  False  \n",
       "\n",
       "[2797 rows x 222 columns]"
      ]
     },
     "execution_count": 92,
     "metadata": {},
     "output_type": "execute_result"
    }
   ],
   "source": [
    "#Converting the categorical columns into dummies\n",
    "X = pd.get_dummies(X)\n",
    "X"
   ]
  },
  {
   "cell_type": "code",
   "execution_count": 93,
   "metadata": {},
   "outputs": [
    {
     "data": {
      "text/plain": [
       "fatal_N               -1.000000\n",
       "year                  -0.347398\n",
       "country_USA           -0.311000\n",
       "activity_Surfing      -0.182734\n",
       "type_Provoked         -0.104026\n",
       "                         ...   \n",
       "species_White Shark    0.111278\n",
       "country_AUS            0.124296\n",
       "type_Sea Disaster      0.172071\n",
       "activity_Swimming      0.265848\n",
       "fatal_Y                1.000000\n",
       "Name: fatal_Y, Length: 224, dtype: float64"
      ]
     },
     "execution_count": 93,
     "metadata": {},
     "output_type": "execute_result"
    }
   ],
   "source": [
    "#Checking the correlation of the columns with the target\n",
    "pd.get_dummies(shark_final).corr()[\"fatal_Y\"].sort_values()"
   ]
  },
  {
   "cell_type": "code",
   "execution_count": 94,
   "metadata": {},
   "outputs": [
    {
     "data": {
      "text/plain": [
       "fatal_Y               -1.000000\n",
       "activity_Swimming     -0.265848\n",
       "type_Sea Disaster     -0.172071\n",
       "country_AUS           -0.124296\n",
       "species_White Shark   -0.111278\n",
       "                         ...   \n",
       "type_Provoked          0.104026\n",
       "activity_Surfing       0.182734\n",
       "country_USA            0.311000\n",
       "year                   0.347398\n",
       "fatal_N                1.000000\n",
       "Name: fatal_N, Length: 224, dtype: float64"
      ]
     },
     "execution_count": 94,
     "metadata": {},
     "output_type": "execute_result"
    }
   ],
   "source": [
    "#checking the correlation of the columns with the target\n",
    "pd.get_dummies(shark_final).corr()[\"fatal_N\"].sort_values()"
   ]
  },
  {
   "cell_type": "code",
   "execution_count": 95,
   "metadata": {},
   "outputs": [],
   "source": [
    "#Splitting the data into train and test\n",
    "X_train, X_test, y_train, y_test = train_test_split(X, y, test_size=0.2, random_state=42)"
   ]
  },
  {
   "cell_type": "code",
   "execution_count": 96,
   "metadata": {},
   "outputs": [
    {
     "data": {
      "text/html": [
       "<style>#sk-container-id-1 {color: black;}#sk-container-id-1 pre{padding: 0;}#sk-container-id-1 div.sk-toggleable {background-color: white;}#sk-container-id-1 label.sk-toggleable__label {cursor: pointer;display: block;width: 100%;margin-bottom: 0;padding: 0.3em;box-sizing: border-box;text-align: center;}#sk-container-id-1 label.sk-toggleable__label-arrow:before {content: \"▸\";float: left;margin-right: 0.25em;color: #696969;}#sk-container-id-1 label.sk-toggleable__label-arrow:hover:before {color: black;}#sk-container-id-1 div.sk-estimator:hover label.sk-toggleable__label-arrow:before {color: black;}#sk-container-id-1 div.sk-toggleable__content {max-height: 0;max-width: 0;overflow: hidden;text-align: left;background-color: #f0f8ff;}#sk-container-id-1 div.sk-toggleable__content pre {margin: 0.2em;color: black;border-radius: 0.25em;background-color: #f0f8ff;}#sk-container-id-1 input.sk-toggleable__control:checked~div.sk-toggleable__content {max-height: 200px;max-width: 100%;overflow: auto;}#sk-container-id-1 input.sk-toggleable__control:checked~label.sk-toggleable__label-arrow:before {content: \"▾\";}#sk-container-id-1 div.sk-estimator input.sk-toggleable__control:checked~label.sk-toggleable__label {background-color: #d4ebff;}#sk-container-id-1 div.sk-label input.sk-toggleable__control:checked~label.sk-toggleable__label {background-color: #d4ebff;}#sk-container-id-1 input.sk-hidden--visually {border: 0;clip: rect(1px 1px 1px 1px);clip: rect(1px, 1px, 1px, 1px);height: 1px;margin: -1px;overflow: hidden;padding: 0;position: absolute;width: 1px;}#sk-container-id-1 div.sk-estimator {font-family: monospace;background-color: #f0f8ff;border: 1px dotted black;border-radius: 0.25em;box-sizing: border-box;margin-bottom: 0.5em;}#sk-container-id-1 div.sk-estimator:hover {background-color: #d4ebff;}#sk-container-id-1 div.sk-parallel-item::after {content: \"\";width: 100%;border-bottom: 1px solid gray;flex-grow: 1;}#sk-container-id-1 div.sk-label:hover label.sk-toggleable__label {background-color: #d4ebff;}#sk-container-id-1 div.sk-serial::before {content: \"\";position: absolute;border-left: 1px solid gray;box-sizing: border-box;top: 0;bottom: 0;left: 50%;z-index: 0;}#sk-container-id-1 div.sk-serial {display: flex;flex-direction: column;align-items: center;background-color: white;padding-right: 0.2em;padding-left: 0.2em;position: relative;}#sk-container-id-1 div.sk-item {position: relative;z-index: 1;}#sk-container-id-1 div.sk-parallel {display: flex;align-items: stretch;justify-content: center;background-color: white;position: relative;}#sk-container-id-1 div.sk-item::before, #sk-container-id-1 div.sk-parallel-item::before {content: \"\";position: absolute;border-left: 1px solid gray;box-sizing: border-box;top: 0;bottom: 0;left: 50%;z-index: -1;}#sk-container-id-1 div.sk-parallel-item {display: flex;flex-direction: column;z-index: 1;position: relative;background-color: white;}#sk-container-id-1 div.sk-parallel-item:first-child::after {align-self: flex-end;width: 50%;}#sk-container-id-1 div.sk-parallel-item:last-child::after {align-self: flex-start;width: 50%;}#sk-container-id-1 div.sk-parallel-item:only-child::after {width: 0;}#sk-container-id-1 div.sk-dashed-wrapped {border: 1px dashed gray;margin: 0 0.4em 0.5em 0.4em;box-sizing: border-box;padding-bottom: 0.4em;background-color: white;}#sk-container-id-1 div.sk-label label {font-family: monospace;font-weight: bold;display: inline-block;line-height: 1.2em;}#sk-container-id-1 div.sk-label-container {text-align: center;}#sk-container-id-1 div.sk-container {/* jupyter's `normalize.less` sets `[hidden] { display: none; }` but bootstrap.min.css set `[hidden] { display: none !important; }` so we also need the `!important` here to be able to override the default hidden behavior on the sphinx rendered scikit-learn.org. See: https://github.com/scikit-learn/scikit-learn/issues/21755 */display: inline-block !important;position: relative;}#sk-container-id-1 div.sk-text-repr-fallback {display: none;}</style><div id=\"sk-container-id-1\" class=\"sk-top-container\"><div class=\"sk-text-repr-fallback\"><pre>LogisticRegression(random_state=42)</pre><b>In a Jupyter environment, please rerun this cell to show the HTML representation or trust the notebook. <br />On GitHub, the HTML representation is unable to render, please try loading this page with nbviewer.org.</b></div><div class=\"sk-container\" hidden><div class=\"sk-item\"><div class=\"sk-estimator sk-toggleable\"><input class=\"sk-toggleable__control sk-hidden--visually\" id=\"sk-estimator-id-1\" type=\"checkbox\" checked><label for=\"sk-estimator-id-1\" class=\"sk-toggleable__label sk-toggleable__label-arrow\">LogisticRegression</label><div class=\"sk-toggleable__content\"><pre>LogisticRegression(random_state=42)</pre></div></div></div></div></div>"
      ],
      "text/plain": [
       "LogisticRegression(random_state=42)"
      ]
     },
     "execution_count": 96,
     "metadata": {},
     "output_type": "execute_result"
    }
   ],
   "source": [
    "#Fiting the data into the model\n",
    "classification = LogisticRegression(random_state=42)\n",
    "classification.fit(X_train, y_train)"
   ]
  },
  {
   "cell_type": "code",
   "execution_count": 97,
   "metadata": {},
   "outputs": [
    {
     "data": {
      "text/plain": [
       "0.8642857142857143"
      ]
     },
     "execution_count": 97,
     "metadata": {},
     "output_type": "execute_result"
    }
   ],
   "source": [
    "#Checking the score of the model\n",
    "classification.score(X_test, y_test)"
   ]
  },
  {
   "cell_type": "code",
   "execution_count": 98,
   "metadata": {},
   "outputs": [
    {
     "data": {
      "text/plain": [
       "array(['N', 'N', 'N', 'N', 'N', 'N', 'N', 'N', 'N', 'N', 'N', 'Y', 'N',\n",
       "       'N', 'N', 'Y', 'N', 'N', 'N', 'N', 'N', 'N', 'N', 'N', 'N', 'N',\n",
       "       'N', 'N', 'N', 'N', 'N', 'N', 'N', 'N', 'N', 'N', 'N', 'N', 'N',\n",
       "       'N', 'N', 'N', 'N', 'N', 'N', 'Y', 'N', 'N', 'N', 'N', 'N', 'Y',\n",
       "       'N', 'N', 'N', 'Y', 'N', 'Y', 'N', 'N', 'N', 'N', 'N', 'N', 'N',\n",
       "       'N', 'N', 'N', 'N', 'N', 'N', 'N', 'N', 'N', 'N', 'Y', 'N', 'N',\n",
       "       'N', 'N', 'N', 'N', 'N', 'N', 'N', 'N', 'N', 'N', 'N', 'N', 'N',\n",
       "       'Y', 'N', 'N', 'N', 'N', 'N', 'N', 'N', 'N', 'N', 'Y', 'N', 'N',\n",
       "       'N', 'N', 'N', 'N', 'N', 'N', 'N', 'N', 'N', 'N', 'N', 'N', 'N',\n",
       "       'N', 'N', 'N', 'N', 'N', 'N', 'N', 'N', 'N', 'N', 'N', 'N', 'N',\n",
       "       'N', 'N', 'N', 'N', 'N', 'N', 'N', 'N', 'N', 'N', 'N', 'N', 'N',\n",
       "       'N', 'N', 'N', 'N', 'N', 'N', 'N', 'N', 'N', 'N', 'N', 'N', 'Y',\n",
       "       'N', 'N', 'N', 'N', 'N', 'N', 'N', 'N', 'N', 'N', 'N', 'N', 'N',\n",
       "       'N', 'N', 'N', 'N', 'N', 'N', 'N', 'N', 'N', 'Y', 'N', 'N', 'N',\n",
       "       'N', 'N', 'N', 'N', 'Y', 'N', 'N', 'N', 'N', 'N', 'N', 'N', 'N',\n",
       "       'N', 'N', 'N', 'N', 'N', 'N', 'N', 'N', 'N', 'N', 'N', 'N', 'N',\n",
       "       'N', 'N', 'N', 'N', 'N', 'N', 'N', 'N', 'N', 'N', 'N', 'N', 'N',\n",
       "       'N', 'N', 'N', 'Y', 'N', 'N', 'N', 'N', 'N', 'N', 'N', 'N', 'N',\n",
       "       'N', 'N', 'N', 'N', 'N', 'Y', 'N', 'N', 'N', 'N', 'N', 'N', 'N',\n",
       "       'N', 'N', 'N', 'N', 'N', 'N', 'N', 'N', 'N', 'N', 'N', 'N', 'N',\n",
       "       'N', 'N', 'N', 'N', 'N', 'Y', 'N', 'N', 'N', 'N', 'N', 'N', 'Y',\n",
       "       'N', 'N', 'N', 'N', 'N', 'N', 'N', 'N', 'N', 'N', 'N', 'N', 'N',\n",
       "       'N', 'N', 'N', 'N', 'N', 'Y', 'N', 'N', 'Y', 'N', 'N', 'N', 'N',\n",
       "       'N', 'N', 'N', 'N', 'N', 'N', 'N', 'N', 'N', 'N', 'N', 'N', 'N',\n",
       "       'N', 'N', 'Y', 'N', 'N', 'N', 'Y', 'N', 'N', 'Y', 'N', 'N', 'N',\n",
       "       'N', 'N', 'N', 'N', 'N', 'N', 'N', 'N', 'N', 'N', 'N', 'N', 'N',\n",
       "       'N', 'N', 'N', 'N', 'N', 'N', 'Y', 'N', 'N', 'N', 'N', 'N', 'N',\n",
       "       'N', 'Y', 'N', 'N', 'N', 'Y', 'Y', 'N', 'N', 'N', 'N', 'N', 'N',\n",
       "       'N', 'N', 'N', 'N', 'N', 'N', 'N', 'N', 'N', 'N', 'N', 'N', 'N',\n",
       "       'N', 'N', 'N', 'N', 'Y', 'N', 'Y', 'N', 'N', 'N', 'N', 'N', 'N',\n",
       "       'N', 'N', 'N', 'N', 'N', 'N', 'N', 'N', 'Y', 'N', 'N', 'Y', 'N',\n",
       "       'Y', 'N', 'N', 'N', 'Y', 'N', 'N', 'N', 'N', 'N', 'N', 'N', 'N',\n",
       "       'N', 'N', 'N', 'N', 'N', 'N', 'N', 'N', 'N', 'N', 'N', 'N', 'N',\n",
       "       'N', 'N', 'N', 'N', 'N', 'N', 'N', 'N', 'N', 'N', 'N', 'N', 'N',\n",
       "       'N', 'N', 'N', 'N', 'N', 'N', 'Y', 'N', 'N', 'N', 'N', 'N', 'N',\n",
       "       'N', 'N', 'N', 'N', 'N', 'N', 'N', 'N', 'N', 'N', 'Y', 'N', 'N',\n",
       "       'N', 'N', 'N', 'Y', 'Y', 'N', 'N', 'N', 'N', 'N', 'N', 'Y', 'Y',\n",
       "       'N', 'N', 'N', 'N', 'N', 'N', 'N', 'Y', 'N', 'N', 'N', 'N', 'N',\n",
       "       'N', 'N', 'N', 'N', 'N', 'N', 'N', 'Y', 'N', 'N', 'N', 'N', 'Y',\n",
       "       'N', 'N', 'Y', 'N', 'N', 'N', 'N', 'N', 'N', 'N', 'N', 'N', 'N',\n",
       "       'N', 'N', 'N', 'N', 'N', 'N', 'N', 'N', 'N', 'N', 'N', 'N', 'Y',\n",
       "       'N', 'N', 'N', 'N', 'N', 'N', 'N', 'N', 'N', 'N', 'N', 'N', 'N',\n",
       "       'N', 'Y', 'N', 'N', 'N', 'N', 'N', 'N', 'N', 'N', 'N', 'N', 'N',\n",
       "       'N'], dtype=object)"
      ]
     },
     "execution_count": 98,
     "metadata": {},
     "output_type": "execute_result"
    }
   ],
   "source": [
    "#Checking the predictions of the model\n",
    "predictions = classification.predict(X_test)\n",
    "predictions"
   ]
  },
  {
   "cell_type": "code",
   "execution_count": 99,
   "metadata": {},
   "outputs": [
    {
     "data": {
      "text/plain": [
       "fatal\n",
       "N    473\n",
       "Y     87\n",
       "Name: count, dtype: int64"
      ]
     },
     "execution_count": 99,
     "metadata": {},
     "output_type": "execute_result"
    }
   ],
   "source": [
    "#Checking for imbalanced data\n",
    "y_test.value_counts()"
   ]
  },
  {
   "cell_type": "code",
   "execution_count": 100,
   "metadata": {},
   "outputs": [
    {
     "data": {
      "text/plain": [
       "array([[0.90760722, 0.09239278],\n",
       "       [0.98328525, 0.01671475],\n",
       "       [0.68629045, 0.31370955],\n",
       "       ...,\n",
       "       [0.5301324 , 0.4698676 ],\n",
       "       [0.83516391, 0.16483609],\n",
       "       [0.96951294, 0.03048706]])"
      ]
     },
     "execution_count": 100,
     "metadata": {},
     "output_type": "execute_result"
    }
   ],
   "source": [
    "#Checking the confusion matrix in percentages\n",
    "predictions_ = classification.predict_proba(X_test)\n",
    "predictions_"
   ]
  },
  {
   "cell_type": "code",
   "execution_count": 101,
   "metadata": {},
   "outputs": [
    {
     "data": {
      "text/plain": [
       "array([[457,  16],\n",
       "       [ 60,  27]], dtype=int64)"
      ]
     },
     "execution_count": 101,
     "metadata": {},
     "output_type": "execute_result"
    }
   ],
   "source": [
    "#Checking the confusion matrix\n",
    "confusion_matrix(y_test, predictions)"
   ]
  },
  {
   "cell_type": "code",
   "execution_count": 102,
   "metadata": {},
   "outputs": [
    {
     "data": {
      "text/plain": [
       "<Axes: >"
      ]
     },
     "execution_count": 102,
     "metadata": {},
     "output_type": "execute_result"
    },
    {
     "data": {
      "image/png": "[encoded data removed]",
      "text/plain": [
       "<Figure size 640x480 with 2 Axes>"
      ]
     },
     "metadata": {},
     "output_type": "display_data"
    }
   ],
   "source": [
    "#Plotting the confusion matrix fir a more visual understanding\n",
    "cf_matrix = confusion_matrix(y_test, predictions, normalize='all')\n",
    "sns.heatmap(cf_matrix, annot=True, xticklabels=[\"N\", \"Y\"], yticklabels=[\"N\", \"Y\"])"
   ]
  },
  {
   "cell_type": "markdown",
   "metadata": {},
   "source": [
    "As we can see from the results of the model, even though it is fairly precise, it's imbalaced towards N, as we have more data for N than Y. We can try and balance it a little bit to check for better results."
   ]
  },
  {
   "cell_type": "code",
   "execution_count": 103,
   "metadata": {},
   "outputs": [
    {
     "data": {
      "text/plain": [
       "fatal\n",
       "N    1865\n",
       "Y    1865\n",
       "Name: count, dtype: int64"
      ]
     },
     "execution_count": 103,
     "metadata": {},
     "output_type": "execute_result"
    }
   ],
   "source": [
    "sampler = RandomOverSampler(random_state=42)\n",
    "X_train_balanced, y_train_balanced = sampler.fit_resample(X_train, y_train) \n",
    "y_train_balanced.value_counts()"
   ]
  },
  {
   "cell_type": "code",
   "execution_count": 104,
   "metadata": {},
   "outputs": [
    {
     "data": {
      "text/plain": [
       "0.7857142857142857"
      ]
     },
     "execution_count": 104,
     "metadata": {},
     "output_type": "execute_result"
    }
   ],
   "source": [
    "classification = LogisticRegression(random_state=42) #, max_iter=1000\n",
    "classification.fit(X_train_balanced, y_train_balanced)\n",
    "classification.score(X_test, y_test)"
   ]
  },
  {
   "cell_type": "markdown",
   "metadata": {},
   "source": [
    "After balancing the model, we see that we have lost a little bit of accuracy."
   ]
  },
  {
   "cell_type": "code",
   "execution_count": 105,
   "metadata": {},
   "outputs": [
    {
     "data": {
      "text/plain": [
       "<Axes: >"
      ]
     },
     "execution_count": 105,
     "metadata": {},
     "output_type": "execute_result"
    },
    {
     "data": {
      "image/png": "[encoded data removed]",
      "text/plain": [
       "<Figure size 640x480 with 2 Axes>"
      ]
     },
     "metadata": {},
     "output_type": "display_data"
    }
   ],
   "source": [
    "predictions = classification.predict(X_test)\n",
    "cf_matrix = confusion_matrix(y_test, predictions, normalize='all')\n",
    "sns.heatmap(cf_matrix, annot=True, xticklabels=[\"N\", \"Y\"], yticklabels=[\"N\", \"Y\"])"
   ]
  },
  {
   "cell_type": "markdown",
   "metadata": {},
   "source": [
    "After the balancing, we can see that the predictions still favour the N values over the Y, but the Y values have augmented a little bit. "
   ]
  },
  {
   "cell_type": "markdown",
   "metadata": {},
   "source": [
    "In conclusion, we can say that there is more chances of a shark attack being non fatal than fatal."
   ]
  }
 ],
 "metadata": {
  "kernelspec": {
   "display_name": "base",
   "language": "python",
   "name": "python3"
  },
  "language_info": {
   "codemirror_mode": {
    "name": "ipython",
    "version": 3
   },
   "file_extension": ".py",
   "mimetype": "text/x-python",
   "name": "python",
   "nbconvert_exporter": "python",
   "pygments_lexer": "ipython3",
   "version": "3.11.5"
  }
 },
 "nbformat": 4,
 "nbformat_minor": 2
}
